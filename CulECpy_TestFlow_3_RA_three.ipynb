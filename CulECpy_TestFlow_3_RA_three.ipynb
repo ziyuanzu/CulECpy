{
 "cells": [
  {
   "cell_type": "code",
   "execution_count": 1,
   "metadata": {},
   "outputs": [],
   "source": [
    "from concurrent.futures import ProcessPoolExecutor, as_completed\n",
    "import datetime\n",
    "import sys\n",
    "sys.path.append(r'./')"
   ]
  },
  {
   "cell_type": "code",
   "execution_count": 2,
   "metadata": {},
   "outputs": [],
   "source": [
    "from CulECpyT import *"
   ]
  },
  {
   "cell_type": "code",
   "execution_count": 3,
   "metadata": {},
   "outputs": [],
   "source": [
    "model_CA_SAA_RA_file='./3_mass/model/iML1515_CA_SAA_RA.json'\n",
    "model_file=model_CA_SAA_RA_file\n",
    "reaction_kcat_MW_file='./3_mass/EC/reaction_kcat_MW.csv'\n",
    "Concretemodel_Need_Data=Get_Concretemodel_Need_Data_3_json(model_file,reaction_kcat_MW_file)\n",
    "Concretemodel_Need_Data['reaction_kcat_MW']=reaction_kcat_MW=pd.read_csv('./3_mass/EC/reaction_kcat_MW_MAM2.csv',index_col=0)\n",
    "Concretemodel_Need_Data['reaction_kcat_MW']=unpdate_3_kcat_mw(Concretemodel_Need_Data['reaction_list'],Concretemodel_Need_Data['reaction_kcat_MW'],'./3_mass/EC/reaction_kcat_MW_3mass.csv')\n",
    "list_x=[1/4,1/4,1/2,1/3,1/5,2/5,2/5,1/6,1/6,1/3,1/3,1/2,1/2,1/7,3/7,3/7]\n",
    "list_y=[1/4,1/2,1/4,1/3,2/5,1/5,2/5,1/3,1/2,1/6,1/2,1/6,1/3,3/7,1/7,3/7]\n",
    "list_z=[1/2,1/4,1/4,1/3,2/5,2/5,1/5,1/2,1/3,1/2,1/6,1/3,1/6,3/7,3/7,1/7]\n",
    "list_triple=[]\n",
    "for i in range(0,len(list_x)):\n",
    "    list_triple.append((list_x[i],list_y[i],list_z[i]))\n",
    "# start = datetime.datetime.now()"
   ]
  },
  {
   "cell_type": "code",
   "execution_count": 4,
   "metadata": {},
   "outputs": [
    {
     "data": {
      "text/plain": [
       "[(0.25, 0.25, 0.5),\n",
       " (0.25, 0.5, 0.25),\n",
       " (0.5, 0.25, 0.25),\n",
       " (0.3333333333333333, 0.3333333333333333, 0.3333333333333333),\n",
       " (0.2, 0.4, 0.4),\n",
       " (0.4, 0.2, 0.4),\n",
       " (0.4, 0.4, 0.2),\n",
       " (0.16666666666666666, 0.3333333333333333, 0.5),\n",
       " (0.16666666666666666, 0.5, 0.3333333333333333),\n",
       " (0.3333333333333333, 0.16666666666666666, 0.5),\n",
       " (0.3333333333333333, 0.5, 0.16666666666666666),\n",
       " (0.5, 0.16666666666666666, 0.3333333333333333),\n",
       " (0.5, 0.3333333333333333, 0.16666666666666666),\n",
       " (0.14285714285714285, 0.42857142857142855, 0.42857142857142855),\n",
       " (0.42857142857142855, 0.14285714285714285, 0.42857142857142855),\n",
       " (0.42857142857142855, 0.42857142857142855, 0.14285714285714285)]"
      ]
     },
     "execution_count": 4,
     "metadata": {},
     "output_type": "execute_result"
    }
   ],
   "source": [
    "list_triple"
   ]
  },
  {
   "cell_type": "code",
   "execution_count": 5,
   "metadata": {},
   "outputs": [],
   "source": [
    "# Concretemodel_Need_Data['reaction_kcat_MW']=reaction_kcat_MW=pd.read_csv('./3_mass/EC/reaction_kcat_MW.csv',index_col=0)\n",
    "Concretemodel_Need_Data['reaction_kcat_MW']=reaction_kcat_MW=pd.read_csv('./3_mass/EC/reaction_kcat_MW_MAM2.csv',index_col=0)\n",
    "Concretemodel_Need_Data['reaction_kcat_MW']=unpdate_3_kcat_mw(Concretemodel_Need_Data['reaction_list'],Concretemodel_Need_Data['reaction_kcat_MW'],'./3_mass/EC/reaction_kcat_MW_3mass.csv')"
   ]
  },
  {
   "cell_type": "code",
   "execution_count": 6,
   "metadata": {},
   "outputs": [],
   "source": [
    "CA=['TAL']#,'HpaBC_CA'\n",
    "SAA=['D_LDH_1','D_LDH_2']#,'HpaB_2''HpaB_1',\n",
    "RA=['4CL']#"
   ]
  },
  {
   "cell_type": "code",
   "execution_count": 7,
   "metadata": {},
   "outputs": [
    {
     "name": "stdout",
     "output_type": "stream",
     "text": [
      "------CA------\n",
      "TAL:2.383275261\n",
      "------SAA------\n",
      "D_LDH_1:1.480833997\n",
      "D_LDH_2:1.480833997\n",
      "------RA------\n",
      "4CL:26.32835821\n"
     ]
    }
   ],
   "source": [
    "print('------CA------')\n",
    "for i in CA:\n",
    "    print (i+':'+str(Concretemodel_Need_Data['reaction_kcat_MW'].at['A_'+i,'kcat_MW']))\n",
    "print('------SAA------')\n",
    "for i in SAA:\n",
    "    print (i+':'+str(Concretemodel_Need_Data['reaction_kcat_MW'].at['B_'+i,'kcat_MW']))\n",
    "print('------RA------')\n",
    "for i in RA:\n",
    "    print (i+':'+str(Concretemodel_Need_Data['reaction_kcat_MW'].at['C_'+i,'kcat_MW']))"
   ]
  },
  {
   "cell_type": "code",
   "execution_count": 8,
   "metadata": {},
   "outputs": [
    {
     "data": {
      "text/plain": [
       "[0.1, 0.15, 0.2, 0.25, 0.3]"
      ]
     },
     "execution_count": 8,
     "metadata": {},
     "output_type": "execute_result"
    }
   ],
   "source": [
    "[0.1,0.15,0.2,0.25,0.3]"
   ]
  },
  {
   "cell_type": "code",
   "execution_count": 9,
   "metadata": {},
   "outputs": [
    {
     "name": "stdout",
     "output_type": "stream",
     "text": [
      "0:01:42.429590\n",
      "{<Future at 0x1fdc22e3dd8 state=finished returned float>: (0.25, 0.25, 0.5), <Future at 0x1fdcbb62c88 state=finished returned float>: (0.25, 0.5, 0.25), <Future at 0x1fdcbb62d30 state=finished returned float>: (0.5, 0.25, 0.25), <Future at 0x1fdcbb62e80 state=finished returned float>: (0.3333333333333333, 0.3333333333333333, 0.3333333333333333), <Future at 0x1fdcc3a41d0 state=finished returned float>: (0.2, 0.4, 0.4), <Future at 0x1fdcc3a4278 state=finished returned float>: (0.4, 0.2, 0.4), <Future at 0x1fdcc3a4470 state=finished returned float>: (0.4, 0.4, 0.2), <Future at 0x1fdcc3a4438 state=finished returned float>: (0.16666666666666666, 0.3333333333333333, 0.5), <Future at 0x1fdcc3a4588 state=finished returned float>: (0.16666666666666666, 0.5, 0.3333333333333333), <Future at 0x1fdcc3a4630 state=finished returned float>: (0.3333333333333333, 0.16666666666666666, 0.5), <Future at 0x1fdcc3a46d8 state=finished returned float>: (0.3333333333333333, 0.5, 0.16666666666666666), <Future at 0x1fdcc3a4780 state=finished returned float>: (0.5, 0.16666666666666666, 0.3333333333333333), <Future at 0x1fdcc3a4828 state=finished returned float>: (0.5, 0.3333333333333333, 0.16666666666666666), <Future at 0x1fdcc3a48d0 state=finished returned float>: (0.14285714285714285, 0.42857142857142855, 0.42857142857142855), <Future at 0x1fdcc3a4978 state=finished returned float>: (0.42857142857142855, 0.14285714285714285, 0.42857142857142855), <Future at 0x1fdcc3a4a20 state=finished returned float>: (0.42857142857142855, 0.42857142857142855, 0.14285714285714285)}\n"
     ]
    }
   ],
   "source": [
    "if __name__ == \"__main__\":\n",
    "    pool=ProcessPoolExecutor(max_workers=8)\n",
    "    with pool as executor:\n",
    "        start = datetime.datetime.now()\n",
    "        #print(\"pass_2\")\n",
    "        tmp=[]\n",
    "        futures = {executor.submit(thread_FBA,Concretemodel_Need_Data,10,(triple),0,0,0,0.25,0.15,0.45,'EX_ra_e'): triple for triple in list_triple}\n",
    "        # for future in as_completed(futures):\n",
    "        #     tmp.append(future.result())\n",
    "    end = datetime.datetime.now()\n",
    "    print (end - start)\n",
    "    print(futures)"
   ]
  },
  {
   "cell_type": "code",
   "execution_count": 10,
   "metadata": {},
   "outputs": [
    {
     "name": "stdout",
     "output_type": "stream",
     "text": [
      "A:B:C=1:1:2\n",
      "0.06462370829297015\n",
      "A:B:C=3:1:2\n",
      "0.043082472195313436\n",
      "A:B:C=1:3:2\n",
      "0.05614224434270909\n",
      "A:B:C=3:1:3\n",
      "0.03692798906640096\n",
      "A:B:C=2:1:1\n",
      "0.06462370829297015\n",
      "A:B:C=1:2:2\n",
      "0.06737011740733578\n",
      "A:B:C=2:3:1\n",
      "0.11228352901220735\n",
      "A:B:C=1:3:3\n",
      "0.04812151243379503\n",
      "A:B:C=1:1:1\n",
      "0.08616494439062687\n",
      "A:B:C=2:1:2\n",
      "0.05169918469296135\n",
      "A:B:C=1:2:1\n",
      "0.08421336651406364\n",
      "A:B:C=2:2:1\n",
      "0.10339836938589997\n",
      "A:B:C=2:1:3\n",
      "0.043082472195294486\n",
      "A:B:C=3:3:1\n",
      "0.11078349993082222\n",
      "A:B:C=1:2:3\n",
      "0.05614224434270909\n",
      "A:B:C=3:2:1\n",
      "0.08616494439062687\n"
     ]
    }
   ],
   "source": [
    "result_list_mass=pd.DataFrame()\n",
    "for future in as_completed(futures):\n",
    "    x,y,z=futures[future]\n",
    "    real=1/min(x,y,z)\n",
    "    real_x=int(x*real)\n",
    "    real_y=int(y*real)\n",
    "    real_z=int(z*real)\n",
    "    print('A:B:C='+str(real_x)+':'+str(real_y)+':'+str(real_z))\n",
    "    print(future.result())\n",
    "    result_list_mass.at[str(real_x)+':'+str(real_y)+':'+str(real_z),'flux']=future.result()"
   ]
  },
  {
   "cell_type": "code",
   "execution_count": 11,
   "metadata": {},
   "outputs": [],
   "source": [
    "result_list=pd.DataFrame()\n",
    "for i in range(0,len(list_x)):\n",
    "    real=1/min([list_x[i],list_y[i],list_z[i]])\n",
    "    real_x=int(list_x[i]*real)\n",
    "    real_y=int(list_y[i]*real)\n",
    "    real_z=int(list_z[i]*real)\n",
    "    result_list.at[str(real_x)+':'+str(real_y)+':'+str(real_z),'flux']=result_list_mass.at[str(real_x)+':'+str(real_y)+':'+str(real_z),'flux']"
   ]
  },
  {
   "cell_type": "code",
   "execution_count": 12,
   "metadata": {},
   "outputs": [
    {
     "data": {
      "text/html": [
       "<div>\n",
       "<style scoped>\n",
       "    .dataframe tbody tr th:only-of-type {\n",
       "        vertical-align: middle;\n",
       "    }\n",
       "\n",
       "    .dataframe tbody tr th {\n",
       "        vertical-align: top;\n",
       "    }\n",
       "\n",
       "    .dataframe thead th {\n",
       "        text-align: right;\n",
       "    }\n",
       "</style>\n",
       "<table border=\"1\" class=\"dataframe\">\n",
       "  <thead>\n",
       "    <tr style=\"text-align: right;\">\n",
       "      <th></th>\n",
       "      <th>flux</th>\n",
       "    </tr>\n",
       "  </thead>\n",
       "  <tbody>\n",
       "    <tr>\n",
       "      <th>1:1:2</th>\n",
       "      <td>0.064624</td>\n",
       "    </tr>\n",
       "    <tr>\n",
       "      <th>1:2:1</th>\n",
       "      <td>0.084213</td>\n",
       "    </tr>\n",
       "    <tr>\n",
       "      <th>2:1:1</th>\n",
       "      <td>0.064624</td>\n",
       "    </tr>\n",
       "    <tr>\n",
       "      <th>1:1:1</th>\n",
       "      <td>0.086165</td>\n",
       "    </tr>\n",
       "    <tr>\n",
       "      <th>1:2:2</th>\n",
       "      <td>0.067370</td>\n",
       "    </tr>\n",
       "    <tr>\n",
       "      <th>2:1:2</th>\n",
       "      <td>0.051699</td>\n",
       "    </tr>\n",
       "    <tr>\n",
       "      <th>2:2:1</th>\n",
       "      <td>0.103398</td>\n",
       "    </tr>\n",
       "    <tr>\n",
       "      <th>1:2:3</th>\n",
       "      <td>0.056142</td>\n",
       "    </tr>\n",
       "    <tr>\n",
       "      <th>1:3:2</th>\n",
       "      <td>0.056142</td>\n",
       "    </tr>\n",
       "    <tr>\n",
       "      <th>2:1:3</th>\n",
       "      <td>0.043082</td>\n",
       "    </tr>\n",
       "    <tr>\n",
       "      <th>2:3:1</th>\n",
       "      <td>0.112284</td>\n",
       "    </tr>\n",
       "    <tr>\n",
       "      <th>3:1:2</th>\n",
       "      <td>0.043082</td>\n",
       "    </tr>\n",
       "    <tr>\n",
       "      <th>3:2:1</th>\n",
       "      <td>0.086165</td>\n",
       "    </tr>\n",
       "    <tr>\n",
       "      <th>1:3:3</th>\n",
       "      <td>0.048122</td>\n",
       "    </tr>\n",
       "    <tr>\n",
       "      <th>3:1:3</th>\n",
       "      <td>0.036928</td>\n",
       "    </tr>\n",
       "    <tr>\n",
       "      <th>3:3:1</th>\n",
       "      <td>0.110783</td>\n",
       "    </tr>\n",
       "  </tbody>\n",
       "</table>\n",
       "</div>"
      ],
      "text/plain": [
       "           flux\n",
       "1:1:2  0.064624\n",
       "1:2:1  0.084213\n",
       "2:1:1  0.064624\n",
       "1:1:1  0.086165\n",
       "1:2:2  0.067370\n",
       "2:1:2  0.051699\n",
       "2:2:1  0.103398\n",
       "1:2:3  0.056142\n",
       "1:3:2  0.056142\n",
       "2:1:3  0.043082\n",
       "2:3:1  0.112284\n",
       "3:1:2  0.043082\n",
       "3:2:1  0.086165\n",
       "1:3:3  0.048122\n",
       "3:1:3  0.036928\n",
       "3:3:1  0.110783"
      ]
     },
     "execution_count": 12,
     "metadata": {},
     "output_type": "execute_result"
    }
   ],
   "source": [
    "result_list"
   ]
  }
 ],
 "metadata": {
  "kernelspec": {
   "display_name": "Python 3.6.5 ('xby')",
   "language": "python",
   "name": "python3"
  },
  "language_info": {
   "codemirror_mode": {
    "name": "ipython",
    "version": 3
   },
   "file_extension": ".py",
   "mimetype": "text/x-python",
   "name": "python",
   "nbconvert_exporter": "python",
   "pygments_lexer": "ipython3",
   "version": "3.6.5"
  },
  "orig_nbformat": 4,
  "vscode": {
   "interpreter": {
    "hash": "678f2c0cb67aa00dbc6da583138b0769cb8531f72b670a012e2187460f06e842"
   }
  }
 },
 "nbformat": 4,
 "nbformat_minor": 2
}
