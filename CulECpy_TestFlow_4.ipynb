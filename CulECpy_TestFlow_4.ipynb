{
 "cells": [
  {
   "cell_type": "code",
   "execution_count": 1,
   "metadata": {},
   "outputs": [],
   "source": [
    "import cobra\n",
    "from cobra import Model, Reaction, Metabolite\n",
    "from cobra.flux_analysis import pfba\n",
    "from cobra.io import write_sbml_model,save_json_model,load_json_model,read_sbml_model\n",
    "import re\n",
    "import pandas as pd\n",
    "import numpy as np\n",
    "import xlrd\n",
    "import re\n",
    "import openpyxl\n",
    "import sys\n",
    "sys.path.append(r'./')\n",
    "import os\n",
    "from copy import copy, deepcopy\n",
    "import numpy as np"
   ]
  },
  {
   "cell_type": "code",
   "execution_count": 2,
   "metadata": {},
   "outputs": [],
   "source": [
    "model_origin_name='./new_idea_AGGD/model/iML1515_new.json'\n",
    "model_new='./new_idea_AGGD/model/iML1515_AG.json'\n",
    "model_new2='./new_idea_AGGD/model/iML1515_GD.json'\n",
    "model_new3='./new_idea_AGGD/model/iML1515_GD_26.json'\n",
    "model_ab_json='./new_idea_AGGD/model/iML1515_AGGD.json'"
   ]
  },
  {
   "cell_type": "markdown",
   "metadata": {},
   "source": [
    "# Refinement of model information"
   ]
  },
  {
   "cell_type": "code",
   "execution_count": 3,
   "metadata": {},
   "outputs": [],
   "source": [
    "from model_correction_tools import *"
   ]
  },
  {
   "cell_type": "code",
   "execution_count": 4,
   "metadata": {},
   "outputs": [],
   "source": [
    "model = cobra.io.load_json_model(model_origin_name)\n",
    "model.reactions.EX_tyr__L_e.bounds=(0,1000)\n",
    "save_json_model(model,model_origin_name)"
   ]
  },
  {
   "cell_type": "markdown",
   "metadata": {},
   "source": [
    "sub-model A"
   ]
  },
  {
   "cell_type": "code",
   "execution_count": 5,
   "metadata": {},
   "outputs": [],
   "source": [
    "model = cobra.io.load_json_model(model_origin_name)"
   ]
  },
  {
   "cell_type": "code",
   "execution_count": 6,
   "metadata": {},
   "outputs": [],
   "source": [
    "model.reactions.get_by_id('EX_xyl__D_e').bounds=(-10,1000)\n",
    "model.reactions.get_by_id('EX_glc__D_e').bounds=(0,1000)"
   ]
  },
  {
   "cell_type": "code",
   "execution_count": 7,
   "metadata": {},
   "outputs": [
    {
     "data": {
      "text/html": [
       "\n",
       "        <table>\n",
       "            <tr>\n",
       "                <td><strong>Reaction identifier</strong></td><td>GLCptspp</td>\n",
       "            </tr><tr>\n",
       "                <td><strong>Name</strong></td><td>D-glucose transport via PEP:Pyr PTS (periplasm)</td>\n",
       "            </tr><tr>\n",
       "                <td><strong>Memory address</strong></td>\n",
       "                <td>0x027ea0bd82b0</td>\n",
       "            </tr><tr>\n",
       "                <td><strong>Stoichiometry</strong></td>\n",
       "                <td>\n",
       "                    <p style='text-align:right'>glc__D_p + pep_c --> g6p_c + pyr_c</p>\n",
       "                    <p style='text-align:right'>D-Glucose + Phosphoenolpyruvate --> D-Glucose 6-phosphate + Pyruvate</p>\n",
       "                </td>\n",
       "            </tr><tr>\n",
       "                <td><strong>GPR</strong></td><td>( b2415 and b1101 and b2416 and b2417 ) or ( b2417 and b1621 and b2415 and b2416 ) or ( b1817 and...</td>\n",
       "            </tr><tr>\n",
       "                <td><strong>Lower bound</strong></td><td>0.0</td>\n",
       "            </tr><tr>\n",
       "                <td><strong>Upper bound</strong></td><td>1000.0</td>\n",
       "            </tr>\n",
       "        </table>\n",
       "        "
      ],
      "text/plain": [
       "<Reaction GLCptspp at 0x27ea0bd82b0>"
      ]
     },
     "execution_count": 7,
     "metadata": {},
     "output_type": "execute_result"
    }
   ],
   "source": [
    "#ptsG/manZ\n",
    "model.reactions.get_by_id('GLCptspp')#.bounds=(0,0)"
   ]
  },
  {
   "cell_type": "code",
   "execution_count": 8,
   "metadata": {},
   "outputs": [
    {
     "name": "stdout",
     "output_type": "stream",
     "text": [
      "PYK: adp_c + h_c + pep_c --> atp_c + pyr_c\n",
      "PYK2: h_c + pep_c + udp_c --> pyr_c + utp_c\n",
      "PYK3: gdp_c + h_c + pep_c --> gtp_c + pyr_c\n",
      "PYK4: cdp_c + h_c + pep_c --> ctp_c + pyr_c\n",
      "PYK6: dtdp_c + h_c + pep_c --> dttp_c + pyr_c\n"
     ]
    }
   ],
   "source": [
    "#PYK\n",
    "PYK=['PYK','PYK2','PYK3','PYK4','PYK6']\n",
    "for i in PYK:\n",
    "    print(model.reactions.get_by_id(i))\n",
    "    model.reactions.get_by_id(i).bounds=(0,0)"
   ]
  },
  {
   "cell_type": "code",
   "execution_count": 9,
   "metadata": {},
   "outputs": [
    {
     "name": "stdout",
     "output_type": "stream",
     "text": [
      "PPNDH: h_c + pphn_c --> co2_c + h2o_c + phpyr_c\n",
      "ALDD19xr: h2o_c + nad_c + pacald_c <=> 2.0 h_c + nadh_c + pac_c\n"
     ]
    }
   ],
   "source": [
    "#pheA PPNDH\n",
    "print(model.reactions.get_by_id('PPNDH'))\n",
    "model.reactions.get_by_id('PPNDH').bounds=(0,0)\n",
    "#feaB ALDD19xr NO KNOCK\n",
    "print(model.reactions.get_by_id('ALDD19xr'))\n",
    "model.reactions.get_by_id('ALDD19xr').bounds=(-1000,1000)"
   ]
  },
  {
   "cell_type": "code",
   "execution_count": 10,
   "metadata": {},
   "outputs": [
    {
     "name": "stdout",
     "output_type": "stream",
     "text": [
      "PPND: nad_c + pphn_c --> 34hpp_c + co2_c + nadh_c\n"
     ]
    },
    {
     "data": {
      "text/html": [
       "\n",
       "        <table>\n",
       "            <tr>\n",
       "                <td><strong>Reaction identifier</strong></td><td>PPND</td>\n",
       "            </tr><tr>\n",
       "                <td><strong>Name</strong></td><td>Prephenate dehydrogenase</td>\n",
       "            </tr><tr>\n",
       "                <td><strong>Memory address</strong></td>\n",
       "                <td>0x027ea07bee80</td>\n",
       "            </tr><tr>\n",
       "                <td><strong>Stoichiometry</strong></td>\n",
       "                <td>\n",
       "                    <p style='text-align:right'>nad_c + pphn_c --> 34hpp_c + co2_c + nadh_c</p>\n",
       "                    <p style='text-align:right'>Nicotinamide adenine dinucleotide + Prephenate --> 3-(4-Hydroxyphenyl)pyruvate + CO2 CO2 + Nicotinamide adenine dinucleotide - reduced</p>\n",
       "                </td>\n",
       "            </tr><tr>\n",
       "                <td><strong>GPR</strong></td><td>b2600</td>\n",
       "            </tr><tr>\n",
       "                <td><strong>Lower bound</strong></td><td>0.0</td>\n",
       "            </tr><tr>\n",
       "                <td><strong>Upper bound</strong></td><td>1000.0</td>\n",
       "            </tr>\n",
       "        </table>\n",
       "        "
      ],
      "text/plain": [
       "<Reaction PPND at 0x27ea07bee80>"
      ]
     },
     "execution_count": 10,
     "metadata": {},
     "output_type": "execute_result"
    }
   ],
   "source": [
    "#tyrA PPMD\n",
    "print(model.reactions.get_by_id('PPND'))\n",
    "model.reactions.get_by_id('PPND')"
   ]
  },
  {
   "cell_type": "code",
   "execution_count": 11,
   "metadata": {},
   "outputs": [
    {
     "name": "stdout",
     "output_type": "stream",
     "text": [
      "ACMANAptspp: acmana_p + pep_c --> acmanap_c + pyr_c\n"
     ]
    }
   ],
   "source": [
    "#ACMANAptspp manZ\n",
    "print(model.reactions.get_by_id('ACMANAptspp'))\n",
    "model.reactions.get_by_id('ACMANAptspp').bounds=(0,0)"
   ]
  },
  {
   "cell_type": "code",
   "execution_count": 12,
   "metadata": {},
   "outputs": [
    {
     "name": "stdout",
     "output_type": "stream",
     "text": [
      "MANptspp: man_p + pep_c --> man6p_c + pyr_c\n"
     ]
    }
   ],
   "source": [
    "#MANptspp manZ\n",
    "print(model.reactions.get_by_id('MANptspp'))\n",
    "model.reactions.get_by_id('MANptspp').bounds=(0,0)"
   ]
  },
  {
   "cell_type": "code",
   "execution_count": 13,
   "metadata": {},
   "outputs": [
    {
     "name": "stdout",
     "output_type": "stream",
     "text": [
      "FRUpts2pp: fru_p + pep_c --> f6p_c + pyr_c\n"
     ]
    }
   ],
   "source": [
    "#FRUpts2pp manZ\n",
    "print(model.reactions.get_by_id('FRUpts2pp'))\n",
    "model.reactions.get_by_id('FRUpts2pp').bounds=(0,0)"
   ]
  },
  {
   "cell_type": "code",
   "execution_count": 14,
   "metadata": {},
   "outputs": [
    {
     "name": "stdout",
     "output_type": "stream",
     "text": [
      "2DGLCptspp: 2dglc_p + pep_c --> 2doxg6p_c + pyr_c\n"
     ]
    }
   ],
   "source": [
    "#2DGLCptspp manZ\n",
    "print(model.reactions.get_by_id('2DGLCptspp'))\n",
    "model.reactions.get_by_id('2DGLCptspp').bounds=(0,0)"
   ]
  },
  {
   "cell_type": "code",
   "execution_count": 15,
   "metadata": {},
   "outputs": [
    {
     "data": {
      "text/html": [
       "\n",
       "        <table>\n",
       "            <tr>\n",
       "                <td><strong>Metabolite identifier</strong></td><td>hoxpacd_c</td>\n",
       "            </tr><tr>\n",
       "                <td><strong>Name</strong></td><td>4-Hydroxyphenylacetaldehyde</td>\n",
       "            </tr><tr>\n",
       "                <td><strong>Memory address</strong></td>\n",
       "                <td>0x027e9e2a5550</td>\n",
       "            </tr><tr>\n",
       "                <td><strong>Formula</strong></td><td>C8H8O2</td>\n",
       "            </tr><tr>\n",
       "                <td><strong>Compartment</strong></td><td>c</td>\n",
       "            </tr><tr>\n",
       "                <td><strong>In 0 reaction(s)</strong></td><td>\n",
       "                    </td>\n",
       "            </tr>\n",
       "        </table>"
      ],
      "text/plain": [
       "<Metabolite hoxpacd_c at 0x27e9e2a5550>"
      ]
     },
     "execution_count": 15,
     "metadata": {},
     "output_type": "execute_result"
    }
   ],
   "source": [
    "hoxpacd_c=deepcopy(model.metabolites.get_by_id('4hoxpacd_e'))\n",
    "hoxpacd_c.compartment='c'\n",
    "hoxpacd_c.id='hoxpacd_c'\n",
    "hoxpacd_c"
   ]
  },
  {
   "cell_type": "code",
   "execution_count": 16,
   "metadata": {},
   "outputs": [
    {
     "data": {
      "text/html": [
       "\n",
       "        <table>\n",
       "            <tr>\n",
       "                <td><strong>Reaction identifier</strong></td><td>PDC</td>\n",
       "            </tr><tr>\n",
       "                <td><strong>Name</strong></td><td>pyruvate decarboxylase</td>\n",
       "            </tr><tr>\n",
       "                <td><strong>Memory address</strong></td>\n",
       "                <td>0x027e9e246a58</td>\n",
       "            </tr><tr>\n",
       "                <td><strong>Stoichiometry</strong></td>\n",
       "                <td>\n",
       "                    <p style='text-align:right'>34hpp_c + h_c --> co2_c + hoxpacd_c</p>\n",
       "                    <p style='text-align:right'>3-(4-Hydroxyphenyl)pyruvate + H+ --> CO2 CO2 + 4-Hydroxyphenylacetaldehyde</p>\n",
       "                </td>\n",
       "            </tr><tr>\n",
       "                <td><strong>GPR</strong></td><td></td>\n",
       "            </tr><tr>\n",
       "                <td><strong>Lower bound</strong></td><td>0</td>\n",
       "            </tr><tr>\n",
       "                <td><strong>Upper bound</strong></td><td>1000</td>\n",
       "            </tr>\n",
       "        </table>\n",
       "        "
      ],
      "text/plain": [
       "<Reaction PDC at 0x27e9e246a58>"
      ]
     },
     "execution_count": 16,
     "metadata": {},
     "output_type": "execute_result"
    }
   ],
   "source": [
    "hpp_c=model.metabolites.get_by_id('34hpp_c')\n",
    "h_c=model.metabolites.get_by_id('h_c')\n",
    "co2_c=model.metabolites.get_by_id('co2_c')\n",
    "PDC=Reaction(\"PDC\")\n",
    "PDC.name='pyruvate decarboxylase'\n",
    "PDC.subsystem='unknow'\n",
    "PDC.lower_bound=0\n",
    "PDC.upper_bound=1000\n",
    "PDC.add_metabolites({\n",
    "    hpp_c:-1.0,\n",
    "    h_c:-1.0,\n",
    "    co2_c:1.0,\n",
    "    hoxpacd_c:1.0\n",
    "})\n",
    "PDC"
   ]
  },
  {
   "cell_type": "code",
   "execution_count": 17,
   "metadata": {},
   "outputs": [],
   "source": [
    "Tyrosol_c=Metabolite('Tyrosol_c',\n",
    "                formula='C8H10O2',\n",
    "                name='Tyrosol',\n",
    "                compartment='c'\n",
    "                )"
   ]
  },
  {
   "cell_type": "code",
   "execution_count": 18,
   "metadata": {},
   "outputs": [],
   "source": [
    "Tyrosol_e=Metabolite('Tyrosol_e',\n",
    "                formula='C8H10O2',\n",
    "                name='Tyrosol',\n",
    "                compartment='e'\n",
    "                )"
   ]
  },
  {
   "cell_type": "code",
   "execution_count": 19,
   "metadata": {},
   "outputs": [],
   "source": [
    "EX_Tyrosol_e=Reaction(\"EX_Tyrosol_e\")\n",
    "EX_Tyrosol_e.name='Tyrosol_e exchange'\n",
    "EX_Tyrosol_e.subsystem='unknow'\n",
    "EX_Tyrosol_e.lower_bound=0\n",
    "EX_Tyrosol_e.upper_bound=1000\n",
    "EX_Tyrosol_e.add_metabolites({\n",
    "    Tyrosol_e:-1.0\n",
    "})\n",
    "Tyrosol_c2e=Reaction(\"Tyrosol_c2e\")\n",
    "Tyrosol_c2e.name='4adcho_c2e'\n",
    "Tyrosol_c2e.subsystem='unknow'\n",
    "Tyrosol_c2e.lower_bound=-1000\n",
    "Tyrosol_c2e.upper_bound=1000\n",
    "Tyrosol_c2e.add_metabolites({\n",
    "    Tyrosol_c:-1.0,\n",
    "    Tyrosol_e:1.0\n",
    "})\n",
    "model.add_reactions([EX_Tyrosol_e])\n",
    "model.add_reactions([Tyrosol_c2e])"
   ]
  },
  {
   "cell_type": "code",
   "execution_count": 20,
   "metadata": {},
   "outputs": [
    {
     "data": {
      "text/html": [
       "\n",
       "        <table>\n",
       "            <tr>\n",
       "                <td><strong>Metabolite identifier</strong></td><td>phpyr_e</td>\n",
       "            </tr><tr>\n",
       "                <td><strong>Name</strong></td><td>Phenylpyruvate</td>\n",
       "            </tr><tr>\n",
       "                <td><strong>Memory address</strong></td>\n",
       "                <td>0x027e9e2a5828</td>\n",
       "            </tr><tr>\n",
       "                <td><strong>Formula</strong></td><td>C9H7O3</td>\n",
       "            </tr><tr>\n",
       "                <td><strong>Compartment</strong></td><td>e</td>\n",
       "            </tr><tr>\n",
       "                <td><strong>In 0 reaction(s)</strong></td><td>\n",
       "                    </td>\n",
       "            </tr>\n",
       "        </table>"
      ],
      "text/plain": [
       "<Metabolite phpyr_e at 0x27e9e2a5828>"
      ]
     },
     "execution_count": 20,
     "metadata": {},
     "output_type": "execute_result"
    }
   ],
   "source": [
    "phpyr_c=model.metabolites.get_by_id('phpyr_c')\n",
    "phpyr_e=deepcopy(phpyr_c)\n",
    "phpyr_e.compartment='e'\n",
    "phpyr_e.id='phpyr_e'\n",
    "phpyr_e"
   ]
  },
  {
   "cell_type": "code",
   "execution_count": 21,
   "metadata": {},
   "outputs": [],
   "source": [
    "EX_phpyr_e=Reaction(\"EX_phpyr_e\")\n",
    "EX_phpyr_e.name='phpyr_e exchange'\n",
    "EX_phpyr_e.subsystem='unknow'\n",
    "EX_phpyr_e.lower_bound=-1000\n",
    "EX_phpyr_e.upper_bound=1000\n",
    "EX_phpyr_e.add_metabolites({\n",
    "    phpyr_e:-1.0\n",
    "})\n",
    "phpyr_c2e=Reaction(\"phpyr_c2e\")\n",
    "phpyr_c2e.name='phpyr_c2e'\n",
    "phpyr_c2e.subsystem='unknow'\n",
    "phpyr_c2e.lower_bound=-1000\n",
    "phpyr_c2e.upper_bound=1000\n",
    "phpyr_c2e.add_metabolites({\n",
    "    phpyr_c:-1.0,\n",
    "    phpyr_e:1.0\n",
    "})\n",
    "model.add_reactions([EX_phpyr_e])\n",
    "model.add_reactions([phpyr_c2e])"
   ]
  },
  {
   "cell_type": "code",
   "execution_count": 22,
   "metadata": {},
   "outputs": [
    {
     "data": {
      "text/html": [
       "\n",
       "        <table>\n",
       "            <tr>\n",
       "                <td><strong>Reaction identifier</strong></td><td>ADH</td>\n",
       "            </tr><tr>\n",
       "                <td><strong>Name</strong></td><td>alcohol dehydrogenase</td>\n",
       "            </tr><tr>\n",
       "                <td><strong>Memory address</strong></td>\n",
       "                <td>0x027e9e2bdc18</td>\n",
       "            </tr><tr>\n",
       "                <td><strong>Stoichiometry</strong></td>\n",
       "                <td>\n",
       "                    <p style='text-align:right'>h_c + hoxpacd_c + nadh_c --> Tyrosol_c + nad_c</p>\n",
       "                    <p style='text-align:right'>H+ + 4-Hydroxyphenylacetaldehyde + Nicotinamide adenine dinucleotide - reduced --> Tyrosol + Nicotinamide adenine dinucleotide</p>\n",
       "                </td>\n",
       "            </tr><tr>\n",
       "                <td><strong>GPR</strong></td><td></td>\n",
       "            </tr><tr>\n",
       "                <td><strong>Lower bound</strong></td><td>0</td>\n",
       "            </tr><tr>\n",
       "                <td><strong>Upper bound</strong></td><td>1000</td>\n",
       "            </tr>\n",
       "        </table>\n",
       "        "
      ],
      "text/plain": [
       "<Reaction ADH at 0x27e9e2bdc18>"
      ]
     },
     "execution_count": 22,
     "metadata": {},
     "output_type": "execute_result"
    }
   ],
   "source": [
    "nad_c=model.metabolites.get_by_id('nad_c')\n",
    "h_c=model.metabolites.get_by_id('h_c')\n",
    "nadh_c=model.metabolites.get_by_id('nadh_c')\n",
    "ADH=Reaction(\"ADH\")\n",
    "ADH.name='alcohol dehydrogenase'\n",
    "ADH.subsystem='unknow'\n",
    "ADH.lower_bound=0\n",
    "ADH.upper_bound=1000\n",
    "ADH.add_metabolites({\n",
    "    hoxpacd_c:-1.0,\n",
    "    nadh_c:-1.0,\n",
    "    h_c:-1.0,\n",
    "    nad_c:1.0,\n",
    "    Tyrosol_c:1.0\n",
    "})\n",
    "ADH"
   ]
  },
  {
   "cell_type": "code",
   "execution_count": 23,
   "metadata": {},
   "outputs": [],
   "source": [
    "model.add_reactions([PDC])\n",
    "model.add_reactions([ADH])"
   ]
  },
  {
   "cell_type": "code",
   "execution_count": 24,
   "metadata": {},
   "outputs": [
    {
     "name": "stdout",
     "output_type": "stream",
     "text": [
      "IN FLUXES            OUT FLUXES      OBJECTIVES\n",
      "-------------------  --------------  ------------------\n",
      "xyl__D_e  10         h2o_e     28.4  DM_Tyrosol_c  3.96\n",
      "o2_e       7.26      co2_e     13.5\n",
      "nh4_e      1.18      h_e        1\n",
      "pi_e       0.0965    tyr__L_e   0.1\n",
      "so4_e      0.0252\n",
      "k_e        0.0195\n",
      "phpyr_e    0.0185\n",
      "fe2_e      0.00161\n",
      "mg2_e      0.000868\n",
      "ca2_e      0.000521\n",
      "cl_e       0.000521\n",
      "cu2_e      7.09e-05\n",
      "mn2_e      6.91e-05\n",
      "zn2_e      3.41e-05\n",
      "ni2_e      3.23e-05\n"
     ]
    }
   ],
   "source": [
    "with model as model_test:\n",
    "    product = model_test.metabolites.get_by_id('Tyrosol_c')\n",
    "    demand= model_test.add_boundary(product, type='demand')  # add demand reaction as the objective\n",
    "    model_test.objective = demand\n",
    "    model_test.reactions.BIOMASS_Ec_iML1515_core_75p37M.bounds=(0.1,1000)\n",
    "    model_test.reactions.EX_tyr__L_e.bounds=(0.1,1000)\n",
    "    model_test.optimize()\n",
    "    model_test.summary()"
   ]
  },
  {
   "cell_type": "code",
   "execution_count": 25,
   "metadata": {},
   "outputs": [
    {
     "name": "stdout",
     "output_type": "stream",
     "text": [
      "IN FLUXES            OUT FLUXES    OBJECTIVES\n",
      "-------------------  ------------  ----------------------\n",
      "o2_e      20.4       h2o_e  40.1   BIOMASS_Ec_i...  0.715\n",
      "xyl__D_e  10         co2_e  21.8\n",
      "nh4_e      7.72      h_e     6.44\n",
      "pi_e       0.69\n",
      "so4_e      0.18\n",
      "k_e        0.14\n",
      "phpyr_e    0.132\n",
      "fe2_e      0.0115\n",
      "mg2_e      0.0062\n",
      "ca2_e      0.00372\n",
      "cl_e       0.00372\n",
      "cu2_e      0.000507\n",
      "mn2_e      0.000494\n",
      "zn2_e      0.000244\n",
      "ni2_e      0.000231\n"
     ]
    }
   ],
   "source": [
    "model.optimize()\n",
    "model.summary()"
   ]
  },
  {
   "cell_type": "code",
   "execution_count": 26,
   "metadata": {},
   "outputs": [],
   "source": [
    "save_json_model(model,model_new)\n",
    "write_sbml_model(model,model_new.split('.json')[0]+'.xml')"
   ]
  },
  {
   "cell_type": "markdown",
   "metadata": {},
   "source": [
    "sub-model B"
   ]
  },
  {
   "cell_type": "code",
   "execution_count": 27,
   "metadata": {},
   "outputs": [],
   "source": [
    "model = cobra.io.load_json_model(model_origin_name)\n",
    "model.reactions.get_by_id('EX_glc__D_e').bounds=(-10,1000)\n",
    "model.reactions.get_by_id('EX_xyl__D_e').bounds=(0,1000)"
   ]
  },
  {
   "cell_type": "code",
   "execution_count": 28,
   "metadata": {},
   "outputs": [
    {
     "name": "stdout",
     "output_type": "stream",
     "text": [
      "XYLI1: xyl__D_c <=> xylu__D_c\n",
      "UDPGPpp: h2o_p + udpg_p --> g1p_p + 2.0 h_p + ump_p\n",
      "PPND: nad_c + pphn_c --> 34hpp_c + co2_c + nadh_c\n",
      "CHORM: chor_c --> pphn_c\n"
     ]
    },
    {
     "data": {
      "text/html": [
       "\n",
       "        <table>\n",
       "            <tr>\n",
       "                <td><strong>Reaction identifier</strong></td><td>TYRtipp</td>\n",
       "            </tr><tr>\n",
       "                <td><strong>Name</strong></td><td>L-tyrosine transport out (periplasm)</td>\n",
       "            </tr><tr>\n",
       "                <td><strong>Memory address</strong></td>\n",
       "                <td>0x027ea4bfe748</td>\n",
       "            </tr><tr>\n",
       "                <td><strong>Stoichiometry</strong></td>\n",
       "                <td>\n",
       "                    <p style='text-align:right'>tyr__L_c --> tyr__L_p</p>\n",
       "                    <p style='text-align:right'>L-Tyrosine --> L-Tyrosine</p>\n",
       "                </td>\n",
       "            </tr><tr>\n",
       "                <td><strong>GPR</strong></td><td>b1473</td>\n",
       "            </tr><tr>\n",
       "                <td><strong>Lower bound</strong></td><td>0.0</td>\n",
       "            </tr><tr>\n",
       "                <td><strong>Upper bound</strong></td><td>1000.0</td>\n",
       "            </tr>\n",
       "        </table>\n",
       "        "
      ],
      "text/plain": [
       "<Reaction TYRtipp at 0x27ea4bfe748>"
      ]
     },
     "execution_count": 28,
     "metadata": {},
     "output_type": "execute_result"
    }
   ],
   "source": [
    "#xylA XYLT1\n",
    "print(model.reactions.get_by_id('XYLI1'))\n",
    "model.reactions.get_by_id('XYLI1').bounds=(0,0)\n",
    "#ushA UDPGPpp\n",
    "print(model.reactions.get_by_id('UDPGPpp'))\n",
    "model.reactions.get_by_id('UDPGPpp').bounds=(0,0)\n",
    "#tyrA PPND\n",
    "print(model.reactions.get_by_id('PPND'))\n",
    "# model.reactions.get_by_id('PPND').bounds=(0,0)\n",
    "print(model.reactions.get_by_id('CHORM'))\n",
    "# model.reactions.get_by_id('CHORM').bounds=(0,0)\n",
    "model.reactions.get_by_id('TYRTA').bounds=(0,1000)\n",
    "model.reactions.get_by_id('TYRPpp').bounds=(0,0)\n",
    "model.reactions.get_by_id('TYRtipp')"
   ]
  },
  {
   "cell_type": "code",
   "execution_count": 29,
   "metadata": {},
   "outputs": [],
   "source": [
    "Tyrosol_c=Metabolite('Tyrosol_c',\n",
    "                formula='C8H10O2',\n",
    "                name='Tyrosol',\n",
    "                compartment='c'\n",
    "                )\n",
    "Tyrosol_e=Metabolite('Tyrosol_e',\n",
    "                formula='C8H10O2',\n",
    "                name='Tyrosol',\n",
    "                compartment='e'\n",
    "                )"
   ]
  },
  {
   "cell_type": "code",
   "execution_count": 30,
   "metadata": {},
   "outputs": [
    {
     "data": {
      "text/html": [
       "\n",
       "        <table>\n",
       "            <tr>\n",
       "                <td><strong>Metabolite identifier</strong></td><td>phpyr_e</td>\n",
       "            </tr><tr>\n",
       "                <td><strong>Name</strong></td><td>Phenylpyruvate</td>\n",
       "            </tr><tr>\n",
       "                <td><strong>Memory address</strong></td>\n",
       "                <td>0x027e9d705f98</td>\n",
       "            </tr><tr>\n",
       "                <td><strong>Formula</strong></td><td>C9H7O3</td>\n",
       "            </tr><tr>\n",
       "                <td><strong>Compartment</strong></td><td>e</td>\n",
       "            </tr><tr>\n",
       "                <td><strong>In 0 reaction(s)</strong></td><td>\n",
       "                    </td>\n",
       "            </tr>\n",
       "        </table>"
      ],
      "text/plain": [
       "<Metabolite phpyr_e at 0x27e9d705f98>"
      ]
     },
     "execution_count": 30,
     "metadata": {},
     "output_type": "execute_result"
    }
   ],
   "source": [
    "phpyr_c=model.metabolites.get_by_id('phpyr_c')\n",
    "phpyr_e=deepcopy(phpyr_c)\n",
    "phpyr_e.compartment='e'\n",
    "phpyr_e.id='phpyr_e'\n",
    "phpyr_e"
   ]
  },
  {
   "cell_type": "code",
   "execution_count": 31,
   "metadata": {},
   "outputs": [],
   "source": [
    "EX_phpyr_e=Reaction(\"EX_phpyr_e\")\n",
    "EX_phpyr_e.name='phpyr_e exchange'\n",
    "EX_phpyr_e.subsystem='unknow'\n",
    "EX_phpyr_e.lower_bound=-1000\n",
    "EX_phpyr_e.upper_bound=1000\n",
    "EX_phpyr_e.add_metabolites({\n",
    "    phpyr_e:-1.0\n",
    "})\n",
    "phpyr_c2e=Reaction(\"phpyr_c2e\")\n",
    "phpyr_c2e.name='phpyr_c2e'\n",
    "phpyr_c2e.subsystem='unknow'\n",
    "phpyr_c2e.lower_bound=-1000\n",
    "phpyr_c2e.upper_bound=1000\n",
    "phpyr_c2e.add_metabolites({\n",
    "    phpyr_c:-1.0,\n",
    "    phpyr_e:1.0\n",
    "})\n",
    "model.add_reactions([EX_phpyr_e])\n",
    "model.add_reactions([phpyr_c2e])"
   ]
  },
  {
   "cell_type": "code",
   "execution_count": 32,
   "metadata": {},
   "outputs": [],
   "source": [
    "EX_Tyrosol_e=Reaction(\"EX_Tyrosol_e\")\n",
    "EX_Tyrosol_e.name='Tyrosol_e exchange'\n",
    "EX_Tyrosol_e.subsystem='unknow'\n",
    "EX_Tyrosol_e.lower_bound=-1000\n",
    "EX_Tyrosol_e.upper_bound=1000\n",
    "EX_Tyrosol_e.add_metabolites({\n",
    "    Tyrosol_e:-1.0\n",
    "})\n",
    "Tyrosol_c2e=Reaction(\"Tyrosol_c2e\")\n",
    "Tyrosol_c2e.name='Tyrosol_c2e'\n",
    "Tyrosol_c2e.subsystem='unknow'\n",
    "Tyrosol_c2e.lower_bound=-1000\n",
    "Tyrosol_c2e.upper_bound=1000\n",
    "Tyrosol_c2e.add_metabolites({\n",
    "    Tyrosol_c:-1.0,\n",
    "    Tyrosol_e:1.0\n",
    "})\n",
    "model.add_reactions([EX_Tyrosol_e])\n",
    "model.add_reactions([Tyrosol_c2e])"
   ]
  },
  {
   "cell_type": "code",
   "execution_count": 33,
   "metadata": {},
   "outputs": [],
   "source": [
    "Salid_c=Metabolite('Salid_c',\n",
    "                formula='C14H20O7',\n",
    "                name='Salidroside',\n",
    "                compartment='c'\n",
    "                )"
   ]
  },
  {
   "cell_type": "code",
   "execution_count": 34,
   "metadata": {},
   "outputs": [],
   "source": [
    "Salid_e=Metabolite('Salid_e',\n",
    "                formula='C14H20O7',\n",
    "                name='Salidroside',\n",
    "                compartment='e'\n",
    "                )"
   ]
  },
  {
   "cell_type": "code",
   "execution_count": 35,
   "metadata": {},
   "outputs": [],
   "source": [
    "EX_Salid_e=Reaction(\"EX_Salid_e\")\n",
    "EX_Salid_e.name='Salid_e exchange'\n",
    "EX_Salid_e.subsystem='unknow'\n",
    "EX_Salid_e.lower_bound=0\n",
    "EX_Salid_e.upper_bound=1000\n",
    "EX_Salid_e.add_metabolites({\n",
    "    Salid_e:-1.0\n",
    "})\n",
    "Salid_c2e=Reaction(\"Salid_c2e\")\n",
    "Salid_c2e.name='Salid_c2e'\n",
    "Salid_c2e.subsystem='unknow'\n",
    "Salid_c2e.lower_bound=-1000\n",
    "Salid_c2e.upper_bound=1000\n",
    "Salid_c2e.add_metabolites({\n",
    "    Salid_c:-1.0,\n",
    "    Salid_e:1.0\n",
    "})\n",
    "model.add_reactions([EX_Salid_e])\n",
    "model.add_reactions([Salid_c2e])"
   ]
  },
  {
   "cell_type": "code",
   "execution_count": 36,
   "metadata": {},
   "outputs": [
    {
     "data": {
      "text/html": [
       "\n",
       "        <table>\n",
       "            <tr>\n",
       "                <td><strong>Reaction identifier</strong></td><td>RXN_12370</td>\n",
       "            </tr><tr>\n",
       "                <td><strong>Name</strong></td><td>tyrosol UDP-glucosyltransferase</td>\n",
       "            </tr><tr>\n",
       "                <td><strong>Memory address</strong></td>\n",
       "                <td>0x027e9ecb1208</td>\n",
       "            </tr><tr>\n",
       "                <td><strong>Stoichiometry</strong></td>\n",
       "                <td>\n",
       "                    <p style='text-align:right'>Tyrosol_c + udpg_c --> Salid_c + h_c + udp_c</p>\n",
       "                    <p style='text-align:right'>Tyrosol + UDPglucose --> Salidroside + H+ + UDP C9H11N2O12P2</p>\n",
       "                </td>\n",
       "            </tr><tr>\n",
       "                <td><strong>GPR</strong></td><td></td>\n",
       "            </tr><tr>\n",
       "                <td><strong>Lower bound</strong></td><td>0</td>\n",
       "            </tr><tr>\n",
       "                <td><strong>Upper bound</strong></td><td>1000</td>\n",
       "            </tr>\n",
       "        </table>\n",
       "        "
      ],
      "text/plain": [
       "<Reaction RXN_12370 at 0x27e9ecb1208>"
      ]
     },
     "execution_count": 36,
     "metadata": {},
     "output_type": "execute_result"
    }
   ],
   "source": [
    "udp_c=model.metabolites.get_by_id('udp_c')\n",
    "udpg_c=model.metabolites.get_by_id('udpg_c')\n",
    "h_c=model.metabolites.get_by_id('h_c')\n",
    "RXN_12370=Reaction(\"RXN_12370\")\n",
    "RXN_12370.name='tyrosol UDP-glucosyltransferase'\n",
    "RXN_12370.subsystem='unknow'\n",
    "RXN_12370.lower_bound=0\n",
    "RXN_12370.upper_bound=1000\n",
    "RXN_12370.add_metabolites({\n",
    "    udpg_c:-1.0,\n",
    "    Tyrosol_c:-1.0,\n",
    "    h_c:1.0,\n",
    "    udp_c:1.0,\n",
    "    Salid_c:1.0\n",
    "})\n",
    "RXN_12370"
   ]
  },
  {
   "cell_type": "code",
   "execution_count": 37,
   "metadata": {},
   "outputs": [],
   "source": [
    "model.add_reactions([RXN_12370])"
   ]
  },
  {
   "cell_type": "code",
   "execution_count": 38,
   "metadata": {},
   "outputs": [],
   "source": [
    "model.reactions.get_by_id('EX_glc__D_e').bounds=(-10,1000)\n",
    "model.reactions.get_by_id('EX_xyl__D_e').bounds=(0,1000)"
   ]
  },
  {
   "cell_type": "code",
   "execution_count": 39,
   "metadata": {},
   "outputs": [],
   "source": [
    "model.reactions.get_by_id('EX_tyr__L_e').bounds=(-1000,1000)"
   ]
  },
  {
   "cell_type": "code",
   "execution_count": 40,
   "metadata": {},
   "outputs": [
    {
     "name": "stdout",
     "output_type": "stream",
     "text": [
      "IN FLUXES             OUT FLUXES      OBJECTIVES\n",
      "--------------------  --------------  ----------------\n",
      "glc__D_e   10         h2o_e    22.2   DM_Salid_c  6.64\n",
      "o2_e        8.38      co2_e     8.99\n",
      "Tyrosol_e   6.64      h_e       1.71\n",
      "nh4_e       1.07      phpyr_e   0.8\n",
      "pi_e        0.0965\n",
      "so4_e       0.0252\n",
      "k_e         0.0195\n",
      "tyr__L_e    0.0138\n",
      "fe2_e       0.00161\n",
      "mg2_e       0.000868\n",
      "ca2_e       0.000521\n",
      "cl_e        0.000521\n",
      "cu2_e       7.09e-05\n",
      "mn2_e       6.91e-05\n",
      "zn2_e       3.41e-05\n",
      "ni2_e       3.23e-05\n"
     ]
    }
   ],
   "source": [
    "with model as model_test:\n",
    "    product2 = model_test.metabolites.get_by_id('Salid_c')\n",
    "    demand2= model_test.add_boundary(product2, type='demand')  # add demand reaction as the objective\n",
    "    model_test.objective = demand2\n",
    "    model_test.reactions.BIOMASS_Ec_iML1515_core_75p37M.bounds=(0.1,1000)\n",
    "    model_test.reactions.EX_phpyr_e.bounds=(0.8,1000)\n",
    "    model_test.optimize()\n",
    "    model_test.summary()"
   ]
  },
  {
   "cell_type": "code",
   "execution_count": 41,
   "metadata": {},
   "outputs": [
    {
     "name": "stdout",
     "output_type": "stream",
     "text": [
      "IN FLUXES            OUT FLUXES    OBJECTIVES\n",
      "-------------------  ------------  ----------------------\n",
      "o2_e      23.3       h2o_e  47.8   BIOMASS_Ec_i...  0.915\n",
      "glc__D_e  10         co2_e  25.1\n",
      "nh4_e      9.75      h_e     8.11\n",
      "pi_e       0.882\n",
      "so4_e      0.23\n",
      "k_e        0.179\n",
      "phpyr_e    0.169\n",
      "tyr__L_e   0.126\n",
      "fe2_e      0.0147\n",
      "mg2_e      0.00794\n",
      "cl_e       0.00476\n",
      "ca2_e      0.00476\n",
      "cu2_e      0.000649\n",
      "mn2_e      0.000632\n",
      "zn2_e      0.000312\n",
      "ni2_e      0.000295\n"
     ]
    }
   ],
   "source": [
    "model.optimize()\n",
    "model.summary()"
   ]
  },
  {
   "cell_type": "code",
   "execution_count": 42,
   "metadata": {},
   "outputs": [
    {
     "name": "stdout",
     "output_type": "stream",
     "text": [
      "./new_idea_AGGD/model/iML1515_GD.xlsx\n"
     ]
    }
   ],
   "source": [
    "save_json_model(model,model_new2)\n",
    "write_sbml_model(model,model_new2.split('.json')[0]+'.xml')\n",
    "sbml_excel(model_new2.split('.json')[0]+'.xml',model_new2.split('.json')[0]+'.xlsx')"
   ]
  },
  {
   "cell_type": "markdown",
   "metadata": {},
   "source": [
    "### Model Correction"
   ]
  },
  {
   "cell_type": "markdown",
   "metadata": {},
   "source": [
    "SKMs Construction"
   ]
  },
  {
   "cell_type": "code",
   "execution_count": 43,
   "metadata": {},
   "outputs": [],
   "source": [
    "model_a_name=model_new\n",
    "model_b_name=model_new2"
   ]
  },
  {
   "cell_type": "code",
   "execution_count": 44,
   "metadata": {},
   "outputs": [],
   "source": [
    "model_a=load_json_model(model_a_name)\n",
    "model_b=load_json_model(model_b_name)"
   ]
  },
  {
   "cell_type": "code",
   "execution_count": 45,
   "metadata": {},
   "outputs": [],
   "source": [
    "model_a.reactions.get_by_id('EX_glc__D_e').bounds=(0,1000)\n",
    "model_a.reactions.get_by_id('EX_xyl__D_e').bounds=(-10,1000)\n",
    "model_a.reactions.get_by_id('EX_phpyr_e').bounds=(-1000,0)\n",
    "model_b.reactions.get_by_id('EX_Tyrosol_e').bounds=(-1000,0)\n",
    "model_b.reactions.get_by_id('EX_tyr__L_e').bounds=(-1000,0)\n",
    "model_b.reactions.get_by_id('EX_xyl__D_e').bounds=(0,1000)\n",
    "model_b.reactions.get_by_id('EX_glc__D_e').bounds=(-10,1000)"
   ]
  },
  {
   "cell_type": "code",
   "execution_count": 46,
   "metadata": {},
   "outputs": [
    {
     "name": "stdout",
     "output_type": "stream",
     "text": [
      "--------A  model----------\n",
      "2719\n",
      "1881\n",
      "1516\n",
      "--------B  model----------\n",
      "2720\n",
      "1882\n",
      "1516\n"
     ]
    }
   ],
   "source": [
    "print(\"--------A  model----------\")\n",
    "print(len(model_a.reactions))\n",
    "print(len(model_a.metabolites))\n",
    "print(len(model_a.genes) )\n",
    "print(\"--------B  model----------\")\n",
    "print(len(model_b.reactions))\n",
    "print(len(model_b.metabolites))\n",
    "print(len(model_b.genes) )"
   ]
  },
  {
   "cell_type": "code",
   "execution_count": 47,
   "metadata": {},
   "outputs": [],
   "source": [
    "model=deepcopy(model_a)\n",
    "for i in model.reactions:\n",
    "    i.id='A_'+i.id\n",
    "for i in model.metabolites:\n",
    "    i.id='A_'+i.id\n",
    "    i.name='A_'+i.name\n",
    "model_t=deepcopy(model_b)\n",
    "# for i in model_t.genes:\n",
    "#     i.id=i.id+'_B'\n",
    "for i in model_t.reactions:\n",
    "    i.id='B_'+i.id\n",
    "for i in model_t.metabolites:\n",
    "    i.id='B_'+i.id\n",
    "    i.name='B_'+i.name"
   ]
  },
  {
   "cell_type": "code",
   "execution_count": 48,
   "metadata": {},
   "outputs": [],
   "source": [
    "for i in model_t.reactions:\n",
    "    model.add_reaction(i)"
   ]
  },
  {
   "cell_type": "code",
   "execution_count": 49,
   "metadata": {},
   "outputs": [],
   "source": [
    "e_meta_rn={}\n",
    "for meta in model_a.metabolites:\n",
    "    if meta.compartment=='e' :\n",
    "        meta_a=model.metabolites.get_by_id('A_'+meta.id)\n",
    "        e_meta_rn[meta.id+\"_1\"]=Reaction('A_'+meta.id+'_con_1')\n",
    "        e_meta_rn[meta.id+\"_1\"].name = meta.id+' Connection 1'\n",
    "        e_meta_rn[meta.id+\"_1\"].subsystem = 'unKnow'\n",
    "        e_meta_rn[meta.id+\"_1\"].lower_bound = 0. # This is the default\n",
    "        e_meta_rn[meta.id+\"_1\"].upper_bound = 1000. # This is the default\n",
    "        e_meta_rn[meta.id+\"_1\"].add_metabolites({\n",
    "            meta_a:-1.0,\n",
    "            meta:1.0\n",
    "            })\n",
    "        model.add_reactions([e_meta_rn[meta.id+\"_1\"]])\n",
    "for meta in model_b.metabolites:\n",
    "    if meta.compartment=='e' :\n",
    "        meta_b=model_t.metabolites.get_by_id('B_'+meta.id)\n",
    "        e_meta_rn[meta.id+\"_2\"]=Reaction('B_'+meta.id+'_con_2')\n",
    "        e_meta_rn[meta.id+\"_2\"].name = meta.id+' Connection 2'\n",
    "        e_meta_rn[meta.id+\"_2\"].subsystem = 'unKnow'\n",
    "        e_meta_rn[meta.id+\"_2\"].lower_bound = -1000. # This is the default\n",
    "        e_meta_rn[meta.id+\"_2\"].upper_bound = 0. # This is the default\n",
    "        e_meta_rn[meta.id+\"_2\"].add_metabolites({\n",
    "            meta_b:1.0,\n",
    "            meta:-1.0\n",
    "            })\n",
    "        model.add_reactions([e_meta_rn[meta.id+\"_2\"]])"
   ]
  },
  {
   "cell_type": "code",
   "execution_count": 50,
   "metadata": {},
   "outputs": [
    {
     "data": {
      "text/plain": [
       "{'EX_pi_e': 1000.0,\n",
       " 'EX_h_e': 1000.0,\n",
       " 'EX_fe3_e': 1000.0,\n",
       " 'EX_mn2_e': 1000.0,\n",
       " 'EX_co2_e': 1000.0,\n",
       " 'EX_fe2_e': 1000.0,\n",
       " 'EX_glc__D_e': 10.0,\n",
       " 'EX_xyl__D_e': 10.0,\n",
       " 'EX_zn2_e': 1000.0,\n",
       " 'EX_mg2_e': 1000.0,\n",
       " 'EX_ca2_e': 1000.0,\n",
       " 'EX_ni2_e': 1000.0,\n",
       " 'EX_cu2_e': 1000.0,\n",
       " 'EX_cobalt2_e': 1000.0,\n",
       " 'EX_sel_e': 1000.0,\n",
       " 'EX_h2o_e': 1000.0,\n",
       " 'EX_nh4_e': 1000.0,\n",
       " 'EX_mobd_e': 1000.0,\n",
       " 'EX_so4_e': 1000.0,\n",
       " 'EX_k_e': 1000.0,\n",
       " 'EX_na1_e': 1000.0,\n",
       " 'EX_o2_e': 1000.0,\n",
       " 'EX_cl_e': 1000.0,\n",
       " 'EX_tungs_e': 1000.0,\n",
       " 'EX_slnt_e': 1000.0}"
      ]
     },
     "execution_count": 50,
     "metadata": {},
     "output_type": "execute_result"
    }
   ],
   "source": [
    "origin_model=cobra.io.load_json_model(model_origin_name)\n",
    "origin_model.reactions.get_by_id('EX_xyl__D_e').bounds=(-10.0,1000)\n",
    "origin_model.medium"
   ]
  },
  {
   "cell_type": "code",
   "execution_count": 51,
   "metadata": {},
   "outputs": [
    {
     "data": {
      "text/plain": [
       "{'A_EX_pi_e': 1000.0,\n",
       " 'A_EX_h_e': 1000.0,\n",
       " 'A_EX_fe3_e': 1000.0,\n",
       " 'A_EX_mn2_e': 1000.0,\n",
       " 'A_EX_co2_e': 1000.0,\n",
       " 'A_EX_fe2_e': 1000.0,\n",
       " 'A_EX_xyl__D_e': 10,\n",
       " 'A_EX_zn2_e': 1000.0,\n",
       " 'A_EX_mg2_e': 1000.0,\n",
       " 'A_EX_ca2_e': 1000.0,\n",
       " 'A_EX_ni2_e': 1000.0,\n",
       " 'A_EX_cu2_e': 1000.0,\n",
       " 'A_EX_cobalt2_e': 1000.0,\n",
       " 'A_EX_sel_e': 1000.0,\n",
       " 'A_EX_h2o_e': 1000.0,\n",
       " 'A_EX_nh4_e': 1000.0,\n",
       " 'A_EX_mobd_e': 1000.0,\n",
       " 'A_EX_so4_e': 1000.0,\n",
       " 'A_EX_k_e': 1000.0,\n",
       " 'A_EX_na1_e': 1000.0,\n",
       " 'A_EX_o2_e': 1000.0,\n",
       " 'A_EX_cl_e': 1000.0,\n",
       " 'A_EX_tungs_e': 1000.0,\n",
       " 'A_EX_slnt_e': 1000.0,\n",
       " 'A_EX_phpyr_e': 1000,\n",
       " 'B_EX_pi_e': 1000.0,\n",
       " 'B_EX_h_e': 1000.0,\n",
       " 'B_EX_fe3_e': 1000.0,\n",
       " 'B_EX_mn2_e': 1000.0,\n",
       " 'B_EX_co2_e': 1000.0,\n",
       " 'B_EX_tyr__L_e': 1000,\n",
       " 'B_EX_fe2_e': 1000.0,\n",
       " 'B_EX_glc__D_e': 10,\n",
       " 'B_EX_zn2_e': 1000.0,\n",
       " 'B_EX_mg2_e': 1000.0,\n",
       " 'B_EX_ca2_e': 1000.0,\n",
       " 'B_EX_ni2_e': 1000.0,\n",
       " 'B_EX_cu2_e': 1000.0,\n",
       " 'B_EX_cobalt2_e': 1000.0,\n",
       " 'B_EX_sel_e': 1000.0,\n",
       " 'B_EX_h2o_e': 1000.0,\n",
       " 'B_EX_nh4_e': 1000.0,\n",
       " 'B_EX_mobd_e': 1000.0,\n",
       " 'B_EX_so4_e': 1000.0,\n",
       " 'B_EX_k_e': 1000.0,\n",
       " 'B_EX_na1_e': 1000.0,\n",
       " 'B_EX_o2_e': 1000.0,\n",
       " 'B_EX_cl_e': 1000.0,\n",
       " 'B_EX_tungs_e': 1000.0,\n",
       " 'B_EX_slnt_e': 1000.0,\n",
       " 'B_EX_phpyr_e': 1000,\n",
       " 'B_EX_Tyrosol_e': 1000,\n",
       " 'EX_pi_e': 1000.0,\n",
       " 'EX_h_e': 1000.0,\n",
       " 'EX_fe3_e': 1000.0,\n",
       " 'EX_mn2_e': 1000.0,\n",
       " 'EX_co2_e': 1000.0,\n",
       " 'EX_fe2_e': 1000.0,\n",
       " 'EX_glc__D_e': 10.0,\n",
       " 'EX_xyl__D_e': 10.0,\n",
       " 'EX_zn2_e': 1000.0,\n",
       " 'EX_mg2_e': 1000.0,\n",
       " 'EX_ca2_e': 1000.0,\n",
       " 'EX_ni2_e': 1000.0,\n",
       " 'EX_cu2_e': 1000.0,\n",
       " 'EX_cobalt2_e': 1000.0,\n",
       " 'EX_sel_e': 1000.0,\n",
       " 'EX_h2o_e': 1000.0,\n",
       " 'EX_nh4_e': 1000.0,\n",
       " 'EX_mobd_e': 1000.0,\n",
       " 'EX_so4_e': 1000.0,\n",
       " 'EX_k_e': 1000.0,\n",
       " 'EX_na1_e': 1000.0,\n",
       " 'EX_o2_e': 1000.0,\n",
       " 'EX_cl_e': 1000.0,\n",
       " 'EX_tungs_e': 1000.0,\n",
       " 'EX_slnt_e': 1000.0}"
      ]
     },
     "execution_count": 51,
     "metadata": {},
     "output_type": "execute_result"
    }
   ],
   "source": [
    "for i in origin_model.medium:\n",
    "    model.add_reaction(origin_model.reactions.get_by_id(i))\n",
    "    ex_meta=i.split('EX_')[1]\n",
    "    model.reactions.get_by_id('A_'+ex_meta+'_con_1').bounds=(-1000,1000)\n",
    "    model.reactions.get_by_id('B_'+ex_meta+'_con_2').bounds=(-1000,1000)\n",
    "model.medium"
   ]
  },
  {
   "cell_type": "code",
   "execution_count": 52,
   "metadata": {},
   "outputs": [
    {
     "data": {
      "text/plain": [
       "{'EX_pi_e': 1000.0,\n",
       " 'EX_h_e': 1000.0,\n",
       " 'EX_fe3_e': 1000.0,\n",
       " 'EX_mn2_e': 1000.0,\n",
       " 'EX_co2_e': 1000.0,\n",
       " 'EX_fe2_e': 1000.0,\n",
       " 'EX_glc__D_e': 10.0,\n",
       " 'EX_xyl__D_e': 10.0,\n",
       " 'EX_zn2_e': 1000.0,\n",
       " 'EX_mg2_e': 1000.0,\n",
       " 'EX_ca2_e': 1000.0,\n",
       " 'EX_ni2_e': 1000.0,\n",
       " 'EX_cu2_e': 1000.0,\n",
       " 'EX_cobalt2_e': 1000.0,\n",
       " 'EX_sel_e': 1000.0,\n",
       " 'EX_h2o_e': 1000.0,\n",
       " 'EX_nh4_e': 1000.0,\n",
       " 'EX_mobd_e': 1000.0,\n",
       " 'EX_so4_e': 1000.0,\n",
       " 'EX_k_e': 1000.0,\n",
       " 'EX_na1_e': 1000.0,\n",
       " 'EX_o2_e': 1000.0,\n",
       " 'EX_cl_e': 1000.0,\n",
       " 'EX_tungs_e': 1000.0,\n",
       " 'EX_slnt_e': 1000.0}"
      ]
     },
     "execution_count": 52,
     "metadata": {},
     "output_type": "execute_result"
    }
   ],
   "source": [
    "for i in model.medium:\n",
    "    h=i.split('_')[0]\n",
    "    if h=='A' or h=='B':\n",
    "        model.reactions.get_by_id(i).bounds=(0,0)\n",
    "model.medium"
   ]
  },
  {
   "cell_type": "code",
   "execution_count": 53,
   "metadata": {},
   "outputs": [],
   "source": [
    "model.add_reaction(model_b.reactions.EX_Salid_e)"
   ]
  },
  {
   "cell_type": "code",
   "execution_count": 54,
   "metadata": {},
   "outputs": [],
   "source": [
    "model.add_reaction(model_b.reactions.EX_tyr__L_e)\n",
    "model.add_reaction(model_b.reactions.EX_phpyr_e)"
   ]
  },
  {
   "cell_type": "code",
   "execution_count": 55,
   "metadata": {},
   "outputs": [
    {
     "data": {
      "text/html": [
       "\n",
       "        <table>\n",
       "            <tr>\n",
       "                <td><strong>Reaction identifier</strong></td><td>EX_tyr__L_e</td>\n",
       "            </tr><tr>\n",
       "                <td><strong>Name</strong></td><td>L-Tyrosine exchange</td>\n",
       "            </tr><tr>\n",
       "                <td><strong>Memory address</strong></td>\n",
       "                <td>0x027e9d463978</td>\n",
       "            </tr><tr>\n",
       "                <td><strong>Stoichiometry</strong></td>\n",
       "                <td>\n",
       "                    <p style='text-align:right'>tyr__L_e <-- </p>\n",
       "                    <p style='text-align:right'>L-Tyrosine <-- </p>\n",
       "                </td>\n",
       "            </tr><tr>\n",
       "                <td><strong>GPR</strong></td><td></td>\n",
       "            </tr><tr>\n",
       "                <td><strong>Lower bound</strong></td><td>-1000</td>\n",
       "            </tr><tr>\n",
       "                <td><strong>Upper bound</strong></td><td>0</td>\n",
       "            </tr>\n",
       "        </table>\n",
       "        "
      ],
      "text/plain": [
       "<Reaction EX_tyr__L_e at 0x27e9d463978>"
      ]
     },
     "execution_count": 55,
     "metadata": {},
     "output_type": "execute_result"
    }
   ],
   "source": [
    "model_b.reactions.EX_tyr__L_e"
   ]
  },
  {
   "cell_type": "code",
   "execution_count": 56,
   "metadata": {},
   "outputs": [
    {
     "data": {
      "text/html": [
       "\n",
       "        <table>\n",
       "            <tr>\n",
       "                <td><strong>Reaction identifier</strong></td><td>EX_phpyr_e</td>\n",
       "            </tr><tr>\n",
       "                <td><strong>Name</strong></td><td>phpyr_e exchange</td>\n",
       "            </tr><tr>\n",
       "                <td><strong>Memory address</strong></td>\n",
       "                <td>0x027ea8fa91d0</td>\n",
       "            </tr><tr>\n",
       "                <td><strong>Stoichiometry</strong></td>\n",
       "                <td>\n",
       "                    <p style='text-align:right'>phpyr_e <=> </p>\n",
       "                    <p style='text-align:right'>Phenylpyruvate <=> </p>\n",
       "                </td>\n",
       "            </tr><tr>\n",
       "                <td><strong>GPR</strong></td><td></td>\n",
       "            </tr><tr>\n",
       "                <td><strong>Lower bound</strong></td><td>-1000</td>\n",
       "            </tr><tr>\n",
       "                <td><strong>Upper bound</strong></td><td>1000</td>\n",
       "            </tr>\n",
       "        </table>\n",
       "        "
      ],
      "text/plain": [
       "<Reaction EX_phpyr_e at 0x27ea8fa91d0>"
      ]
     },
     "execution_count": 56,
     "metadata": {},
     "output_type": "execute_result"
    }
   ],
   "source": [
    "model_b.reactions.EX_phpyr_e"
   ]
  },
  {
   "cell_type": "code",
   "execution_count": 57,
   "metadata": {},
   "outputs": [],
   "source": [
    "#Interaction constraints between sub-models\n",
    "model.reactions.get_by_id('B_Tyrosol_e_con_2').bounds=(0,1000)\n",
    "model.reactions.get_by_id('A_Tyrosol_e_con_1').bounds=(0,1000)\n",
    "model.reactions.get_by_id('B_tyr__L_e_con_2').bounds=(0,1000)\n",
    "model.reactions.get_by_id('A_tyr__L_e_con_1').bounds=(0,1000)\n",
    "model.reactions.get_by_id('B_phpyr_e_con_2').bounds=(-1000,0)\n",
    "model.reactions.get_by_id('A_phpyr_e_con_1').bounds=(-1000,0)"
   ]
  },
  {
   "cell_type": "code",
   "execution_count": 58,
   "metadata": {},
   "outputs": [],
   "source": [
    "#gene correction\n",
    "model.reactions.get_by_id('A_ACMANAptspp').bounds=(0,0)\n",
    "model.reactions.get_by_id('A_MANptspp').bounds=(0,0)\n",
    "model.reactions.get_by_id('A_FRUpts2pp').bounds=(0,0)\n",
    "model.reactions.get_by_id('A_GAMptspp').bounds=(0,0)\n",
    "model.reactions.get_by_id('A_2DGLCptspp').bounds=(0,0)\n",
    "#\n",
    "model.reactions.get_by_id('B_XYLI2').bounds=(0,0)\n",
    "model.reactions.get_by_id('A_HEX1').bounds=(0,0)"
   ]
  },
  {
   "cell_type": "code",
   "execution_count": 59,
   "metadata": {},
   "outputs": [
    {
     "name": "stdout",
     "output_type": "stream",
     "text": [
      "IN FLUXES       OUT FLUXES      OBJECTIVES\n",
      "--------------  --------------  ----------------\n",
      "o2_e      11.8  h2o_e    46.6   EX_Salid_e  6.34\n",
      "glc__D_e  10    co2_e    21.3\n",
      "xyl__D_e  10    Salid_e   6.34\n"
     ]
    }
   ],
   "source": [
    "model.objective=model.reactions.EX_Salid_e\n",
    "model.optimize()\n",
    "model.summary()"
   ]
  },
  {
   "cell_type": "code",
   "execution_count": 60,
   "metadata": {},
   "outputs": [],
   "source": [
    "model.reactions.A_BIOMASS_Ec_iML1515_core_75p37M.bounds=(0.1,1000)\n",
    "model.reactions.B_BIOMASS_Ec_iML1515_core_75p37M.bounds=(0.1,1000)"
   ]
  },
  {
   "cell_type": "code",
   "execution_count": 61,
   "metadata": {},
   "outputs": [],
   "source": [
    "model.reactions.B_phpyr_e_con_2.bounds=(-1000,1000)\n",
    "model.reactions.A_tyr__L_e_con_1.bounds=(-1000,1000)"
   ]
  },
  {
   "cell_type": "code",
   "execution_count": 62,
   "metadata": {},
   "outputs": [],
   "source": [
    "#AG GD excess synthesis\n",
    "model.reactions.B_EX_phpyr_e.bounds=(1,1000)\n",
    "model.reactions.A_EX_tyr__L_e.bounds=(1,1000)"
   ]
  },
  {
   "cell_type": "code",
   "execution_count": 63,
   "metadata": {},
   "outputs": [],
   "source": [
    "save_json_model(model,model_ab_json)"
   ]
  },
  {
   "cell_type": "markdown",
   "metadata": {},
   "source": [
    "# Simulation"
   ]
  },
  {
   "cell_type": "code",
   "execution_count": 64,
   "metadata": {},
   "outputs": [],
   "source": [
    "from CulECpyD_radio import *\n",
    "from concurrent.futures import ProcessPoolExecutor, as_completed\n",
    "import datetime\n",
    "import sys\n",
    "sys.path.append(r'./')"
   ]
  },
  {
   "cell_type": "code",
   "execution_count": 65,
   "metadata": {},
   "outputs": [],
   "source": [
    "model_file=model_ab_json\n",
    "# model_file='./iML1515_AGGD_change.json'\n",
    "reaction_kcat_MW_file='./new_idea_AGGD/EC/reaction_kcat_MW_AGGD_origin.csv'\n",
    "Concretemodel_Need_Data=Get_Concretemodel_Need_Data_json(model_file,reaction_kcat_MW_file,'Salid_c')\n",
    "Concretemodel_Need_Data['reaction_kcat_MW']=unpdate_kcat_mw(Concretemodel_Need_Data['reaction_list'],Concretemodel_Need_Data['reaction_kcat_MW'],'./new_idea_AGGD/EC/reaction_kcat_MW_AGGD.csv')"
   ]
  },
  {
   "cell_type": "code",
   "execution_count": 66,
   "metadata": {},
   "outputs": [],
   "source": [
    "list_x=[9,8,6,4]\n",
    "list_y=[3,4,6,8]"
   ]
  },
  {
   "cell_type": "code",
   "execution_count": 67,
   "metadata": {},
   "outputs": [
    {
     "name": "stdout",
     "output_type": "stream",
     "text": [
      "0:00:19.273466\n",
      "{<Future at 0x27eb2def0b8 state=finished returned float>: 0, <Future at 0x27eb31b5358 state=finished returned float>: 1, <Future at 0x27eb31b5400 state=finished returned float>: 2, <Future at 0x27eb31b5550 state=finished returned float>: 3}\n"
     ]
    }
   ],
   "source": [
    "if __name__ == \"__main__\":\n",
    "    pool=ProcessPoolExecutor(max_workers=8)\n",
    "    with pool as executor:\n",
    "        start = datetime.datetime.now()\n",
    "        #print(\"pass_2\")\n",
    "        tmp=[]\n",
    "        futures = {executor.submit(diff_subs_double_iML,Concretemodel_Need_Data,(list_x[i],list_y[i]),{'EX_glc__D_e_reverse':93,'EX_xyl__D_e_reverse':27},'EX_Salid_e'): i for i in range(0,len(list_x))}\n",
    "        # for future in as_completed(futures):\n",
    "        #     tmp.append(future.result())\n",
    "    end = datetime.datetime.now()\n",
    "    print (end - start)\n",
    "    print(futures)"
   ]
  },
  {
   "cell_type": "code",
   "execution_count": 68,
   "metadata": {},
   "outputs": [
    {
     "name": "stdout",
     "output_type": "stream",
     "text": [
      "A:B=8:4\n",
      "4.444602875792043\n",
      "A:B=4:8\n",
      "1.4262606225920536\n",
      "A:B=9:3\n",
      "3.969417828304586\n",
      "A:B=6:6\n",
      "3.1946479559449017\n"
     ]
    },
    {
     "data": {
      "text/html": [
       "<div>\n",
       "<style scoped>\n",
       "    .dataframe tbody tr th:only-of-type {\n",
       "        vertical-align: middle;\n",
       "    }\n",
       "\n",
       "    .dataframe tbody tr th {\n",
       "        vertical-align: top;\n",
       "    }\n",
       "\n",
       "    .dataframe thead th {\n",
       "        text-align: right;\n",
       "    }\n",
       "</style>\n",
       "<table border=\"1\" class=\"dataframe\">\n",
       "  <thead>\n",
       "    <tr style=\"text-align: right;\">\n",
       "      <th></th>\n",
       "      <th>flux</th>\n",
       "    </tr>\n",
       "  </thead>\n",
       "  <tbody>\n",
       "    <tr>\n",
       "      <th>9:3</th>\n",
       "      <td>3.969418</td>\n",
       "    </tr>\n",
       "    <tr>\n",
       "      <th>8:4</th>\n",
       "      <td>4.444603</td>\n",
       "    </tr>\n",
       "    <tr>\n",
       "      <th>6:6</th>\n",
       "      <td>3.194648</td>\n",
       "    </tr>\n",
       "    <tr>\n",
       "      <th>4:8</th>\n",
       "      <td>1.426261</td>\n",
       "    </tr>\n",
       "  </tbody>\n",
       "</table>\n",
       "</div>"
      ],
      "text/plain": [
       "         flux\n",
       "9:3  3.969418\n",
       "8:4  4.444603\n",
       "6:6  3.194648\n",
       "4:8  1.426261"
      ]
     },
     "execution_count": 68,
     "metadata": {},
     "output_type": "execute_result"
    }
   ],
   "source": [
    "result_list_mass=pd.DataFrame()\n",
    "for future in as_completed(futures):\n",
    "    x=list_x[futures[future]]\n",
    "    y=list_y[futures[future]]\n",
    "    real=1\n",
    "    real_x=int(x*real)\n",
    "    real_y=int(y*real)\n",
    "    print('A:B='+str(real_x)+':'+str(real_y))\n",
    "    print(future.result())\n",
    "    result_list_mass.at[str(real_x)+':'+str(real_y),'flux']=future.result()\n",
    "result_list=pd.DataFrame()\n",
    "for i in range(0,len(list_x)):\n",
    "    real=1\n",
    "    real_x=int(list_x[i]*real)\n",
    "    real_y=int(list_y[i]*real)\n",
    "    result_list.at[str(real_x)+':'+str(real_y),'flux']=result_list_mass.at[str(real_x)+':'+str(real_y),'flux']\n",
    "result_list"
   ]
  }
 ],
 "metadata": {
  "kernelspec": {
   "display_name": "Python 3.6.5 ('xby')",
   "language": "python",
   "name": "python3"
  },
  "language_info": {
   "codemirror_mode": {
    "name": "ipython",
    "version": 3
   },
   "file_extension": ".py",
   "mimetype": "text/x-python",
   "name": "python",
   "nbconvert_exporter": "python",
   "pygments_lexer": "ipython3",
   "version": "3.6.5"
  },
  "orig_nbformat": 4,
  "vscode": {
   "interpreter": {
    "hash": "678f2c0cb67aa00dbc6da583138b0769cb8531f72b670a012e2187460f06e842"
   }
  }
 },
 "nbformat": 4,
 "nbformat_minor": 2
}
