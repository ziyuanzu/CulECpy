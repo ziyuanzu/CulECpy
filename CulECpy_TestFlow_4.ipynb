{
 "cells": [
  {
   "cell_type": "code",
   "execution_count": 13,
   "metadata": {},
   "outputs": [],
   "source": [
    "import cobra\n",
    "import re\n",
    "from cobra import Model, Reaction, Metabolite\n",
    "from cobra.flux_analysis import pfba\n",
    "import pandas as pd\n",
    "import numpy as np\n",
    "import xlrd\n",
    "import re\n",
    "import openpyxl\n",
    "from metnet import pathway \n",
    "import sys\n",
    "sys.path.append(r'./')\n",
    "from COBRApy_ECM_funcation import *\n",
    "from metnet import sbml_excel\n",
    "import os\n",
    "from copy import copy, deepcopy\n",
    "import numpy as np\n",
    "from cobra.io import write_sbml_model,save_json_model\n",
    "from ec_code.cobrapy_ec_model_function import convert_to_irreversible,isoenzyme_split"
   ]
  },
  {
   "cell_type": "code",
   "execution_count": 14,
   "metadata": {},
   "outputs": [],
   "source": [
    "from cobra.io import write_sbml_model,save_json_model,load_json_model,read_sbml_model"
   ]
  },
  {
   "cell_type": "code",
   "execution_count": 17,
   "metadata": {},
   "outputs": [],
   "source": [
    "model_origin_name='./new_idea_MVA_MEP/model/iML1515_new.json'\n",
    "model_new='./new_idea_MVA_MEP/model/iML1515_MVA.json'\n",
    "model_new2='./new_idea_MVA_MEP/model/iML1515_MEP.json'\n",
    "model_ab_json='./new_idea_MVA_MEP/model/iML1515_MVA_MEP.json'"
   ]
  },
  {
   "cell_type": "markdown",
   "metadata": {},
   "source": [
    "## model_info"
   ]
  },
  {
   "cell_type": "markdown",
   "metadata": {},
   "source": [
    "### A"
   ]
  },
  {
   "cell_type": "code",
   "execution_count": null,
   "metadata": {},
   "outputs": [],
   "source": [
    "model = cobra.io.load_json_model(model_origin_name)"
   ]
  },
  {
   "cell_type": "code",
   "execution_count": null,
   "metadata": {},
   "outputs": [],
   "source": [
    "model.medium"
   ]
  },
  {
   "cell_type": "code",
   "execution_count": null,
   "metadata": {},
   "outputs": [],
   "source": [
    "model.reactions.get_by_id('EX_glc__D_e').bounds=(-10,1000)"
   ]
  },
  {
   "cell_type": "code",
   "execution_count": null,
   "metadata": {},
   "outputs": [],
   "source": [
    "h2o_c=model.metabolites.get_by_id('h2o_c')\n",
    "accoa_c=model.metabolites.get_by_id('accoa_c')\n",
    "aacoa_c=model.metabolites.get_by_id('aacoa_c')\n",
    "coa_c=model.metabolites.get_by_id('coa_c')\n",
    "h_c=model.metabolites.get_by_id('h_c')\n",
    "nadph_c=model.metabolites.get_by_id('nadph_c')\n",
    "nadp_c=model.metabolites.get_by_id('nadp_c')\n",
    "atp_c=model.metabolites.get_by_id('atp_c')\n",
    "adp_c=model.metabolites.get_by_id('adp_c')"
   ]
  },
  {
   "cell_type": "code",
   "execution_count": null,
   "metadata": {},
   "outputs": [],
   "source": [
    "HMG_CoA_c=Metabolite('HMG_CoA_c',\n",
    "                formula='C27H39N7O20P3S',\n",
    "                name='(S)-3-hydroxy-3-methylglutaryl-CoA',\n",
    "                compartment='c'\n",
    "                )"
   ]
  },
  {
   "cell_type": "code",
   "execution_count": null,
   "metadata": {},
   "outputs": [],
   "source": [
    "mevR_c=Metabolite('mevR_c',\n",
    "                formula='C6H11O4',\n",
    "                name='(R)-mevalonate',\n",
    "                compartment='c'\n",
    "                )\n",
    "mevR_e=Metabolite('mevR_e',\n",
    "                formula='C6H11O4',\n",
    "                name='(R)-mevalonate',\n",
    "                compartment='e'\n",
    "                )"
   ]
  },
  {
   "cell_type": "code",
   "execution_count": null,
   "metadata": {},
   "outputs": [],
   "source": [
    "coa_c"
   ]
  },
  {
   "cell_type": "code",
   "execution_count": null,
   "metadata": {},
   "outputs": [],
   "source": [
    "mvaS=Reaction(\"mvaS\")\n",
    "mvaS.name='hydroxymethylglutaryl-CoA synthase'\n",
    "mvaS.subsystem='unknow'\n",
    "mvaS.lower_bound=-1000\n",
    "mvaS.upper_bound=1000\n",
    "mvaS.add_metabolites({\n",
    "    accoa_c:-1.0,\n",
    "    h2o_c:-1.0,\n",
    "    aacoa_c:-1.0,\n",
    "    HMG_CoA_c:1.0,\n",
    "    coa_c:1.0,\n",
    "    h_c:1.0\n",
    "})\n",
    "model.add_reactions([mvaS])"
   ]
  },
  {
   "cell_type": "code",
   "execution_count": null,
   "metadata": {},
   "outputs": [],
   "source": [
    "mvaE=Reaction(\"mvaE\")\n",
    "mvaE.name='acetyl-CoA acetyltransferase/HMG-CoA reductase'\n",
    "mvaE.subsystem='unknow'\n",
    "mvaE.lower_bound=-1000\n",
    "mvaE.upper_bound=1000\n",
    "mvaE.add_metabolites({\n",
    "    HMG_CoA_c:-1.0,\n",
    "    nadph_c:-2.0,\n",
    "    h_c:-2.0,\n",
    "    nadp_c:2.0,\n",
    "    coa_c:1.0,\n",
    "    mevR_c:1.0\n",
    "})\n",
    "model.add_reactions([mvaE])"
   ]
  },
  {
   "cell_type": "code",
   "execution_count": null,
   "metadata": {},
   "outputs": [],
   "source": [
    "EX_mevR_e=Reaction(\"EX_mevR_e\")\n",
    "EX_mevR_e.name='(R)-mevalonate exchange'\n",
    "EX_mevR_e.subsystem='unknow'\n",
    "EX_mevR_e.lower_bound=0\n",
    "EX_mevR_e.upper_bound=1000\n",
    "EX_mevR_e.add_metabolites({\n",
    "    mevR_e:-1.0\n",
    "})\n",
    "mevR_c2e=Reaction(\"mevR_c2e\")\n",
    "mevR_c2e.name='(R)-mevalonate c2e'\n",
    "mevR_c2e.subsystem='unknow'\n",
    "mevR_c2e.lower_bound=-1000\n",
    "mevR_c2e.upper_bound=1000\n",
    "mevR_c2e.add_metabolites({\n",
    "    mevR_c:-1.0,\n",
    "    mevR_e:1.0\n",
    "})\n",
    "model.add_reactions([EX_mevR_e])\n",
    "model.add_reactions([mevR_c2e])"
   ]
  },
  {
   "cell_type": "code",
   "execution_count": null,
   "metadata": {},
   "outputs": [],
   "source": [
    "model.reactions.BIOMASS_Ec_iML1515_core_75p37M.bounds=(0.1,1000)"
   ]
  },
  {
   "cell_type": "code",
   "execution_count": null,
   "metadata": {},
   "outputs": [],
   "source": [
    "# mev5p_c=Metabolite('mev5p_c',\n",
    "#                 formula='C6H10O7P',\n",
    "#                 name='(R)-5-phosphomevalonate,mevalonate-P',\n",
    "#                 compartment='c'\n",
    "#                 )\n",
    "# mev5pp_c=Metabolite('mev5pp_c',\n",
    "#                 formula='C6H10O10P2',\n",
    "#                 name='(R)-mevalonate diphosphate,mevalonate-5-PP',\n",
    "#                 compartment='c'\n",
    "#                 )\n",
    "# ERG12=Reaction(\"ERG12\")\n",
    "# ERG12.name='mevalonate kinase'\n",
    "# ERG12.subsystem='unknow'\n",
    "# ERG12.lower_bound=-1000\n",
    "# ERG12.upper_bound=1000\n",
    "# ERG12.add_metabolites({\n",
    "#     atp_c:-1.0,\n",
    "#     mevR_c:-1.0,\n",
    "#     mev5p_c:1.0,\n",
    "#     h_c:1.0,\n",
    "#     adp_c:1.0\n",
    "# })\n",
    "# model.add_reactions([ERG12])\n",
    "# ERG8=Reaction(\"ERG8\")\n",
    "# ERG8.name='phosphomevalonate kinase'\n",
    "# ERG8.subsystem='unknow'\n",
    "# ERG8.lower_bound=-1000\n",
    "# ERG8.upper_bound=1000\n",
    "# ERG8.add_metabolites({\n",
    "#     mev5p_c:-1.0,\n",
    "#     atp_c:-1.0,\n",
    "#     mev5pp_c:1.0,\n",
    "#     adp_c:1.0\n",
    "# })\n",
    "# model.add_reactions([ERG8])\n",
    "# ipdp_c=model.metabolites.get_by_id('ipdp_c')\n",
    "# pi_c=model.metabolites.get_by_id('pi_c')\n",
    "# co2_c=model.metabolites.get_by_id('co2_c')\n",
    "# MVD1=Reaction(\"MVD1\")\n",
    "# MVD1.name='phosphomevalonate kinase'\n",
    "# MVD1.subsystem='unknow'\n",
    "# MVD1.lower_bound=0\n",
    "# MVD1.upper_bound=1000\n",
    "# MVD1.add_metabolites({\n",
    "#     mev5pp_c:-1.0,\n",
    "#     atp_c:-1.0,\n",
    "#     co2_c:1.0,\n",
    "#     adp_c:1.0,\n",
    "#     ipdp_c:1.0,\n",
    "#     pi_c:1.0\n",
    "# })\n",
    "# model.add_reactions([MVD1])"
   ]
  },
  {
   "cell_type": "code",
   "execution_count": null,
   "metadata": {},
   "outputs": [],
   "source": [
    "model.objective=model.reactions.EX_mevR_e"
   ]
  },
  {
   "cell_type": "code",
   "execution_count": null,
   "metadata": {},
   "outputs": [],
   "source": [
    "model.optimize()\n",
    "model.summary()"
   ]
  },
  {
   "cell_type": "code",
   "execution_count": null,
   "metadata": {},
   "outputs": [],
   "source": [
    "save_json_model(model,model_new)\n",
    "write_sbml_model(model,model_new.split('.json')[0]+'.xml')\n",
    "sbml_excel(model_new.split('.json')[0]+'.xml',model_new2.split('.json')[0]+'.xlsx')"
   ]
  },
  {
   "cell_type": "markdown",
   "metadata": {},
   "source": [
    "### B"
   ]
  },
  {
   "cell_type": "code",
   "execution_count": null,
   "metadata": {},
   "outputs": [],
   "source": [
    "model = cobra.io.load_json_model(model_origin_name)\n",
    "model.medium"
   ]
  },
  {
   "cell_type": "code",
   "execution_count": null,
   "metadata": {},
   "outputs": [],
   "source": [
    "mevR_c=Metabolite('mevR_c',\n",
    "                formula='C6H11O4',\n",
    "                name='(R)-mevalonate',\n",
    "                compartment='c'\n",
    "                )\n",
    "mevR_e=Metabolite('mevR_e',\n",
    "                formula='C6H11O4',\n",
    "                name='(R)-mevalonate',\n",
    "                compartment='e'\n",
    "                )\n",
    "mev5p_c=Metabolite('mev5p_c',\n",
    "                formula='C6H10O7P',\n",
    "                name='(R)-5-phosphomevalonate,mevalonate-P',\n",
    "                compartment='c'\n",
    "                )\n",
    "mev5pp_c=Metabolite('mev5pp_c',\n",
    "                formula='C6H10O10P2',\n",
    "                name='(R)-mevalonate diphosphate,mevalonate-5-PP',\n",
    "                compartment='c'\n",
    "                )"
   ]
  },
  {
   "cell_type": "code",
   "execution_count": null,
   "metadata": {},
   "outputs": [],
   "source": [
    "EX_mevR_e=Reaction(\"EX_mevR_e\")\n",
    "EX_mevR_e.name='(R)-mevalonate exchange'\n",
    "EX_mevR_e.subsystem='unknow'\n",
    "EX_mevR_e.lower_bound=-1000\n",
    "EX_mevR_e.upper_bound=1000\n",
    "EX_mevR_e.add_metabolites({\n",
    "    mevR_e:-1.0\n",
    "})\n",
    "mevR_c2e=Reaction(\"mevR_c2e\")\n",
    "mevR_c2e.name='(R)-mevalonate c2e'\n",
    "mevR_c2e.subsystem='unknow'\n",
    "mevR_c2e.lower_bound=-1000\n",
    "mevR_c2e.upper_bound=1000\n",
    "mevR_c2e.add_metabolites({\n",
    "    mevR_c:-1.0,\n",
    "    mevR_e:1.0\n",
    "})\n",
    "model.add_reactions([EX_mevR_e])\n",
    "model.add_reactions([mevR_c2e])"
   ]
  },
  {
   "cell_type": "code",
   "execution_count": null,
   "metadata": {},
   "outputs": [],
   "source": [
    "ERG12=Reaction(\"ERG12\")\n",
    "ERG12.name='mevalonate kinase'\n",
    "ERG12.subsystem='unknow'\n",
    "ERG12.lower_bound=-1000\n",
    "ERG12.upper_bound=1000\n",
    "ERG12.add_metabolites({\n",
    "    atp_c:-1.0,\n",
    "    mevR_c:-1.0,\n",
    "    mev5p_c:1.0,\n",
    "    h_c:1.0,\n",
    "    adp_c:1.0\n",
    "})\n",
    "model.add_reactions([ERG12])"
   ]
  },
  {
   "cell_type": "code",
   "execution_count": null,
   "metadata": {},
   "outputs": [],
   "source": [
    "ERG8=Reaction(\"ERG8\")\n",
    "ERG8.name='phosphomevalonate kinase'\n",
    "ERG8.subsystem='unknow'\n",
    "ERG8.lower_bound=-1000\n",
    "ERG8.upper_bound=1000\n",
    "ERG8.add_metabolites({\n",
    "    mev5p_c:-1.0,\n",
    "    atp_c:-1.0,\n",
    "    mev5pp_c:1.0,\n",
    "    adp_c:1.0\n",
    "})\n",
    "model.add_reactions([ERG8])"
   ]
  },
  {
   "cell_type": "code",
   "execution_count": null,
   "metadata": {},
   "outputs": [],
   "source": [
    "ipdp_c=model.metabolites.get_by_id('ipdp_c')\n",
    "pi_c=model.metabolites.get_by_id('pi_c')\n",
    "co2_c=model.metabolites.get_by_id('co2_c')\n",
    "ppi_c=model.metabolites.get_by_id('ppi_c')"
   ]
  },
  {
   "cell_type": "code",
   "execution_count": null,
   "metadata": {},
   "outputs": [],
   "source": [
    "MVD1=Reaction(\"MVD1\")\n",
    "MVD1.name='phosphomevalonate kinase'\n",
    "MVD1.subsystem='unknow'\n",
    "MVD1.lower_bound=0\n",
    "MVD1.upper_bound=1000\n",
    "MVD1.add_metabolites({\n",
    "    mev5pp_c:-1.0,\n",
    "    atp_c:-1.0,\n",
    "    co2_c:1.0,\n",
    "    adp_c:1.0,\n",
    "    ipdp_c:1.0,\n",
    "    pi_c:1.0\n",
    "})\n",
    "model.add_reactions([MVD1])"
   ]
  },
  {
   "cell_type": "code",
   "execution_count": null,
   "metadata": {},
   "outputs": [],
   "source": [
    "ipdp_c"
   ]
  },
  {
   "cell_type": "code",
   "execution_count": null,
   "metadata": {},
   "outputs": [],
   "source": [
    "ipal_c=Metabolite('ipal_c',\n",
    "                formula='C5H10O',\n",
    "                name='isopentenyl alcohol/isoprenol',\n",
    "                compartment='c'\n",
    "                )\n",
    "ipal_e=Metabolite('ipal_e',\n",
    "                formula='C5H10O',\n",
    "                name='isopentenyl alcohol/isoprenol',\n",
    "                compartment='e'\n",
    "                )"
   ]
  },
  {
   "cell_type": "code",
   "execution_count": null,
   "metadata": {},
   "outputs": [],
   "source": [
    "Nudf=Reaction(\"Nudf\")\n",
    "Nudf.name='phosphatase'\n",
    "Nudf.subsystem='unknow'\n",
    "Nudf.lower_bound=0\n",
    "Nudf.upper_bound=1000\n",
    "Nudf.add_metabolites({\n",
    "    ipdp_c:-1.0,\n",
    "    h2o_c:-1.0,\n",
    "    ppi_c:1.0,\n",
    "    ipal_c:1.0,\n",
    "    h_c:1.0\n",
    "})\n",
    "model.add_reactions([Nudf])"
   ]
  },
  {
   "cell_type": "code",
   "execution_count": null,
   "metadata": {},
   "outputs": [],
   "source": [
    "EX_ipal_e=Reaction(\"EX_ipal_e\")\n",
    "EX_ipal_e.name='isoprenol exchange'\n",
    "EX_ipal_e.subsystem='unknow'\n",
    "EX_ipal_e.lower_bound=0\n",
    "EX_ipal_e.upper_bound=1000\n",
    "EX_ipal_e.add_metabolites({\n",
    "    ipal_e:-1.0\n",
    "})\n",
    "ipal_c2e=Reaction(\"ipal_c2e\")\n",
    "ipal_c2e.name='isoprenol c2e'\n",
    "ipal_c2e.subsystem='unknow'\n",
    "ipal_c2e.lower_bound=-1000\n",
    "ipal_c2e.upper_bound=1000\n",
    "ipal_c2e.add_metabolites({\n",
    "    ipal_c:-1.0,\n",
    "    ipal_e:1.0\n",
    "})\n",
    "model.add_reactions([EX_ipal_e])\n",
    "model.add_reactions([ipal_c2e])"
   ]
  },
  {
   "cell_type": "code",
   "execution_count": null,
   "metadata": {},
   "outputs": [],
   "source": [
    "model.reactions.get_by_id('DMPPS').bounds=(0,0)"
   ]
  },
  {
   "cell_type": "code",
   "execution_count": null,
   "metadata": {},
   "outputs": [],
   "source": [
    "model.reactions.get_by_id('IPDPS').bounds=(0,0)"
   ]
  },
  {
   "cell_type": "code",
   "execution_count": null,
   "metadata": {},
   "outputs": [],
   "source": [
    "model.reactions.BIOMASS_Ec_iML1515_core_75p37M.bounds=(0.1,1000)"
   ]
  },
  {
   "cell_type": "code",
   "execution_count": null,
   "metadata": {},
   "outputs": [],
   "source": [
    "model.objective=model.reactions.EX_ipal_e"
   ]
  },
  {
   "cell_type": "code",
   "execution_count": null,
   "metadata": {},
   "outputs": [],
   "source": [
    "model.reactions.EX_mevR_e"
   ]
  },
  {
   "cell_type": "code",
   "execution_count": null,
   "metadata": {},
   "outputs": [],
   "source": [
    "model.optimize()\n",
    "model.summary()"
   ]
  },
  {
   "cell_type": "code",
   "execution_count": null,
   "metadata": {},
   "outputs": [],
   "source": [
    "save_json_model(model,model_new2)\n",
    "write_sbml_model(model,model_new2.split('.json')[0]+'.xml')\n",
    "sbml_excel(model_new2.split('.json')[0]+'.xml',model_new2.split('.json')[0]+'.xlsx')"
   ]
  },
  {
   "cell_type": "markdown",
   "metadata": {},
   "source": [
    "### AB"
   ]
  },
  {
   "cell_type": "code",
   "execution_count": null,
   "metadata": {},
   "outputs": [],
   "source": [
    "model_a_name=model_new\n",
    "model_b_name=model_new2\n",
    "model_a=load_json_model(model_a_name)\n",
    "model_b=load_json_model(model_b_name)"
   ]
  },
  {
   "cell_type": "code",
   "execution_count": null,
   "metadata": {},
   "outputs": [],
   "source": [
    "print(\"--------A  model----------\")\n",
    "print(len(model_a.reactions))\n",
    "print(len(model_a.metabolites))\n",
    "print(len(model_a.genes) )\n",
    "print(\"--------B  model----------\")\n",
    "print(len(model_b.reactions))\n",
    "print(len(model_b.metabolites))\n",
    "print(len(model_b.genes) )"
   ]
  },
  {
   "cell_type": "code",
   "execution_count": null,
   "metadata": {},
   "outputs": [],
   "source": [
    "model=deepcopy(model_a)\n",
    "for i in model.reactions:\n",
    "    i.id='A_'+i.id\n",
    "for i in model.metabolites:\n",
    "    i.id='A_'+i.id\n",
    "    i.name='A_'+i.name\n",
    "model_t=deepcopy(model_b)\n",
    "# for i in model_t.genes:\n",
    "#     i.id=i.id+'_B'\n",
    "for i in model_t.reactions:\n",
    "    i.id='B_'+i.id\n",
    "for i in model_t.metabolites:\n",
    "    i.id='B_'+i.id\n",
    "    i.name='B_'+i.name"
   ]
  },
  {
   "cell_type": "code",
   "execution_count": null,
   "metadata": {},
   "outputs": [],
   "source": [
    "for i in model_t.reactions:\n",
    "    model.add_reaction(i)"
   ]
  },
  {
   "cell_type": "code",
   "execution_count": null,
   "metadata": {},
   "outputs": [],
   "source": [
    "e_meta_rn={}\n",
    "for meta in model_a.metabolites:\n",
    "    if meta.compartment=='e' :\n",
    "        meta_a=model.metabolites.get_by_id('A_'+meta.id)\n",
    "        e_meta_rn[meta.id+\"_1\"]=Reaction('A_'+meta.id+'_con_1')\n",
    "        e_meta_rn[meta.id+\"_1\"].name = meta.id+' Connection 1'\n",
    "        e_meta_rn[meta.id+\"_1\"].subsystem = 'unKnow'\n",
    "        e_meta_rn[meta.id+\"_1\"].lower_bound = 0. # This is the default\n",
    "        e_meta_rn[meta.id+\"_1\"].upper_bound = 1000. # This is the default\n",
    "        e_meta_rn[meta.id+\"_1\"].add_metabolites({\n",
    "            meta_a:-1.0,\n",
    "            meta:1.0\n",
    "            })\n",
    "        model.add_reactions([e_meta_rn[meta.id+\"_1\"]])\n",
    "for meta in model_b.metabolites:\n",
    "    if meta.compartment=='e' :\n",
    "        meta_b=model_t.metabolites.get_by_id('B_'+meta.id)\n",
    "        e_meta_rn[meta.id+\"_2\"]=Reaction('B_'+meta.id+'_con_2')\n",
    "        e_meta_rn[meta.id+\"_2\"].name = meta.id+' Connection 2'\n",
    "        e_meta_rn[meta.id+\"_2\"].subsystem = 'unKnow'\n",
    "        e_meta_rn[meta.id+\"_2\"].lower_bound = -1000. # This is the default\n",
    "        e_meta_rn[meta.id+\"_2\"].upper_bound = 0. # This is the default\n",
    "        e_meta_rn[meta.id+\"_2\"].add_metabolites({\n",
    "            meta_b:1.0,\n",
    "            meta:-1.0\n",
    "            })\n",
    "        model.add_reactions([e_meta_rn[meta.id+\"_2\"]])"
   ]
  },
  {
   "cell_type": "code",
   "execution_count": null,
   "metadata": {},
   "outputs": [],
   "source": [
    "model_origin_name='./new_idea_MVA_MEP/model/iML1515_new.json'\n",
    "origin_model=cobra.io.load_json_model(model_origin_name)\n",
    "# origin_model.reactions.get_by_id('EX_xyl__D_e').bounds=(-10.0,1000)\n",
    "origin_model.medium"
   ]
  },
  {
   "cell_type": "code",
   "execution_count": null,
   "metadata": {},
   "outputs": [],
   "source": [
    "for i in origin_model.medium:\n",
    "    model.add_reaction(origin_model.reactions.get_by_id(i))\n",
    "    ex_meta=i.split('EX_')[1]\n",
    "    model.reactions.get_by_id('A_'+ex_meta+'_con_1').bounds=(-1000,1000)\n",
    "    model.reactions.get_by_id('B_'+ex_meta+'_con_2').bounds=(-1000,1000)\n",
    "    print('A_'+ex_meta+'_con_1')\n",
    "#model.medium"
   ]
  },
  {
   "cell_type": "code",
   "execution_count": null,
   "metadata": {},
   "outputs": [],
   "source": [
    "for i in model.medium:\n",
    "    h=i.split('_')[0]\n",
    "    if h=='A' or h=='B':\n",
    "        model.reactions.get_by_id(i).bounds=(0,0)\n",
    "model.medium"
   ]
  },
  {
   "cell_type": "code",
   "execution_count": null,
   "metadata": {},
   "outputs": [],
   "source": [
    "model.reactions.B_mevR_e_con_2.bounds=(-1000,1000)"
   ]
  },
  {
   "cell_type": "code",
   "execution_count": null,
   "metadata": {},
   "outputs": [],
   "source": [
    "model.add_reaction(model_b.reactions.EX_ipal_e)"
   ]
  },
  {
   "cell_type": "code",
   "execution_count": null,
   "metadata": {},
   "outputs": [],
   "source": [
    "model.reactions.EX_ipal_e"
   ]
  },
  {
   "cell_type": "code",
   "execution_count": null,
   "metadata": {},
   "outputs": [],
   "source": [
    "model.reactions.EX_ipal_e.bounds=(0,1000)"
   ]
  },
  {
   "cell_type": "code",
   "execution_count": null,
   "metadata": {},
   "outputs": [],
   "source": [
    "model.medium"
   ]
  },
  {
   "cell_type": "code",
   "execution_count": null,
   "metadata": {},
   "outputs": [],
   "source": [
    "model.objective=model.reactions.get_by_id('EX_ipal_e')"
   ]
  },
  {
   "cell_type": "code",
   "execution_count": null,
   "metadata": {},
   "outputs": [],
   "source": [
    "model.optimize()\n",
    "model.summary()"
   ]
  },
  {
   "cell_type": "code",
   "execution_count": null,
   "metadata": {},
   "outputs": [],
   "source": [
    "save_json_model(model,model_ab_json)"
   ]
  },
  {
   "cell_type": "markdown",
   "metadata": {},
   "source": [
    "### new_idea"
   ]
  },
  {
   "cell_type": "code",
   "execution_count": null,
   "metadata": {},
   "outputs": [],
   "source": [
    "from new_cobra import *"
   ]
  },
  {
   "cell_type": "code",
   "execution_count": null,
   "metadata": {},
   "outputs": [],
   "source": [
    "def Get_Model_Data(model):\n",
    "    \"\"\"Returns reaction_list,metabolite_list,lb_list,ub_list,coef_matrix from model.\n",
    "    \n",
    "    Notes: \n",
    "    ----------\n",
    "    *model： is in SBML format (.xml).\n",
    "    \"\"\"\n",
    "    reaction_list=[]\n",
    "    reaction_list_A=[]\n",
    "    reaction_list_B=[]\n",
    "    metabolite_list=[]\n",
    "    lb_list={}\n",
    "    ub_list={}\n",
    "    coef_matrix={}\n",
    "    for rea in model.reactions:\n",
    "        reaction_list.append(rea.id)\n",
    "        if rea.id.startswith('A_'):\n",
    "            reaction_list_A.append(rea.id)\n",
    "        if rea.id.startswith('B_'):\n",
    "            reaction_list_B.append(rea.id)    \n",
    "        lb_list[rea.id]=rea.lower_bound\n",
    "        ub_list[rea.id]=rea.upper_bound\n",
    "        for met in model.metabolites:\n",
    "            metabolite_list.append(met.id)\n",
    "            try:\n",
    "                rea.get_coefficient(met.id)  \n",
    "            except:\n",
    "                pass\n",
    "            else:\n",
    "                coef_matrix[met.id,rea.id]=rea.get_coefficient(met.id)\n",
    "    reaction_list=list(set(reaction_list))\n",
    "    metabolite_list=list(set(metabolite_list))\n",
    "    return(reaction_list,reaction_list_A,reaction_list_B,metabolite_list,lb_list,ub_list,coef_matrix)"
   ]
  },
  {
   "cell_type": "code",
   "execution_count": null,
   "metadata": {},
   "outputs": [],
   "source": [
    "def Get_Concretemodel_Need_Data_json(model_file,reaction_kcat_MW_file,target):\n",
    "    Concretemodel_Need_Data={}\n",
    "    # reaction_g0=pd.read_csv(reaction_g0_file,index_col=0,sep='\\t')\n",
    "    # Concretemodel_Need_Data['reaction_g0']=reaction_g0\n",
    "    # metabolites_lnC = pd.read_csv(metabolites_lnC_file, index_col=0, sep='\\t')\n",
    "    # Concretemodel_Need_Data['metabolites_lnC']=metabolites_lnC\n",
    "    model=cobra.io.load_json_model(model_file)\n",
    "    try:\n",
    "        product = model.metabolites.get_by_id(target)\n",
    "        model.add_boundary(product, type='demand')  # add demand reaction as the objective\n",
    "    except:\n",
    "        pass\n",
    "    cobra.manipulation.modify.convert_to_irreversible(model)\n",
    "    isoenzyme_split(model)\n",
    "    reaction_kcat_MW=pd.read_csv(reaction_kcat_MW_file,index_col=0)\n",
    "    Concretemodel_Need_Data['model']=model\n",
    "    Concretemodel_Need_Data['reaction_kcat_MW']=reaction_kcat_MW\n",
    "    [reaction_list,reaction_list_A,reaction_list_B,metabolite_list,lb_list,ub_list,coef_matrix]=Get_Model_Data(model)\n",
    "    Concretemodel_Need_Data['reaction_list']=reaction_list\n",
    "    Concretemodel_Need_Data['reaction_list_A']=reaction_list_A\n",
    "    Concretemodel_Need_Data['reaction_list_B']=reaction_list_B\n",
    "    Concretemodel_Need_Data['metabolite_list']=metabolite_list\n",
    "    Concretemodel_Need_Data['lb_list']=lb_list\n",
    "    Concretemodel_Need_Data['ub_list']=ub_list\n",
    "    Concretemodel_Need_Data['coef_matrix']=coef_matrix\n",
    "    return (Concretemodel_Need_Data)"
   ]
  },
  {
   "cell_type": "code",
   "execution_count": null,
   "metadata": {},
   "outputs": [],
   "source": [
    "def Template_Concretemodel2(reaction_list=None,metabolite_list=None,coef_matrix=None,reaction_kcat_MW=None,lb_list=None,ub_list=None,reaction_list_A=None,reaction_list_B=None,\\\n",
    "    set_substrate_ini=False,substrate_name=None,substrate_value=None,substrates=None,substrates_bool=False,\\\n",
    "    set_biomass_ini=False,biomass_value=None,biomass_list=None,biomass_id=None,set_A_biomass_ini=None,set_B_biomass_ini=None,\\\n",
    "    set_bound=False,set_stoi_matrix=False,set_enzyme_constraint=False,set_part_enzyme_constraint=False,set_obj_single_E_value=False,E_total=None,\\\n",
    "    obj_name=None,obj_target=None,set_obj_value=False,set_target_ini=False,target_value=None,\\\n",
    "    set_obj_V_value=False,set_new_stoi_matrix=False,set_obj_E_value=False,\\\n",
    "    set_ratio=False,set_ratio_bound=False,set_pass_ini=False,set_pass_value=None,\\\n",
    "    set_metabolite=False,set_obj_Met_value=False,metabolites_lnC=None,\\\n",
    "    set_sub_ratio=False,sub_a=None,sub_b=None,sub_ratio=None):\n",
    "    \n",
    "\n",
    "    Concretemodel = ConcreteModel()\n",
    "    Concretemodel.reaction = pyo.Var(reaction_list,  within=NonNegativeReals)\n",
    "    Concretemodel.z = pyo.Var(reaction_list,  within=pyo.Binary)\n",
    "    Concretemodel.x = pyo.Var()\n",
    "    Concretemodel.y = pyo.Var()\n",
    "\n",
    "    #Set upper and lower bounds of metabolite concentration\n",
    "    # if set_metabolite:\n",
    "    #     def set_metabolite(m,i):\n",
    "    #         return  inequality(metabolites_lnC.loc[i,'lnClb'], m.metabolite[i], metabolites_lnC.loc[i,'lnCub'])\n",
    "    #     Concretemodel.set_metabolite= Constraint(metabolite_list,rule=set_metabolite)  \n",
    "\n",
    "    if set_ratio:\n",
    "        def set_ratio(m):\n",
    "            return  m.x+m.y==100\n",
    "        Concretemodel.set_ratio= Constraint(rule=set_ratio)    \n",
    "        \n",
    "    if set_ratio_bound:\n",
    "        def set_ratio_bound(m):\n",
    "            return inequality(1,m.x,99)\n",
    "        Concretemodel.set_ratio_bound = Constraint(rule=set_ratio_bound)     \n",
    "\n",
    "    #Minimizing the flux sum of pathway (pFBA)\n",
    "    if set_obj_V_value:             \n",
    "        def set_obj_V_value(m):\n",
    "            return sum(m.reaction[j] for j in reaction_list)\n",
    "        Concretemodel.obj = Objective(rule=set_obj_V_value, sense=minimize)  \n",
    "    \n",
    "    #Set the maximum flux as the object function\n",
    "    if set_obj_value:   \n",
    "        def set_obj_value(m):\n",
    "            return m.reaction[obj_name]\n",
    "        if obj_target=='maximize':\n",
    "            Concretemodel.obj = Objective(rule=set_obj_value, sense=maximize)\n",
    "        elif obj_target=='minimize':\n",
    "            Concretemodel.obj = Objective(rule=set_obj_value, sense=minimize)\n",
    "\n",
    "    #Set the minimum enzyme cost of a pathway as the object function\n",
    "    if set_obj_E_value:             \n",
    "        def set_obj_E_value(m):\n",
    "            return sum(m.reaction[j]/(reaction_kcat_MW.loc[j,'kcat_MW']) for j in reaction_kcat_MW.index)\n",
    "        Concretemodel.obj = Objective(rule=set_obj_E_value, sense=minimize)  \n",
    "\n",
    "    #To calculate the variability of enzyme usage of single reaction.\n",
    "    if set_obj_single_E_value:             \n",
    "        def set_obj_single_E_value(m):\n",
    "            return m.reaction[obj_name]/(reaction_kcat_MW.loc[obj_name,'kcat_MW'])\n",
    "        if obj_target=='maximize':\n",
    "            Concretemodel.obj = Objective(rule=set_obj_single_E_value, sense=maximize) \n",
    "        elif obj_target=='minimize':\n",
    "            Concretemodel.obj = Objective(rule=set_obj_single_E_value, sense=minimize)\n",
    "\n",
    "    if set_sub_ratio:\n",
    "        def set_sub_ratio(m):\n",
    "            return m.reaction[sub_a]==4*m.reaction[sub_b]\n",
    "        Concretemodel.set_sub_ratio = Constraint(rule=set_sub_ratio)\n",
    "\n",
    "    #To calculate the concentration variability of metabolites.\n",
    "    # if set_obj_Met_value:   \n",
    "    #     def set_obj_Met_value(m):\n",
    "    #         return m.metabolite[obj_name]\n",
    "    #     if obj_target=='maximize':\n",
    "    #         Concretemodel.obj = Objective(rule=set_obj_Met_value, sense=maximize)\n",
    "    #     elif obj_target=='minimize':\n",
    "    #         Concretemodel.obj = Objective(rule=set_obj_Met_value, sense=minimize)\n",
    "\n",
    "    #Adding flux balance constraints （FBA）\n",
    "    if set_stoi_matrix:\n",
    "        def set_stoi_matrix(m,i):\n",
    "            return sum(coef_matrix[i,j]*m.reaction[j]  for j in reaction_list if (i,j) in coef_matrix.keys() )==0\n",
    "        Concretemodel.set_stoi_matrix = Constraint( metabolite_list,rule=set_stoi_matrix)\n",
    "\n",
    "    #Adding flux balance constraints （newFBA）\n",
    "    if set_new_stoi_matrix:\n",
    "        def set_new_stoi_matrix(m,i):\n",
    "            for j in reaction_list:\n",
    "                if (i,j) in coef_matrix.keys():\n",
    "                    if j.startswith('A_') and i.startswith('A_') and '_con_' in j:\n",
    "                        coef_matrix[i,j]=(1/m.x)*coef_matrix[i,j]\n",
    "                        # if 'akg_e_con_' in j:\n",
    "                                # print ('A:'+str(coef_matrix[i,j]))\n",
    "                    if j.startswith('B_') and i.startswith('B_') and '_con_' in j:\n",
    "                        coef_matrix[i,j]=(1/m.y)*coef_matrix[i,j]\n",
    "            return sum(coef_matrix[i,j]*m.reaction[j]  for j in reaction_list if (i,j) in coef_matrix.keys() )==0\n",
    "        Concretemodel.set_new_stoi_matrix = Constraint( metabolite_list,rule=set_new_stoi_matrix)\n",
    "\n",
    "    #Adding the upper and lower bound constraints of reaction flux\n",
    "    if set_bound:\n",
    "        def set_bound(m,j):\n",
    "            return inequality(lb_list[j],m.reaction[j],ub_list[j])\n",
    "        Concretemodel.set_bound = Constraint(reaction_list,rule=set_bound) \n",
    "\n",
    "    #Set the upper bound for substrate input reaction flux\n",
    "    if set_substrate_ini and substrates_bool==False:\n",
    "        def set_substrate_ini(m): \n",
    "            return m.reaction[substrate_name] <= substrate_value\n",
    "        Concretemodel.set_substrate_ini = Constraint(rule=set_substrate_ini)  \n",
    "    \n",
    "     #Set the upper bound for substrate input reaction flux\n",
    "    if set_substrate_ini and substrates_bool==True:\n",
    "        def set_substrates_ini(m,j): \n",
    "            return m.reaction[j]<= substrates[j]\n",
    "        Concretemodel.set_substrates_ini = Constraint(substrates.keys(),rule=set_substrates_ini)  \n",
    "    \n",
    "    if set_biomass_ini:\n",
    "        def set_biomass_ini(m): \n",
    "            return m.reaction[biomass_id] >=biomass_value\n",
    "        Concretemodel.set_biomass_ini = Constraint(rule=set_biomass_ini)  \n",
    "        \n",
    "    #Set the lower bound for biomass synthesis reaction flux\n",
    "    if set_A_biomass_ini:\n",
    "        def set_A_biomass_ini(m): \n",
    "            return m.reaction['A_'+biomass_id] >=biomass_list['A']\n",
    "        Concretemodel.set_A_biomass_ini = Constraint(rule=set_A_biomass_ini)  \n",
    "        \n",
    "    #Set the lower bound for biomass synthesis reaction flux\n",
    "    if set_B_biomass_ini:\n",
    "        def set_B_biomass_ini(m): \n",
    "            return m.reaction['B_'+biomass_id] >=biomass_list['B']\n",
    "        Concretemodel.set_B_biomass_ini = Constraint(rule=set_B_biomass_ini)  \n",
    "    \n",
    "    #Set the lower bound for target synthesis reaction flux\n",
    "    if set_target_ini:\n",
    "        def set_target_ini(m): \n",
    "            return m.reaction[obj_name] ==target_value\n",
    "        Concretemodel.set_target_ini = Constraint(rule=set_target_ini)  \n",
    "\n",
    "    #Adding enzymamic constraints\n",
    "    if set_enzyme_constraint:\n",
    "        def set_enzyme_constraint(m):\n",
    "            return sum( m.reaction[j]/(reaction_kcat_MW.loc[j,'kcat_MW']) for j in reaction_kcat_MW.index if j in reaction_list)<= E_total\n",
    "        Concretemodel.set_enzyme_constraint = Constraint(rule=set_enzyme_constraint)    \n",
    "    \n",
    "    #Adding Part A enzymamic constraints\n",
    "    if set_part_enzyme_constraint:\n",
    "        def set_enzyme_constraint_A(m):\n",
    "            return sum( m.reaction[j]/(reaction_kcat_MW.loc[j,'kcat_MW']) for j in reaction_kcat_MW.index if j in reaction_list_A)<= E_total\n",
    "        Concretemodel.set_enzyme_constraint_A = Constraint(rule=set_enzyme_constraint_A)\n",
    "\n",
    "    #Adding Part B enzymamic constraints\n",
    "    if set_part_enzyme_constraint:\n",
    "        def set_enzyme_constraint_B(m):\n",
    "            return sum( m.reaction[j]/(reaction_kcat_MW.loc[j,'kcat_MW']) for j in reaction_kcat_MW.index if j in reaction_list_B)<= E_total\n",
    "        Concretemodel.set_enzyme_constraint_B = Constraint(rule=set_enzyme_constraint_B)\n",
    "\n",
    "    #Adding pass meta flux constraints\n",
    "    if set_pass_ini:\n",
    "        def set_pass_ini(m,j):\n",
    "            return m.reaction[j] >= set_pass_value[j]\n",
    "        Concretemodel.set_pass_ini = Constraint(set_pass_value.keys(),rule=set_pass_ini)  \n",
    "\n",
    "    return Concretemodel"
   ]
  },
  {
   "cell_type": "code",
   "execution_count": null,
   "metadata": {},
   "outputs": [],
   "source": [
    "def Model_Solve(model,solver):\n",
    "    opt = pyo.SolverFactory(solver)\n",
    "    opt.solve(model)\n",
    "    return model"
   ]
  },
  {
   "cell_type": "code",
   "execution_count": null,
   "metadata": {},
   "outputs": [],
   "source": [
    "def ECM_FBA(a,x,y,mid_a,mid_b,bio_a,bio_b):\n",
    "    #EcoECM=EcoECM(Concretemodel_Need_Data,'DM_B_C06104','maximize',substrates,E_total)\\\n",
    "    #substrates={'EX_glc__D_e_reverse':10}\n",
    "    substrates={'EX_glc__D_e_reverse':a}\n",
    "    substrate_value=10\n",
    "    substrate_name='EX_glc__D_e_reverse'\n",
    "    E_total=0.227\n",
    "    sub_a='EX_glc__D_e_reverse'\n",
    "    sub_b='EX_xyl__D_e_reverse'\n",
    "    ratio=4\n",
    "    reaction_list_A=deepcopy(Concretemodel_Need_Data['reaction_list_A'])\n",
    "    reaction_list_B=deepcopy(Concretemodel_Need_Data['reaction_list_B'])\n",
    "    reaction_list=deepcopy(Concretemodel_Need_Data['reaction_list'])\n",
    "    metabolite_list=deepcopy(Concretemodel_Need_Data['metabolite_list'])\n",
    "    coef_matrix=deepcopy(Concretemodel_Need_Data['coef_matrix'])\n",
    "    for i in metabolite_list:\n",
    "        for j in reaction_list:\n",
    "                if (i,j) in coef_matrix.keys():\n",
    "                    if j.startswith('A_') and i.startswith('A_') and '_con_' in j:\n",
    "                        coef_matrix[i,j]=(1/x)*coef_matrix[i,j]\n",
    "                        # if 'akg_e_con_' in j:\n",
    "                                # print ('A:'+str(coef_matrix[i,j]))\n",
    "                    if j.startswith('B_') and i.startswith('B_') and '_con_' in j:\n",
    "                        coef_matrix[i,j]=(1/y)*coef_matrix[i,j]\n",
    "                        # if 'akg_e_con_' in j:\n",
    "                #                 print ('B:'+str(coef_matrix[i,j]))\n",
    "                #     print ('ij:'+str(coef_matrix[i,j]))\n",
    "    reaction_kcat_MW=deepcopy(Concretemodel_Need_Data['reaction_kcat_MW'])\n",
    "    lb_list=Concretemodel_Need_Data['lb_list']\n",
    "    ub_list=Concretemodel_Need_Data['ub_list']\n",
    "    if len(substrates.keys())==1:\n",
    "            for i in substrates.keys():\n",
    "                ub_list[i]=substrates[i]\n",
    "                substrate_name=i\n",
    "                substrate_value=substrates[i]\n",
    "            substrates_bool=False\n",
    "    else:\n",
    "            for i in substrates.keys():\n",
    "                    ub_list[i]=substrates[i]\n",
    "            substrate_name=''\n",
    "            substrate_value=0\n",
    "            substrates_bool=True\n",
    "    \n",
    "    obj_name='EX_ipal_e'\n",
    "    obj_target='maximize'\n",
    "    biomass_id='BIOMASS_Ec_iML1515_core_75p37M'\n",
    "    #pass_value={'A_tyr__L_e_con_1':tyr,'B_phpyr_e_con_2_reverse':php}\n",
    "    EcoECM_FBA=Template_Concretemodel2(reaction_list=reaction_list,metabolite_list=metabolite_list,coef_matrix=coef_matrix,\\\n",
    "        reaction_list_A=reaction_list_A,reaction_list_B=reaction_list_B,reaction_kcat_MW=reaction_kcat_MW,lb_list=lb_list,ub_list=ub_list,\\\n",
    "        obj_name=obj_name,obj_target=obj_target,set_obj_value=True,biomass_id=biomass_id,set_substrate_ini=True,substrate_name=substrate_name,\\\n",
    "        substrate_value=substrate_value,substrates=substrates,substrates_bool=substrates_bool,set_stoi_matrix=True,set_bound=True,E_total=E_total,\\\n",
    "        set_enzyme_constraint=False,set_part_enzyme_constraint=True,set_A_biomass_ini=True,set_B_biomass_ini=True,biomass_list={'A':bio_a,'B':bio_b},\\\n",
    "        set_pass_ini=False,set_pass_value=None,set_sub_ratio=False,sub_a=sub_a,sub_b=sub_b,sub_ratio=ratio)\n",
    "    opt_ecm_FBA=Model_Solve(EcoECM_FBA,'gurobi')\n",
    "    #opt_ecm_pFBA.obj()\n",
    "    return opt_ecm_FBA"
   ]
  },
  {
   "cell_type": "code",
   "execution_count": null,
   "metadata": {},
   "outputs": [],
   "source": [
    "def ECM_pFBA(a,x,y,obj,mid_a,mid_b,bio_a,bio_b):\n",
    "    #EcoECM=EcoECM(Concretemodel_Need_Data,'DM_B_C06104','maximize',substrates,E_total)\\\n",
    "    #substrates={'EX_glc__D_e_reverse':10}\n",
    "    substrates={'EX_glc__D_e_reverse':a}\n",
    "    substrate_value=10\n",
    "    substrate_name=''\n",
    "    E_total=0.227\n",
    "    sub_a='EX_glc__D_e_reverse'\n",
    "    sub_b='EX_xyl__D_e_reverse'\n",
    "    ratio=4\n",
    "    reaction_list_A=deepcopy(Concretemodel_Need_Data['reaction_list_A'])\n",
    "    reaction_list_B=deepcopy(Concretemodel_Need_Data['reaction_list_B'])\n",
    "    reaction_list=deepcopy(Concretemodel_Need_Data['reaction_list'])\n",
    "    metabolite_list=deepcopy(Concretemodel_Need_Data['metabolite_list'])\n",
    "    coef_matrix=deepcopy(Concretemodel_Need_Data['coef_matrix'])\n",
    "    for i in metabolite_list:\n",
    "        for j in reaction_list:\n",
    "                if (i,j) in coef_matrix.keys():\n",
    "                    if j.startswith('A_') and i.startswith('A_') and '_con_' in j:\n",
    "                        coef_matrix[i,j]=(1/x)*coef_matrix[i,j]\n",
    "                        # if 'akg_e_con_' in j:\n",
    "                                # print ('A:'+str(coef_matrix[i,j]))\n",
    "                    if j.startswith('B_') and i.startswith('B_') and '_con_' in j:\n",
    "                        coef_matrix[i,j]=(1/y)*coef_matrix[i,j]\n",
    "                        # if 'akg_e_con_' in j:\n",
    "                #                 print ('B:'+str(coef_matrix[i,j]))\n",
    "                #     print ('ij:'+str(coef_matrix[i,j]))\n",
    "    reaction_kcat_MW=deepcopy(Concretemodel_Need_Data['reaction_kcat_MW'])\n",
    "    lb_list=Concretemodel_Need_Data['lb_list']\n",
    "    ub_list=Concretemodel_Need_Data['ub_list']\n",
    "    if len(substrates.keys())==1:\n",
    "            for i in substrates.keys():\n",
    "                ub_list[i]=substrates[i]\n",
    "                substrate_name=i\n",
    "                substrate_value=substrates[i]\n",
    "            substrates_bool=False\n",
    "    else:\n",
    "            for i in substrates.keys():\n",
    "                    ub_list[i]=substrates[i]\n",
    "            substrate_name=''\n",
    "            substrate_value=0\n",
    "            substrates_bool=True\n",
    "    substrates_bool=True\n",
    "    obj_name='EX_ipal_e'\n",
    "    obj_target='maximize'\n",
    "    biomass_id='BIOMASS_Ec_iML1515_core_75p37M'\n",
    "    #pass_value={'A_tyr__L_e_con_1':tyr,'B_phpyr_e_con_2_reverse':php}\n",
    "    EcoECM_pFBA=Template_Concretemodel2(reaction_list=reaction_list,metabolite_list=metabolite_list,coef_matrix=coef_matrix,\\\n",
    "        reaction_list_A=reaction_list_A,reaction_list_B=reaction_list_B,reaction_kcat_MW=reaction_kcat_MW,lb_list=lb_list,ub_list=ub_list,\\\n",
    "        obj_name=obj_name,obj_target=obj_target,set_obj_value=False,set_target_ini=True,set_obj_V_value=True,target_value=obj,\\\n",
    "        biomass_id=biomass_id,set_A_biomass_ini=True,set_B_biomass_ini=True,biomass_list={'A':bio_a,'B':bio_b},set_substrate_ini=True,substrate_name=substrate_name,\\\n",
    "        substrate_value=substrate_value,substrates=substrates,substrates_bool=substrates_bool,set_stoi_matrix=True,set_bound=True,E_total=E_total,\\\n",
    "        set_enzyme_constraint=False,set_part_enzyme_constraint=True,set_pass_ini=False,set_pass_value=None,set_sub_ratio=False,sub_a=sub_a,sub_b=sub_b,sub_ratio=ratio)\n",
    "    opt_ecm_pFBA=Model_Solve(EcoECM_pFBA,'gurobi')\n",
    "    #opt_ecm_pFBA.obj()\n",
    "    return opt_ecm_pFBA"
   ]
  },
  {
   "cell_type": "code",
   "execution_count": null,
   "metadata": {},
   "outputs": [],
   "source": [
    "def ECM_FBA_knock_out(a,x,y,mid_a,mid_b,bio_a,bio_b,rea):\n",
    "    #EcoECM=EcoECM(Concretemodel_Need_Data,'DM_B_C06104','maximize',substrates,E_total)\\\n",
    "    #substrates={'EX_glc__D_e_reverse':10}\n",
    "    substrates={'EX_glc__D_e_reverse':a}\n",
    "    substrate_value=10\n",
    "    substrate_name='EX_glc__D_e_reverse'\n",
    "    E_total=0.227\n",
    "    sub_a='EX_glc__D_e_reverse'\n",
    "    sub_b='EX_xyl__D_e_reverse'\n",
    "    ratio=4\n",
    "    reaction_list_A=deepcopy(Concretemodel_Need_Data['reaction_list_A'])\n",
    "    reaction_list_B=deepcopy(Concretemodel_Need_Data['reaction_list_B'])\n",
    "    reaction_list=deepcopy(Concretemodel_Need_Data['reaction_list'])\n",
    "    metabolite_list=deepcopy(Concretemodel_Need_Data['metabolite_list'])\n",
    "    coef_matrix=deepcopy(Concretemodel_Need_Data['coef_matrix'])\n",
    "    for i in metabolite_list:\n",
    "        for j in reaction_list:\n",
    "                if (i,j) in coef_matrix.keys():\n",
    "                    if j.startswith('A_') and i.startswith('A_') and '_con_' in j:\n",
    "                        coef_matrix[i,j]=(1/x)*coef_matrix[i,j]\n",
    "                        # if 'akg_e_con_' in j:\n",
    "                                # print ('A:'+str(coef_matrix[i,j]))\n",
    "                    if j.startswith('B_') and i.startswith('B_') and '_con_' in j:\n",
    "                        coef_matrix[i,j]=(1/y)*coef_matrix[i,j]\n",
    "                        # if 'akg_e_con_' in j:\n",
    "                #                 print ('B:'+str(coef_matrix[i,j]))\n",
    "                #     print ('ij:'+str(coef_matrix[i,j]))\n",
    "    reaction_kcat_MW=deepcopy(Concretemodel_Need_Data['reaction_kcat_MW'])\n",
    "    lb_list=Concretemodel_Need_Data['lb_list']\n",
    "    ub_list=Concretemodel_Need_Data['ub_list']\n",
    "    lb_list[rea]=0\n",
    "    ub_list[rea]=0\n",
    "    if len(substrates.keys())==1:\n",
    "            for i in substrates.keys():\n",
    "                ub_list[i]=substrates[i]\n",
    "                substrate_name=i\n",
    "                substrate_value=substrates[i]\n",
    "            substrates_bool=False\n",
    "    else:\n",
    "            for i in substrates.keys():\n",
    "                    ub_list[i]=substrates[i]\n",
    "            substrate_name=''\n",
    "            substrate_value=0\n",
    "            substrates_bool=True\n",
    "    \n",
    "    obj_name='EX_ipal_e'\n",
    "    obj_target='maximize'\n",
    "    biomass_id='BIOMASS_Ec_iML1515_core_75p37M'\n",
    "    #pass_value={'A_tyr__L_e_con_1':tyr,'B_phpyr_e_con_2_reverse':php}\n",
    "    EcoECM_FBA=Template_Concretemodel2(reaction_list=reaction_list,metabolite_list=metabolite_list,coef_matrix=coef_matrix,\\\n",
    "        reaction_list_A=reaction_list_A,reaction_list_B=reaction_list_B,reaction_kcat_MW=reaction_kcat_MW,lb_list=lb_list,ub_list=ub_list,\\\n",
    "        obj_name=obj_name,obj_target=obj_target,set_obj_value=True,biomass_id=biomass_id,set_substrate_ini=True,substrate_name=substrate_name,\\\n",
    "        substrate_value=substrate_value,substrates=substrates,substrates_bool=substrates_bool,set_stoi_matrix=True,set_bound=True,E_total=E_total,\\\n",
    "        set_enzyme_constraint=False,set_part_enzyme_constraint=True,set_A_biomass_ini=True,set_B_biomass_ini=True,biomass_list={'A':bio_a,'B':bio_b},\\\n",
    "        set_pass_ini=False,set_pass_value=None,set_sub_ratio=False,sub_a=sub_a,sub_b=sub_b,sub_ratio=ratio)\n",
    "    opt_ecm_FBA=Model_Solve(EcoECM_FBA,'gurobi')\n",
    "    #opt_ecm_pFBA.obj()\n",
    "    return opt_ecm_FBA"
   ]
  },
  {
   "cell_type": "code",
   "execution_count": null,
   "metadata": {},
   "outputs": [],
   "source": [
    "def get_two_float(f_str, n):\n",
    "    a, b, c = str(f_str).partition('.')\n",
    "    c = c[:n]\n",
    "    return float(\".\".join([a, c]))"
   ]
  },
  {
   "cell_type": "code",
   "execution_count": null,
   "metadata": {},
   "outputs": [],
   "source": [
    "def unpdate_kcat_mw(reaction_list,kcat_mw,new_file):\n",
    "    reaction_up_kact_MW=pd.DataFrame()\n",
    "    for i in reaction_list:\n",
    "        if i.startswith('A_'):\n",
    "            id=i[2:]\n",
    "            if id in kcat_mw.index:\n",
    "                reaction_up_kact_MW.at[i,'kcat_MW']=kcat_mw.at[id,'kcat_MW']\n",
    "        if i.startswith('B_'):\n",
    "            id=i[2:]\n",
    "            if id in kcat_mw.index:\n",
    "                reaction_up_kact_MW.at[i,'kcat_MW']=kcat_mw.at[id,'kcat_MW'] \n",
    "    reaction_up_kact_MW.to_csv(new_file)\n",
    "    return reaction_up_kact_MW"
   ]
  },
  {
   "cell_type": "markdown",
   "metadata": {},
   "source": [
    "## ECM"
   ]
  },
  {
   "cell_type": "code",
   "execution_count": 15,
   "metadata": {},
   "outputs": [],
   "source": [
    "from double_ECM import * "
   ]
  },
  {
   "cell_type": "code",
   "execution_count": 16,
   "metadata": {},
   "outputs": [],
   "source": [
    "reaction_kcat_MW_file='./new_idea_MVA_MEP/EC/reaction_kcat_MW_MVA_MEP_origin.csv'"
   ]
  },
  {
   "cell_type": "code",
   "execution_count": 18,
   "metadata": {},
   "outputs": [],
   "source": [
    "# model_file=model_new\n",
    "model_file=model_ab_json\n",
    "reaction_kcat_MW_file='./new_idea_MVA_MEP/EC/reaction_kcat_MW_MVA_MEP_origin.csv'\n",
    "Concretemodel_Need_Data=Get_Concretemodel_Need_Data_json(model_file,reaction_kcat_MW_file,'ipal_e')"
   ]
  },
  {
   "cell_type": "code",
   "execution_count": 19,
   "metadata": {},
   "outputs": [],
   "source": [
    "Concretemodel_Need_Data['reaction_kcat_MW']=unpdate_kcat_mw(Concretemodel_Need_Data['reaction_list'],Concretemodel_Need_Data['reaction_kcat_MW'],'./new_idea_MVA_MEP/EC/reaction_kcat_MW_MVA_MEP.csv')"
   ]
  },
  {
   "cell_type": "code",
   "execution_count": 20,
   "metadata": {},
   "outputs": [],
   "source": [
    "list_x=[3,2,1]\n",
    "list_y=[1,2,3]"
   ]
  },
  {
   "cell_type": "code",
   "execution_count": null,
   "metadata": {},
   "outputs": [],
   "source": [
    "Concretemodel_Need_Data['reaction_kcat_MW']=reaction_kcat_MW=pd.read_csv(reaction_kcat_MW_file,index_col=0)\n",
    "Concretemodel_Need_Data['reaction_kcat_MW']=unpdate_kcat_mw(Concretemodel_Need_Data['reaction_list'],Concretemodel_Need_Data['reaction_kcat_MW'],'./new_idea_MVA_MEP/EC/reaction_kcat_MW_MVA_MEP.csv')"
   ]
  },
  {
   "cell_type": "code",
   "execution_count": 21,
   "metadata": {},
   "outputs": [],
   "source": [
    "from concurrent.futures import ProcessPoolExecutor, as_completed\n",
    "import datetime\n",
    "from thread import *\n",
    "import sys\n",
    "sys.path.append(r'./')"
   ]
  },
  {
   "cell_type": "code",
   "execution_count": 22,
   "metadata": {},
   "outputs": [
    {
     "name": "stdout",
     "output_type": "stream",
     "text": [
      "0:00:17.828403\n",
      "{<Future at 0x1f3c14cdc88 state=finished returned float>: 0, <Future at 0x1f3c6d642b0 state=finished returned float>: 1, <Future at 0x1f3c6d64c18 state=finished returned float>: 2}\n"
     ]
    }
   ],
   "source": [
    "if __name__ == \"__main__\":\n",
    "    pool=ProcessPoolExecutor(max_workers=8)\n",
    "    with pool as executor:\n",
    "        start = datetime.datetime.now()\n",
    "        #print(\"pass_2\")\n",
    "        tmp=[]\n",
    "        futures = {executor.submit(fba_max_product,Concretemodel_Need_Data,(list_x[i],list_y[i]),40,0,0,0.65,0.65,'EX_ipal_e'): i for i in range(0,len(list_x))}\n",
    "        # for future in as_completed(futures):\n",
    "        #     tmp.append(future.result())\n",
    "    end = datetime.datetime.now()\n",
    "    print (end - start)\n",
    "    print(futures)"
   ]
  },
  {
   "cell_type": "code",
   "execution_count": 23,
   "metadata": {},
   "outputs": [
    {
     "name": "stdout",
     "output_type": "stream",
     "text": [
      "A:B:C=2:2\n",
      "2.4924224927342493\n",
      "A:B:C=1:3\n",
      "2.644729225479511\n",
      "A:B:C=3:1\n",
      "1.5534946709572068\n"
     ]
    },
    {
     "data": {
      "text/html": [
       "<div>\n",
       "<style scoped>\n",
       "    .dataframe tbody tr th:only-of-type {\n",
       "        vertical-align: middle;\n",
       "    }\n",
       "\n",
       "    .dataframe tbody tr th {\n",
       "        vertical-align: top;\n",
       "    }\n",
       "\n",
       "    .dataframe thead th {\n",
       "        text-align: right;\n",
       "    }\n",
       "</style>\n",
       "<table border=\"1\" class=\"dataframe\">\n",
       "  <thead>\n",
       "    <tr style=\"text-align: right;\">\n",
       "      <th></th>\n",
       "      <th>flux</th>\n",
       "    </tr>\n",
       "  </thead>\n",
       "  <tbody>\n",
       "    <tr>\n",
       "      <th>3:1</th>\n",
       "      <td>1.553495</td>\n",
       "    </tr>\n",
       "    <tr>\n",
       "      <th>2:2</th>\n",
       "      <td>2.492422</td>\n",
       "    </tr>\n",
       "    <tr>\n",
       "      <th>1:3</th>\n",
       "      <td>2.644729</td>\n",
       "    </tr>\n",
       "  </tbody>\n",
       "</table>\n",
       "</div>"
      ],
      "text/plain": [
       "         flux\n",
       "3:1  1.553495\n",
       "2:2  2.492422\n",
       "1:3  2.644729"
      ]
     },
     "execution_count": 23,
     "metadata": {},
     "output_type": "execute_result"
    }
   ],
   "source": [
    "result_list_mass=pd.DataFrame()\n",
    "for future in as_completed(futures):\n",
    "    x=list_x[futures[future]]\n",
    "    y=list_y[futures[future]]\n",
    "    real=1\n",
    "    real_x=int(x*real)\n",
    "    real_y=int(y*real)\n",
    "    print('A:B:C='+str(real_x)+':'+str(real_y))\n",
    "    print(future.result())\n",
    "    result_list_mass.at[str(real_x)+':'+str(real_y),'flux']=future.result()\n",
    "result_list=pd.DataFrame()\n",
    "for i in range(0,len(list_x)):\n",
    "    real=1\n",
    "    real_x=int(list_x[i]*real)\n",
    "    real_y=int(list_y[i]*real)\n",
    "    result_list.at[str(real_x)+':'+str(real_y),'flux']=result_list_mass.at[str(real_x)+':'+str(real_y),'flux']\n",
    "result_list"
   ]
  },
  {
   "cell_type": "code",
   "execution_count": null,
   "metadata": {},
   "outputs": [],
   "source": [
    "# pass_v=0\n",
    "# for i in range(0,3):\n",
    "#     a=ECM_FBA(40,list_x[i],list_y[i],0,0,0.1,0.1)\n",
    "#     print('obj:')\n",
    "#     print(a.obj())\n",
    "#     # a_obj=get_two_float(a.obj(),2)\n",
    "#     # b=ECM_pFBA(40,list_x[i],list_y[i],a_obj,0,0,0.1,0.1)\n",
    "#     # print('pFBA')\n",
    "#     # print('glc:'+str(b.reaction['EX_glc__D_e_reverse'].value))\n",
    "#     # print('glc_A:'+str(b.reaction['A_glc__D_e_con_1_reverse'].value))\n",
    "#     # print('glc_B:'+str(b.reaction['B_glc__D_e_con_2'].value))\n",
    "#     if pass_v>a.obj():\n",
    "#         print('True')\n",
    "#     else:\n",
    "#         print('False')\n",
    "#     pass_v=a.obj()"
   ]
  },
  {
   "cell_type": "code",
   "execution_count": null,
   "metadata": {},
   "outputs": [],
   "source": [
    "# model_out=load_json_model(model_file)\n",
    "# cobra.manipulation.modify.convert_to_irreversible(model_out)\n",
    "# isoenzyme_split(model_out)\n",
    "# model_pfba_solution_detail=pd.DataFrame()\n",
    "# a=ECM_FBA(100,1,3,0,0,0.1,0.1)\n",
    "# print('obj:')\n",
    "# print(a.obj())\n",
    "# a_obj=get_two_float(a.obj(),2)\n",
    "# b=ECM_pFBA(100,1,3,a_obj,0,0,0.1,0.1)\n",
    "# reaction_kcat_mw=Concretemodel_Need_Data['reaction_kcat_MW']\n",
    "# print('pFBA')\n",
    "# print('glc:'+str(b.reaction['EX_glc__D_e_reverse'].value))\n",
    "# print('glc_A:'+str(b.reaction['A_glc__D_e_con_1_reverse'].value))\n",
    "# print('glc_B:'+str(b.reaction['B_glc__D_e_con_2'].value))\n",
    "# for i in b.reaction:\n",
    "#     model_pfba_solution_detail.loc[i,'fluxes'] = b.reaction[i].value\n",
    "#     if i=='DM_ipal_e':\n",
    "#         continue\n",
    "#     reaction_detail=model_out.reactions.get_by_id(i)\n",
    "#     if i in reaction_kcat_mw.index:\n",
    "#             # model_pfba_solution_detail.loc[i,\n",
    "#             #                                'kcat'] = reaction_kcat_mw.loc[i, 'kcat']\n",
    "#             # model_pfba_solution_detail.loc[i,\n",
    "#             #                                'MW'] = reaction_kcat_mw.loc[i, 'MW']\n",
    "#             model_pfba_solution_detail.loc[i,\n",
    "#                                            'kcat_MW'] = reaction_kcat_mw.loc[i, 'kcat_MW']\n",
    "#             model_pfba_solution_detail.loc[i,\n",
    "#                                            'enz'] = model_pfba_solution_detail.loc[i, 'fluxes']/model_pfba_solution_detail.loc[i, 'kcat_MW']\n",
    "#             # if 'source' in reaction_kcat_mw.columns:\n",
    "#             #     model_pfba_solution_detail.loc[i,\n",
    "#             #                                    'source'] = reaction_kcat_mw.loc[i, 'source']\n",
    "#     model_pfba_solution_detail.loc[i, 'equ'] = reaction_detail.reaction\n",
    "# if pass_v>a.obj():\n",
    "#     print('True')\n",
    "# else:\n",
    "#     print('False')\n",
    "# pass_v=a.obj()\n",
    "# model_pfba_solution_detail.to_csv('./new_idea_MVA_MEP/result/result_pfba_enz.csv')"
   ]
  }
 ],
 "metadata": {
  "kernelspec": {
   "display_name": "Python 3.6.5 ('xby')",
   "language": "python",
   "name": "python3"
  },
  "language_info": {
   "codemirror_mode": {
    "name": "ipython",
    "version": 3
   },
   "file_extension": ".py",
   "mimetype": "text/x-python",
   "name": "python",
   "nbconvert_exporter": "python",
   "pygments_lexer": "ipython3",
   "version": "3.6.5"
  },
  "orig_nbformat": 4,
  "vscode": {
   "interpreter": {
    "hash": "678f2c0cb67aa00dbc6da583138b0769cb8531f72b670a012e2187460f06e842"
   }
  }
 },
 "nbformat": 4,
 "nbformat_minor": 2
}
