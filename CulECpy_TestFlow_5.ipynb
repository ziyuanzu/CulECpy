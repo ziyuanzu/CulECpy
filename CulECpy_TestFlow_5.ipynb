{
 "cells": [
  {
   "cell_type": "code",
   "execution_count": 1,
   "metadata": {},
   "outputs": [],
   "source": [
    "import cobra\n",
    "from cobra import Model, Reaction, Metabolite\n",
    "from cobra.flux_analysis import pfba\n",
    "from cobra.io import write_sbml_model,save_json_model,load_json_model,read_sbml_model\n",
    "import re\n",
    "import pandas as pd\n",
    "import numpy as np\n",
    "import xlrd\n",
    "import re\n",
    "import openpyxl\n",
    "import sys\n",
    "sys.path.append(r'./')\n",
    "import os\n",
    "from copy import copy, deepcopy\n",
    "import numpy as np"
   ]
  },
  {
   "cell_type": "markdown",
   "metadata": {},
   "source": [
    "#### model json file"
   ]
  },
  {
   "cell_type": "code",
   "execution_count": 2,
   "metadata": {},
   "outputs": [],
   "source": [
    "model_1515_773_file='./iCW773+iML1515/model/iML1515_iCW773.json'"
   ]
  },
  {
   "cell_type": "code",
   "execution_count": 3,
   "metadata": {},
   "outputs": [],
   "source": [
    "model_origin_1515='./iCW773+iML1515/model/iML1515_new.json'\n",
    "model_origin_773='./iCW773+iML1515/model/iCW773_final.json'"
   ]
  },
  {
   "cell_type": "markdown",
   "metadata": {},
   "source": [
    "#### model construction"
   ]
  },
  {
   "cell_type": "markdown",
   "metadata": {},
   "source": [
    "Sub-model A Construction(iML1515)"
   ]
  },
  {
   "cell_type": "code",
   "execution_count": 4,
   "metadata": {},
   "outputs": [],
   "source": [
    "model1=load_json_model(model_origin_1515)\n",
    "pydx5p_c=model1.metabolites.get_by_id('pydx5p_c')\n",
    "lys__L_c=model1.metabolites.get_by_id('lys__L_c')\n",
    "dap_c=model1.metabolites.get_by_id('15dap_c')\n",
    "r5p_c=model1.metabolites.get_by_id('r5p_c')\n",
    "g3p_c=model1.metabolites.get_by_id('g3p_c')\n",
    "glu__L_c=model1.metabolites.get_by_id('glu__L_c')\n",
    "gln__L_c=model1.metabolites.get_by_id('gln__L_c')\n",
    "pi_c=model1.metabolites.get_by_id('pi_c')\n",
    "h_c=model1.metabolites.get_by_id('h_c')\n",
    "h2o_c=model1.metabolites.get_by_id('h2o_c')\n",
    "#model1.reactions.get_by_id('EX_lys__L_e').bounds=(-1000,-10)\n",
    "LYSDC=model1.reactions.get_by_id('LYSDC')\n",
    "pdx=Reaction(\"pdx\")\n",
    "pdx.name='BioID:RXN-11322'\n",
    "pdx.subsystem='unknow'\n",
    "pdx.lower_bound=-1000\n",
    "pdx.upper_bound=1000\n",
    "pdx.add_metabolites({\n",
    "    gln__L_c:-1.0,\n",
    "    g3p_c:-1.0,\n",
    "    r5p_c:-1.0,\n",
    "    pydx5p_c:1.0,\n",
    "    pi_c:1.0,\n",
    "    glu__L_c:1.0,\n",
    "    h2o_c:3.0,\n",
    "    h_c:1.0\n",
    "})\n",
    "model1.add_reaction(pdx)\n",
    "model1.reactions.get_by_id('EX_glc__D_e').bounds=(0,0)\n",
    "# #model1.reactions.get_by_id('EX_glc__D_e_reverse').bounds=(0,0)\n",
    "model1.reactions.get_by_id('EX_glyc_e').bounds=(-10,0)\n",
    "model_origin_1515_final=model_origin_1515.split('.json')[0]+'_final.json'\n",
    "save_json_model(model1,model_origin_1515_final)"
   ]
  },
  {
   "cell_type": "code",
   "execution_count": 5,
   "metadata": {},
   "outputs": [
    {
     "name": "stdout",
     "output_type": "stream",
     "text": [
      "Biomass:\n",
      "IN FLUXES          OUT FLUXES    OBJECTIVES\n",
      "-----------------  ------------  ----------------------\n",
      "o2_e    13.6       h2o_e  32.7   BIOMASS_Ec_i...  0.497\n",
      "glyc_e  10         co2_e   9.61\n",
      "nh4_e    5.36      h_e     4.56\n",
      "pi_e     0.479\n",
      "so4_e    0.125\n",
      "k_e      0.0969\n",
      "fe2_e    0.00798\n",
      "mg2_e    0.00431\n",
      "ca2_e    0.00259\n",
      "cl_e     0.00259\n",
      "cu2_e    0.000352\n",
      "mn2_e    0.000343\n",
      "zn2_e    0.000169\n",
      "ni2_e    0.00016\n",
      "EX_15dap_e:\n",
      "IN FLUXES      OUT FLUXES      OBJECTIVES\n",
      "-------------  --------------  ----------------\n",
      "glyc_e  10     h2o_e    22.3   EX_15dap_e  4.41\n",
      "nh4_e    8.83  co2_e     7.93\n",
      "o2_e     4.11  15dap_e   4.41\n"
     ]
    }
   ],
   "source": [
    "# model1=load_json_model(model_origin_1515)\n",
    "with model1 as model_test:\n",
    "    print('Biomass:')\n",
    "    model_test.optimize()\n",
    "    model_test.summary()\n",
    "    print('EX_15dap_e:')\n",
    "    #model_test.reactions.pdx.bounds=(0,0)\n",
    "    # model_test.reactions.get_by_id('EX_glyc_e').bounds=(-1000,0)\n",
    "    # model_test.reactions.get_by_id('EX_glc__D_e').bounds=(-10,0)\n",
    "    model_test.objective=model_test.reactions.EX_15dap_e\n",
    "    model_test.optimize()\n",
    "    model_test.summary()"
   ]
  },
  {
   "cell_type": "markdown",
   "metadata": {},
   "source": [
    "Sub-model B Construction(iCW773)"
   ]
  },
  {
   "cell_type": "code",
   "execution_count": 6,
   "metadata": {},
   "outputs": [],
   "source": [
    "model2=load_json_model(model_origin_773)\n",
    "glyc_c=model2.metabolites.get_by_id('glyc_c')\n",
    "dha_c=model2.metabolites.get_by_id('dha_c')\n",
    "dhap_c=model2.metabolites.get_by_id('dhap_c')\n",
    "#ASPK reaction up\n",
    "lys__L_c=model2.metabolites.get_by_id('lys__L_c')\n",
    "EX_lys_L_e=model2.reactions.get_by_id('EX_lys_L_e')\n",
    "EX_glyc_e=model2.reactions.get_by_id('EX_glyc_e')\n",
    "# metabolites\n",
    "nad_c=model2.metabolites.get_by_id('nad_c')\n",
    "nadh_c=model2.metabolites.get_by_id('nadh_c')\n",
    "h_c=model2.metabolites.get_by_id('h_c')\n",
    "DhaD=Reaction(\"DhaD\")\n",
    "DhaD.name='BioID:GLYCDEH-RXN'\n",
    "DhaD.subsystem='unknow'\n",
    "DhaD.lower_bound=-1000\n",
    "DhaD.upper_bound=1000\n",
    "DhaD.add_metabolites({\n",
    "    glyc_c:-1.0,\n",
    "    nad_c:-1.0,\n",
    "    dha_c:1.0,\n",
    "    nadh_c:1.0,\n",
    "    h_c:1.0\n",
    "})\n",
    "# metabolites\n",
    "atp_c=model2.metabolites.get_by_id('atp_c')\n",
    "adp_c=model2.metabolites.get_by_id('adp_c')\n",
    "DhaK=Reaction(\"DhaK\")\n",
    "DhaK.name='BioID:GLYCERONE-KINASE-RXN'\n",
    "DhaK.subsystem='unknow'\n",
    "DhaK.lower_bound=0\n",
    "DhaK.upper_bound=1000\n",
    "DhaK.add_metabolites({\n",
    "    dha_c:-1.0,\n",
    "    atp_c:-1.0,\n",
    "    dhap_c:1.0,\n",
    "    adp_c:1.0,\n",
    "    h_c:1.0,\n",
    "})\n",
    "model2.add_reactions([DhaD,DhaK])\n",
    "EX_glyc_e.bounds=(-10,0)\n",
    "EX_lys_L_e.bounds=(0,1000)\n",
    "model2.reactions.get_by_id('EX_glc_e').bounds=(0,1000)\n",
    "model2.reactions.get_by_id('EX_glc_e_reverse').bounds=(0,0)\n",
    "model_origin_773_lys=model_origin_773.split('.json')[0]+'_lys.json'\n",
    "save_json_model(model2,model_origin_773_lys)"
   ]
  },
  {
   "cell_type": "code",
   "execution_count": 7,
   "metadata": {},
   "outputs": [
    {
     "name": "stdout",
     "output_type": "stream",
     "text": [
      "Biomass:\n",
      "IN FLUXES            OUT FLUXES      OBJECTIVES\n",
      "-------------------  --------------  ----------------------\n",
      "o2_e       10        h2o_e  29       CG_biomass_c...  0.564\n",
      "glyc_e     10        co2_e   6.65\n",
      "nh4_e       4.88     h_e     4.35\n",
      "k_e         0.714    xan_e   0.0905\n",
      "pi_e        0.28\n",
      "so4_e       0.0904\n",
      "fe2_e       0.0531\n",
      "mg2_e       0.0317\n",
      "ca2_e       0.019\n",
      "cl_e        0.019\n",
      "cu2_e       0.00259\n",
      "mn2_e       0.00253\n",
      "zn2_e       0.00125\n",
      "ni2_e       0.00118\n",
      "cobalt2_e   9.2e-05\n",
      "EX_lys__L_e:\n",
      "IN FLUXES      OUT FLUXES       OBJECTIVES\n",
      "-------------  ---------------  ----------------\n",
      "glyc_e  10     h2o_e     21     EX_lys_L_e  4.74\n",
      "nh4_e    9.48  lys__L_e   4.74\n",
      "o2_e     1.82  h_e        4.74\n",
      "               co2_e      1.56\n"
     ]
    }
   ],
   "source": [
    "with model2 as model_test:\n",
    "    print('Biomass:')\n",
    "    model_test.optimize()\n",
    "    model_test.summary()\n",
    "    print('EX_lys__L_e:')\n",
    "    model_test.objective=model_test.reactions.EX_lys_L_e\n",
    "    model_test.optimize()\n",
    "    model_test.summary()"
   ]
  },
  {
   "cell_type": "markdown",
   "metadata": {},
   "source": [
    "medium analyze"
   ]
  },
  {
   "cell_type": "markdown",
   "metadata": {},
   "source": [
    "construct double-model"
   ]
  },
  {
   "cell_type": "code",
   "execution_count": 8,
   "metadata": {},
   "outputs": [
    {
     "name": "stdout",
     "output_type": "stream",
     "text": [
      "--------A  model----------\n",
      "2714\n",
      "1877\n",
      "1516\n",
      "--------B  model----------\n",
      "1852\n",
      "949\n",
      "794\n",
      "A_pi_e_con_1\n",
      "A_h_e_con_1\n",
      "A_fe3_e_con_1\n",
      "A_glyc_e_con_1\n",
      "A_mn2_e_con_1\n",
      "A_co2_e_con_1\n",
      "A_fe2_e_con_1\n",
      "A_zn2_e_con_1\n",
      "A_mg2_e_con_1\n",
      "A_ca2_e_con_1\n",
      "A_ni2_e_con_1\n",
      "A_cu2_e_con_1\n",
      "A_cobalt2_e_con_1\n",
      "A_sel_e_con_1\n",
      "A_h2o_e_con_1\n",
      "A_nh4_e_con_1\n",
      "A_mobd_e_con_1\n",
      "A_so4_e_con_1\n",
      "A_k_e_con_1\n",
      "A_na1_e_con_1\n",
      "A_o2_e_con_1\n",
      "A_cl_e_con_1\n",
      "A_tungs_e_con_1\n",
      "A_slnt_e_con_1\n",
      "A_fe2_e_con_1\n",
      "A_fe3_e_con_1\n",
      "A_glyc_e_con_1\n",
      "A_ca2_e_con_1\n",
      "A_co2_e_con_1\n",
      "A_cobalt2_e_con_1\n",
      "A_cu2_e_con_1\n",
      "A_h2o_e_con_1\n",
      "A_k_e_con_1\n",
      "A_mg2_e_con_1\n",
      "A_mn2_e_con_1\n",
      "A_na1_e_con_1\n",
      "A_nh4_e_con_1\n",
      "A_ni2_e_con_1\n",
      "A_o2_e_con_1\n",
      "A_pi_e_con_1\n",
      "A_so4_e_con_1\n",
      "A_zn2_e_con_1\n",
      "A_btn_e_con_1\n",
      "A_cl_e_con_1\n"
     ]
    }
   ],
   "source": [
    "model_a=load_json_model(model_origin_1515_final)\n",
    "model_b=load_json_model(model_origin_773_lys)\n",
    "# model_a.reactions.get_by_id('EX_glc__D_e').bounds=(-1000,1000)\n",
    "# model_a.reactions.get_by_id('EX_'+meta_test+'_e').bounds=(0,1000)\n",
    "# model_b.reactions.get_by_id('EX_'+meta_test+'_e').bounds=(-1000,0)\n",
    "model_a.reactions.get_by_id('EX_glc__D_e').bounds=(0,1000)\n",
    "model_b.reactions.get_by_id('EX_glc_e').bounds=(0,1000)\n",
    "model_a.reactions.get_by_id('EX_glyc_e').bounds=(-1000,1000)\n",
    "model_b.reactions.get_by_id('EX_glyc_e').bounds=(-1000,1000)\n",
    "model_b.reactions.get_by_id('EX_lys_L_e').bounds=(-1000,1000)\n",
    "model_a.reactions.get_by_id('BIOMASS_Ec_iML1515_core_75p37M').bounds=(0.1,1000)\n",
    "model_b.reactions.get_by_id('CG_biomass_cgl_ATCC13032').bounds=(0.1,1000)\n",
    "print(\"--------A  model----------\")\n",
    "print(len(model_a.reactions))\n",
    "print(len(model_a.metabolites))\n",
    "print(len(model_a.genes) )\n",
    "print(\"--------B  model----------\")\n",
    "print(len(model_b.reactions))\n",
    "print(len(model_b.metabolites))\n",
    "print(len(model_b.genes) )\n",
    "model=deepcopy(model_a)\n",
    "for i in model.reactions:\n",
    "    i.id='A_'+i.id\n",
    "for i in model.metabolites:\n",
    "    i.id='A_'+i.id\n",
    "    i.name='A_'+i.name\n",
    "model_t=deepcopy(model_b)\n",
    "# for i in model_t.genes:\n",
    "#     i.id=i.id+'_B'\n",
    "for i in model_t.reactions:\n",
    "    i.id='B_'+i.id\n",
    "for i in model_t.metabolites:\n",
    "    i.id='B_'+i.id\n",
    "    i.name='B_'+i.name\n",
    "for i in model_t.reactions:\n",
    "    model.add_reaction(i)\n",
    "e_meta_rn={}\n",
    "for meta in model_a.metabolites:\n",
    "    if meta.compartment=='e' :\n",
    "        meta_a=model.metabolites.get_by_id('A_'+meta.id)\n",
    "        e_meta_rn[meta.id+\"_1\"]=Reaction('A_'+meta.id+'_con_1')\n",
    "        e_meta_rn[meta.id+\"_1\"].name = meta.id+' Connection 1'\n",
    "        e_meta_rn[meta.id+\"_1\"].subsystem = 'unKnow'\n",
    "        e_meta_rn[meta.id+\"_1\"].lower_bound = 0. # This is the default\n",
    "        e_meta_rn[meta.id+\"_1\"].upper_bound = 1000. # This is the default\n",
    "        e_meta_rn[meta.id+\"_1\"].add_metabolites({\n",
    "            meta_a:-1.0,\n",
    "            meta:1.0\n",
    "            })\n",
    "        model.add_reactions([e_meta_rn[meta.id+\"_1\"]])\n",
    "for meta in model_b.metabolites:\n",
    "    if meta.compartment=='e' :\n",
    "        meta_b=model_t.metabolites.get_by_id('B_'+meta.id)\n",
    "        e_meta_rn[meta.id+\"_2\"]=Reaction('B_'+meta.id+'_con_2')\n",
    "        e_meta_rn[meta.id+\"_2\"].name = meta.id+' Connection 2'\n",
    "        e_meta_rn[meta.id+\"_2\"].subsystem = 'unKnow'\n",
    "        e_meta_rn[meta.id+\"_2\"].lower_bound = -1000. # This is the default\n",
    "        e_meta_rn[meta.id+\"_2\"].upper_bound = 0. # This is the default\n",
    "        e_meta_rn[meta.id+\"_2\"].add_metabolites({\n",
    "            meta_b:1.0,\n",
    "            meta:-1.0\n",
    "            })\n",
    "        model.add_reactions([e_meta_rn[meta.id+\"_2\"]])\n",
    "origin_model1=cobra.io.load_json_model(model_origin_1515_final)\n",
    "origin_model1.medium\n",
    "for i in origin_model1.medium:\n",
    "    model.add_reaction(origin_model1.reactions.get_by_id(i))\n",
    "    ex_meta=i.split('EX_')[1]\n",
    "    model.reactions.get_by_id('A_'+ex_meta+'_con_1').bounds=(-1000,1000)\n",
    "    #model.reactions.get_by_id('B_'+ex_meta+'_con_2').bounds=(-1000,1000)\n",
    "    print('A_'+ex_meta+'_con_1')\n",
    "origin_model2=cobra.io.load_json_model(model_origin_773_lys)\n",
    "origin_model2.medium\n",
    "for i in origin_model2.medium:\n",
    "    r=model2.reactions.get_by_id(i)\n",
    "    #print(r.metabolites.keys())\n",
    "    for j in r.metabolites.keys():\n",
    "        ex_meta=j.id#print(j)\n",
    "    if 'EX_'+ex_meta not in model.medium:\n",
    "        model.add_reaction(origin_model2.reactions.get_by_id(i))\n",
    "    #model.reactions.get_by_id('A_'+ex_meta+'_con_1').bounds=(-1000,1000)\n",
    "    model.reactions.get_by_id('B_'+ex_meta+'_con_2').bounds=(-1000,1000)\n",
    "    print('A_'+ex_meta+'_con_1')\n",
    "# model.reactions.get_by_id('A_'+meta_test+'_e'+'_con_1').bounds=(-1000,1000)\n",
    "# model.reactions.get_by_id('B_'+meta_test+'_e'+'_con_2').bounds=(-1000,1000)\n",
    "for i in model.medium:\n",
    "    h=i.split('_')[0]\n",
    "    if h=='A' or h=='B':\n",
    "        model.reactions.get_by_id(i).bounds=(0,0)\n",
    "model.medium\n",
    "#model.medium\n",
    "EX_15dap_e=model1.reactions.get_by_id('EX_15dap_e')\n",
    "model.add_reaction(EX_15dap_e)\n",
    "save_json_model(model,model_1515_773_file)"
   ]
  },
  {
   "cell_type": "code",
   "execution_count": 9,
   "metadata": {},
   "outputs": [
    {
     "data": {
      "text/plain": [
       "{'EX_pi_e': 1000.0,\n",
       " 'EX_h_e': 1000.0,\n",
       " 'EX_fe3_e': 1000.0,\n",
       " 'EX_glyc_e': 10,\n",
       " 'EX_mn2_e': 1000.0,\n",
       " 'EX_co2_e': 1000.0,\n",
       " 'EX_fe2_e': 1000.0,\n",
       " 'EX_zn2_e': 1000.0,\n",
       " 'EX_mg2_e': 1000.0,\n",
       " 'EX_ca2_e': 1000.0,\n",
       " 'EX_ni2_e': 1000.0,\n",
       " 'EX_cu2_e': 1000.0,\n",
       " 'EX_cobalt2_e': 1000.0,\n",
       " 'EX_sel_e': 1000.0,\n",
       " 'EX_h2o_e': 1000.0,\n",
       " 'EX_nh4_e': 1000.0,\n",
       " 'EX_mobd_e': 1000.0,\n",
       " 'EX_so4_e': 1000.0,\n",
       " 'EX_k_e': 1000.0,\n",
       " 'EX_na1_e': 1000.0,\n",
       " 'EX_o2_e': 1000.0,\n",
       " 'EX_cl_e': 1000.0,\n",
       " 'EX_tungs_e': 1000.0,\n",
       " 'EX_slnt_e': 1000.0,\n",
       " 'EX_BIOTIN_reverse': 1000.0}"
      ]
     },
     "execution_count": 9,
     "metadata": {},
     "output_type": "execute_result"
    }
   ],
   "source": [
    "model.medium"
   ]
  },
  {
   "cell_type": "code",
   "execution_count": 10,
   "metadata": {},
   "outputs": [
    {
     "name": "stdout",
     "output_type": "stream",
     "text": [
      "IN FLUXES          OUT FLUXES       OBJECTIVES\n",
      "-----------------  ---------------  ----------------\n",
      "glyc_e  10         B_h2o_e  26.1    EX_15dap_e  2.72\n",
      "o2_e     7.41      B_co2_e   8.16\n",
      "nh4_e    7.38      15dap_e   2.72\n",
      "fe2_e    0.783     h_e       0.919\n",
      "k_e      0.146     fe3_e     0.772\n",
      "pi_e     0.146     B_xan_e   0.016\n",
      "so4_e    0.0412\n",
      "mg2_e    0.0065\n",
      "ca2_e    0.0039\n",
      "cl_e     0.0039\n",
      "cu2_e    0.000531\n",
      "mn2_e    0.000518\n",
      "zn2_e    0.000255\n",
      "ni2_e    0.000242\n"
     ]
    }
   ],
   "source": [
    "model.objective=model.reactions.get_by_id('EX_15dap_e')\n",
    "model.optimize()\n",
    "model.summary()"
   ]
  },
  {
   "cell_type": "code",
   "execution_count": 11,
   "metadata": {},
   "outputs": [],
   "source": [
    "model.reactions.get_by_id('A_lys__L_e_con_1').bounds=(-1000,0)\n",
    "model.reactions.get_by_id('B_lys__L_e_con_2').bounds=(-1000,0)\n"
   ]
  },
  {
   "cell_type": "code",
   "execution_count": 12,
   "metadata": {},
   "outputs": [
    {
     "data": {
      "text/html": [
       "\n",
       "        <table>\n",
       "            <tr>\n",
       "                <td><strong>Reaction identifier</strong></td><td>A_lys__L_e_con_1</td>\n",
       "            </tr><tr>\n",
       "                <td><strong>Name</strong></td><td>lys__L_e Connection 1</td>\n",
       "            </tr><tr>\n",
       "                <td><strong>Memory address</strong></td>\n",
       "                <td>0x02752dc05e48</td>\n",
       "            </tr><tr>\n",
       "                <td><strong>Stoichiometry</strong></td>\n",
       "                <td>\n",
       "                    <p style='text-align:right'>A_lys__L_e <-- lys__L_e</p>\n",
       "                    <p style='text-align:right'>A_L-Lysine <-- L-Lysine</p>\n",
       "                </td>\n",
       "            </tr><tr>\n",
       "                <td><strong>GPR</strong></td><td></td>\n",
       "            </tr><tr>\n",
       "                <td><strong>Lower bound</strong></td><td>-1000</td>\n",
       "            </tr><tr>\n",
       "                <td><strong>Upper bound</strong></td><td>0</td>\n",
       "            </tr>\n",
       "        </table>\n",
       "        "
      ],
      "text/plain": [
       "<Reaction A_lys__L_e_con_1 at 0x2752dc05e48>"
      ]
     },
     "execution_count": 12,
     "metadata": {},
     "output_type": "execute_result"
    }
   ],
   "source": [
    "model.reactions.get_by_id('A_lys__L_e_con_1')"
   ]
  },
  {
   "cell_type": "code",
   "execution_count": 13,
   "metadata": {},
   "outputs": [
    {
     "data": {
      "text/html": [
       "\n",
       "        <table>\n",
       "            <tr>\n",
       "                <td><strong>Reaction identifier</strong></td><td>B_lys__L_e_con_2</td>\n",
       "            </tr><tr>\n",
       "                <td><strong>Name</strong></td><td>lys__L_e Connection 2</td>\n",
       "            </tr><tr>\n",
       "                <td><strong>Memory address</strong></td>\n",
       "                <td>0x02752dddcd68</td>\n",
       "            </tr><tr>\n",
       "                <td><strong>Stoichiometry</strong></td>\n",
       "                <td>\n",
       "                    <p style='text-align:right'>lys__L_e <-- B_lys__L_e</p>\n",
       "                    <p style='text-align:right'>L-Lysine <-- B_L-Lysine</p>\n",
       "                </td>\n",
       "            </tr><tr>\n",
       "                <td><strong>GPR</strong></td><td></td>\n",
       "            </tr><tr>\n",
       "                <td><strong>Lower bound</strong></td><td>-1000</td>\n",
       "            </tr><tr>\n",
       "                <td><strong>Upper bound</strong></td><td>0</td>\n",
       "            </tr>\n",
       "        </table>\n",
       "        "
      ],
      "text/plain": [
       "<Reaction B_lys__L_e_con_2 at 0x2752dddcd68>"
      ]
     },
     "execution_count": 13,
     "metadata": {},
     "output_type": "execute_result"
    }
   ],
   "source": [
    "model.reactions.get_by_id('B_lys__L_e_con_2')"
   ]
  },
  {
   "cell_type": "code",
   "execution_count": 14,
   "metadata": {},
   "outputs": [],
   "source": [
    "#lys__L_e Synthesis\n",
    "model_1=load_json_model(model_origin_1515_final)\n",
    "model.add_reaction(model_1.reactions.EX_lys__L_e)\n",
    "save_json_model(model,model_1515_773_file)"
   ]
  },
  {
   "cell_type": "code",
   "execution_count": 15,
   "metadata": {},
   "outputs": [
    {
     "data": {
      "text/html": [
       "\n",
       "        <table>\n",
       "            <tr>\n",
       "                <td><strong>Name</strong></td>\n",
       "                <td>iML1515</td>\n",
       "            </tr><tr>\n",
       "                <td><strong>Memory address</strong></td>\n",
       "                <td>0x02752e8bb2b0</td>\n",
       "            </tr><tr>\n",
       "                <td><strong>Number of metabolites</strong></td>\n",
       "                <td>3183</td>\n",
       "            </tr><tr>\n",
       "                <td><strong>Number of reactions</strong></td>\n",
       "                <td>5146</td>\n",
       "            </tr><tr>\n",
       "                <td><strong>Objective expression</strong></td>\n",
       "                <td>1.0*EX_15dap_e - 1.0*EX_15dap_e_reverse_020d4</td>\n",
       "            </tr><tr>\n",
       "                <td><strong>Compartments</strong></td>\n",
       "                <td>cytosol, extracellular space, periplasm</td>\n",
       "            </tr>\n",
       "          </table>"
      ],
      "text/plain": [
       "<Model iML1515 at 0x2752e8bb2b0>"
      ]
     },
     "execution_count": 15,
     "metadata": {},
     "output_type": "execute_result"
    }
   ],
   "source": [
    "model=load_json_model(model_1515_773_file)\n",
    "model"
   ]
  },
  {
   "cell_type": "code",
   "execution_count": 16,
   "metadata": {},
   "outputs": [
    {
     "data": {
      "text/html": [
       "\n",
       "        <table>\n",
       "            <tr>\n",
       "                <td><strong>Reaction identifier</strong></td><td>EX_lys__L_e</td>\n",
       "            </tr><tr>\n",
       "                <td><strong>Name</strong></td><td>L-Lysine exchange</td>\n",
       "            </tr><tr>\n",
       "                <td><strong>Memory address</strong></td>\n",
       "                <td>0x027534f1c550</td>\n",
       "            </tr><tr>\n",
       "                <td><strong>Stoichiometry</strong></td>\n",
       "                <td>\n",
       "                    <p style='text-align:right'>lys__L_e --> </p>\n",
       "                    <p style='text-align:right'>L-Lysine --> </p>\n",
       "                </td>\n",
       "            </tr><tr>\n",
       "                <td><strong>GPR</strong></td><td></td>\n",
       "            </tr><tr>\n",
       "                <td><strong>Lower bound</strong></td><td>0.0</td>\n",
       "            </tr><tr>\n",
       "                <td><strong>Upper bound</strong></td><td>1000.0</td>\n",
       "            </tr>\n",
       "        </table>\n",
       "        "
      ],
      "text/plain": [
       "<Reaction EX_lys__L_e at 0x27534f1c550>"
      ]
     },
     "execution_count": 16,
     "metadata": {},
     "output_type": "execute_result"
    }
   ],
   "source": [
    "model.reactions.EX_lys__L_e"
   ]
  },
  {
   "cell_type": "code",
   "execution_count": 17,
   "metadata": {},
   "outputs": [
    {
     "name": "stdout",
     "output_type": "stream",
     "text": [
      "IN FLUXES          OUT FLUXES       OBJECTIVES\n",
      "-----------------  ---------------  ----------------\n",
      "glyc_e  10         B_h2o_e  27.2    EX_15dap_e  2.78\n",
      "o2_e     7.69      co2_e     5.91\n",
      "nh4_e    7.5       fe3_e     3.55\n",
      "fe2_e    3.56      15dap_e   2.78\n",
      "h_e      1.86      B_co2_e   1.95\n",
      "k_e      0.146     B_xan_e   0.016\n",
      "pi_e     0.146\n",
      "so4_e    0.0412\n",
      "mg2_e    0.0065\n",
      "ca2_e    0.0039\n",
      "cl_e     0.0039\n",
      "cu2_e    0.000531\n",
      "mn2_e    0.000518\n",
      "zn2_e    0.000255\n",
      "ni2_e    0.000242\n"
     ]
    }
   ],
   "source": [
    "model.objective=model.reactions.get_by_id('EX_15dap_e')\n",
    "model.optimize()\n",
    "model.summary()"
   ]
  },
  {
   "cell_type": "markdown",
   "metadata": {},
   "source": [
    "# Simulation"
   ]
  },
  {
   "cell_type": "code",
   "execution_count": 20,
   "metadata": {},
   "outputs": [],
   "source": [
    "from CulECpyD_radio import *\n",
    "from concurrent.futures import ProcessPoolExecutor, as_completed\n",
    "import datetime\n",
    "import sys\n",
    "sys.path.append(r'./')"
   ]
  },
  {
   "cell_type": "code",
   "execution_count": 21,
   "metadata": {},
   "outputs": [],
   "source": [
    "model_file=model_1515_773_file\n",
    "reaction_kcat_MW_file1='./iCW773+iML1515/data/iML1515_reaction_kcat_MW.csv'\n",
    "reaction_kcat_MW_file2='./iCW773+iML1515/data/iCW773_reaction_kcat_MW.csv'\n",
    "reaction_kcat_MW_file3='./iCW773+iML1515/data/iML1515_iCW773_reaction_kcat_MW.csv'\n",
    "Concretemodel_Need_Data=Get_Concretemodel_Need_Data_json(model_file,reaction_kcat_MW_file1,'None')"
   ]
  },
  {
   "cell_type": "code",
   "execution_count": 22,
   "metadata": {},
   "outputs": [],
   "source": [
    "Concretemodel_Need_Data['reaction_kcat_MW']=unpdate_kcat_mw_diff_hosts(Concretemodel_Need_Data['reaction_list'],reaction_kcat_MW_file1,reaction_kcat_MW_file2,reaction_kcat_MW_file3)"
   ]
  },
  {
   "cell_type": "markdown",
   "metadata": {},
   "source": [
    "Simulation Conditions"
   ]
  },
  {
   "cell_type": "code",
   "execution_count": 23,
   "metadata": {},
   "outputs": [],
   "source": [
    "Concretemodel_Need_Data['reaction_kcat_MW'].loc['A_LYSDC_num1','kcat_MW']=Concretemodel_Need_Data['reaction_kcat_MW'].loc['A_LYSDC_num1','kcat_MW']*2"
   ]
  },
  {
   "cell_type": "code",
   "execution_count": 24,
   "metadata": {},
   "outputs": [],
   "source": [
    "Concretemodel_Need_Data['reaction_kcat_MW'].loc['A_LYSDC_num2','kcat_MW']=Concretemodel_Need_Data['reaction_kcat_MW'].loc['A_LYSDC_num2','kcat_MW']*2"
   ]
  },
  {
   "cell_type": "code",
   "execution_count": 25,
   "metadata": {},
   "outputs": [],
   "source": [
    "Concretemodel_Need_Data['lb_list']['EX_lys__L_e']=0.1"
   ]
  },
  {
   "cell_type": "code",
   "execution_count": 26,
   "metadata": {},
   "outputs": [],
   "source": [
    "list_x=[1,1,1,2,3]\n",
    "list_y=[3,2,1,1,1]"
   ]
  },
  {
   "cell_type": "markdown",
   "metadata": {},
   "source": [
    "Simulated Results"
   ]
  },
  {
   "cell_type": "code",
   "execution_count": 27,
   "metadata": {},
   "outputs": [
    {
     "name": "stdout",
     "output_type": "stream",
     "text": [
      "0:00:13.762233\n",
      "{<Future at 0x27537758cc0 state=finished returned float>: 0, <Future at 0x2753775eba8 state=finished returned float>: 1, <Future at 0x2753775ec88 state=finished returned float>: 2, <Future at 0x2753775eda0 state=finished returned float>: 3, <Future at 0x2753775eef0 state=finished returned float>: 4}\n"
     ]
    }
   ],
   "source": [
    "if __name__ == \"__main__\":\n",
    "    pool=ProcessPoolExecutor(max_workers=8)\n",
    "    with pool as executor:\n",
    "        start = datetime.datetime.now()\n",
    "        #print(\"pass_2\")\n",
    "        tmp=[]\n",
    "        futures = {executor.submit(diff_subs_iML_iCW,Concretemodel_Need_Data,(list_x[i],list_y[i]),{'EX_glyc_e_reverse':100},'EX_15dap_e'): i for i in range(0,len(list_x))}\n",
    "        # for future in as_completed(futures):\n",
    "        #     tmp.append(future.result())\n",
    "    end = datetime.datetime.now()\n",
    "    print (end - start)\n",
    "    print(futures)"
   ]
  },
  {
   "cell_type": "code",
   "execution_count": 28,
   "metadata": {},
   "outputs": [
    {
     "name": "stdout",
     "output_type": "stream",
     "text": [
      "A:B=2:1\n",
      "9.68769841161547\n",
      "A:B=1:2\n",
      "5.116174649405624\n",
      "A:B=3:1\n",
      "12.048507054125869\n",
      "A:B=1:3\n",
      "5.116188668789669\n",
      "A:B=1:1\n",
      "5.116174649405597\n"
     ]
    },
    {
     "data": {
      "text/html": [
       "<div>\n",
       "<style scoped>\n",
       "    .dataframe tbody tr th:only-of-type {\n",
       "        vertical-align: middle;\n",
       "    }\n",
       "\n",
       "    .dataframe tbody tr th {\n",
       "        vertical-align: top;\n",
       "    }\n",
       "\n",
       "    .dataframe thead th {\n",
       "        text-align: right;\n",
       "    }\n",
       "</style>\n",
       "<table border=\"1\" class=\"dataframe\">\n",
       "  <thead>\n",
       "    <tr style=\"text-align: right;\">\n",
       "      <th></th>\n",
       "      <th>flux</th>\n",
       "    </tr>\n",
       "  </thead>\n",
       "  <tbody>\n",
       "    <tr>\n",
       "      <th>1:3</th>\n",
       "      <td>5.116189</td>\n",
       "    </tr>\n",
       "    <tr>\n",
       "      <th>1:2</th>\n",
       "      <td>5.116175</td>\n",
       "    </tr>\n",
       "    <tr>\n",
       "      <th>1:1</th>\n",
       "      <td>5.116175</td>\n",
       "    </tr>\n",
       "    <tr>\n",
       "      <th>2:1</th>\n",
       "      <td>9.687698</td>\n",
       "    </tr>\n",
       "    <tr>\n",
       "      <th>3:1</th>\n",
       "      <td>12.048507</td>\n",
       "    </tr>\n",
       "  </tbody>\n",
       "</table>\n",
       "</div>"
      ],
      "text/plain": [
       "          flux\n",
       "1:3   5.116189\n",
       "1:2   5.116175\n",
       "1:1   5.116175\n",
       "2:1   9.687698\n",
       "3:1  12.048507"
      ]
     },
     "execution_count": 28,
     "metadata": {},
     "output_type": "execute_result"
    }
   ],
   "source": [
    "result_list_mass=pd.DataFrame()\n",
    "for future in as_completed(futures):\n",
    "    x=list_x[futures[future]]\n",
    "    y=list_y[futures[future]]\n",
    "    real=1\n",
    "    real_x=int(x*real)\n",
    "    real_y=int(y*real)\n",
    "    print('A:B='+str(real_x)+':'+str(real_y))\n",
    "    print(future.result())\n",
    "    result_list_mass.at[str(real_x)+':'+str(real_y),'flux']=future.result()\n",
    "result_list=pd.DataFrame()\n",
    "for i in range(0,len(list_x)):\n",
    "    real=1\n",
    "    real_x=int(list_x[i]*real)\n",
    "    real_y=int(list_y[i]*real)\n",
    "    result_list.at[str(real_x)+':'+str(real_y),'flux']=result_list_mass.at[str(real_x)+':'+str(real_y),'flux']\n",
    "result_list"
   ]
  }
 ],
 "metadata": {
  "kernelspec": {
   "display_name": "Python 3.6.5 ('xby')",
   "language": "python",
   "name": "python3"
  },
  "language_info": {
   "codemirror_mode": {
    "name": "ipython",
    "version": 3
   },
   "file_extension": ".py",
   "mimetype": "text/x-python",
   "name": "python",
   "nbconvert_exporter": "python",
   "pygments_lexer": "ipython3",
   "version": "3.6.5"
  },
  "orig_nbformat": 4,
  "vscode": {
   "interpreter": {
    "hash": "678f2c0cb67aa00dbc6da583138b0769cb8531f72b670a012e2187460f06e842"
   }
  }
 },
 "nbformat": 4,
 "nbformat_minor": 2
}
