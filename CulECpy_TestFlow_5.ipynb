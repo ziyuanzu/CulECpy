{
 "cells": [
  {
   "cell_type": "code",
   "execution_count": 1,
   "metadata": {},
   "outputs": [],
   "source": [
    "import cobra\n",
    "import re\n",
    "from cobra import Model, Reaction, Metabolite\n",
    "from cobra.flux_analysis import pfba\n",
    "import pandas as pd\n",
    "import numpy as np\n",
    "import xlrd\n",
    "import re\n",
    "import openpyxl\n",
    "from metnet import pathway \n",
    "import sys\n",
    "sys.path.append(r'./')\n",
    "from COBRApy_ECM_funcation import *\n",
    "from metnet import sbml_excel\n",
    "import os\n",
    "from copy import copy, deepcopy\n",
    "import numpy as np\n",
    "from cobra.io import write_sbml_model,save_json_model\n",
    "from ec_code.cobrapy_ec_model_function import convert_to_irreversible,isoenzyme_split"
   ]
  },
  {
   "cell_type": "code",
   "execution_count": 2,
   "metadata": {},
   "outputs": [],
   "source": [
    "from cobra.io import write_sbml_model,save_json_model,load_json_model,read_sbml_model"
   ]
  },
  {
   "cell_type": "code",
   "execution_count": 3,
   "metadata": {},
   "outputs": [],
   "source": [
    "model_origin_name='./new_idea_AGGD/model/iML1515_new.json'\n",
    "model_new='./new_idea_AGGD/model/iML1515_AG.json'\n",
    "model_new2='./new_idea_AGGD/model/iML1515_GD.json'\n",
    "model_new3='./new_idea_AGGD/model/iML1515_GD_26.json'"
   ]
  },
  {
   "cell_type": "code",
   "execution_count": 4,
   "metadata": {},
   "outputs": [],
   "source": [
    "model_ab_json_new='./new_idea_AGGD/model/iML1515_AGGD_change.json'"
   ]
  },
  {
   "cell_type": "markdown",
   "metadata": {},
   "source": [
    "## model_info"
   ]
  },
  {
   "cell_type": "markdown",
   "metadata": {},
   "source": [
    "### A"
   ]
  },
  {
   "cell_type": "code",
   "execution_count": 4,
   "metadata": {},
   "outputs": [],
   "source": [
    "model = cobra.io.load_json_model(model_origin_name)"
   ]
  },
  {
   "cell_type": "code",
   "execution_count": 5,
   "metadata": {},
   "outputs": [],
   "source": [
    "model.reactions.get_by_id('EX_xyl__D_e').bounds=(-10,1000)\n",
    "model.reactions.get_by_id('EX_glc__D_e').bounds=(0,1000)"
   ]
  },
  {
   "cell_type": "markdown",
   "metadata": {},
   "source": [
    "### A knockout"
   ]
  },
  {
   "cell_type": "code",
   "execution_count": 6,
   "metadata": {},
   "outputs": [
    {
     "data": {
      "text/html": [
       "\n",
       "        <table>\n",
       "            <tr>\n",
       "                <td><strong>Reaction identifier</strong></td><td>GLCptspp</td>\n",
       "            </tr><tr>\n",
       "                <td><strong>Name</strong></td><td>D-glucose transport via PEP:Pyr PTS (periplasm)</td>\n",
       "            </tr><tr>\n",
       "                <td><strong>Memory address</strong></td>\n",
       "                <td>0x01e7a3422588</td>\n",
       "            </tr><tr>\n",
       "                <td><strong>Stoichiometry</strong></td>\n",
       "                <td>\n",
       "                    <p style='text-align:right'>glc__D_p + pep_c --> g6p_c + pyr_c</p>\n",
       "                    <p style='text-align:right'>D-Glucose + Phosphoenolpyruvate --> D-Glucose 6-phosphate + Pyruvate</p>\n",
       "                </td>\n",
       "            </tr><tr>\n",
       "                <td><strong>GPR</strong></td><td>( b2415 and b1101 and b2416 and b2417 ) or ( b2417 and b1621 and b2415 and b2416 ) or ( b1817 and...</td>\n",
       "            </tr><tr>\n",
       "                <td><strong>Lower bound</strong></td><td>0.0</td>\n",
       "            </tr><tr>\n",
       "                <td><strong>Upper bound</strong></td><td>1000.0</td>\n",
       "            </tr>\n",
       "        </table>\n",
       "        "
      ],
      "text/plain": [
       "<Reaction GLCptspp at 0x1e7a3422588>"
      ]
     },
     "execution_count": 6,
     "metadata": {},
     "output_type": "execute_result"
    }
   ],
   "source": [
    "#ptsG/manZ\n",
    "model.reactions.get_by_id('GLCptspp')#.bounds=(0,0)"
   ]
  },
  {
   "cell_type": "code",
   "execution_count": 7,
   "metadata": {},
   "outputs": [
    {
     "name": "stdout",
     "output_type": "stream",
     "text": [
      "PYK: adp_c + h_c + pep_c --> atp_c + pyr_c\n",
      "PYK2: h_c + pep_c + udp_c --> pyr_c + utp_c\n",
      "PYK3: gdp_c + h_c + pep_c --> gtp_c + pyr_c\n",
      "PYK4: cdp_c + h_c + pep_c --> ctp_c + pyr_c\n",
      "PYK6: dtdp_c + h_c + pep_c --> dttp_c + pyr_c\n"
     ]
    }
   ],
   "source": [
    "#PYK\n",
    "PYK=['PYK','PYK2','PYK3','PYK4','PYK6']\n",
    "for i in PYK:\n",
    "    print(model.reactions.get_by_id(i))\n",
    "    model.reactions.get_by_id(i).bounds=(0,0)"
   ]
  },
  {
   "cell_type": "code",
   "execution_count": 32,
   "metadata": {},
   "outputs": [
    {
     "name": "stdout",
     "output_type": "stream",
     "text": [
      "PPNDH: h_c + pphn_c --> co2_c + h2o_c + phpyr_c\n",
      "ALDD19xr: h2o_c + nad_c + pacald_c --> 2.0 h_c + nadh_c + pac_c\n"
     ]
    }
   ],
   "source": [
    "#pheA PPNDH\n",
    "print(model.reactions.get_by_id('PPNDH'))\n",
    "model.reactions.get_by_id('PPNDH').bounds=(0,0)\n",
    "#feaB ALDD19xr NO KNOCK\n",
    "print(model.reactions.get_by_id('ALDD19xr'))\n",
    "model.reactions.get_by_id('ALDD19xr').bounds=(-1000,1000)"
   ]
  },
  {
   "cell_type": "code",
   "execution_count": 9,
   "metadata": {},
   "outputs": [
    {
     "name": "stdout",
     "output_type": "stream",
     "text": [
      "PPND: nad_c + pphn_c --> 34hpp_c + co2_c + nadh_c\n"
     ]
    },
    {
     "data": {
      "text/html": [
       "\n",
       "        <table>\n",
       "            <tr>\n",
       "                <td><strong>Reaction identifier</strong></td><td>PPND</td>\n",
       "            </tr><tr>\n",
       "                <td><strong>Name</strong></td><td>Prephenate dehydrogenase</td>\n",
       "            </tr><tr>\n",
       "                <td><strong>Memory address</strong></td>\n",
       "                <td>0x01e7a2ded198</td>\n",
       "            </tr><tr>\n",
       "                <td><strong>Stoichiometry</strong></td>\n",
       "                <td>\n",
       "                    <p style='text-align:right'>nad_c + pphn_c --> 34hpp_c + co2_c + nadh_c</p>\n",
       "                    <p style='text-align:right'>Nicotinamide adenine dinucleotide + Prephenate --> 3-(4-Hydroxyphenyl)pyruvate + CO2 CO2 + Nicotinamide adenine dinucleotide - reduced</p>\n",
       "                </td>\n",
       "            </tr><tr>\n",
       "                <td><strong>GPR</strong></td><td>b2600</td>\n",
       "            </tr><tr>\n",
       "                <td><strong>Lower bound</strong></td><td>0.0</td>\n",
       "            </tr><tr>\n",
       "                <td><strong>Upper bound</strong></td><td>1000.0</td>\n",
       "            </tr>\n",
       "        </table>\n",
       "        "
      ],
      "text/plain": [
       "<Reaction PPND at 0x1e7a2ded198>"
      ]
     },
     "execution_count": 9,
     "metadata": {},
     "output_type": "execute_result"
    }
   ],
   "source": [
    "#tyrA PPMD\n",
    "print(model.reactions.get_by_id('PPND'))\n",
    "model.reactions.get_by_id('PPND')"
   ]
  },
  {
   "cell_type": "code",
   "execution_count": 10,
   "metadata": {},
   "outputs": [
    {
     "name": "stdout",
     "output_type": "stream",
     "text": [
      "ACMANAptspp: acmana_p + pep_c --> acmanap_c + pyr_c\n"
     ]
    }
   ],
   "source": [
    "#ACMANAptspp manZ\n",
    "print(model.reactions.get_by_id('ACMANAptspp'))\n",
    "model.reactions.get_by_id('ACMANAptspp').bounds=(0,0)"
   ]
  },
  {
   "cell_type": "code",
   "execution_count": 11,
   "metadata": {},
   "outputs": [
    {
     "name": "stdout",
     "output_type": "stream",
     "text": [
      "MANptspp: man_p + pep_c --> man6p_c + pyr_c\n"
     ]
    }
   ],
   "source": [
    "#MANptspp manZ\n",
    "print(model.reactions.get_by_id('MANptspp'))\n",
    "model.reactions.get_by_id('MANptspp').bounds=(0,0)"
   ]
  },
  {
   "cell_type": "code",
   "execution_count": 12,
   "metadata": {},
   "outputs": [
    {
     "name": "stdout",
     "output_type": "stream",
     "text": [
      "FRUpts2pp: fru_p + pep_c --> f6p_c + pyr_c\n"
     ]
    }
   ],
   "source": [
    "#FRUpts2pp manZ\n",
    "print(model.reactions.get_by_id('FRUpts2pp'))\n",
    "model.reactions.get_by_id('FRUpts2pp').bounds=(0,0)"
   ]
  },
  {
   "cell_type": "code",
   "execution_count": 13,
   "metadata": {},
   "outputs": [
    {
     "name": "stdout",
     "output_type": "stream",
     "text": [
      "2DGLCptspp: 2dglc_p + pep_c --> 2doxg6p_c + pyr_c\n"
     ]
    }
   ],
   "source": [
    "#2DGLCptspp manZ\n",
    "print(model.reactions.get_by_id('2DGLCptspp'))\n",
    "model.reactions.get_by_id('2DGLCptspp').bounds=(0,0)"
   ]
  },
  {
   "cell_type": "markdown",
   "metadata": {},
   "source": [
    "### A add"
   ]
  },
  {
   "cell_type": "code",
   "execution_count": 30,
   "metadata": {},
   "outputs": [
    {
     "data": {
      "text/html": [
       "\n",
       "        <table>\n",
       "            <tr>\n",
       "                <td><strong>Metabolite identifier</strong></td><td>hoxpacd_c</td>\n",
       "            </tr><tr>\n",
       "                <td><strong>Name</strong></td><td>4-Hydroxyphenylacetaldehyde</td>\n",
       "            </tr><tr>\n",
       "                <td><strong>Memory address</strong></td>\n",
       "                <td>0x01e7a22cb8d0</td>\n",
       "            </tr><tr>\n",
       "                <td><strong>Formula</strong></td><td>C8H8O2</td>\n",
       "            </tr><tr>\n",
       "                <td><strong>Compartment</strong></td><td>c</td>\n",
       "            </tr><tr>\n",
       "                <td><strong>In 0 reaction(s)</strong></td><td>\n",
       "                    </td>\n",
       "            </tr>\n",
       "        </table>"
      ],
      "text/plain": [
       "<Metabolite hoxpacd_c at 0x1e7a22cb8d0>"
      ]
     },
     "execution_count": 30,
     "metadata": {},
     "output_type": "execute_result"
    }
   ],
   "source": [
    "hoxpacd_c=deepcopy(model.metabolites.get_by_id('4hoxpacd_e'))\n",
    "hoxpacd_c.compartment='c'\n",
    "hoxpacd_c.id='hoxpacd_c'\n",
    "hoxpacd_c"
   ]
  },
  {
   "cell_type": "code",
   "execution_count": 27,
   "metadata": {},
   "outputs": [
    {
     "data": {
      "text/html": [
       "\n",
       "        <table>\n",
       "            <tr>\n",
       "                <td><strong>Metabolite identifier</strong></td><td>4hoxpacd_e</td>\n",
       "            </tr><tr>\n",
       "                <td><strong>Name</strong></td><td>4-Hydroxyphenylacetaldehyde</td>\n",
       "            </tr><tr>\n",
       "                <td><strong>Memory address</strong></td>\n",
       "                <td>0x01e7a1fe15f8</td>\n",
       "            </tr><tr>\n",
       "                <td><strong>Formula</strong></td><td>C8H8O2</td>\n",
       "            </tr><tr>\n",
       "                <td><strong>Compartment</strong></td><td>e</td>\n",
       "            </tr><tr>\n",
       "                <td><strong>In 2 reaction(s)</strong></td><td>\n",
       "                    EX_4hoxpacd_e, 4HOXPACDtex</td>\n",
       "            </tr>\n",
       "        </table>"
      ],
      "text/plain": [
       "<Metabolite 4hoxpacd_e at 0x1e7a1fe15f8>"
      ]
     },
     "execution_count": 27,
     "metadata": {},
     "output_type": "execute_result"
    }
   ],
   "source": [
    "model.metabolites.get_by_id('4hoxpacd_e')"
   ]
  },
  {
   "cell_type": "code",
   "execution_count": 24,
   "metadata": {},
   "outputs": [
    {
     "data": {
      "text/html": [
       "\n",
       "        <table>\n",
       "            <tr>\n",
       "                <td><strong>Metabolite identifier</strong></td><td>4hoxpacd_p</td>\n",
       "            </tr><tr>\n",
       "                <td><strong>Name</strong></td><td>4-Hydroxyphenylacetaldehyde</td>\n",
       "            </tr><tr>\n",
       "                <td><strong>Memory address</strong></td>\n",
       "                <td>0x01e7a205bf28</td>\n",
       "            </tr><tr>\n",
       "                <td><strong>Formula</strong></td><td>C8H8O2</td>\n",
       "            </tr><tr>\n",
       "                <td><strong>Compartment</strong></td><td>p</td>\n",
       "            </tr><tr>\n",
       "                <td><strong>In 2 reaction(s)</strong></td><td>\n",
       "                    4HOXPACDtex, TYROXDApp</td>\n",
       "            </tr>\n",
       "        </table>"
      ],
      "text/plain": [
       "<Metabolite 4hoxpacd_p at 0x1e7a205bf28>"
      ]
     },
     "execution_count": 24,
     "metadata": {},
     "output_type": "execute_result"
    }
   ],
   "source": [
    "model.metabolites.get_by_id('4hoxpacd_p')"
   ]
  },
  {
   "cell_type": "code",
   "execution_count": 28,
   "metadata": {},
   "outputs": [
    {
     "data": {
      "text/html": [
       "\n",
       "        <table>\n",
       "            <tr>\n",
       "                <td><strong>Reaction identifier</strong></td><td>EX_4hoxpacd_e</td>\n",
       "            </tr><tr>\n",
       "                <td><strong>Name</strong></td><td>4-Hydroxyphenylacetaldehyde exchange</td>\n",
       "            </tr><tr>\n",
       "                <td><strong>Memory address</strong></td>\n",
       "                <td>0x01e7a376c828</td>\n",
       "            </tr><tr>\n",
       "                <td><strong>Stoichiometry</strong></td>\n",
       "                <td>\n",
       "                    <p style='text-align:right'>4hoxpacd_e --> </p>\n",
       "                    <p style='text-align:right'>4-Hydroxyphenylacetaldehyde --> </p>\n",
       "                </td>\n",
       "            </tr><tr>\n",
       "                <td><strong>GPR</strong></td><td></td>\n",
       "            </tr><tr>\n",
       "                <td><strong>Lower bound</strong></td><td>0.0</td>\n",
       "            </tr><tr>\n",
       "                <td><strong>Upper bound</strong></td><td>1000.0</td>\n",
       "            </tr>\n",
       "        </table>\n",
       "        "
      ],
      "text/plain": [
       "<Reaction EX_4hoxpacd_e at 0x1e7a376c828>"
      ]
     },
     "execution_count": 28,
     "metadata": {},
     "output_type": "execute_result"
    }
   ],
   "source": [
    "model.reactions.get_by_id('EX_4hoxpacd_e')"
   ]
  },
  {
   "cell_type": "code",
   "execution_count": 26,
   "metadata": {},
   "outputs": [
    {
     "data": {
      "text/html": [
       "\n",
       "        <table>\n",
       "            <tr>\n",
       "                <td><strong>Reaction identifier</strong></td><td>ALDD19xr</td>\n",
       "            </tr><tr>\n",
       "                <td><strong>Name</strong></td><td>Aldehyde dehydrogenase (phenylacetaldehyde, NAD)</td>\n",
       "            </tr><tr>\n",
       "                <td><strong>Memory address</strong></td>\n",
       "                <td>0x01e7a3c5a0b8</td>\n",
       "            </tr><tr>\n",
       "                <td><strong>Stoichiometry</strong></td>\n",
       "                <td>\n",
       "                    <p style='text-align:right'>h2o_c + nad_c + pacald_c --> 2.0 h_c + nadh_c + pac_c</p>\n",
       "                    <p style='text-align:right'>H2O H2O + Nicotinamide adenine dinucleotide + Phenylacetaldehyde --> 2.0 H+ + Nicotinamide adenine dinucleotide - reduced + Phenylacetic acid</p>\n",
       "                </td>\n",
       "            </tr><tr>\n",
       "                <td><strong>GPR</strong></td><td>b1385</td>\n",
       "            </tr><tr>\n",
       "                <td><strong>Lower bound</strong></td><td>0</td>\n",
       "            </tr><tr>\n",
       "                <td><strong>Upper bound</strong></td><td>0</td>\n",
       "            </tr>\n",
       "        </table>\n",
       "        "
      ],
      "text/plain": [
       "<Reaction ALDD19xr at 0x1e7a3c5a0b8>"
      ]
     },
     "execution_count": 26,
     "metadata": {},
     "output_type": "execute_result"
    }
   ],
   "source": [
    "model.reactions.get_by_id('ALDD19xr')"
   ]
  },
  {
   "cell_type": "code",
   "execution_count": null,
   "metadata": {},
   "outputs": [],
   "source": [
    "hpp_c"
   ]
  },
  {
   "cell_type": "code",
   "execution_count": null,
   "metadata": {},
   "outputs": [],
   "source": [
    "hpp_c=model.metabolites.get_by_id('34hpp_c')\n",
    "h_c=model.metabolites.get_by_id('h_c')\n",
    "co2_c=model.metabolites.get_by_id('co2_c')\n",
    "PDC=Reaction(\"PDC\")\n",
    "PDC.name='pyruvate decarboxylase'\n",
    "PDC.subsystem='unknow'\n",
    "PDC.lower_bound=0\n",
    "PDC.upper_bound=1000\n",
    "PDC.add_metabolites({\n",
    "    hpp_c:-1.0,\n",
    "    h_c:-1.0,\n",
    "    co2_c:1.0,\n",
    "    hoxpacd_c:1.0\n",
    "})\n",
    "PDC"
   ]
  },
  {
   "cell_type": "code",
   "execution_count": 33,
   "metadata": {},
   "outputs": [],
   "source": [
    "Tyrosol_c=Metabolite('Tyrosol_c',\n",
    "                formula='C8H10O2',\n",
    "                name='Tyrosol',\n",
    "                compartment='c'\n",
    "                )"
   ]
  },
  {
   "cell_type": "code",
   "execution_count": 34,
   "metadata": {},
   "outputs": [],
   "source": [
    "Tyrosol_e=Metabolite('Tyrosol_e',\n",
    "                formula='C8H10O2',\n",
    "                name='Tyrosol',\n",
    "                compartment='e'\n",
    "                )"
   ]
  },
  {
   "cell_type": "code",
   "execution_count": 35,
   "metadata": {},
   "outputs": [],
   "source": [
    "EX_Tyrosol_e=Reaction(\"EX_Tyrosol_e\")\n",
    "EX_Tyrosol_e.name='Tyrosol_e exchange'\n",
    "EX_Tyrosol_e.subsystem='unknow'\n",
    "EX_Tyrosol_e.lower_bound=0\n",
    "EX_Tyrosol_e.upper_bound=1000\n",
    "EX_Tyrosol_e.add_metabolites({\n",
    "    Tyrosol_e:-1.0\n",
    "})\n",
    "Tyrosol_c2e=Reaction(\"Tyrosol_c2e\")\n",
    "Tyrosol_c2e.name='4adcho_c2e'\n",
    "Tyrosol_c2e.subsystem='unknow'\n",
    "Tyrosol_c2e.lower_bound=-1000\n",
    "Tyrosol_c2e.upper_bound=1000\n",
    "Tyrosol_c2e.add_metabolites({\n",
    "    Tyrosol_c:-1.0,\n",
    "    Tyrosol_e:1.0\n",
    "})\n",
    "model.add_reactions([EX_Tyrosol_e])\n",
    "model.add_reactions([Tyrosol_c2e])"
   ]
  },
  {
   "cell_type": "code",
   "execution_count": 36,
   "metadata": {},
   "outputs": [
    {
     "data": {
      "text/html": [
       "\n",
       "        <table>\n",
       "            <tr>\n",
       "                <td><strong>Metabolite identifier</strong></td><td>phpyr_e</td>\n",
       "            </tr><tr>\n",
       "                <td><strong>Name</strong></td><td>Phenylpyruvate</td>\n",
       "            </tr><tr>\n",
       "                <td><strong>Memory address</strong></td>\n",
       "                <td>0x01e7a22d4908</td>\n",
       "            </tr><tr>\n",
       "                <td><strong>Formula</strong></td><td>C9H7O3</td>\n",
       "            </tr><tr>\n",
       "                <td><strong>Compartment</strong></td><td>e</td>\n",
       "            </tr><tr>\n",
       "                <td><strong>In 0 reaction(s)</strong></td><td>\n",
       "                    </td>\n",
       "            </tr>\n",
       "        </table>"
      ],
      "text/plain": [
       "<Metabolite phpyr_e at 0x1e7a22d4908>"
      ]
     },
     "execution_count": 36,
     "metadata": {},
     "output_type": "execute_result"
    }
   ],
   "source": [
    "phpyr_c=model.metabolites.get_by_id('phpyr_c')\n",
    "phpyr_e=deepcopy(phpyr_c)\n",
    "phpyr_e.compartment='e'\n",
    "phpyr_e.id='phpyr_e'\n",
    "phpyr_e"
   ]
  },
  {
   "cell_type": "code",
   "execution_count": 37,
   "metadata": {},
   "outputs": [],
   "source": [
    "EX_phpyr_e=Reaction(\"EX_phpyr_e\")\n",
    "EX_phpyr_e.name='phpyr_e exchange'\n",
    "EX_phpyr_e.subsystem='unknow'\n",
    "EX_phpyr_e.lower_bound=-1000\n",
    "EX_phpyr_e.upper_bound=1000\n",
    "EX_phpyr_e.add_metabolites({\n",
    "    phpyr_e:-1.0\n",
    "})\n",
    "phpyr_c2e=Reaction(\"phpyr_c2e\")\n",
    "phpyr_c2e.name='phpyr_c2e'\n",
    "phpyr_c2e.subsystem='unknow'\n",
    "phpyr_c2e.lower_bound=-1000\n",
    "phpyr_c2e.upper_bound=1000\n",
    "phpyr_c2e.add_metabolites({\n",
    "    phpyr_c:-1.0,\n",
    "    phpyr_e:1.0\n",
    "})\n",
    "model.add_reactions([EX_phpyr_e])\n",
    "model.add_reactions([phpyr_c2e])"
   ]
  },
  {
   "cell_type": "code",
   "execution_count": 38,
   "metadata": {},
   "outputs": [
    {
     "data": {
      "text/html": [
       "\n",
       "        <table>\n",
       "            <tr>\n",
       "                <td><strong>Reaction identifier</strong></td><td>ADH</td>\n",
       "            </tr><tr>\n",
       "                <td><strong>Name</strong></td><td>alcohol dehydrogenase</td>\n",
       "            </tr><tr>\n",
       "                <td><strong>Memory address</strong></td>\n",
       "                <td>0x01e7a22fe860</td>\n",
       "            </tr><tr>\n",
       "                <td><strong>Stoichiometry</strong></td>\n",
       "                <td>\n",
       "                    <p style='text-align:right'>h_c + hoxpacd_c + nadh_c --> Tyrosol_c + nad_c</p>\n",
       "                    <p style='text-align:right'>H+ + 4-Hydroxyphenylacetaldehyde + Nicotinamide adenine dinucleotide - reduced --> Tyrosol + Nicotinamide adenine dinucleotide</p>\n",
       "                </td>\n",
       "            </tr><tr>\n",
       "                <td><strong>GPR</strong></td><td></td>\n",
       "            </tr><tr>\n",
       "                <td><strong>Lower bound</strong></td><td>0</td>\n",
       "            </tr><tr>\n",
       "                <td><strong>Upper bound</strong></td><td>1000</td>\n",
       "            </tr>\n",
       "        </table>\n",
       "        "
      ],
      "text/plain": [
       "<Reaction ADH at 0x1e7a22fe860>"
      ]
     },
     "execution_count": 38,
     "metadata": {},
     "output_type": "execute_result"
    }
   ],
   "source": [
    "nad_c=model.metabolites.get_by_id('nad_c')\n",
    "h_c=model.metabolites.get_by_id('h_c')\n",
    "nadh_c=model.metabolites.get_by_id('nadh_c')\n",
    "ADH=Reaction(\"ADH\")\n",
    "ADH.name='alcohol dehydrogenase'\n",
    "ADH.subsystem='unknow'\n",
    "ADH.lower_bound=0\n",
    "ADH.upper_bound=1000\n",
    "ADH.add_metabolites({\n",
    "    hoxpacd_c:-1.0,\n",
    "    nadh_c:-1.0,\n",
    "    h_c:-1.0,\n",
    "    nad_c:1.0,\n",
    "    Tyrosol_c:1.0\n",
    "})\n",
    "ADH"
   ]
  },
  {
   "cell_type": "code",
   "execution_count": 39,
   "metadata": {},
   "outputs": [],
   "source": [
    "model.add_reactions([PDC])\n",
    "model.add_reactions([ADH])"
   ]
  },
  {
   "cell_type": "code",
   "execution_count": 40,
   "metadata": {},
   "outputs": [],
   "source": [
    "product = model.metabolites.get_by_id('Tyrosol_c')\n",
    "demand= model.add_boundary(product, type='demand')  # add demand reaction as the objective\n",
    "model.objective = demand"
   ]
  },
  {
   "cell_type": "code",
   "execution_count": 42,
   "metadata": {},
   "outputs": [],
   "source": [
    "model.reactions.BIOMASS_Ec_iML1515_core_75p37M.bounds=(0.1,1000)"
   ]
  },
  {
   "cell_type": "code",
   "execution_count": 45,
   "metadata": {},
   "outputs": [],
   "source": [
    "model.reactions.EX_tyr__L_e.bounds=(0.1,1000)"
   ]
  },
  {
   "cell_type": "code",
   "execution_count": 46,
   "metadata": {},
   "outputs": [
    {
     "name": "stdout",
     "output_type": "stream",
     "text": [
      "IN FLUXES            OUT FLUXES      OBJECTIVES\n",
      "-------------------  --------------  ------------------\n",
      "xyl__D_e  10         h2o_e     28.4  DM_Tyrosol_c  3.96\n",
      "o2_e       7.26      co2_e     13.5\n",
      "nh4_e      1.18      h_e        1\n",
      "pi_e       0.0965    tyr__L_e   0.1\n",
      "so4_e      0.0252\n",
      "k_e        0.0195\n",
      "phpyr_e    0.0185\n",
      "fe2_e      0.00161\n",
      "mg2_e      0.000868\n",
      "ca2_e      0.000521\n",
      "cl_e       0.000521\n",
      "cu2_e      7.09e-05\n",
      "mn2_e      6.91e-05\n",
      "zn2_e      3.41e-05\n",
      "ni2_e      3.23e-05\n"
     ]
    }
   ],
   "source": [
    "model.optimize()\n",
    "model.summary()"
   ]
  },
  {
   "cell_type": "code",
   "execution_count": 47,
   "metadata": {},
   "outputs": [
    {
     "data": {
      "text/plain": [
       "{'EX_pi_e': 1000.0,\n",
       " 'EX_h_e': 1000.0,\n",
       " 'EX_fe3_e': 1000.0,\n",
       " 'EX_mn2_e': 1000.0,\n",
       " 'EX_co2_e': 1000.0,\n",
       " 'EX_fe2_e': 1000.0,\n",
       " 'EX_xyl__D_e': 10,\n",
       " 'EX_zn2_e': 1000.0,\n",
       " 'EX_mg2_e': 1000.0,\n",
       " 'EX_ca2_e': 1000.0,\n",
       " 'EX_ni2_e': 1000.0,\n",
       " 'EX_cu2_e': 1000.0,\n",
       " 'EX_cobalt2_e': 1000.0,\n",
       " 'EX_sel_e': 1000.0,\n",
       " 'EX_h2o_e': 1000.0,\n",
       " 'EX_nh4_e': 1000.0,\n",
       " 'EX_mobd_e': 1000.0,\n",
       " 'EX_so4_e': 1000.0,\n",
       " 'EX_k_e': 1000.0,\n",
       " 'EX_na1_e': 1000.0,\n",
       " 'EX_o2_e': 1000.0,\n",
       " 'EX_cl_e': 1000.0,\n",
       " 'EX_tungs_e': 1000.0,\n",
       " 'EX_slnt_e': 1000.0,\n",
       " 'EX_phpyr_e': 1000}"
      ]
     },
     "execution_count": 47,
     "metadata": {},
     "output_type": "execute_result"
    }
   ],
   "source": [
    "model.medium"
   ]
  },
  {
   "cell_type": "code",
   "execution_count": 48,
   "metadata": {},
   "outputs": [],
   "source": [
    "save_json_model(model,model_new)"
   ]
  },
  {
   "cell_type": "code",
   "execution_count": 49,
   "metadata": {},
   "outputs": [],
   "source": [
    "write_sbml_model(model,model_new.split('.json')[0]+'.xml')"
   ]
  },
  {
   "cell_type": "code",
   "execution_count": 50,
   "metadata": {},
   "outputs": [
    {
     "name": "stdout",
     "output_type": "stream",
     "text": [
      "./new_idea_AGGD/model/iML1515_AG.xlsx\n"
     ]
    }
   ],
   "source": [
    "sbml_excel(model_new.split('.json')[0]+'.xml',model_new.split('.json')[0]+'.xlsx')"
   ]
  },
  {
   "cell_type": "markdown",
   "metadata": {},
   "source": [
    "### B"
   ]
  },
  {
   "cell_type": "code",
   "execution_count": 1061,
   "metadata": {},
   "outputs": [],
   "source": [
    "model = cobra.io.load_json_model(model_origin_name)"
   ]
  },
  {
   "cell_type": "code",
   "execution_count": 1062,
   "metadata": {},
   "outputs": [],
   "source": [
    "model.reactions.get_by_id('EX_glc__D_e').bounds=(-10,1000)\n",
    "model.reactions.get_by_id('EX_xyl__D_e').bounds=(0,1000)"
   ]
  },
  {
   "cell_type": "markdown",
   "metadata": {},
   "source": [
    "### B knockout"
   ]
  },
  {
   "cell_type": "code",
   "execution_count": 1063,
   "metadata": {},
   "outputs": [
    {
     "name": "stdout",
     "output_type": "stream",
     "text": [
      "XYLI1: xyl__D_c <=> xylu__D_c\n",
      "UDPGPpp: h2o_p + udpg_p --> g1p_p + 2.0 h_p + ump_p\n",
      "PPND: nad_c + pphn_c --> 34hpp_c + co2_c + nadh_c\n",
      "CHORM: chor_c --> pphn_c\n"
     ]
    }
   ],
   "source": [
    "#xylA XYLT1\n",
    "print(model.reactions.get_by_id('XYLI1'))\n",
    "model.reactions.get_by_id('XYLI1').bounds=(0,0)\n",
    "#ushA UDPGPpp\n",
    "print(model.reactions.get_by_id('UDPGPpp'))\n",
    "model.reactions.get_by_id('UDPGPpp').bounds=(0,0)\n",
    "#tyrA PPND\n",
    "print(model.reactions.get_by_id('PPND'))\n",
    "# model.reactions.get_by_id('PPND').bounds=(0,0)\n",
    "print(model.reactions.get_by_id('CHORM'))\n",
    "# model.reactions.get_by_id('CHORM').bounds=(0,0)"
   ]
  },
  {
   "cell_type": "code",
   "execution_count": 1064,
   "metadata": {},
   "outputs": [],
   "source": [
    "model.reactions.get_by_id('TYRTA').bounds=(0,1000)"
   ]
  },
  {
   "cell_type": "code",
   "execution_count": 1065,
   "metadata": {},
   "outputs": [],
   "source": [
    "model.reactions.get_by_id('TYRPpp').bounds=(0,0)"
   ]
  },
  {
   "cell_type": "code",
   "execution_count": 1066,
   "metadata": {},
   "outputs": [
    {
     "data": {
      "text/html": [
       "\n",
       "        <table>\n",
       "            <tr>\n",
       "                <td><strong>Reaction identifier</strong></td><td>TYRtipp</td>\n",
       "            </tr><tr>\n",
       "                <td><strong>Name</strong></td><td>L-tyrosine transport out (periplasm)</td>\n",
       "            </tr><tr>\n",
       "                <td><strong>Memory address</strong></td>\n",
       "                <td>0x01e808160860</td>\n",
       "            </tr><tr>\n",
       "                <td><strong>Stoichiometry</strong></td>\n",
       "                <td>\n",
       "                    <p style='text-align:right'>tyr__L_c --> tyr__L_p</p>\n",
       "                    <p style='text-align:right'>L-Tyrosine --> L-Tyrosine</p>\n",
       "                </td>\n",
       "            </tr><tr>\n",
       "                <td><strong>GPR</strong></td><td>b1473</td>\n",
       "            </tr><tr>\n",
       "                <td><strong>Lower bound</strong></td><td>0.0</td>\n",
       "            </tr><tr>\n",
       "                <td><strong>Upper bound</strong></td><td>1000.0</td>\n",
       "            </tr>\n",
       "        </table>\n",
       "        "
      ],
      "text/plain": [
       "<Reaction TYRtipp at 0x1e808160860>"
      ]
     },
     "execution_count": 1066,
     "metadata": {},
     "output_type": "execute_result"
    }
   ],
   "source": [
    "model.reactions.get_by_id('TYRtipp')"
   ]
  },
  {
   "cell_type": "code",
   "execution_count": 1067,
   "metadata": {},
   "outputs": [],
   "source": [
    "Tyrosol_c=Metabolite('Tyrosol_c',\n",
    "                formula='C8H10O2',\n",
    "                name='Tyrosol',\n",
    "                compartment='c'\n",
    "                )\n",
    "Tyrosol_e=Metabolite('Tyrosol_e',\n",
    "                formula='C8H10O2',\n",
    "                name='Tyrosol',\n",
    "                compartment='e'\n",
    "                )"
   ]
  },
  {
   "cell_type": "code",
   "execution_count": 1068,
   "metadata": {},
   "outputs": [
    {
     "data": {
      "text/html": [
       "\n",
       "        <table>\n",
       "            <tr>\n",
       "                <td><strong>Metabolite identifier</strong></td><td>phpyr_e</td>\n",
       "            </tr><tr>\n",
       "                <td><strong>Name</strong></td><td>Phenylpyruvate</td>\n",
       "            </tr><tr>\n",
       "                <td><strong>Memory address</strong></td>\n",
       "                <td>0x01e8109a9b00</td>\n",
       "            </tr><tr>\n",
       "                <td><strong>Formula</strong></td><td>C9H7O3</td>\n",
       "            </tr><tr>\n",
       "                <td><strong>Compartment</strong></td><td>e</td>\n",
       "            </tr><tr>\n",
       "                <td><strong>In 0 reaction(s)</strong></td><td>\n",
       "                    </td>\n",
       "            </tr>\n",
       "        </table>"
      ],
      "text/plain": [
       "<Metabolite phpyr_e at 0x1e8109a9b00>"
      ]
     },
     "execution_count": 1068,
     "metadata": {},
     "output_type": "execute_result"
    }
   ],
   "source": [
    "phpyr_c=model.metabolites.get_by_id('phpyr_c')\n",
    "phpyr_e=deepcopy(phpyr_c)\n",
    "phpyr_e.compartment='e'\n",
    "phpyr_e.id='phpyr_e'\n",
    "phpyr_e"
   ]
  },
  {
   "cell_type": "code",
   "execution_count": 1069,
   "metadata": {},
   "outputs": [],
   "source": [
    "EX_phpyr_e=Reaction(\"EX_phpyr_e\")\n",
    "EX_phpyr_e.name='phpyr_e exchange'\n",
    "EX_phpyr_e.subsystem='unknow'\n",
    "EX_phpyr_e.lower_bound=-1000\n",
    "EX_phpyr_e.upper_bound=1000\n",
    "EX_phpyr_e.add_metabolites({\n",
    "    phpyr_e:-1.0\n",
    "})\n",
    "phpyr_c2e=Reaction(\"phpyr_c2e\")\n",
    "phpyr_c2e.name='phpyr_c2e'\n",
    "phpyr_c2e.subsystem='unknow'\n",
    "phpyr_c2e.lower_bound=-1000\n",
    "phpyr_c2e.upper_bound=1000\n",
    "phpyr_c2e.add_metabolites({\n",
    "    phpyr_c:-1.0,\n",
    "    phpyr_e:1.0\n",
    "})\n",
    "model.add_reactions([EX_phpyr_e])\n",
    "model.add_reactions([phpyr_c2e])"
   ]
  },
  {
   "cell_type": "code",
   "execution_count": 1070,
   "metadata": {},
   "outputs": [],
   "source": [
    "EX_Tyrosol_e=Reaction(\"EX_Tyrosol_e\")\n",
    "EX_Tyrosol_e.name='Tyrosol_e exchange'\n",
    "EX_Tyrosol_e.subsystem='unknow'\n",
    "EX_Tyrosol_e.lower_bound=-1000\n",
    "EX_Tyrosol_e.upper_bound=1000\n",
    "EX_Tyrosol_e.add_metabolites({\n",
    "    Tyrosol_e:-1.0\n",
    "})\n",
    "Tyrosol_c2e=Reaction(\"Tyrosol_c2e\")\n",
    "Tyrosol_c2e.name='Tyrosol_c2e'\n",
    "Tyrosol_c2e.subsystem='unknow'\n",
    "Tyrosol_c2e.lower_bound=-1000\n",
    "Tyrosol_c2e.upper_bound=1000\n",
    "Tyrosol_c2e.add_metabolites({\n",
    "    Tyrosol_c:-1.0,\n",
    "    Tyrosol_e:1.0\n",
    "})\n",
    "model.add_reactions([EX_Tyrosol_e])\n",
    "model.add_reactions([Tyrosol_c2e])"
   ]
  },
  {
   "cell_type": "code",
   "execution_count": 1071,
   "metadata": {},
   "outputs": [],
   "source": [
    "Salid_c=Metabolite('Salid_c',\n",
    "                formula='C14H20O7',\n",
    "                name='Salidroside',\n",
    "                compartment='c'\n",
    "                )"
   ]
  },
  {
   "cell_type": "code",
   "execution_count": 1072,
   "metadata": {},
   "outputs": [],
   "source": [
    "Salid_e=Metabolite('Salid_e',\n",
    "                formula='C14H20O7',\n",
    "                name='Salidroside',\n",
    "                compartment='e'\n",
    "                )"
   ]
  },
  {
   "cell_type": "code",
   "execution_count": 1073,
   "metadata": {},
   "outputs": [],
   "source": [
    "EX_Salid_e=Reaction(\"EX_Salid_e\")\n",
    "EX_Salid_e.name='Salid_e exchange'\n",
    "EX_Salid_e.subsystem='unknow'\n",
    "EX_Salid_e.lower_bound=0\n",
    "EX_Salid_e.upper_bound=1000\n",
    "EX_Salid_e.add_metabolites({\n",
    "    Salid_e:-1.0\n",
    "})\n",
    "Salid_c2e=Reaction(\"Salid_c2e\")\n",
    "Salid_c2e.name='Salid_c2e'\n",
    "Salid_c2e.subsystem='unknow'\n",
    "Salid_c2e.lower_bound=-1000\n",
    "Salid_c2e.upper_bound=1000\n",
    "Salid_c2e.add_metabolites({\n",
    "    Salid_c:-1.0,\n",
    "    Salid_e:1.0\n",
    "})\n",
    "model.add_reactions([EX_Salid_e])\n",
    "model.add_reactions([Salid_c2e])"
   ]
  },
  {
   "cell_type": "code",
   "execution_count": 1074,
   "metadata": {},
   "outputs": [
    {
     "data": {
      "text/html": [
       "\n",
       "        <table>\n",
       "            <tr>\n",
       "                <td><strong>Reaction identifier</strong></td><td>RXN_12370</td>\n",
       "            </tr><tr>\n",
       "                <td><strong>Name</strong></td><td>tyrosol UDP-glucosyltransferase</td>\n",
       "            </tr><tr>\n",
       "                <td><strong>Memory address</strong></td>\n",
       "                <td>0x01e7f7f12c88</td>\n",
       "            </tr><tr>\n",
       "                <td><strong>Stoichiometry</strong></td>\n",
       "                <td>\n",
       "                    <p style='text-align:right'>Tyrosol_c + udpg_c --> Salid_c + h_c + udp_c</p>\n",
       "                    <p style='text-align:right'>Tyrosol + UDPglucose --> Salidroside + H+ + UDP C9H11N2O12P2</p>\n",
       "                </td>\n",
       "            </tr><tr>\n",
       "                <td><strong>GPR</strong></td><td></td>\n",
       "            </tr><tr>\n",
       "                <td><strong>Lower bound</strong></td><td>0</td>\n",
       "            </tr><tr>\n",
       "                <td><strong>Upper bound</strong></td><td>1000</td>\n",
       "            </tr>\n",
       "        </table>\n",
       "        "
      ],
      "text/plain": [
       "<Reaction RXN_12370 at 0x1e7f7f12c88>"
      ]
     },
     "execution_count": 1074,
     "metadata": {},
     "output_type": "execute_result"
    }
   ],
   "source": [
    "udp_c=model.metabolites.get_by_id('udp_c')\n",
    "udpg_c=model.metabolites.get_by_id('udpg_c')\n",
    "h_c=model.metabolites.get_by_id('h_c')\n",
    "RXN_12370=Reaction(\"RXN_12370\")\n",
    "RXN_12370.name='tyrosol UDP-glucosyltransferase'\n",
    "RXN_12370.subsystem='unknow'\n",
    "RXN_12370.lower_bound=0\n",
    "RXN_12370.upper_bound=1000\n",
    "RXN_12370.add_metabolites({\n",
    "    udpg_c:-1.0,\n",
    "    Tyrosol_c:-1.0,\n",
    "    h_c:1.0,\n",
    "    udp_c:1.0,\n",
    "    Salid_c:1.0\n",
    "})\n",
    "RXN_12370"
   ]
  },
  {
   "cell_type": "code",
   "execution_count": 1075,
   "metadata": {},
   "outputs": [],
   "source": [
    "model.add_reactions([RXN_12370])"
   ]
  },
  {
   "cell_type": "code",
   "execution_count": 1076,
   "metadata": {},
   "outputs": [],
   "source": [
    "model.reactions.get_by_id('EX_glc__D_e').bounds=(-10,1000)\n",
    "model.reactions.get_by_id('EX_xyl__D_e').bounds=(0,1000)"
   ]
  },
  {
   "cell_type": "code",
   "execution_count": 1077,
   "metadata": {},
   "outputs": [],
   "source": [
    "model.reactions.get_by_id('EX_tyr__L_e').bounds=(-1000,1000)"
   ]
  },
  {
   "cell_type": "code",
   "execution_count": 1078,
   "metadata": {},
   "outputs": [],
   "source": [
    "product2 = model.metabolites.get_by_id('Salid_c')\n",
    "demand2= model.add_boundary(product2, type='demand')  # add demand reaction as the objective\n",
    "model.objective = demand2"
   ]
  },
  {
   "cell_type": "code",
   "execution_count": 1079,
   "metadata": {},
   "outputs": [],
   "source": [
    "model.reactions.BIOMASS_Ec_iML1515_core_75p37M.bounds=(0.1,1000)"
   ]
  },
  {
   "cell_type": "code",
   "execution_count": 1080,
   "metadata": {},
   "outputs": [],
   "source": [
    "model.reactions.EX_phpyr_e.bounds=(0.8,1000)"
   ]
  },
  {
   "cell_type": "code",
   "execution_count": 1081,
   "metadata": {},
   "outputs": [
    {
     "name": "stdout",
     "output_type": "stream",
     "text": [
      "IN FLUXES             OUT FLUXES      OBJECTIVES\n",
      "--------------------  --------------  ----------------\n",
      "glc__D_e   10         h2o_e    22.2   DM_Salid_c  6.64\n",
      "o2_e        8.38      co2_e     8.99\n",
      "Tyrosol_e   6.64      h_e       1.71\n",
      "nh4_e       1.07      phpyr_e   0.8\n",
      "pi_e        0.0965\n",
      "so4_e       0.0252\n",
      "k_e         0.0195\n",
      "tyr__L_e    0.0138\n",
      "fe2_e       0.00161\n",
      "mg2_e       0.000868\n",
      "ca2_e       0.000521\n",
      "cl_e        0.000521\n",
      "cu2_e       7.09e-05\n",
      "mn2_e       6.91e-05\n",
      "zn2_e       3.41e-05\n",
      "ni2_e       3.23e-05\n"
     ]
    }
   ],
   "source": [
    "model.optimize()\n",
    "model.summary()"
   ]
  },
  {
   "cell_type": "code",
   "execution_count": 1083,
   "metadata": {},
   "outputs": [
    {
     "name": "stdout",
     "output_type": "stream",
     "text": [
      "./new_idea_AGGD/model/iML1515_GD_26.xlsx\n"
     ]
    }
   ],
   "source": [
    "save_json_model(model,model_new3)\n",
    "write_sbml_model(model,model_new3.split('.json')[0]+'.xml')\n",
    "sbml_excel(model_new3.split('.json')[0]+'.xml',model_new3.split('.json')[0]+'.xlsx')"
   ]
  },
  {
   "cell_type": "code",
   "execution_count": 89,
   "metadata": {},
   "outputs": [
    {
     "name": "stdout",
     "output_type": "stream",
     "text": [
      "./new_idea_AGGD/model/iML1515_GD.xlsx\n"
     ]
    }
   ],
   "source": [
    "save_json_model(model,model_new2)\n",
    "write_sbml_model(model,model_new2.split('.json')[0]+'.xml')\n",
    "sbml_excel(model_new2.split('.json')[0]+'.xml',model_new2.split('.json')[0]+'.xlsx')"
   ]
  },
  {
   "cell_type": "markdown",
   "metadata": {},
   "source": [
    "### AB"
   ]
  },
  {
   "cell_type": "code",
   "execution_count": 1084,
   "metadata": {},
   "outputs": [],
   "source": [
    "model_a_name=model_new\n",
    "model_b_name=model_new3"
   ]
  },
  {
   "cell_type": "code",
   "execution_count": 1085,
   "metadata": {},
   "outputs": [],
   "source": [
    "model_a=load_json_model(model_a_name)\n",
    "model_b=load_json_model(model_b_name)"
   ]
  },
  {
   "cell_type": "code",
   "execution_count": 1086,
   "metadata": {},
   "outputs": [],
   "source": [
    "model_a.reactions.get_by_id('EX_glc__D_e').bounds=(0,1000)\n",
    "model_a.reactions.get_by_id('EX_xyl__D_e').bounds=(-10,1000)\n",
    "model_a.reactions.get_by_id('EX_phpyr_e').bounds=(-1000,0)\n",
    "model_b.reactions.get_by_id('EX_Tyrosol_e').bounds=(-1000,0)\n",
    "model_b.reactions.get_by_id('EX_tyr__L_e').bounds=(-1000,0)\n",
    "model_b.reactions.get_by_id('EX_xyl__D_e').bounds=(0,1000)\n",
    "model_b.reactions.get_by_id('EX_glc__D_e').bounds=(-10,1000)"
   ]
  },
  {
   "cell_type": "code",
   "execution_count": 1087,
   "metadata": {},
   "outputs": [
    {
     "name": "stdout",
     "output_type": "stream",
     "text": [
      "--------A  model----------\n",
      "2720\n",
      "1881\n",
      "1516\n",
      "--------B  model----------\n",
      "2721\n",
      "1882\n",
      "1516\n"
     ]
    }
   ],
   "source": [
    "print(\"--------A  model----------\")\n",
    "print(len(model_a.reactions))\n",
    "print(len(model_a.metabolites))\n",
    "print(len(model_a.genes) )\n",
    "print(\"--------B  model----------\")\n",
    "print(len(model_b.reactions))\n",
    "print(len(model_b.metabolites))\n",
    "print(len(model_b.genes) )"
   ]
  },
  {
   "cell_type": "code",
   "execution_count": null,
   "metadata": {},
   "outputs": [],
   "source": [
    "# convert_to_irreversible(model_a)\n",
    "# #split isoenzyme\n",
    "# model_a = isoenzyme_split(model_a)\n",
    "# #同工酶反应拆分\n",
    "# save_json_model(model_a,model_a_name.split('/model/')[0]+'/model/reversed/Reverse'+model_a_name.split('/model/')[1])\n",
    "# convert_to_irreversible(model_b)\n",
    "# #split isoenzyme\n",
    "# model_b = isoenzyme_split(model_b)\n",
    "# #同工酶反应拆分\n",
    "# save_json_model(model_b,model_b_name.split('/model/')[0]+'/model/reversed/Reverse'+model_b_name.split('/model/')[1])"
   ]
  },
  {
   "cell_type": "code",
   "execution_count": 94,
   "metadata": {},
   "outputs": [
    {
     "data": {
      "text/plain": [
       "'./new_idea_AGGD/model/reversed/ReverseiML1515_AG.json'"
      ]
     },
     "execution_count": 94,
     "metadata": {},
     "output_type": "execute_result"
    }
   ],
   "source": [
    "model_a_name.split('/model/')[0]+'/model/reversed/Reverse'+model_a_name.split('/model/')[1]"
   ]
  },
  {
   "cell_type": "code",
   "execution_count": 1088,
   "metadata": {},
   "outputs": [],
   "source": [
    "model=deepcopy(model_a)\n",
    "for i in model.reactions:\n",
    "    i.id='A_'+i.id\n",
    "for i in model.metabolites:\n",
    "    i.id='A_'+i.id\n",
    "    i.name='A_'+i.name\n",
    "model_t=deepcopy(model_b)\n",
    "# for i in model_t.genes:\n",
    "#     i.id=i.id+'_B'\n",
    "for i in model_t.reactions:\n",
    "    i.id='B_'+i.id\n",
    "for i in model_t.metabolites:\n",
    "    i.id='B_'+i.id\n",
    "    i.name='B_'+i.name"
   ]
  },
  {
   "cell_type": "code",
   "execution_count": 1089,
   "metadata": {},
   "outputs": [],
   "source": [
    "for i in model_t.reactions:\n",
    "    model.add_reaction(i)"
   ]
  },
  {
   "cell_type": "code",
   "execution_count": 1090,
   "metadata": {},
   "outputs": [],
   "source": [
    "e_meta_rn={}\n",
    "for meta in model_a.metabolites:\n",
    "    if meta.compartment=='e' :\n",
    "        meta_a=model.metabolites.get_by_id('A_'+meta.id)\n",
    "        e_meta_rn[meta.id+\"_1\"]=Reaction('A_'+meta.id+'_con_1')\n",
    "        e_meta_rn[meta.id+\"_1\"].name = meta.id+' Connection 1'\n",
    "        e_meta_rn[meta.id+\"_1\"].subsystem = 'unKnow'\n",
    "        e_meta_rn[meta.id+\"_1\"].lower_bound = 0. # This is the default\n",
    "        e_meta_rn[meta.id+\"_1\"].upper_bound = 1000. # This is the default\n",
    "        e_meta_rn[meta.id+\"_1\"].add_metabolites({\n",
    "            meta_a:-1.0,\n",
    "            meta:1.0\n",
    "            })\n",
    "        model.add_reactions([e_meta_rn[meta.id+\"_1\"]])\n",
    "for meta in model_b.metabolites:\n",
    "    if meta.compartment=='e' :\n",
    "        meta_b=model_t.metabolites.get_by_id('B_'+meta.id)\n",
    "        e_meta_rn[meta.id+\"_2\"]=Reaction('B_'+meta.id+'_con_2')\n",
    "        e_meta_rn[meta.id+\"_2\"].name = meta.id+' Connection 2'\n",
    "        e_meta_rn[meta.id+\"_2\"].subsystem = 'unKnow'\n",
    "        e_meta_rn[meta.id+\"_2\"].lower_bound = -1000. # This is the default\n",
    "        e_meta_rn[meta.id+\"_2\"].upper_bound = 0. # This is the default\n",
    "        e_meta_rn[meta.id+\"_2\"].add_metabolites({\n",
    "            meta_b:1.0,\n",
    "            meta:-1.0\n",
    "            })\n",
    "        model.add_reactions([e_meta_rn[meta.id+\"_2\"]])"
   ]
  },
  {
   "cell_type": "code",
   "execution_count": 1091,
   "metadata": {},
   "outputs": [],
   "source": [
    "model_origin_name='./new_idea_AGGD/model/iML1515_new.json'"
   ]
  },
  {
   "cell_type": "code",
   "execution_count": 1092,
   "metadata": {},
   "outputs": [
    {
     "data": {
      "text/plain": [
       "{'EX_pi_e': 1000.0,\n",
       " 'EX_h_e': 1000.0,\n",
       " 'EX_fe3_e': 1000.0,\n",
       " 'EX_mn2_e': 1000.0,\n",
       " 'EX_co2_e': 1000.0,\n",
       " 'EX_fe2_e': 1000.0,\n",
       " 'EX_glc__D_e': 10.0,\n",
       " 'EX_xyl__D_e': 10.0,\n",
       " 'EX_zn2_e': 1000.0,\n",
       " 'EX_mg2_e': 1000.0,\n",
       " 'EX_ca2_e': 1000.0,\n",
       " 'EX_ni2_e': 1000.0,\n",
       " 'EX_cu2_e': 1000.0,\n",
       " 'EX_cobalt2_e': 1000.0,\n",
       " 'EX_sel_e': 1000.0,\n",
       " 'EX_h2o_e': 1000.0,\n",
       " 'EX_nh4_e': 1000.0,\n",
       " 'EX_mobd_e': 1000.0,\n",
       " 'EX_so4_e': 1000.0,\n",
       " 'EX_k_e': 1000.0,\n",
       " 'EX_na1_e': 1000.0,\n",
       " 'EX_o2_e': 1000.0,\n",
       " 'EX_cl_e': 1000.0,\n",
       " 'EX_tungs_e': 1000.0,\n",
       " 'EX_slnt_e': 1000.0}"
      ]
     },
     "execution_count": 1092,
     "metadata": {},
     "output_type": "execute_result"
    }
   ],
   "source": [
    "origin_model=cobra.io.load_json_model(model_origin_name)\n",
    "origin_model.reactions.get_by_id('EX_xyl__D_e').bounds=(-10.0,1000)\n",
    "origin_model.medium"
   ]
  },
  {
   "cell_type": "code",
   "execution_count": 1093,
   "metadata": {},
   "outputs": [
    {
     "data": {
      "text/plain": [
       "{'A_EX_pi_e': 1000.0,\n",
       " 'A_EX_h_e': 1000.0,\n",
       " 'A_EX_fe3_e': 1000.0,\n",
       " 'A_EX_mn2_e': 1000.0,\n",
       " 'A_EX_co2_e': 1000.0,\n",
       " 'A_EX_fe2_e': 1000.0,\n",
       " 'A_EX_xyl__D_e': 10,\n",
       " 'A_EX_zn2_e': 1000.0,\n",
       " 'A_EX_mg2_e': 1000.0,\n",
       " 'A_EX_ca2_e': 1000.0,\n",
       " 'A_EX_ni2_e': 1000.0,\n",
       " 'A_EX_cu2_e': 1000.0,\n",
       " 'A_EX_cobalt2_e': 1000.0,\n",
       " 'A_EX_sel_e': 1000.0,\n",
       " 'A_EX_h2o_e': 1000.0,\n",
       " 'A_EX_nh4_e': 1000.0,\n",
       " 'A_EX_mobd_e': 1000.0,\n",
       " 'A_EX_so4_e': 1000.0,\n",
       " 'A_EX_k_e': 1000.0,\n",
       " 'A_EX_na1_e': 1000.0,\n",
       " 'A_EX_o2_e': 1000.0,\n",
       " 'A_EX_cl_e': 1000.0,\n",
       " 'A_EX_tungs_e': 1000.0,\n",
       " 'A_EX_slnt_e': 1000.0,\n",
       " 'A_EX_phpyr_e': 1000,\n",
       " 'B_EX_pi_e': 1000.0,\n",
       " 'B_EX_h_e': 1000.0,\n",
       " 'B_EX_fe3_e': 1000.0,\n",
       " 'B_EX_mn2_e': 1000.0,\n",
       " 'B_EX_co2_e': 1000.0,\n",
       " 'B_EX_tyr__L_e': 1000,\n",
       " 'B_EX_fe2_e': 1000.0,\n",
       " 'B_EX_glc__D_e': 10,\n",
       " 'B_EX_zn2_e': 1000.0,\n",
       " 'B_EX_mg2_e': 1000.0,\n",
       " 'B_EX_ca2_e': 1000.0,\n",
       " 'B_EX_ni2_e': 1000.0,\n",
       " 'B_EX_cu2_e': 1000.0,\n",
       " 'B_EX_cobalt2_e': 1000.0,\n",
       " 'B_EX_sel_e': 1000.0,\n",
       " 'B_EX_h2o_e': 1000.0,\n",
       " 'B_EX_nh4_e': 1000.0,\n",
       " 'B_EX_mobd_e': 1000.0,\n",
       " 'B_EX_so4_e': 1000.0,\n",
       " 'B_EX_k_e': 1000.0,\n",
       " 'B_EX_na1_e': 1000.0,\n",
       " 'B_EX_o2_e': 1000.0,\n",
       " 'B_EX_cl_e': 1000.0,\n",
       " 'B_EX_tungs_e': 1000.0,\n",
       " 'B_EX_slnt_e': 1000.0,\n",
       " 'B_EX_Tyrosol_e': 1000}"
      ]
     },
     "execution_count": 1093,
     "metadata": {},
     "output_type": "execute_result"
    }
   ],
   "source": [
    "model.medium"
   ]
  },
  {
   "cell_type": "code",
   "execution_count": 1094,
   "metadata": {},
   "outputs": [
    {
     "data": {
      "text/plain": [
       "{'A_EX_pi_e': 1000.0,\n",
       " 'A_EX_h_e': 1000.0,\n",
       " 'A_EX_fe3_e': 1000.0,\n",
       " 'A_EX_mn2_e': 1000.0,\n",
       " 'A_EX_co2_e': 1000.0,\n",
       " 'A_EX_fe2_e': 1000.0,\n",
       " 'A_EX_xyl__D_e': 10,\n",
       " 'A_EX_zn2_e': 1000.0,\n",
       " 'A_EX_mg2_e': 1000.0,\n",
       " 'A_EX_ca2_e': 1000.0,\n",
       " 'A_EX_ni2_e': 1000.0,\n",
       " 'A_EX_cu2_e': 1000.0,\n",
       " 'A_EX_cobalt2_e': 1000.0,\n",
       " 'A_EX_sel_e': 1000.0,\n",
       " 'A_EX_h2o_e': 1000.0,\n",
       " 'A_EX_nh4_e': 1000.0,\n",
       " 'A_EX_mobd_e': 1000.0,\n",
       " 'A_EX_so4_e': 1000.0,\n",
       " 'A_EX_k_e': 1000.0,\n",
       " 'A_EX_na1_e': 1000.0,\n",
       " 'A_EX_o2_e': 1000.0,\n",
       " 'A_EX_cl_e': 1000.0,\n",
       " 'A_EX_tungs_e': 1000.0,\n",
       " 'A_EX_slnt_e': 1000.0,\n",
       " 'A_EX_phpyr_e': 1000,\n",
       " 'B_EX_pi_e': 1000.0,\n",
       " 'B_EX_h_e': 1000.0,\n",
       " 'B_EX_fe3_e': 1000.0,\n",
       " 'B_EX_mn2_e': 1000.0,\n",
       " 'B_EX_co2_e': 1000.0,\n",
       " 'B_EX_tyr__L_e': 1000,\n",
       " 'B_EX_fe2_e': 1000.0,\n",
       " 'B_EX_glc__D_e': 10,\n",
       " 'B_EX_zn2_e': 1000.0,\n",
       " 'B_EX_mg2_e': 1000.0,\n",
       " 'B_EX_ca2_e': 1000.0,\n",
       " 'B_EX_ni2_e': 1000.0,\n",
       " 'B_EX_cu2_e': 1000.0,\n",
       " 'B_EX_cobalt2_e': 1000.0,\n",
       " 'B_EX_sel_e': 1000.0,\n",
       " 'B_EX_h2o_e': 1000.0,\n",
       " 'B_EX_nh4_e': 1000.0,\n",
       " 'B_EX_mobd_e': 1000.0,\n",
       " 'B_EX_so4_e': 1000.0,\n",
       " 'B_EX_k_e': 1000.0,\n",
       " 'B_EX_na1_e': 1000.0,\n",
       " 'B_EX_o2_e': 1000.0,\n",
       " 'B_EX_cl_e': 1000.0,\n",
       " 'B_EX_tungs_e': 1000.0,\n",
       " 'B_EX_slnt_e': 1000.0,\n",
       " 'B_EX_Tyrosol_e': 1000,\n",
       " 'EX_pi_e': 1000.0,\n",
       " 'EX_h_e': 1000.0,\n",
       " 'EX_fe3_e': 1000.0,\n",
       " 'EX_mn2_e': 1000.0,\n",
       " 'EX_co2_e': 1000.0,\n",
       " 'EX_fe2_e': 1000.0,\n",
       " 'EX_glc__D_e': 10.0,\n",
       " 'EX_xyl__D_e': 10.0,\n",
       " 'EX_zn2_e': 1000.0,\n",
       " 'EX_mg2_e': 1000.0,\n",
       " 'EX_ca2_e': 1000.0,\n",
       " 'EX_ni2_e': 1000.0,\n",
       " 'EX_cu2_e': 1000.0,\n",
       " 'EX_cobalt2_e': 1000.0,\n",
       " 'EX_sel_e': 1000.0,\n",
       " 'EX_h2o_e': 1000.0,\n",
       " 'EX_nh4_e': 1000.0,\n",
       " 'EX_mobd_e': 1000.0,\n",
       " 'EX_so4_e': 1000.0,\n",
       " 'EX_k_e': 1000.0,\n",
       " 'EX_na1_e': 1000.0,\n",
       " 'EX_o2_e': 1000.0,\n",
       " 'EX_cl_e': 1000.0,\n",
       " 'EX_tungs_e': 1000.0,\n",
       " 'EX_slnt_e': 1000.0}"
      ]
     },
     "execution_count": 1094,
     "metadata": {},
     "output_type": "execute_result"
    }
   ],
   "source": [
    "for i in origin_model.medium:\n",
    "    model.add_reaction(origin_model.reactions.get_by_id(i))\n",
    "    ex_meta=i.split('EX_')[1]\n",
    "    model.reactions.get_by_id('A_'+ex_meta+'_con_1').bounds=(-1000,1000)\n",
    "    model.reactions.get_by_id('B_'+ex_meta+'_con_2').bounds=(-1000,1000)\n",
    "model.medium"
   ]
  },
  {
   "cell_type": "code",
   "execution_count": 1095,
   "metadata": {},
   "outputs": [
    {
     "data": {
      "text/plain": [
       "{'EX_pi_e': 1000.0,\n",
       " 'EX_h_e': 1000.0,\n",
       " 'EX_fe3_e': 1000.0,\n",
       " 'EX_mn2_e': 1000.0,\n",
       " 'EX_co2_e': 1000.0,\n",
       " 'EX_fe2_e': 1000.0,\n",
       " 'EX_glc__D_e': 10.0,\n",
       " 'EX_xyl__D_e': 10.0,\n",
       " 'EX_zn2_e': 1000.0,\n",
       " 'EX_mg2_e': 1000.0,\n",
       " 'EX_ca2_e': 1000.0,\n",
       " 'EX_ni2_e': 1000.0,\n",
       " 'EX_cu2_e': 1000.0,\n",
       " 'EX_cobalt2_e': 1000.0,\n",
       " 'EX_sel_e': 1000.0,\n",
       " 'EX_h2o_e': 1000.0,\n",
       " 'EX_nh4_e': 1000.0,\n",
       " 'EX_mobd_e': 1000.0,\n",
       " 'EX_so4_e': 1000.0,\n",
       " 'EX_k_e': 1000.0,\n",
       " 'EX_na1_e': 1000.0,\n",
       " 'EX_o2_e': 1000.0,\n",
       " 'EX_cl_e': 1000.0,\n",
       " 'EX_tungs_e': 1000.0,\n",
       " 'EX_slnt_e': 1000.0}"
      ]
     },
     "execution_count": 1095,
     "metadata": {},
     "output_type": "execute_result"
    }
   ],
   "source": [
    "for i in model.medium:\n",
    "    h=i.split('_')[0]\n",
    "    if h=='A' or h=='B':\n",
    "        model.reactions.get_by_id(i).bounds=(0,0)\n",
    "model.medium"
   ]
  },
  {
   "cell_type": "code",
   "execution_count": 1096,
   "metadata": {},
   "outputs": [],
   "source": [
    "model.add_reaction(model_b.reactions.EX_Salid_e)"
   ]
  },
  {
   "cell_type": "code",
   "execution_count": 1097,
   "metadata": {},
   "outputs": [],
   "source": [
    "model_ab_json='./new_idea_AGGD/model/iML1515_AGGD_26.json'\n",
    "save_json_model(model,model_ab_json)"
   ]
  },
  {
   "cell_type": "code",
   "execution_count": 104,
   "metadata": {},
   "outputs": [],
   "source": [
    "model_ab_json='./new_idea_AGGD/model/iML1515_AGGD.json'\n",
    "save_json_model(model,model_ab_json)"
   ]
  },
  {
   "cell_type": "markdown",
   "metadata": {},
   "source": [
    "### 模型基本测试"
   ]
  },
  {
   "cell_type": "code",
   "execution_count": null,
   "metadata": {},
   "outputs": [],
   "source": [
    "model_ab=load_json_model(model_ab_json)"
   ]
  },
  {
   "cell_type": "code",
   "execution_count": null,
   "metadata": {},
   "outputs": [],
   "source": [
    "model_ab.reactions.\tB_Salid_e_con_2"
   ]
  },
  {
   "cell_type": "code",
   "execution_count": null,
   "metadata": {},
   "outputs": [],
   "source": [
    "model_ab.metabolites.B_Salid_e"
   ]
  },
  {
   "cell_type": "code",
   "execution_count": null,
   "metadata": {},
   "outputs": [],
   "source": [
    "model_ab.metabolites.get_by_id('A_Tyrosol_e')"
   ]
  },
  {
   "cell_type": "code",
   "execution_count": null,
   "metadata": {},
   "outputs": [],
   "source": [
    "model_ab.metabolites.get_by_id('B_Tyrosol_e')"
   ]
  },
  {
   "cell_type": "code",
   "execution_count": null,
   "metadata": {},
   "outputs": [],
   "source": [
    "model_ab.reactions.get_by_id('A_mobd_e_con_1')"
   ]
  },
  {
   "cell_type": "code",
   "execution_count": null,
   "metadata": {},
   "outputs": [],
   "source": [
    "model_ab.reactions.get_by_id('B_mobd_e_con_2')"
   ]
  },
  {
   "cell_type": "code",
   "execution_count": null,
   "metadata": {},
   "outputs": [],
   "source": [
    "model_ab.reactions.get_by_id('EX_glc__D_e')"
   ]
  },
  {
   "cell_type": "markdown",
   "metadata": {},
   "source": [
    "### change_model"
   ]
  },
  {
   "cell_type": "markdown",
   "metadata": {},
   "source": [
    "### 代谢路径单向传输"
   ]
  },
  {
   "cell_type": "code",
   "execution_count": 1098,
   "metadata": {},
   "outputs": [
    {
     "data": {
      "text/plain": [
       "'./new_idea_AGGD/model/iML1515_AGGD_26.json'"
      ]
     },
     "execution_count": 1098,
     "metadata": {},
     "output_type": "execute_result"
    }
   ],
   "source": [
    "model_ab_json"
   ]
  },
  {
   "cell_type": "code",
   "execution_count": 1099,
   "metadata": {},
   "outputs": [],
   "source": [
    "model=load_json_model(model_ab_json)\n",
    "model.reactions.get_by_id('B_Tyrosol_e_con_2').bounds=(0,1000)\n",
    "model.reactions.get_by_id('A_Tyrosol_e_con_1').bounds=(0,1000)\n",
    "model.reactions.get_by_id('B_tyr__L_e_con_2').bounds=(0,1000)\n",
    "model.reactions.get_by_id('A_tyr__L_e_con_1').bounds=(0,1000)\n",
    "model.reactions.get_by_id('B_phpyr_e_con_2').bounds=(-1000,0)\n",
    "model.reactions.get_by_id('A_phpyr_e_con_1').bounds=(-1000,0)"
   ]
  },
  {
   "cell_type": "code",
   "execution_count": 1100,
   "metadata": {},
   "outputs": [],
   "source": [
    "model.reactions.get_by_id('A_BIOMASS_Ec_iML1515_core_75p37M').bounds=(0.1,1000)\n",
    "model.reactions.get_by_id('B_BIOMASS_Ec_iML1515_core_75p37M').bounds=(0.1,1000)"
   ]
  },
  {
   "cell_type": "code",
   "execution_count": 1101,
   "metadata": {},
   "outputs": [],
   "source": [
    "model_ab_json_new='./new_idea_AGGD/model/iML1515_AGGD_26_change.json'"
   ]
  },
  {
   "cell_type": "code",
   "execution_count": 108,
   "metadata": {},
   "outputs": [],
   "source": [
    "model_ab_json_new='./new_idea_AGGD/model/iML1515_AGGD_change.json'"
   ]
  },
  {
   "cell_type": "code",
   "execution_count": 1102,
   "metadata": {},
   "outputs": [],
   "source": [
    "save_json_model(model,model_ab_json_new)"
   ]
  },
  {
   "cell_type": "markdown",
   "metadata": {},
   "source": [
    "### 改变A均底物利用"
   ]
  },
  {
   "cell_type": "code",
   "execution_count": 110,
   "metadata": {},
   "outputs": [],
   "source": [
    "model=load_json_model(model_ab_json_new)"
   ]
  },
  {
   "cell_type": "code",
   "execution_count": 111,
   "metadata": {},
   "outputs": [],
   "source": [
    "model.reactions.A_glc__D_e_con_1.bounds=(0,1000)"
   ]
  },
  {
   "cell_type": "code",
   "execution_count": 112,
   "metadata": {},
   "outputs": [],
   "source": [
    "save_json_model(model,model_ab_json_new)"
   ]
  },
  {
   "cell_type": "markdown",
   "metadata": {},
   "source": [
    "### 后续预处理模型"
   ]
  },
  {
   "cell_type": "code",
   "execution_count": null,
   "metadata": {},
   "outputs": [],
   "source": [
    "model_ab=load_json_model(model_ab_json_new)\n",
    "cobra.manipulation.modify.convert_to_irreversible(model_ab)\n",
    "isoenzyme_split(model_ab)"
   ]
  },
  {
   "cell_type": "markdown",
   "metadata": {},
   "source": [
    "### 底物利用基于基因修改"
   ]
  },
  {
   "cell_type": "code",
   "execution_count": null,
   "metadata": {},
   "outputs": [],
   "source": [
    "model_ab=load_json_model(model_ab_json_new)"
   ]
  },
  {
   "cell_type": "code",
   "execution_count": null,
   "metadata": {},
   "outputs": [],
   "source": [
    "model_ab.reactions.A_glc__D_e_con_1.bounds=(-1000,1000)"
   ]
  },
  {
   "cell_type": "code",
   "execution_count": null,
   "metadata": {},
   "outputs": [],
   "source": [
    "model_ab.reactions.get_by_id('A_ACMANAptspp').bounds=(0,0)"
   ]
  },
  {
   "cell_type": "code",
   "execution_count": null,
   "metadata": {},
   "outputs": [],
   "source": [
    "model_ab.reactions.get_by_id('A_MANptspp').bounds=(0,0)"
   ]
  },
  {
   "cell_type": "code",
   "execution_count": null,
   "metadata": {},
   "outputs": [],
   "source": [
    "model_ab.reactions.get_by_id('A_FRUpts2pp').bounds=(0,0)"
   ]
  },
  {
   "cell_type": "code",
   "execution_count": null,
   "metadata": {},
   "outputs": [],
   "source": [
    "model_ab.reactions.get_by_id('A_GAMptspp').bounds=(0,0)"
   ]
  },
  {
   "cell_type": "code",
   "execution_count": null,
   "metadata": {},
   "outputs": [],
   "source": [
    "model_ab.reactions.get_by_id('A_2DGLCptspp').bounds=(0,0)"
   ]
  },
  {
   "cell_type": "code",
   "execution_count": null,
   "metadata": {},
   "outputs": [],
   "source": [
    "#xylA XYLT2\n",
    "#print(model_ab.reactions.get_by_id('B_XYLI2'))\n",
    "model_ab.reactions.get_by_id('B_XYLI2').bounds=(0,0)"
   ]
  },
  {
   "cell_type": "code",
   "execution_count": null,
   "metadata": {},
   "outputs": [],
   "source": [
    "model_ab.reactions.get_by_id('A_HEX1').bounds=(0,0)"
   ]
  },
  {
   "cell_type": "code",
   "execution_count": null,
   "metadata": {},
   "outputs": [],
   "source": [
    "model_ab.reactions.get_by_id('A_GLCptspp')"
   ]
  },
  {
   "cell_type": "code",
   "execution_count": null,
   "metadata": {},
   "outputs": [],
   "source": [
    "new_change='./new_idea_AGGD/model/iML1515_AGGD_AG_glc_change.json'"
   ]
  },
  {
   "cell_type": "code",
   "execution_count": null,
   "metadata": {},
   "outputs": [],
   "source": [
    "save_json_model(model_ab,new_change)"
   ]
  },
  {
   "cell_type": "code",
   "execution_count": null,
   "metadata": {},
   "outputs": [],
   "source": [
    "model_test=load_json_model(new_change)"
   ]
  },
  {
   "cell_type": "code",
   "execution_count": null,
   "metadata": {},
   "outputs": [],
   "source": [
    "model_test.reactions.A_glc__D_e_con_1.bounds=(0,1000)"
   ]
  },
  {
   "cell_type": "code",
   "execution_count": null,
   "metadata": {},
   "outputs": [],
   "source": [
    "save_json_model(model_test,new_change)"
   ]
  },
  {
   "cell_type": "markdown",
   "metadata": {},
   "source": [
    "### change xyl"
   ]
  },
  {
   "cell_type": "code",
   "execution_count": null,
   "metadata": {},
   "outputs": [],
   "source": [
    "model_test.reactions.B_phpyr_e_con_2"
   ]
  },
  {
   "cell_type": "code",
   "execution_count": null,
   "metadata": {},
   "outputs": [],
   "source": [
    "model_ab=load_json_model(new_change)"
   ]
  },
  {
   "cell_type": "code",
   "execution_count": null,
   "metadata": {},
   "outputs": [],
   "source": [
    "for i in model_ab.reactions:\n",
    "    if i.id.startswith('B_'):\n",
    "        gen_list=[]\n",
    "        for j in list(model_ab.reactions.get_by_id(i.id)._genes):\n",
    "            gen_list.append(j.id)\n",
    "        if len(gen_list)==1:\n",
    "            if gen_list[0]=='b0480':\n",
    "                model_ab.reactions.get_by_id(i.id).bounds=(0,0)"
   ]
  },
  {
   "cell_type": "code",
   "execution_count": null,
   "metadata": {},
   "outputs": [],
   "source": [
    "save_json_model(model_ab,new_change)"
   ]
  },
  {
   "cell_type": "code",
   "execution_count": null,
   "metadata": {},
   "outputs": [],
   "source": [
    "model_ab.reactions.A_glc__D_e_con_1"
   ]
  },
  {
   "cell_type": "markdown",
   "metadata": {},
   "source": [
    "### close TYRTA"
   ]
  },
  {
   "cell_type": "code",
   "execution_count": null,
   "metadata": {},
   "outputs": [],
   "source": [
    "model_ab=load_json_model(new_change)"
   ]
  },
  {
   "cell_type": "code",
   "execution_count": null,
   "metadata": {},
   "outputs": [],
   "source": [
    "model_ab.reactions.B_TYRTA.bounds=(0,1000)"
   ]
  },
  {
   "cell_type": "code",
   "execution_count": null,
   "metadata": {},
   "outputs": [],
   "source": [
    "save_json_model(model_ab,new_change)"
   ]
  },
  {
   "cell_type": "markdown",
   "metadata": {},
   "source": [
    "### 限定生长(由于模型改造生长不受影响，复合最优生长+最高合成构建模型)"
   ]
  },
  {
   "cell_type": "code",
   "execution_count": null,
   "metadata": {},
   "outputs": [],
   "source": [
    "model_ab=load_json_model(new_change)"
   ]
  },
  {
   "cell_type": "code",
   "execution_count": null,
   "metadata": {},
   "outputs": [],
   "source": [
    "model_ab.reactions.B_BIOMASS_Ec_iML1515_core_75p37M.bounds=(0.1,1000)"
   ]
  },
  {
   "cell_type": "code",
   "execution_count": null,
   "metadata": {},
   "outputs": [],
   "source": [
    "model_ab.reactions.A_BIOMASS_Ec_iML1515_core_75p37M.bounds=(0.1,1000)"
   ]
  },
  {
   "cell_type": "code",
   "execution_count": null,
   "metadata": {},
   "outputs": [],
   "source": [
    "save_json_model(model_ab,new_change)"
   ]
  },
  {
   "cell_type": "markdown",
   "metadata": {},
   "source": [
    "### change connect"
   ]
  },
  {
   "cell_type": "code",
   "execution_count": 1141,
   "metadata": {},
   "outputs": [
    {
     "data": {
      "text/plain": [
       "'./new_idea_AGGD/model/iML1515_AGGD_change.json'"
      ]
     },
     "execution_count": 1141,
     "metadata": {},
     "output_type": "execute_result"
    }
   ],
   "source": [
    "model_ab_json_new"
   ]
  },
  {
   "cell_type": "markdown",
   "metadata": {},
   "source": [
    "### 改变A菌只吸收木糖"
   ]
  },
  {
   "cell_type": "code",
   "execution_count": 35,
   "metadata": {},
   "outputs": [],
   "source": [
    "model_change=load_json_model(model_ab_json_new)"
   ]
  },
  {
   "cell_type": "code",
   "execution_count": 36,
   "metadata": {},
   "outputs": [],
   "source": [
    "model_change.reactions.get_by_id('B_BIOMASS_Ec_iML1515_core_75p37M').bounds=(0,1000)\n",
    "model_change.reactions.get_by_id('A_BIOMASS_Ec_iML1515_core_75p37M').bounds=(0,1000)"
   ]
  },
  {
   "cell_type": "code",
   "execution_count": 37,
   "metadata": {},
   "outputs": [],
   "source": [
    "model_change.reactions.A_glc__D_e_con_1.bounds=(-1000,1000)\n",
    "model_change.reactions.B_xyl__D_e_con_2.bounds=(-1000,1000)"
   ]
  },
  {
   "cell_type": "code",
   "execution_count": 38,
   "metadata": {},
   "outputs": [],
   "source": [
    "save_json_model(model_change,model_ab_json_new)"
   ]
  },
  {
   "cell_type": "code",
   "execution_count": null,
   "metadata": {},
   "outputs": [],
   "source": [
    "# model_change=load_json_model(model_ab_json_new)\n",
    "# # with model as model_change:\n",
    "# reaction_list=model_change.reactions\n",
    "# for m in reaction_list:\n",
    "#     k=m.id\n",
    "#     if k.endswith('_con_1') or k.endswith('_con_2'):\n",
    "#         if 'glc__D_e_con' in k or 'xyl__D_e_con' in k or '_tyr__L_e_con' in k or 'Tyrosol_e' in k or 'phpyr_e' in k:\n",
    "#             continue\n",
    "#         model_change.reactions.get_by_id(k).bounds=(0,0)\n",
    "#         #model_change.reactions.get_by_id(k+'_reverse').bounds=(0,0)\n",
    "#         #print(k)"
   ]
  },
  {
   "cell_type": "code",
   "execution_count": null,
   "metadata": {},
   "outputs": [],
   "source": [
    "# EX_change_a=pd.read_csv('./new_idea_AGGD/EC/EC_change_A.csv',index_col=0)\n",
    "# EX_change_b=pd.read_csv('./new_idea_AGGD/EC/EC_change_B.csv',index_col=0)"
   ]
  },
  {
   "cell_type": "code",
   "execution_count": null,
   "metadata": {},
   "outputs": [],
   "source": [
    "# for i in EX_change_a.index:\n",
    "#     meta=i.split('EX_')[1]\n",
    "#     if '_reverse' in meta:\n",
    "#         me=meta.split('_reverse')[0]\n",
    "#     else:\n",
    "#         me=meta\n",
    "#         model_change.reactions.get_by_id('A_'+meta+'_con_1').bounds=(0,1000)\n",
    "#         model_change.reactions.get_by_id('A_'+meta+'_con_1_reverse').bounds=(0,1000)\n",
    "#         model_change.reactions.get_by_id('B_'+meta+'_con_2').bounds=(0,1000)\n",
    "#         model_change.reactions.get_by_id('B_'+meta+'_con_2_reverse').bounds=(0,1000)\n",
    "# for i in EX_change_b.index:\n",
    "#     meta=i.split('EX_')[1]\n",
    "#     if '_reverse' in meta:\n",
    "#         me=meta.split('_reverse')[0]\n",
    "#     else:\n",
    "#         me=meta\n",
    "#         model_change.reactions.get_by_id('A_'+meta+'_con_1').bounds=(0,1000)\n",
    "#         model_change.reactions.get_by_id('A_'+meta+'_con_1_reverse').bounds=(0,1000)\n",
    "#         model_change.reactions.get_by_id('B_'+meta+'_con_2').bounds=(0,1000)\n",
    "#         model_change.reactions.get_by_id('B_'+meta+'_con_2_reverse').bounds=(0,1000)"
   ]
  },
  {
   "cell_type": "code",
   "execution_count": null,
   "metadata": {},
   "outputs": [],
   "source": [
    "# for i in EX_change_a.index:\n",
    "#     meta=i.split('EX_')[1]\n",
    "#     if '_reverse' in meta:\n",
    "#         meta=meta.split('_reverse')[0]\n",
    "#     model_change.reactions.get_by_id('A_'+meta+'_con_1').bounds=(-1000,1000)\n",
    "#     model_change.reactions.get_by_id('B_'+meta+'_con_2').bounds=(-1000,1000)\n",
    "# for i in EX_change_b.index:\n",
    "#     meta=i.split('EX_')[1]\n",
    "#     if '_reverse' in meta:\n",
    "#         meta=meta.split('_reverse')[0]\n",
    "#     model_change.reactions.get_by_id('A_'+meta+'_con_1').bounds=(-1000,1000)\n",
    "#     model_change.reactions.get_by_id('B_'+meta+'_con_2').bounds=(-1000,1000)"
   ]
  },
  {
   "cell_type": "code",
   "execution_count": null,
   "metadata": {},
   "outputs": [],
   "source": [
    "# model_change.reactions.get_by_id('B_Tyrosol_e_con_2').bounds=(0,1000)\n",
    "# model_change.reactions.get_by_id('A_Tyrosol_e_con_1').bounds=(0,1000)\n",
    "# model_change.reactions.get_by_id('B_tyr__L_e_con_2').bounds=(0,1000)\n",
    "# model_change.reactions.get_by_id('A_tyr__L_e_con_1').bounds=(0,1000)\n",
    "# model_change.reactions.get_by_id('B_phpyr_e_con_2').bounds=(-1000,0)\n",
    "# model_change.reactions.get_by_id('A_phpyr_e_con_1').bounds=(-1000,0)"
   ]
  },
  {
   "cell_type": "code",
   "execution_count": null,
   "metadata": {},
   "outputs": [],
   "source": [
    "# save_json_model(model_change,model_ab_json_new)"
   ]
  },
  {
   "cell_type": "markdown",
   "metadata": {},
   "source": [
    "### new_idea"
   ]
  },
  {
   "cell_type": "code",
   "execution_count": 6,
   "metadata": {},
   "outputs": [],
   "source": [
    "from new_cobra import *"
   ]
  },
  {
   "cell_type": "code",
   "execution_count": 7,
   "metadata": {},
   "outputs": [],
   "source": [
    "def Get_Model_Data(model):\n",
    "    \"\"\"Returns reaction_list,metabolite_list,lb_list,ub_list,coef_matrix from model.\n",
    "    \n",
    "    Notes: \n",
    "    ----------\n",
    "    *model： is in SBML format (.xml).\n",
    "    \"\"\"\n",
    "    reaction_list=[]\n",
    "    reaction_list_A=[]\n",
    "    reaction_list_B=[]\n",
    "    metabolite_list=[]\n",
    "    lb_list={}\n",
    "    ub_list={}\n",
    "    coef_matrix={}\n",
    "    for rea in model.reactions:\n",
    "        reaction_list.append(rea.id)\n",
    "        if rea.id.startswith('A_'):\n",
    "            reaction_list_A.append(rea.id)\n",
    "        if rea.id.startswith('B_'):\n",
    "            reaction_list_B.append(rea.id)    \n",
    "        lb_list[rea.id]=rea.lower_bound\n",
    "        ub_list[rea.id]=rea.upper_bound\n",
    "        for met in model.metabolites:\n",
    "            metabolite_list.append(met.id)\n",
    "            try:\n",
    "                rea.get_coefficient(met.id)  \n",
    "            except:\n",
    "                pass\n",
    "            else:\n",
    "                coef_matrix[met.id,rea.id]=rea.get_coefficient(met.id)\n",
    "    reaction_list=list(set(reaction_list))\n",
    "    metabolite_list=list(set(metabolite_list))\n",
    "    return(reaction_list,reaction_list_A,reaction_list_B,metabolite_list,lb_list,ub_list,coef_matrix)"
   ]
  },
  {
   "cell_type": "code",
   "execution_count": 8,
   "metadata": {},
   "outputs": [],
   "source": [
    "def Get_Concretemodel_Need_Data_json(model_file,reaction_kcat_MW_file,target):\n",
    "    Concretemodel_Need_Data={}\n",
    "    # reaction_g0=pd.read_csv(reaction_g0_file,index_col=0,sep='\\t')\n",
    "    # Concretemodel_Need_Data['reaction_g0']=reaction_g0\n",
    "    # metabolites_lnC = pd.read_csv(metabolites_lnC_file, index_col=0, sep='\\t')\n",
    "    # Concretemodel_Need_Data['metabolites_lnC']=metabolites_lnC\n",
    "    model=cobra.io.load_json_model(model_file)\n",
    "    try:\n",
    "        product = model.metabolites.get_by_id(target)\n",
    "        model.add_boundary(product, type='demand')  # add demand reaction as the objective\n",
    "    except:\n",
    "        pass\n",
    "    cobra.manipulation.modify.convert_to_irreversible(model)\n",
    "    isoenzyme_split(model)\n",
    "    reaction_kcat_MW=pd.read_csv(reaction_kcat_MW_file,index_col=0)\n",
    "    Concretemodel_Need_Data['model']=model\n",
    "    Concretemodel_Need_Data['reaction_kcat_MW']=reaction_kcat_MW\n",
    "    [reaction_list,reaction_list_A,reaction_list_B,metabolite_list,lb_list,ub_list,coef_matrix]=Get_Model_Data(model)\n",
    "    Concretemodel_Need_Data['reaction_list']=reaction_list\n",
    "    Concretemodel_Need_Data['reaction_list_A']=reaction_list_A\n",
    "    Concretemodel_Need_Data['reaction_list_B']=reaction_list_B\n",
    "    Concretemodel_Need_Data['metabolite_list']=metabolite_list\n",
    "    Concretemodel_Need_Data['lb_list']=lb_list\n",
    "    Concretemodel_Need_Data['ub_list']=ub_list\n",
    "    Concretemodel_Need_Data['coef_matrix']=coef_matrix\n",
    "    return (Concretemodel_Need_Data)"
   ]
  },
  {
   "cell_type": "markdown",
   "metadata": {},
   "source": [
    "#### model初始化"
   ]
  },
  {
   "cell_type": "code",
   "execution_count": 21,
   "metadata": {},
   "outputs": [],
   "source": [
    "model_ab_json_new='./new_idea_AGGD/model/iML1515_AGGD_change.json'"
   ]
  },
  {
   "cell_type": "code",
   "execution_count": 66,
   "metadata": {},
   "outputs": [],
   "source": [
    "# model_file=model_ab_json\n",
    "#model_file=new_change\n",
    "model_file=model_ab_json_new\n",
    "reaction_kcat_MW_file='./new_idea_AGGD/EC/reaction_kcat_MW.csv'\n",
    "Concretemodel_Need_Data=Get_Concretemodel_Need_Data_json(model_file,reaction_kcat_MW_file,'Salid_c')"
   ]
  },
  {
   "cell_type": "code",
   "execution_count": 67,
   "metadata": {},
   "outputs": [],
   "source": [
    "Concretemodel_Need_Data['reaction_kcat_MW']=unpdate_kcat_mw(Concretemodel_Need_Data['reaction_list'],Concretemodel_Need_Data['reaction_kcat_MW'],'./new_idea_AGGD/EC/reaction_kcat_MW_AGGD.csv')"
   ]
  },
  {
   "cell_type": "code",
   "execution_count": 65,
   "metadata": {},
   "outputs": [],
   "source": [
    "def Template_Concretemodel2(reaction_list=None,metabolite_list=None,coef_matrix=None,reaction_kcat_MW=None,lb_list=None,ub_list=None,reaction_list_A=None,reaction_list_B=None,\\\n",
    "    set_substrate_ini=False,substrate_name=None,substrate_value=None,substrates=None,substrates_bool=False,\\\n",
    "    set_biomass_ini=False,biomass_value=None,biomass_list=None,biomass_id=None,set_A_biomass_ini=None,set_B_biomass_ini=None,\\\n",
    "    set_bound=False,set_stoi_matrix=False,set_enzyme_constraint=False,set_part_enzyme_constraint=False,set_obj_single_E_value=False,E_total=None,\\\n",
    "    obj_name=None,obj_target=None,set_obj_value=False,set_target_ini=False,target_value=None,\\\n",
    "    set_obj_V_value=False,set_new_stoi_matrix=False,set_obj_E_value=False,\\\n",
    "    set_ratio=False,set_ratio_bound=False,set_pass_ini=False,set_pass_value=None,\\\n",
    "    set_metabolite=False,set_obj_Met_value=False,metabolites_lnC=None,\\\n",
    "    set_sub_ratio=False,sub_a=None,sub_b=None,sub_ratio=None):\n",
    "    \n",
    "\n",
    "    Concretemodel = ConcreteModel()\n",
    "    Concretemodel.reaction = pyo.Var(reaction_list,  within=NonNegativeReals)\n",
    "    Concretemodel.z = pyo.Var(reaction_list,  within=pyo.Binary)\n",
    "    Concretemodel.x = pyo.Var()\n",
    "    Concretemodel.y = pyo.Var()\n",
    "\n",
    "    #Set upper and lower bounds of metabolite concentration\n",
    "    # if set_metabolite:\n",
    "    #     def set_metabolite(m,i):\n",
    "    #         return  inequality(metabolites_lnC.loc[i,'lnClb'], m.metabolite[i], metabolites_lnC.loc[i,'lnCub'])\n",
    "    #     Concretemodel.set_metabolite= Constraint(metabolite_list,rule=set_metabolite)  \n",
    "\n",
    "    if set_ratio:\n",
    "        def set_ratio(m):\n",
    "            return  m.x+m.y==100\n",
    "        Concretemodel.set_ratio= Constraint(rule=set_ratio)    \n",
    "        \n",
    "    if set_ratio_bound:\n",
    "        def set_ratio_bound(m):\n",
    "            return inequality(1,m.x,99)\n",
    "        Concretemodel.set_ratio_bound = Constraint(rule=set_ratio_bound)     \n",
    "\n",
    "    #Minimizing the flux sum of pathway (pFBA)\n",
    "    if set_obj_V_value:             \n",
    "        def set_obj_V_value(m):\n",
    "            return sum(m.reaction[j] for j in reaction_list)\n",
    "        Concretemodel.obj = Objective(rule=set_obj_V_value, sense=minimize)  \n",
    "    \n",
    "    #Set the maximum flux as the object function\n",
    "    if set_obj_value:   \n",
    "        def set_obj_value(m):\n",
    "            return m.reaction[obj_name]\n",
    "        if obj_target=='maximize':\n",
    "            Concretemodel.obj = Objective(rule=set_obj_value, sense=maximize)\n",
    "        elif obj_target=='minimize':\n",
    "            Concretemodel.obj = Objective(rule=set_obj_value, sense=minimize)\n",
    "\n",
    "    #Set the minimum enzyme cost of a pathway as the object function\n",
    "    if set_obj_E_value:             \n",
    "        def set_obj_E_value(m):\n",
    "            return sum(m.reaction[j]/(reaction_kcat_MW.loc[j,'kcat_MW']) for j in reaction_kcat_MW.index)\n",
    "        Concretemodel.obj = Objective(rule=set_obj_E_value, sense=minimize)  \n",
    "\n",
    "    #To calculate the variability of enzyme usage of single reaction.\n",
    "    if set_obj_single_E_value:             \n",
    "        def set_obj_single_E_value(m):\n",
    "            return m.reaction[obj_name]/(reaction_kcat_MW.loc[obj_name,'kcat_MW'])\n",
    "        if obj_target=='maximize':\n",
    "            Concretemodel.obj = Objective(rule=set_obj_single_E_value, sense=maximize) \n",
    "        elif obj_target=='minimize':\n",
    "            Concretemodel.obj = Objective(rule=set_obj_single_E_value, sense=minimize)\n",
    "\n",
    "    if set_sub_ratio:\n",
    "        def set_sub_ratio(m):\n",
    "            return m.reaction[sub_a]==4*m.reaction[sub_b]\n",
    "        Concretemodel.set_sub_ratio = Constraint(rule=set_sub_ratio)\n",
    "\n",
    "    #To calculate the concentration variability of metabolites.\n",
    "    # if set_obj_Met_value:   \n",
    "    #     def set_obj_Met_value(m):\n",
    "    #         return m.metabolite[obj_name]\n",
    "    #     if obj_target=='maximize':\n",
    "    #         Concretemodel.obj = Objective(rule=set_obj_Met_value, sense=maximize)\n",
    "    #     elif obj_target=='minimize':\n",
    "    #         Concretemodel.obj = Objective(rule=set_obj_Met_value, sense=minimize)\n",
    "\n",
    "    #Adding flux balance constraints （FBA）\n",
    "    if set_stoi_matrix:\n",
    "        def set_stoi_matrix(m,i):\n",
    "            return sum(coef_matrix[i,j]*m.reaction[j]  for j in reaction_list if (i,j) in coef_matrix.keys() )==0\n",
    "        Concretemodel.set_stoi_matrix = Constraint( metabolite_list,rule=set_stoi_matrix)\n",
    "\n",
    "    #Adding flux balance constraints （newFBA）\n",
    "    if set_new_stoi_matrix:\n",
    "        def set_new_stoi_matrix(m,i):\n",
    "            for j in reaction_list:\n",
    "                if (i,j) in coef_matrix.keys():\n",
    "                    if j.startswith('A_') and i.startswith('A_') and '_con_' in j:\n",
    "                        coef_matrix[i,j]=(1/m.x)*coef_matrix[i,j]\n",
    "                        # if 'akg_e_con_' in j:\n",
    "                                # print ('A:'+str(coef_matrix[i,j]))\n",
    "                    if j.startswith('B_') and i.startswith('B_') and '_con_' in j:\n",
    "                        coef_matrix[i,j]=(1/m.y)*coef_matrix[i,j]\n",
    "            return sum(coef_matrix[i,j]*m.reaction[j]  for j in reaction_list if (i,j) in coef_matrix.keys() )==0\n",
    "        Concretemodel.set_new_stoi_matrix = Constraint( metabolite_list,rule=set_new_stoi_matrix)\n",
    "\n",
    "    #Adding the upper and lower bound constraints of reaction flux\n",
    "    if set_bound:\n",
    "        def set_bound(m,j):\n",
    "            return inequality(lb_list[j],m.reaction[j],ub_list[j])\n",
    "        Concretemodel.set_bound = Constraint(reaction_list,rule=set_bound) \n",
    "\n",
    "    #Set the upper bound for substrate input reaction flux\n",
    "    if set_substrate_ini and substrates_bool==False:\n",
    "        def set_substrate_ini(m): \n",
    "            return m.reaction[substrate_name] <= substrate_value\n",
    "        Concretemodel.set_substrate_ini = Constraint(rule=set_substrate_ini)  \n",
    "    \n",
    "     #Set the upper bound for substrate input reaction flux\n",
    "    if set_substrate_ini and substrates_bool==True:\n",
    "        def set_substrates_ini(m,j): \n",
    "            return m.reaction[j]<= substrates[j]\n",
    "        Concretemodel.set_substrates_ini = Constraint(substrates.keys(),rule=set_substrates_ini)  \n",
    "    \n",
    "    if set_biomass_ini:\n",
    "        def set_biomass_ini(m): \n",
    "            return m.reaction[biomass_id] >=biomass_value\n",
    "        Concretemodel.set_biomass_ini = Constraint(rule=set_biomass_ini)  \n",
    "        \n",
    "    #Set the lower bound for biomass synthesis reaction flux\n",
    "    if set_A_biomass_ini:\n",
    "        def set_A_biomass_ini(m): \n",
    "            return m.reaction['A_'+biomass_id] >=biomass_list['A']\n",
    "        Concretemodel.set_A_biomass_ini = Constraint(rule=set_A_biomass_ini)  \n",
    "        \n",
    "    #Set the lower bound for biomass synthesis reaction flux\n",
    "    if set_B_biomass_ini:\n",
    "        def set_B_biomass_ini(m): \n",
    "            return m.reaction['B_'+biomass_id] >=biomass_list['B']\n",
    "        Concretemodel.set_B_biomass_ini = Constraint(rule=set_B_biomass_ini)  \n",
    "    \n",
    "    #Set the lower bound for target synthesis reaction flux\n",
    "    if set_target_ini:\n",
    "        def set_target_ini(m): \n",
    "            return m.reaction[obj_name] ==target_value\n",
    "        Concretemodel.set_target_ini = Constraint(rule=set_target_ini)  \n",
    "\n",
    "    #Adding enzymamic constraints\n",
    "    if set_enzyme_constraint:\n",
    "        def set_enzyme_constraint(m):\n",
    "            return sum( m.reaction[j]/(reaction_kcat_MW.loc[j,'kcat_MW']) for j in reaction_kcat_MW.index if j in reaction_list)<= E_total\n",
    "        Concretemodel.set_enzyme_constraint = Constraint(rule=set_enzyme_constraint)    \n",
    "    \n",
    "    #Adding Part A enzymamic constraints\n",
    "    if set_part_enzyme_constraint:\n",
    "        def set_enzyme_constraint_A(m):\n",
    "            return sum( m.reaction[j]/(reaction_kcat_MW.loc[j,'kcat_MW']) for j in reaction_kcat_MW.index if j in reaction_list_A)<= E_total\n",
    "        Concretemodel.set_enzyme_constraint_A = Constraint(rule=set_enzyme_constraint_A)\n",
    "\n",
    "    #Adding Part B enzymamic constraints\n",
    "    if set_part_enzyme_constraint:\n",
    "        def set_enzyme_constraint_B(m):\n",
    "            return sum( m.reaction[j]/(reaction_kcat_MW.loc[j,'kcat_MW']) for j in reaction_kcat_MW.index if j in reaction_list_B)<= E_total\n",
    "        Concretemodel.set_enzyme_constraint_B = Constraint(rule=set_enzyme_constraint_B)\n",
    "\n",
    "    #Adding pass meta flux constraints\n",
    "    if set_pass_ini:\n",
    "        def set_pass_ini(m,j):\n",
    "            return m.reaction[j] >= set_pass_value[j]\n",
    "        Concretemodel.set_pass_ini = Constraint(set_pass_value.keys(),rule=set_pass_ini)  \n",
    "\n",
    "    return Concretemodel"
   ]
  },
  {
   "cell_type": "code",
   "execution_count": 12,
   "metadata": {},
   "outputs": [],
   "source": [
    "def Model_Solve(model,solver):\n",
    "    opt = pyo.SolverFactory(solver)\n",
    "    opt.solve(model)\n",
    "    return model"
   ]
  },
  {
   "cell_type": "code",
   "execution_count": null,
   "metadata": {},
   "outputs": [],
   "source": [
    "# Concretemodel_Need_Data['reaction_list']"
   ]
  },
  {
   "cell_type": "code",
   "execution_count": null,
   "metadata": {},
   "outputs": [],
   "source": [
    "# Concretemodel_Need_Data['coef_matrix']"
   ]
  },
  {
   "cell_type": "markdown",
   "metadata": {},
   "source": [
    "### FBA"
   ]
  },
  {
   "cell_type": "code",
   "execution_count": 13,
   "metadata": {},
   "outputs": [],
   "source": [
    "def ECM_FBA(a,b,x,y,mid_a,mid_b,bio_a,bio_b):\n",
    "    #EcoECM=EcoECM(Concretemodel_Need_Data,'DM_B_C06104','maximize',substrates,E_total)\\\n",
    "    #substrates={'EX_glc__D_e_reverse':10}\n",
    "    substrates={'EX_glc__D_e_reverse':a,'EX_xyl__D_e_reverse':b}\n",
    "    substrate_value=10\n",
    "    substrate_name='EX_glc__D_e_reverse'\n",
    "    E_total=0.227\n",
    "    sub_a='EX_glc__D_e_reverse'\n",
    "    sub_b='EX_xyl__D_e_reverse'\n",
    "    ratio=4\n",
    "    reaction_list_A=deepcopy(Concretemodel_Need_Data['reaction_list_A'])\n",
    "    reaction_list_B=deepcopy(Concretemodel_Need_Data['reaction_list_B'])\n",
    "    reaction_list=deepcopy(Concretemodel_Need_Data['reaction_list'])\n",
    "    metabolite_list=deepcopy(Concretemodel_Need_Data['metabolite_list'])\n",
    "    coef_matrix=deepcopy(Concretemodel_Need_Data['coef_matrix'])\n",
    "    for i in metabolite_list:\n",
    "        for j in reaction_list:\n",
    "                if (i,j) in coef_matrix.keys():\n",
    "                    if j.startswith('A_') and i.startswith('A_') and '_con_' in j:\n",
    "                        coef_matrix[i,j]=(1/x)*coef_matrix[i,j]\n",
    "                        # if 'akg_e_con_' in j:\n",
    "                                # print ('A:'+str(coef_matrix[i,j]))\n",
    "                    if j.startswith('B_') and i.startswith('B_') and '_con_' in j:\n",
    "                        coef_matrix[i,j]=(1/y)*coef_matrix[i,j]\n",
    "                        # if 'akg_e_con_' in j:\n",
    "                #                 print ('B:'+str(coef_matrix[i,j]))\n",
    "                #     print ('ij:'+str(coef_matrix[i,j]))\n",
    "    reaction_kcat_MW=deepcopy(Concretemodel_Need_Data['reaction_kcat_MW'])\n",
    "    lb_list=Concretemodel_Need_Data['lb_list']\n",
    "    ub_list=Concretemodel_Need_Data['ub_list']\n",
    "    if len(substrates.keys())==1:\n",
    "            for i in substrates.keys():\n",
    "                ub_list[i]=substrates[i]\n",
    "                substrate_name=i\n",
    "                substrate_value=substrates[i]\n",
    "            substrates_bool=False\n",
    "    else:\n",
    "            for i in substrates.keys():\n",
    "                    ub_list[i]=substrates[i]\n",
    "            substrate_name=''\n",
    "            substrate_value=0\n",
    "            substrates_bool=True\n",
    "\n",
    "    obj_name='EX_Salid_e'\n",
    "    obj_target='maximize'\n",
    "    biomass_id='BIOMASS_Ec_iML1515_core_75p37M'\n",
    "    pass_value={'A_tyr__L_e_con_1':mid_a,'B_phpyr_e_con_2_reverse':mid_b}\n",
    "    EcoECM_FBA=Template_Concretemodel2(reaction_list=reaction_list,metabolite_list=metabolite_list,coef_matrix=coef_matrix,\\\n",
    "        reaction_list_A=reaction_list_A,reaction_list_B=reaction_list_B,reaction_kcat_MW=reaction_kcat_MW,lb_list=lb_list,ub_list=ub_list,\\\n",
    "        obj_name=obj_name,obj_target=obj_target,set_obj_value=True,biomass_id=biomass_id,set_substrate_ini=True,substrate_name=substrate_name,\\\n",
    "        substrate_value=substrate_value,substrates=substrates,substrates_bool=substrates_bool,set_stoi_matrix=True,set_bound=True,E_total=E_total,\\\n",
    "        set_enzyme_constraint=False,set_part_enzyme_constraint=True,set_A_biomass_ini=True,set_B_biomass_ini=True,biomass_list={'A':bio_a,'B':bio_b},\\\n",
    "        set_pass_ini=True,set_pass_value=pass_value,set_sub_ratio=False,sub_a=sub_a,sub_b=sub_b,sub_ratio=ratio)#{'A':0.15,'B':0.65}\n",
    "    opt_ecm_FBA=Model_Solve(EcoECM_FBA,'gurobi')\n",
    "    #opt_ecm_pFBA.obj()\n",
    "    return opt_ecm_FBA"
   ]
  },
  {
   "cell_type": "markdown",
   "metadata": {},
   "source": [
    "### pFBA"
   ]
  },
  {
   "cell_type": "code",
   "execution_count": 14,
   "metadata": {},
   "outputs": [],
   "source": [
    "def ECM_pFBA(a,b,x,y,obj,mid_a,mid_b,bio_a,bio_b):\n",
    "    #EcoECM=EcoECM(Concretemodel_Need_Data,'DM_B_C06104','maximize',substrates,E_total)\\\n",
    "    #substrates={'EX_glc__D_e_reverse':10}\n",
    "    substrates={'EX_glc__D_e_reverse':a,'EX_xyl__D_e_reverse':b}\n",
    "    substrate_value=10\n",
    "    substrate_name=''\n",
    "    E_total=0.227\n",
    "    sub_a='EX_glc__D_e_reverse'\n",
    "    sub_b='EX_xyl__D_e_reverse'\n",
    "    ratio=4\n",
    "    reaction_list_A=deepcopy(Concretemodel_Need_Data['reaction_list_A'])\n",
    "    reaction_list_B=deepcopy(Concretemodel_Need_Data['reaction_list_B'])\n",
    "    reaction_list=deepcopy(Concretemodel_Need_Data['reaction_list'])\n",
    "    metabolite_list=deepcopy(Concretemodel_Need_Data['metabolite_list'])\n",
    "    coef_matrix=deepcopy(Concretemodel_Need_Data['coef_matrix'])\n",
    "    for i in metabolite_list:\n",
    "        for j in reaction_list:\n",
    "                if (i,j) in coef_matrix.keys():\n",
    "                    if j.startswith('A_') and i.startswith('A_') and '_con_' in j:\n",
    "                        coef_matrix[i,j]=(1/x)*coef_matrix[i,j]\n",
    "                        # if 'akg_e_con_' in j:\n",
    "                                # print ('A:'+str(coef_matrix[i,j]))\n",
    "                    if j.startswith('B_') and i.startswith('B_') and '_con_' in j:\n",
    "                        coef_matrix[i,j]=(1/y)*coef_matrix[i,j]\n",
    "                        # if 'akg_e_con_' in j:\n",
    "                #                 print ('B:'+str(coef_matrix[i,j]))\n",
    "                #     print ('ij:'+str(coef_matrix[i,j]))\n",
    "    reaction_kcat_MW=deepcopy(Concretemodel_Need_Data['reaction_kcat_MW'])\n",
    "    lb_list=Concretemodel_Need_Data['lb_list']\n",
    "    ub_list=Concretemodel_Need_Data['ub_list']\n",
    "    # if len(substrates.keys())==1:\n",
    "    #         for i in substrates.keys():\n",
    "    #             ub_list[i]=substrates[i]\n",
    "    #             substrate_name=i\n",
    "    #             substrate_value=substrates[i]\n",
    "    #         substrates_bool=False\n",
    "    # else:\n",
    "    #         for i in substrates.keys():\n",
    "    #                 ub_list[i]=substrates[i]\n",
    "    #         substrate_name=''\n",
    "    #         substrate_value=0\n",
    "    #         substrates_bool=True\n",
    "    substrates_bool=True\n",
    "    obj_name='EX_Salid_e'\n",
    "    obj_target='maximize'\n",
    "    biomass_id='BIOMASS_Ec_iML1515_core_75p37M'\n",
    "    #pass_value={'A_tyr__L_e_con_1':mid_a,'B_phpyr_e_con_2_reverse':mid_b}\n",
    "    EcoECM_pFBA=Template_Concretemodel2(reaction_list=reaction_list,metabolite_list=metabolite_list,coef_matrix=coef_matrix,\\\n",
    "        reaction_list_A=reaction_list_A,reaction_list_B=reaction_list_B,reaction_kcat_MW=reaction_kcat_MW,lb_list=lb_list,ub_list=ub_list,\\\n",
    "        obj_name=obj_name,obj_target=obj_target,set_obj_value=False,set_target_ini=True,set_obj_V_value=True,target_value=obj,\\\n",
    "        biomass_id=biomass_id,set_A_biomass_ini=True,set_B_biomass_ini=True,biomass_list={'A':bio_a,'B':bio_b},set_substrate_ini=True,substrate_name=substrate_name,\\\n",
    "        substrate_value=substrate_value,substrates=substrates,substrates_bool=substrates_bool,set_stoi_matrix=True,set_bound=True,E_total=E_total,\\\n",
    "        set_enzyme_constraint=False,set_part_enzyme_constraint=True,set_pass_ini=False,set_pass_value=None,set_sub_ratio=False,sub_a=sub_a,sub_b=sub_b,sub_ratio=ratio)#{'A':0.1,'B':0.65}\n",
    "    opt_ecm_pFBA=Model_Solve(EcoECM_pFBA,'gurobi')\n",
    "    #opt_ecm_pFBA.obj()\n",
    "    return opt_ecm_pFBA"
   ]
  },
  {
   "cell_type": "markdown",
   "metadata": {},
   "source": [
    "### test_new"
   ]
  },
  {
   "cell_type": "code",
   "execution_count": null,
   "metadata": {},
   "outputs": [],
   "source": [
    "# def test(a):\n",
    "#     #EcoECM=EcoECM(Concretemodel_Need_Data,'DM_B_C06104','maximize',substrates,E_total)\\\n",
    "#     #substrates={'EX_glc__D_e_reverse':10}\n",
    "#     substrates={'EX_glc__D_e_reverse':a,'EX_xyl__D_e_reverse':200}\n",
    "#     substrate_value=10\n",
    "#     substrate_name='EX_glc__D_e_reverse'\n",
    "#     E_total=0.227\n",
    "#     reaction_list_A=deepcopy(Concretemodel_Need_Data['reaction_list_A'])\n",
    "#     reaction_list_B=deepcopy(Concretemodel_Need_Data['reaction_list_B'])\n",
    "#     reaction_list=deepcopy(Concretemodel_Need_Data['reaction_list'])\n",
    "#     metabolite_list=deepcopy(Concretemodel_Need_Data['metabolite_list'])\n",
    "#     coef_matrix=deepcopy(Concretemodel_Need_Data['coef_matrix'])\n",
    "#     # for i in metabolite_list:\n",
    "#     #     for j in reaction_list:\n",
    "#     #             if (i,j) in coef_matrix.keys():\n",
    "#     #                 if j.startswith('A_') and i.startswith('A_') and '_con_' in j:\n",
    "#     #                     coef_matrix[i,j]=(1/46)*coef_matrix[i,j]\n",
    "#     #                     # if 'akg_e_con_' in j:\n",
    "#     #                             # print ('A:'+str(coef_matrix[i,j]))\n",
    "#     #                 if j.startswith('B_') and i.startswith('B_') and '_con_' in j:\n",
    "#     #                     coef_matrix[i,j]=(1/64)*coef_matrix[i,j]\n",
    "#     #                     # if 'akg_e_con_' in j:\n",
    "#     #             #                 print ('B:'+str(coef_matrix[i,j]))\n",
    "#     #             #     print ('ij:'+str(coef_matrix[i,j]))\n",
    "#     reaction_kcat_MW=deepcopy(Concretemodel_Need_Data['reaction_kcat_MW'])\n",
    "#     lb_list=Concretemodel_Need_Data['lb_list']\n",
    "#     ub_list=Concretemodel_Need_Data['ub_list']\n",
    "#     if len(substrates.keys())==1:\n",
    "#             for i in substrates.keys():\n",
    "#                     ub_list[i]=substrates[i]\n",
    "#             substrate_name=i\n",
    "#             substrate_value=substrates[i]\n",
    "#             substrates_bool=False\n",
    "#     else:\n",
    "#             for i in substrates.keys():\n",
    "#                     ub_list[i]=substrates[i]\n",
    "#             substrate_name=''\n",
    "#             substrate_value=0\n",
    "#             substrates_bool=True\n",
    "\n",
    "#     obj_name='B_DM_C06104'\n",
    "#     obj_target='maximize'\n",
    "#     biomass_id='BIOMASS_Ec_iML1515_core_75p37M'\n",
    "#     EcoECM_FBA=Template_Concretemodel2(reaction_list=reaction_list,metabolite_list=metabolite_list,coef_matrix=coef_matrix,reaction_list_A=reaction_list_A,reaction_list_B=reaction_list_B,\\\n",
    "#         reaction_kcat_MW=reaction_kcat_MW,lb_list=lb_list,ub_list=ub_list,obj_name=obj_name,obj_target=obj_target,set_obj_value=True,biomass_id=biomass_id,set_ratio=True,set_ratio_bound=True,\\\n",
    "#         set_substrate_ini=True,substrate_name=substrate_name,substrate_value=substrate_value,substrates=substrates,substrates_bool=substrates_bool,set_new_stoi_matrix=True,set_bound=True,\\\n",
    "#         set_enzyme_constraint=False,set_part_enzyme_constraint=True,E_total=E_total,set_A_biomass_ini=False,set_B_biomass_ini=False,biomass_value=None)\n",
    "#     opt_ecm_FBA=Model_Solve(EcoECM_FBA,'gurobi')\n",
    "#     #opt_ecm_pFBA.obj()\n",
    "#     return opt_ecm_FBA"
   ]
  },
  {
   "cell_type": "code",
   "execution_count": null,
   "metadata": {},
   "outputs": [],
   "source": [
    "# d=test(200)\n",
    "# d.obj()\n",
    "# d.x()"
   ]
  },
  {
   "cell_type": "code",
   "execution_count": null,
   "metadata": {},
   "outputs": [],
   "source": [
    "# def ECM_pFBA(a,obj):\n",
    "#     #EcoECM=EcoECM(Concretemodel_Need_Data,'DM_B_C06104','maximize',substrates,E_total)\\\n",
    "#     #substrates={'EX_glc__D_e_reverse':10}\n",
    "#     substrates={'EX_glc__D_e_reverse':a,'EX_xyl__D_e_reverse':200}\n",
    "#     substrate_value=10\n",
    "#     substrate_name='EX_glc__D_e_reverse'\n",
    "#     E_total=0.227\n",
    "#     reaction_list_A=deepcopy(Concretemodel_Need_Data['reaction_list_A'])\n",
    "#     reaction_list_B=deepcopy(Concretemodel_Need_Data['reaction_list_B'])\n",
    "#     reaction_list=deepcopy(Concretemodel_Need_Data['reaction_list'])\n",
    "#     metabolite_list=deepcopy(Concretemodel_Need_Data['metabolite_list'])\n",
    "#     coef_matrix=deepcopy(Concretemodel_Need_Data['coef_matrix'])\n",
    "#     for i in metabolite_list:\n",
    "#         for j in reaction_list:\n",
    "#                 if (i,j) in coef_matrix.keys():\n",
    "#                     if j.startswith('A_') and i.startswith('A_') and '_con_' in j:\n",
    "#                         coef_matrix[i,j]=(1/46)*coef_matrix[i,j]\n",
    "#                         # if 'akg_e_con_' in j:\n",
    "#                                 # print ('A:'+str(coef_matrix[i,j]))\n",
    "#                     if j.startswith('B_') and i.startswith('B_') and '_con_' in j:\n",
    "#                         coef_matrix[i,j]=(1/64)*coef_matrix[i,j]\n",
    "#                         # if 'akg_e_con_' in j:\n",
    "#                 #                 print ('B:'+str(coef_matrix[i,j]))\n",
    "#                 #     print ('ij:'+str(coef_matrix[i,j]))\n",
    "#     reaction_kcat_MW=deepcopy(Concretemodel_Need_Data['reaction_kcat_MW'])\n",
    "#     lb_list=Concretemodel_Need_Data['lb_list']\n",
    "#     ub_list=Concretemodel_Need_Data['ub_list']\n",
    "#     if len(substrates.keys())==1:\n",
    "#             for i in substrates.keys():\n",
    "#                     ub_list[i]=substrates[i]\n",
    "#             substrate_name=i\n",
    "#             substrate_value=substrates[i]\n",
    "#             substrates_bool=False\n",
    "#     else:\n",
    "#             for i in substrates.keys():\n",
    "#                     ub_list[i]=substrates[i]\n",
    "#             substrate_name=''\n",
    "#             substrate_value=0\n",
    "#             substrates_bool=True\n",
    "\n",
    "#     obj_name='B_DM_C06104'\n",
    "#     obj_target='maximize'\n",
    "#     biomass_id='BIOMASS_Ec_iML1515_core_75p37M'\n",
    "#     EcoECM_pFBA=Template_Concretemodel(reaction_list=reaction_list,metabolite_list=metabolite_list,coef_matrix=coef_matrix,reaction_list_A=reaction_list_A,reaction_list_B=reaction_list_B,\\\n",
    "#     reaction_kcat_MW=reaction_kcat_MW,lb_list=lb_list,ub_list=ub_list,obj_name=obj_name,obj_target=obj_target,set_obj_value=False,set_target_ini=True,target_id=obj_name,target_value=obj,\\\n",
    "#     set_substrate_ini=True,substrate_name=substrate_name,substrate_value=substrate_value,substrates=substrates,substrates_bool=substrates_bool,set_stoi_matrix=True,set_bound=True,set_obj_V_value=True,\\\n",
    "#     set_enzyme_constraint=False,set_part_enzyme_constraint=True,E_total=E_total)\n",
    "#     opt_ecm_pFBA=Model_Solve(EcoECM_pFBA,'gurobi')\n",
    "#     #opt_ecm_pFBA.obj()\n",
    "#     return opt_ecm_pFBA"
   ]
  },
  {
   "cell_type": "code",
   "execution_count": null,
   "metadata": {},
   "outputs": [],
   "source": [
    "# def ECM_pFBA2(a):\n",
    "#     #EcoECM=EcoECM(Concretemodel_Need_Data,'DM_B_C06104','maximize',substrates,E_total)\\\n",
    "#     #substrates={'EX_glc__D_e_reverse':10}\n",
    "#     substrates={'EX_glc__D_e_reverse':a,'EX_akg_e_reverse':0}\n",
    "#     substrate_value=10\n",
    "#     substrate_name='EX_glc__D_e_reverse'\n",
    "#     E_total=0.227\n",
    "#     reaction_list=Concretemodel_Need_Data['reaction_list']\n",
    "#     metabolite_list=Concretemodel_Need_Data['metabolite_list']\n",
    "#     coef_matrix=Concretemodel_Need_Data['coef_matrix']\n",
    "#     reaction_kcat_MW=Concretemodel_Need_Data['reaction_kcat_MW']\n",
    "#     lb_list=Concretemodel_Need_Data['lb_list']\n",
    "#     ub_list=Concretemodel_Need_Data['ub_list']\n",
    "#     if len(substrates.keys())==1:\n",
    "#             for i in substrates.keys():\n",
    "#                     ub_list[i]=substrates[i]\n",
    "#             substrate_name=i\n",
    "#             substrate_value=substrates[i]\n",
    "#             substrates_bool=False\n",
    "#     else:\n",
    "#             for i in substrates.keys():\n",
    "#                     ub_list[i]=substrates[i]\n",
    "#             substrate_name=''\n",
    "#             substrate_value=0\n",
    "#             substrates_bool=True\n",
    "\n",
    "#     obj_name='DM_akg_c'\n",
    "#     obj_target='maximize'\n",
    "#     biomass_id='BIOMASS_Ec_iML1515_core_75p37M'\n",
    "#     EcoECM_pFBA=Template_Concretemodel(reaction_list=reaction_list,metabolite_list=metabolite_list,coef_matrix=coef_matrix,\\\n",
    "#         reaction_kcat_MW=reaction_kcat_MW,lb_list=lb_list,ub_list=ub_list,obj_name=obj_name,obj_target=obj_target,set_obj_value=True,biomass_id=biomass_id,\\\n",
    "#         set_substrate_ini=True,substrate_name=substrate_name,substrate_value=substrate_value,substrates=substrates,substrates_bool=substrates_bool,set_stoi_matrix=True,set_bound=True,\\\n",
    "#         set_enzyme_constraint=True,set_part_enzyme_constraint=False,E_total=E_total,biomass_value=None)\n",
    "#     opt_ecm_pFBA=Model_Solve(EcoECM_pFBA,'gurobi')\n",
    "#     #opt_ecm_pFBA.obj()\n",
    "#     return opt_ecm_pFBA"
   ]
  },
  {
   "cell_type": "markdown",
   "metadata": {},
   "source": [
    "### output"
   ]
  },
  {
   "cell_type": "code",
   "execution_count": null,
   "metadata": {},
   "outputs": [],
   "source": [
    "result_ratio=pd.DataFrame()"
   ]
  },
  {
   "cell_type": "code",
   "execution_count": null,
   "metadata": {},
   "outputs": [],
   "source": [
    "for m in range(1,100):\n",
    "    n=100-m\n",
    "    try:\n",
    "        a=ECM_FBA(800,200,m,n)\n",
    "        result_ratio.at[m,'S_value']=a.obj()*n\n",
    "    except:\n",
    "        print(str(m)+':error')\n",
    "        continue\n",
    "    # if (a.reaction['A_Tyrosol_e_con_1'].value-a.reaction['A_Tyrosol_e_con_1_reverse'].value)>=0 or (a.reaction['A_tyr__L_e_con_1'].value-a.reaction['A_tyr__L_e_con_1_reverse'].value)<=0\\\n",
    "    #      or (a.reaction['A_phpyr_e_con_1'].value-a.reaction['A_phpyr_e_con_1_reverse'].value)<=0:\n",
    "    #     pass\n",
    "    result_ratio.at[m,'A']=m\n",
    "    result_ratio.at[m,'B']=n\n",
    "    result_ratio.at[m,'obj']=a.obj()\n",
    "    result_ratio.at[m,'S_value']=a.obj()*n\n",
    "    result_ratio.at[m,'A_glc_out']=a.reaction['A_glc__D_e_con_1'].value\n",
    "    result_ratio.at[m,'B_glc']=a.reaction['B_glc__D_e_con_2'].value-a.reaction['B_glc__D_e_con_2_reverse'].value\n",
    "    result_ratio.at[m,'A_xyl']=a.reaction['A_xyl__D_e_con_1_reverse'].value-a.reaction['A_xyl__D_e_con_1'].value\n",
    "    result_ratio.at[m,'B_xyl']=a.reaction['B_xyl__D_e_con_2'].value-a.reaction['B_xyl__D_e_con_2_reverse'].value\n",
    "    result_ratio.at[m,'A_c2e']=a.reaction['A_Tyrosol_c2e'].value-a.reaction['A_Tyrosol_c2e_reverse'].value\n",
    "    result_ratio.at[m,'T_A_value']=a.reaction['A_Tyrosol_e_con_1'].value\n",
    "    result_ratio.at[m,'T_B_value']=a.reaction['B_Tyrosol_e_con_2'].value\n",
    "    result_ratio.at[m,'B_e2c']=a.reaction['B_Tyrosol_c2e_reverse'].value-a.reaction['B_Tyrosol_c2e'].value\n",
    "    print(str(a.obj()*n),m,result_ratio.at[m,'A_c2e'],result_ratio.at[m,'T_A_value'],result_ratio.at[m,'T_B_value'],result_ratio.at[m,'B_e2c'])"
   ]
  },
  {
   "cell_type": "code",
   "execution_count": null,
   "metadata": {},
   "outputs": [],
   "source": [
    "result_ratio"
   ]
  },
  {
   "cell_type": "code",
   "execution_count": null,
   "metadata": {},
   "outputs": [],
   "source": [
    "result_ratio.to_csv('./new_idea_AGGD/result/4_2;1.csv')"
   ]
  },
  {
   "cell_type": "code",
   "execution_count": null,
   "metadata": {},
   "outputs": [],
   "source": [
    "### change_glc底物摄入\n",
    "result_ratio.to_csv('./new_idea_AGGD/result/4_change_glc.csv')"
   ]
  },
  {
   "cell_type": "code",
   "execution_count": null,
   "metadata": {},
   "outputs": [],
   "source": [
    "a=ECM_FBA(800,200,80,20)\n",
    "a.obj()*20"
   ]
  },
  {
   "cell_type": "code",
   "execution_count": null,
   "metadata": {},
   "outputs": [],
   "source": [
    "a.reaction['B_DM_Salid_c'].value"
   ]
  },
  {
   "cell_type": "code",
   "execution_count": null,
   "metadata": {},
   "outputs": [],
   "source": [
    "a.obj()"
   ]
  },
  {
   "cell_type": "code",
   "execution_count": null,
   "metadata": {},
   "outputs": [],
   "source": [
    "result_ratio_single=pd.DataFrame()\n",
    "for i in Concretemodel_Need_Data['reaction_list']:\n",
    "    try:\n",
    "        result_ratio_single.at[i,'flux']=a.reaction[i].value\n",
    "        result_ratio_single.at[i,'kcat_MW']=Concretemodel_Need_Data['reaction_kcat_MW'].at[i,'kcat_MW']\n",
    "        result_ratio_single.at[i,'enz_useage']=round(result_ratio_single.at[i,'flux']/result_ratio_single.at[i,'kcat_MW'],6)\n",
    "    except:\n",
    "        pass\n",
    "    result_ratio_single.at[i,'formula']=model_ab.reactions.get_by_id(i).reaction\n",
    "result_ratio_single.to_csv('./new_idea_AGGD/result/1.csv')"
   ]
  },
  {
   "cell_type": "code",
   "execution_count": null,
   "metadata": {},
   "outputs": [],
   "source": [
    "result_ratio_pfba=pd.DataFrame()"
   ]
  },
  {
   "cell_type": "code",
   "execution_count": null,
   "metadata": {},
   "outputs": [],
   "source": [
    "# result_ratio.at[80,'S_value']"
   ]
  },
  {
   "cell_type": "code",
   "execution_count": null,
   "metadata": {},
   "outputs": [],
   "source": [
    "# b=ECM_pFBA(800,200,80,20,a.obj())"
   ]
  },
  {
   "cell_type": "code",
   "execution_count": null,
   "metadata": {},
   "outputs": [],
   "source": [
    "for m in range(1,100):\n",
    "    n=100-m\n",
    "    obj=result_ratio.at[m,'obj']\n",
    "    print(obj)\n",
    "    try:\n",
    "        a=ECM_pFBA(800,200,m,n,obj)\n",
    "        #=a.obj()*n\n",
    "    except:\n",
    "        print(str(m)+':error')\n",
    "        continue\n",
    "    # if (a.reaction['A_Tyrosol_e_con_1'].value-a.reaction['A_Tyrosol_e_con_1_reverse'].value)>=0 or (a.reaction['A_tyr__L_e_con_1'].value-a.reaction['A_tyr__L_e_con_1_reverse'].value)<=0\\\n",
    "    #      or (a.reaction['A_phpyr_e_con_1'].value-a.reaction['A_phpyr_e_con_1_reverse'].value)<=0:\n",
    "    #     pass\n",
    "    result_ratio_pfba.at[m,'A']=m\n",
    "    result_ratio_pfba.at[m,'B']=n\n",
    "    result_ratio_pfba.at[m,'obj']=obj\n",
    "    result_ratio_pfba.at[m,'S_value']=a.reaction['B_DM_Salid_c'].value*n\n",
    "    result_ratio_pfba.at[m,'A_glc']=a.reaction['A_glc__D_e_con_1_reverse'].value-a.reaction['A_glc__D_e_con_1'].value\n",
    "    result_ratio_pfba.at[m,'B_glc']=a.reaction['B_glc__D_e_con_2'].value-a.reaction['B_glc__D_e_con_2_reverse'].value\n",
    "    result_ratio_pfba.at[m,'A_xyl']=a.reaction['A_xyl__D_e_con_1_reverse'].value-a.reaction['A_xyl__D_e_con_1'].value\n",
    "    result_ratio_pfba.at[m,'B_xyl']=a.reaction['B_xyl__D_e_con_2'].value-a.reaction['B_xyl__D_e_con_2_reverse'].value\n",
    "    result_ratio_pfba.at[m,'A_c2e']=a.reaction['A_Tyrosol_c2e'].value-a.reaction['A_Tyrosol_c2e_reverse'].value\n",
    "    result_ratio_pfba.at[m,'T_A_value']=a.reaction['A_Tyrosol_e_con_1'].value\n",
    "    result_ratio_pfba.at[m,'T_B_value']=a.reaction['B_Tyrosol_e_con_2'].value\n",
    "    result_ratio_pfba.at[m,'B_e2c']=a.reaction['B_Tyrosol_c2e_reverse'].value-a.reaction['B_Tyrosol_c2e'].value\n",
    "    print(result_ratio_pfba.at[m,'S_value'],m,result_ratio_pfba.at[m,'A_c2e'],result_ratio_pfba.at[m,'T_A_value'],result_ratio_pfba.at[m,'T_B_value'],result_ratio_pfba.at[m,'B_e2c'])"
   ]
  },
  {
   "cell_type": "code",
   "execution_count": null,
   "metadata": {},
   "outputs": [],
   "source": [
    "result_ratio_pfba.to_csv('./new_idea_AGGD/result/4_4;1_pfba.csv')"
   ]
  },
  {
   "cell_type": "markdown",
   "metadata": {},
   "source": [
    "### test_ratio"
   ]
  },
  {
   "cell_type": "code",
   "execution_count": 15,
   "metadata": {},
   "outputs": [],
   "source": [
    "def get_two_float(f_str, n):\n",
    "    a, b, c = str(f_str).partition('.')\n",
    "    c = c[:n]\n",
    "    return float(\".\".join([a, c]))"
   ]
  },
  {
   "cell_type": "markdown",
   "metadata": {},
   "source": [
    "## test_kcat"
   ]
  },
  {
   "cell_type": "code",
   "execution_count": 5,
   "metadata": {},
   "outputs": [],
   "source": [
    "from double_ECM import *"
   ]
  },
  {
   "cell_type": "code",
   "execution_count": 6,
   "metadata": {},
   "outputs": [],
   "source": [
    "list_x=[9,8,6,4]\n",
    "list_y=[3,4,6,8]"
   ]
  },
  {
   "cell_type": "code",
   "execution_count": 45,
   "metadata": {},
   "outputs": [],
   "source": [
    "# list_x=[3,2,1,1]\n",
    "# list_y=[1,1,1,2]"
   ]
  },
  {
   "cell_type": "code",
   "execution_count": 7,
   "metadata": {},
   "outputs": [],
   "source": [
    "from concurrent.futures import ProcessPoolExecutor, as_completed\n",
    "import datetime\n",
    "from thread import *\n",
    "import sys\n",
    "sys.path.append(r'./')"
   ]
  },
  {
   "cell_type": "code",
   "execution_count": 8,
   "metadata": {},
   "outputs": [],
   "source": [
    "model_file=model_ab_json_new\n",
    "reaction_kcat_MW_file='./new_idea_AGGD/EC/reaction_kcat_MW_AGGD_origin.csv'\n",
    "Concretemodel_Need_Data=Get_Concretemodel_Need_Data_json(model_file,reaction_kcat_MW_file,'Salid_c')\n",
    "Concretemodel_Need_Data['reaction_kcat_MW']=unpdate_kcat_mw(Concretemodel_Need_Data['reaction_list'],Concretemodel_Need_Data['reaction_kcat_MW'],'./new_idea_AGGD/EC/reaction_kcat_MW_AGGD.csv')"
   ]
  },
  {
   "cell_type": "code",
   "execution_count": 445,
   "metadata": {},
   "outputs": [],
   "source": [
    "Concretemodel_Need_Data['reaction_kcat_MW']=pd.read_csv(reaction_kcat_MW_file,index_col=0)\n",
    "Concretemodel_Need_Data['reaction_kcat_MW']=unpdate_kcat_mw(Concretemodel_Need_Data['reaction_list'],Concretemodel_Need_Data['reaction_kcat_MW'],'./new_idea_AGGD/EC/reaction_kcat_MW_AGGD.csv')"
   ]
  },
  {
   "cell_type": "code",
   "execution_count": 446,
   "metadata": {},
   "outputs": [],
   "source": [
    "# Concretemodel_Need_Data['reaction_kcat_MW'].at['A_ADH','kcat_MW']"
   ]
  },
  {
   "cell_type": "code",
   "execution_count": 9,
   "metadata": {},
   "outputs": [
    {
     "name": "stdout",
     "output_type": "stream",
     "text": [
      "0:00:18.896887\n",
      "{<Future at 0x152484fe208 state=finished returned float>: 0, <Future at 0x152456746a0 state=finished returned float>: 1, <Future at 0x15241ebb828 state=finished returned float>: 2, <Future at 0x15248557438 state=finished returned float>: 3}\n"
     ]
    }
   ],
   "source": [
    "if __name__ == \"__main__\":\n",
    "    pool=ProcessPoolExecutor(max_workers=8)\n",
    "    with pool as executor:\n",
    "        start = datetime.datetime.now()\n",
    "        #print(\"pass_2\")\n",
    "        tmp=[]\n",
    "        futures = {executor.submit(fba_max_subs_product,Concretemodel_Need_Data,(list_x[i],list_y[i]),(96,24),0,0,0.40,0.62,'EX_Salid_e'): i for i in range(0,len(list_x))}\n",
    "        # for future in as_completed(futures):\n",
    "        #     tmp.append(future.result())\n",
    "    end = datetime.datetime.now()\n",
    "    print (end - start)\n",
    "    print(futures)"
   ]
  },
  {
   "cell_type": "code",
   "execution_count": 10,
   "metadata": {},
   "outputs": [
    {
     "name": "stdout",
     "output_type": "stream",
     "text": [
      "A:B:C=6:6\n",
      "3.0741311577743806\n",
      "A:B:C=4:8\n",
      "1.2266261232164202\n",
      "A:B:C=8:4\n",
      "4.690132708331974\n",
      "A:B:C=9:3\n",
      "4.172659144414608\n"
     ]
    },
    {
     "data": {
      "text/html": [
       "<div>\n",
       "<style scoped>\n",
       "    .dataframe tbody tr th:only-of-type {\n",
       "        vertical-align: middle;\n",
       "    }\n",
       "\n",
       "    .dataframe tbody tr th {\n",
       "        vertical-align: top;\n",
       "    }\n",
       "\n",
       "    .dataframe thead th {\n",
       "        text-align: right;\n",
       "    }\n",
       "</style>\n",
       "<table border=\"1\" class=\"dataframe\">\n",
       "  <thead>\n",
       "    <tr style=\"text-align: right;\">\n",
       "      <th></th>\n",
       "      <th>flux</th>\n",
       "    </tr>\n",
       "  </thead>\n",
       "  <tbody>\n",
       "    <tr>\n",
       "      <th>9:3</th>\n",
       "      <td>4.172659</td>\n",
       "    </tr>\n",
       "    <tr>\n",
       "      <th>8:4</th>\n",
       "      <td>4.690133</td>\n",
       "    </tr>\n",
       "    <tr>\n",
       "      <th>6:6</th>\n",
       "      <td>3.074131</td>\n",
       "    </tr>\n",
       "    <tr>\n",
       "      <th>4:8</th>\n",
       "      <td>1.226626</td>\n",
       "    </tr>\n",
       "  </tbody>\n",
       "</table>\n",
       "</div>"
      ],
      "text/plain": [
       "         flux\n",
       "9:3  4.172659\n",
       "8:4  4.690133\n",
       "6:6  3.074131\n",
       "4:8  1.226626"
      ]
     },
     "execution_count": 10,
     "metadata": {},
     "output_type": "execute_result"
    }
   ],
   "source": [
    "result_list_mass=pd.DataFrame()\n",
    "for future in as_completed(futures):\n",
    "    x=list_x[futures[future]]\n",
    "    y=list_y[futures[future]]\n",
    "    real=1\n",
    "    real_x=int(x*real)\n",
    "    real_y=int(y*real)\n",
    "    print('A:B:C='+str(real_x)+':'+str(real_y))\n",
    "    print(future.result())\n",
    "    result_list_mass.at[str(real_x)+':'+str(real_y),'flux']=future.result()\n",
    "result_list=pd.DataFrame()\n",
    "for i in range(0,len(list_x)):\n",
    "    real=1\n",
    "    real_x=int(list_x[i]*real)\n",
    "    real_y=int(list_y[i]*real)\n",
    "    result_list.at[str(real_x)+':'+str(real_y),'flux']=result_list_mass.at[str(real_x)+':'+str(real_y),'flux']\n",
    "result_list"
   ]
  },
  {
   "cell_type": "code",
   "execution_count": null,
   "metadata": {},
   "outputs": [],
   "source": [
    "print error_print"
   ]
  },
  {
   "cell_type": "code",
   "execution_count": 468,
   "metadata": {},
   "outputs": [],
   "source": [
    "list_a=[60,80,96,102]\n",
    "list_b=[60,40,24,18]"
   ]
  },
  {
   "cell_type": "markdown",
   "metadata": {},
   "source": [
    "### diff_subs"
   ]
  },
  {
   "cell_type": "code",
   "execution_count": 469,
   "metadata": {},
   "outputs": [
    {
     "name": "stdout",
     "output_type": "stream",
     "text": [
      "0:00:39.376847\n",
      "{<Future at 0x1fb8018e7f0 state=finished raised TypeError>: 0, <Future at 0x1fb85ab09b0 state=finished returned float>: 1, <Future at 0x1fb85ab0438 state=finished returned float>: 2, <Future at 0x1fb8592cef0 state=finished returned float>: 3}\n"
     ]
    }
   ],
   "source": [
    "if __name__ == \"__main__\":\n",
    "    pool=ProcessPoolExecutor(max_workers=8)\n",
    "    with pool as executor:\n",
    "        start = datetime.datetime.now()\n",
    "        #print(\"pass_2\")\n",
    "        tmp=[]\n",
    "        futures = {executor.submit(fba_max_subs_product,Concretemodel_Need_Data,(6,6),(list_a[i],list_b[i]),0,0,0.40,0.62,'EX_Salid_e'): i for i in range(0,len(list_a))}\n",
    "        # for future in as_completed(futures):\n",
    "        #     tmp.append(future.result())\n",
    "    end = datetime.datetime.now()\n",
    "    print (end - start)\n",
    "    print(futures)"
   ]
  },
  {
   "cell_type": "code",
   "execution_count": 470,
   "metadata": {},
   "outputs": [
    {
     "name": "stdout",
     "output_type": "stream",
     "text": [
      "glc:xyl=102:18\n",
      "3.8306965277756193\n",
      "glc:xyl=80:40\n",
      "1.0566235044371814\n",
      "glc:xyl=96:24\n",
      "3.0741311577743806\n",
      "glc:xyl=60:60\n"
     ]
    },
    {
     "ename": "TypeError",
     "evalue": "'>' not supported between instances of 'int' and 'NoneType'",
     "output_type": "error",
     "traceback": [
      "\u001b[1;31m---------------------------------------------------------------------------\u001b[0m",
      "\u001b[1;31m_RemoteTraceback\u001b[0m                          Traceback (most recent call last)",
      "\u001b[1;31m_RemoteTraceback\u001b[0m: \n\"\"\"\nTraceback (most recent call last):\n  File \"d:\\pyCode\\envs\\xby\\lib\\concurrent\\futures\\process.py\", line 175, in _process_worker\n    r = call_item.fn(*call_item.args, **call_item.kwargs)\n  File \"d:\\CODE\\_mate_code\\XBY\\double_ECM.py\", line 533, in fba_max_subs_product\n    if pass_v>a.obj():\nTypeError: '>' not supported between instances of 'int' and 'NoneType'\n\"\"\"",
      "\nThe above exception was the direct cause of the following exception:\n",
      "\u001b[1;31mTypeError\u001b[0m                                 Traceback (most recent call last)",
      "\u001b[1;32m<ipython-input-470-2e9c0d83938d>\u001b[0m in \u001b[0;36m<module>\u001b[1;34m\u001b[0m\n\u001b[0;32m      7\u001b[0m     \u001b[0mreal_y\u001b[0m\u001b[1;33m=\u001b[0m\u001b[0mint\u001b[0m\u001b[1;33m(\u001b[0m\u001b[0my\u001b[0m\u001b[1;33m*\u001b[0m\u001b[0mreal\u001b[0m\u001b[1;33m)\u001b[0m\u001b[1;33m\u001b[0m\u001b[0m\n\u001b[0;32m      8\u001b[0m     \u001b[0mprint\u001b[0m\u001b[1;33m(\u001b[0m\u001b[1;34m'glc:xyl='\u001b[0m\u001b[1;33m+\u001b[0m\u001b[0mstr\u001b[0m\u001b[1;33m(\u001b[0m\u001b[0mreal_x\u001b[0m\u001b[1;33m)\u001b[0m\u001b[1;33m+\u001b[0m\u001b[1;34m':'\u001b[0m\u001b[1;33m+\u001b[0m\u001b[0mstr\u001b[0m\u001b[1;33m(\u001b[0m\u001b[0mreal_y\u001b[0m\u001b[1;33m)\u001b[0m\u001b[1;33m)\u001b[0m\u001b[1;33m\u001b[0m\u001b[0m\n\u001b[1;32m----> 9\u001b[1;33m     \u001b[0mprint\u001b[0m\u001b[1;33m(\u001b[0m\u001b[0mfuture\u001b[0m\u001b[1;33m.\u001b[0m\u001b[0mresult\u001b[0m\u001b[1;33m(\u001b[0m\u001b[1;33m)\u001b[0m\u001b[1;33m)\u001b[0m\u001b[1;33m\u001b[0m\u001b[0m\n\u001b[0m\u001b[0;32m     10\u001b[0m     \u001b[0mresult_list_mass\u001b[0m\u001b[1;33m.\u001b[0m\u001b[0mat\u001b[0m\u001b[1;33m[\u001b[0m\u001b[0mstr\u001b[0m\u001b[1;33m(\u001b[0m\u001b[0mreal_x\u001b[0m\u001b[1;33m)\u001b[0m\u001b[1;33m+\u001b[0m\u001b[1;34m':'\u001b[0m\u001b[1;33m+\u001b[0m\u001b[0mstr\u001b[0m\u001b[1;33m(\u001b[0m\u001b[0mreal_y\u001b[0m\u001b[1;33m)\u001b[0m\u001b[1;33m,\u001b[0m\u001b[1;34m'flux'\u001b[0m\u001b[1;33m]\u001b[0m\u001b[1;33m=\u001b[0m\u001b[0mfuture\u001b[0m\u001b[1;33m.\u001b[0m\u001b[0mresult\u001b[0m\u001b[1;33m(\u001b[0m\u001b[1;33m)\u001b[0m\u001b[1;33m\u001b[0m\u001b[0m\n\u001b[0;32m     11\u001b[0m \u001b[0mresult_list\u001b[0m\u001b[1;33m=\u001b[0m\u001b[0mpd\u001b[0m\u001b[1;33m.\u001b[0m\u001b[0mDataFrame\u001b[0m\u001b[1;33m(\u001b[0m\u001b[1;33m)\u001b[0m\u001b[1;33m\u001b[0m\u001b[0m\n",
      "\u001b[1;32md:\\pyCode\\envs\\xby\\lib\\concurrent\\futures\\_base.py\u001b[0m in \u001b[0;36mresult\u001b[1;34m(self, timeout)\u001b[0m\n\u001b[0;32m    423\u001b[0m                 \u001b[1;32mraise\u001b[0m \u001b[0mCancelledError\u001b[0m\u001b[1;33m(\u001b[0m\u001b[1;33m)\u001b[0m\u001b[1;33m\u001b[0m\u001b[0m\n\u001b[0;32m    424\u001b[0m             \u001b[1;32melif\u001b[0m \u001b[0mself\u001b[0m\u001b[1;33m.\u001b[0m\u001b[0m_state\u001b[0m \u001b[1;33m==\u001b[0m \u001b[0mFINISHED\u001b[0m\u001b[1;33m:\u001b[0m\u001b[1;33m\u001b[0m\u001b[0m\n\u001b[1;32m--> 425\u001b[1;33m                 \u001b[1;32mreturn\u001b[0m \u001b[0mself\u001b[0m\u001b[1;33m.\u001b[0m\u001b[0m__get_result\u001b[0m\u001b[1;33m(\u001b[0m\u001b[1;33m)\u001b[0m\u001b[1;33m\u001b[0m\u001b[0m\n\u001b[0m\u001b[0;32m    426\u001b[0m \u001b[1;33m\u001b[0m\u001b[0m\n\u001b[0;32m    427\u001b[0m             \u001b[0mself\u001b[0m\u001b[1;33m.\u001b[0m\u001b[0m_condition\u001b[0m\u001b[1;33m.\u001b[0m\u001b[0mwait\u001b[0m\u001b[1;33m(\u001b[0m\u001b[0mtimeout\u001b[0m\u001b[1;33m)\u001b[0m\u001b[1;33m\u001b[0m\u001b[0m\n",
      "\u001b[1;32md:\\pyCode\\envs\\xby\\lib\\concurrent\\futures\\_base.py\u001b[0m in \u001b[0;36m__get_result\u001b[1;34m(self)\u001b[0m\n\u001b[0;32m    382\u001b[0m     \u001b[1;32mdef\u001b[0m \u001b[0m__get_result\u001b[0m\u001b[1;33m(\u001b[0m\u001b[0mself\u001b[0m\u001b[1;33m)\u001b[0m\u001b[1;33m:\u001b[0m\u001b[1;33m\u001b[0m\u001b[0m\n\u001b[0;32m    383\u001b[0m         \u001b[1;32mif\u001b[0m \u001b[0mself\u001b[0m\u001b[1;33m.\u001b[0m\u001b[0m_exception\u001b[0m\u001b[1;33m:\u001b[0m\u001b[1;33m\u001b[0m\u001b[0m\n\u001b[1;32m--> 384\u001b[1;33m             \u001b[1;32mraise\u001b[0m \u001b[0mself\u001b[0m\u001b[1;33m.\u001b[0m\u001b[0m_exception\u001b[0m\u001b[1;33m\u001b[0m\u001b[0m\n\u001b[0m\u001b[0;32m    385\u001b[0m         \u001b[1;32melse\u001b[0m\u001b[1;33m:\u001b[0m\u001b[1;33m\u001b[0m\u001b[0m\n\u001b[0;32m    386\u001b[0m             \u001b[1;32mreturn\u001b[0m \u001b[0mself\u001b[0m\u001b[1;33m.\u001b[0m\u001b[0m_result\u001b[0m\u001b[1;33m\u001b[0m\u001b[0m\n",
      "\u001b[1;31mTypeError\u001b[0m: '>' not supported between instances of 'int' and 'NoneType'"
     ]
    }
   ],
   "source": [
    "result_list_mass=pd.DataFrame()\n",
    "for future in as_completed(futures):\n",
    "    x=list_a[futures[future]]\n",
    "    y=list_b[futures[future]]\n",
    "    real=1\n",
    "    real_x=int(x*real)\n",
    "    real_y=int(y*real)\n",
    "    print('glc:xyl='+str(real_x)+':'+str(real_y))\n",
    "    print(future.result())\n",
    "    result_list_mass.at[str(real_x)+':'+str(real_y),'flux']=future.result()\n",
    "result_list=pd.DataFrame()\n",
    "for i in range(0,len(list_a)):\n",
    "    real=1\n",
    "    real_x=int(list_a[i]*real)\n",
    "    real_y=int(list_b[i]*real)\n",
    "    result_list.at[str(real_x)+':'+str(real_y),'flux']=result_list_mass.at[str(real_x)+':'+str(real_y),'flux']\n",
    "result_list"
   ]
  },
  {
   "cell_type": "markdown",
   "metadata": {},
   "source": [
    "###### iML1515 model/AGGD"
   ]
  },
  {
   "cell_type": "code",
   "execution_count": 465,
   "metadata": {},
   "outputs": [],
   "source": [
    "model_AGGD=load_json_model(model_file)\n",
    "model_1515=load_json_model(model_origin_name)"
   ]
  },
  {
   "cell_type": "code",
   "execution_count": 466,
   "metadata": {},
   "outputs": [
    {
     "data": {
      "text/html": [
       "\n",
       "        <table>\n",
       "            <tr>\n",
       "                <td><strong>Name</strong></td>\n",
       "                <td>iML1515</td>\n",
       "            </tr><tr>\n",
       "                <td><strong>Memory address</strong></td>\n",
       "                <td>0x01fb845c2be0</td>\n",
       "            </tr><tr>\n",
       "                <td><strong>Number of metabolites</strong></td>\n",
       "                <td>4107</td>\n",
       "            </tr><tr>\n",
       "                <td><strong>Number of reactions</strong></td>\n",
       "                <td>6154</td>\n",
       "            </tr><tr>\n",
       "                <td><strong>Objective expression</strong></td>\n",
       "                <td>1.0*A_DM_Tyrosol_c - 1.0*A_DM_Tyrosol_c_reverse_fb37e</td>\n",
       "            </tr><tr>\n",
       "                <td><strong>Compartments</strong></td>\n",
       "                <td>cytosol, extracellular space, periplasm</td>\n",
       "            </tr>\n",
       "          </table>"
      ],
      "text/plain": [
       "<Model iML1515 at 0x1fb845c2be0>"
      ]
     },
     "execution_count": 466,
     "metadata": {},
     "output_type": "execute_result"
    }
   ],
   "source": [
    "model_AGGD"
   ]
  },
  {
   "cell_type": "code",
   "execution_count": 467,
   "metadata": {},
   "outputs": [
    {
     "data": {
      "text/html": [
       "\n",
       "        <table>\n",
       "            <tr>\n",
       "                <td><strong>Name</strong></td>\n",
       "                <td>iML1515</td>\n",
       "            </tr><tr>\n",
       "                <td><strong>Memory address</strong></td>\n",
       "                <td>0x01fb888afd30</td>\n",
       "            </tr><tr>\n",
       "                <td><strong>Number of metabolites</strong></td>\n",
       "                <td>1877</td>\n",
       "            </tr><tr>\n",
       "                <td><strong>Number of reactions</strong></td>\n",
       "                <td>2713</td>\n",
       "            </tr><tr>\n",
       "                <td><strong>Objective expression</strong></td>\n",
       "                <td>1.0*BIOMASS_Ec_iML1515_core_75p37M - 1.0*BIOMASS_Ec_iML1515_core_75p37M_reverse_35685</td>\n",
       "            </tr><tr>\n",
       "                <td><strong>Compartments</strong></td>\n",
       "                <td>cytosol, extracellular space, periplasm</td>\n",
       "            </tr>\n",
       "          </table>"
      ],
      "text/plain": [
       "<Model iML1515 at 0x1fb888afd30>"
      ]
     },
     "execution_count": 467,
     "metadata": {},
     "output_type": "execute_result"
    }
   ],
   "source": [
    "model_1515"
   ]
  },
  {
   "cell_type": "code",
   "execution_count": null,
   "metadata": {},
   "outputs": [
    {
     "name": "stdout",
     "output_type": "stream",
     "text": [
      "obj:\n",
      "8.474320522667938\n",
      "pFBA\n",
      "glc:66.0\n",
      "glc_A:0.0\n",
      "glc_B:48.97360273295178\n",
      "xyl:19.93824121440977\n",
      "xyl_A:19.93824121440977\n",
      "xyl_B:0.0\n",
      "False\n",
      "obj:\n",
      "9.459038907498435\n",
      "pFBA\n",
      "glc:66.0\n",
      "glc_A:0.0\n",
      "glc_B:49.3256507312501\n",
      "xyl:20.0\n",
      "xyl_A:20.0\n",
      "xyl_B:0.0\n",
      "False\n",
      "obj:\n",
      "5.948352142189295\n",
      "pFBA\n",
      "glc:66.0\n",
      "glc_A:0.0\n",
      "glc_B:59.15827862083334\n",
      "xyl:20.0\n",
      "xyl_A:20.0\n",
      "xyl_B:0.0\n",
      "True\n",
      "obj:\n",
      "1.5785455149663135\n",
      "pFBA\n",
      "glc:66.0\n",
      "glc_A:0.0\n",
      "glc_B:66.0\n",
      "xyl:20.0\n",
      "xyl_A:14.719433488157803\n",
      "xyl_B:5.280566511842197\n",
      "True\n"
     ]
    }
   ],
   "source": [
    "# pass_v=0\n",
    "# for i in range(0,4):\n",
    "#     a=ECM_FBA(66,20,list_x[i],list_y[i],0,0,0.15,0.55)\n",
    "#     print('obj:')\n",
    "#     print(a.obj())\n",
    "#     a_obj=get_two_float(a.obj(),2)\n",
    "#     b=ECM_pFBA(66,20,list_x[i],list_y[i],a_obj,0,0,0.15,0.55)\n",
    "#     print('pFBA')\n",
    "#     print('glc:'+str(b.reaction['EX_glc__D_e_reverse'].value))\n",
    "#     print('glc_A:'+str(b.reaction['A_glc__D_e_con_1'].value))\n",
    "#     print('glc_B:'+str(b.reaction['B_glc__D_e_con_2'].value))\n",
    "#     print('xyl:'+str(b.reaction['EX_xyl__D_e_reverse'].value))\n",
    "#     print('xyl_A:'+str(b.reaction['A_xyl__D_e_con_1_reverse'].value))\n",
    "#     print('xyl_B:'+str(b.reaction['B_xyl__D_e_con_2'].value))\n",
    "#     if pass_v>a.obj():\n",
    "#         print('True')\n",
    "#     else:\n",
    "#         print('False')\n",
    "#     pass_v=a.obj()"
   ]
  },
  {
   "cell_type": "code",
   "execution_count": null,
   "metadata": {},
   "outputs": [],
   "source": [
    "def get_pFBA(a,b,x,y,tyr,php):\n",
    "    fba_result=ECM_FBA(a,b,x,y,tyr,php)\n",
    "    print(\"AG:GD=\"+str(x)+':'+str(y))\n",
    "    print(fba_result.obj())\n",
    "    pfba_result=ECM_pFBA(a,b,x,y,fba_result.obj(),tyr,php)\n",
    "    print('glc：'+str(pfba_result.reaction['EX_glc__D_e_reverse'].value))\n",
    "    print('xyl：'+str(pfba_result.reaction['EX_xyl__D_e_reverse'].value))\n",
    "    return pfba_result"
   ]
  },
  {
   "cell_type": "code",
   "execution_count": null,
   "metadata": {},
   "outputs": [],
   "source": [
    "import numpy as np\n",
    "tyr_a=np.linspace(0.01, 0.1, num=91, endpoint=True, retstep=False, dtype=None)\n",
    "php_b=np.linspace(0.01, 0.1, num=91, endpoint=True, retstep=False, dtype=None)"
   ]
  },
  {
   "cell_type": "code",
   "execution_count": null,
   "metadata": {},
   "outputs": [],
   "source": [
    "result_tyr_php=pd.DataFrame()"
   ]
  },
  {
   "cell_type": "code",
   "execution_count": null,
   "metadata": {},
   "outputs": [],
   "source": [
    "list_x=[3,2,1,1]\n",
    "list_y=[1,1,1,2]"
   ]
  },
  {
   "cell_type": "code",
   "execution_count": null,
   "metadata": {},
   "outputs": [],
   "source": [
    "tyr_a=[0.1]\n",
    "php_b=[0.08]"
   ]
  },
  {
   "cell_type": "markdown",
   "metadata": {},
   "source": [
    "#### HHHHHHH"
   ]
  },
  {
   "cell_type": "code",
   "execution_count": null,
   "metadata": {},
   "outputs": [
    {
     "name": "stdout",
     "output_type": "stream",
     "text": [
      "0.08620377125475898\n",
      "1.4260700681163598\n",
      "1.5363641882054253\n",
      "1.101838838964568\n"
     ]
    }
   ],
   "source": [
    "d=ECM_FBA(20,5,1,2,0.01,0.01)\n",
    "print(d.obj())\n",
    "e=ECM_FBA(20,5,3,1,0.01,0.01)\n",
    "print(e.obj())\n",
    "f=ECM_FBA(20,5,2,1,0.01,0.01)\n",
    "print(f.obj())\n",
    "g=ECM_FBA(20,5,1,1,0.01,0.01)\n",
    "print(g.obj())"
   ]
  },
  {
   "cell_type": "code",
   "execution_count": null,
   "metadata": {},
   "outputs": [
    {
     "name": "stdout",
     "output_type": "stream",
     "text": [
      "3.6153776117274674\n"
     ]
    }
   ],
   "source": [
    "e=ECM_FBA(20,5,3,1,0.01,0.01)\n",
    "print(e.obj())"
   ]
  },
  {
   "cell_type": "code",
   "execution_count": null,
   "metadata": {},
   "outputs": [],
   "source": [
    "e_pfba=ECM_pFBA(20,5,2,1,f.obj(),0.01,0.01)"
   ]
  },
  {
   "cell_type": "code",
   "execution_count": null,
   "metadata": {},
   "outputs": [
    {
     "name": "stdout",
     "output_type": "stream",
     "text": [
      "3.4500963164938825\n",
      "4.999999999999717\n",
      "0.28556962517154716\n",
      "0.5711392503430943\n",
      "0.5711392503430943\n"
     ]
    }
   ],
   "source": [
    "print(e_pfba.reaction['EX_glc__D_e_reverse'].value)\n",
    "print(e_pfba.reaction['EX_xyl__D_e_reverse'].value)\n",
    "#print(e_pfba.reaction['A_glc__D_e_con_1_reverse'].value)\n",
    "print(e_pfba.reaction['A_Tyrosol_c2e'].value)\n",
    "print(e_pfba.reaction['A_Tyrosol_e_con_1'].value)\n",
    "print(e_pfba.reaction['B_Tyrosol_c2e_reverse'].value)"
   ]
  },
  {
   "cell_type": "code",
   "execution_count": null,
   "metadata": {},
   "outputs": [
    {
     "data": {
      "text/plain": [
       "0.08"
      ]
     },
     "execution_count": 684,
     "metadata": {},
     "output_type": "execute_result"
    }
   ],
   "source": [
    "d.reaction['A_BIOMASS_Ec_iML1515_core_75p37M'].value"
   ]
  },
  {
   "cell_type": "code",
   "execution_count": null,
   "metadata": {},
   "outputs": [
    {
     "data": {
      "text/plain": [
       "0.5"
      ]
     },
     "execution_count": 687,
     "metadata": {},
     "output_type": "execute_result"
    }
   ],
   "source": [
    "d.reaction['B_BIOMASS_Ec_iML1515_core_75p37M'].value"
   ]
  },
  {
   "cell_type": "code",
   "execution_count": null,
   "metadata": {},
   "outputs": [
    {
     "data": {
      "text/plain": [
       "3.86"
      ]
     },
     "execution_count": 600,
     "metadata": {},
     "output_type": "execute_result"
    }
   ],
   "source": [
    "get_two_float(d.obj(),2)"
   ]
  },
  {
   "cell_type": "code",
   "execution_count": null,
   "metadata": {},
   "outputs": [],
   "source": [
    "d_pfba=ECM_pFBA(20,5,1,2,d.obj(),0,0)"
   ]
  },
  {
   "cell_type": "code",
   "execution_count": null,
   "metadata": {},
   "outputs": [
    {
     "name": "stdout",
     "output_type": "stream",
     "text": [
      "20.0\n",
      "4.999999999998122\n",
      "0.0\n",
      "0.12647389334847503\n",
      "0.12647389334847503\n",
      "0.06323694667423752\n"
     ]
    }
   ],
   "source": [
    "print(d_pfba.reaction['EX_glc__D_e_reverse'].value)\n",
    "print(d_pfba.reaction['EX_xyl__D_e_reverse'].value)\n",
    "print(d_pfba.reaction['A_glc__D_e_con_1_reverse'].value)\n",
    "print(d_pfba.reaction['A_Tyrosol_c2e'].value)\n",
    "print(d_pfba.reaction['A_Tyrosol_e_con_1'].value)\n",
    "print(d_pfba.reaction['B_Tyrosol_c2e_reverse'].value)"
   ]
  },
  {
   "cell_type": "code",
   "execution_count": null,
   "metadata": {},
   "outputs": [],
   "source": [
    "a=0\n",
    "for i in tyr_a:\n",
    "    for j in php_b:\n",
    "        for k in range(4):\n",
    "            c=ECM_FBA(24,6,list_x[k],list_y[k],i,j)\n",
    "            result_tyr_php.at[a,'tyr:php']=str(i)+':'+str(j)\n",
    "            result_tyr_php.at[a,'AG:GD='+str(list_x[k])+':'+str(list_y[k])]=c.obj()\n",
    "            c_pfba=ECM_pFBA(24,6,list_x[k],list_y[k],c.obj(),i,j)\n",
    "            result_tyr_php.at[a,'No.'+str(k+1)+'glc']=c_pfba.reaction['EX_glc__D_e_reverse'].value\n",
    "            result_tyr_php.at[a,'No.'+str(k+1)+'xyl']=c_pfba.reaction['EX_xyl__D_e_reverse'].value\n",
    "        print(result_tyr_php.loc[a])\n",
    "        print('---------------------')\n",
    "        a=a+1"
   ]
  },
  {
   "cell_type": "code",
   "execution_count": null,
   "metadata": {},
   "outputs": [],
   "source": [
    "result_tyr_php.to_csv('./new_idea_AGGD/result/result_tyr_php.csv')"
   ]
  },
  {
   "cell_type": "code",
   "execution_count": null,
   "metadata": {},
   "outputs": [],
   "source": [
    "pd.set_option('display.max_rows',500)\n",
    "pd.set_option('display.max_columns',500)\n",
    "pd.set_option('display.width',1000)"
   ]
  },
  {
   "cell_type": "markdown",
   "metadata": {},
   "source": [
    "#### LLLLLLLLLL"
   ]
  },
  {
   "cell_type": "code",
   "execution_count": null,
   "metadata": {},
   "outputs": [
    {
     "name": "stdout",
     "output_type": "stream",
     "text": [
      "1.0968870330466416\n",
      "1.7724695743337406\n",
      "1.1018265468119353\n",
      "WARNING: Loading a SolverResults object with a warning status into\n",
      "    model=unknown;\n",
      "        message from solver=Problem proven to be infeasible or unbounded.\n",
      "None\n",
      "WARNING: Loading a SolverResults object with a warning status into\n",
      "    model=unknown;\n",
      "        message from solver=Problem proven to be infeasible or unbounded.\n",
      "None\n"
     ]
    }
   ],
   "source": [
    "d=ECM_FBA(30,5,1,2,0.09,0)\n",
    "print(d.obj())\n",
    "e=ECM_FBA(30,5,2,1,0.09,0)\n",
    "print(e.obj())\n",
    "f=ECM_FBA(30,5,1,1,0.09,0)\n",
    "print(f.obj())\n",
    "g=ECM_FBA(30,5,1,4,0.09,0)\n",
    "print(g.obj())\n",
    "h=ECM_FBA(30,5,1,6,0.09,0)\n",
    "print(h.obj())"
   ]
  },
  {
   "cell_type": "code",
   "execution_count": null,
   "metadata": {},
   "outputs": [],
   "source": [
    "pass_v=0\n",
    "for i in range(0,5):\n",
    "    a=ECM_FBA(100,list_x[i],list_y[i],0,0,0.1,0.1)\n",
    "    print('obj:')\n",
    "    print(a.obj())\n",
    "    a_obj=get_two_float(a.obj(),2)\n",
    "    b=ECM_pFBA(100,list_x[i],list_y[i],a_obj,0,0,0.1,0.1)\n",
    "    print('pFBA')\n",
    "    print('glc:'+str(b.reaction['EX_glc__D_e_reverse'].value))\n",
    "    print('glc_A:'+str(b.reaction['A_glc__D_e_con_1_reverse'].value))\n",
    "    print('glc_B:'+str(b.reaction['B_glc__D_e_con_2'].value))\n",
    "    if pass_v>a.obj():\n",
    "        print('True')\n",
    "    else:\n",
    "        print('False')\n",
    "    pass_v=a.obj()"
   ]
  },
  {
   "cell_type": "markdown",
   "metadata": {},
   "source": [
    "### C AG:GD=3:1"
   ]
  },
  {
   "cell_type": "code",
   "execution_count": null,
   "metadata": {},
   "outputs": [
    {
     "name": "stdout",
     "output_type": "stream",
     "text": [
      "AG:GD=3:1\n",
      "0.02127210537787505\n",
      "glc：20.2803587732229\n",
      "xyl：6.0\n"
     ]
    }
   ],
   "source": [
    "c=get_pFBA(24,6,9,3)"
   ]
  },
  {
   "cell_type": "code",
   "execution_count": null,
   "metadata": {},
   "outputs": [
    {
     "data": {
      "text/plain": [
       "20.2803587732229"
      ]
     },
     "execution_count": 515,
     "metadata": {},
     "output_type": "execute_result"
    }
   ],
   "source": [
    "c.reaction['EX_glc__D_e_reverse'].value"
   ]
  },
  {
   "cell_type": "markdown",
   "metadata": {},
   "source": [
    "### D AG：GD=2:1"
   ]
  },
  {
   "cell_type": "code",
   "execution_count": null,
   "metadata": {},
   "outputs": [
    {
     "name": "stdout",
     "output_type": "stream",
     "text": [
      "AG:GD=2:1\n",
      "0.3773713110559811\n",
      "glc：23.194871815772935\n",
      "xyl：4.789821164688448\n"
     ]
    }
   ],
   "source": [
    "d=get_pFBA(24,6,8,4)"
   ]
  },
  {
   "cell_type": "markdown",
   "metadata": {},
   "source": [
    "### E AG:GD=1:1"
   ]
  },
  {
   "cell_type": "code",
   "execution_count": null,
   "metadata": {},
   "outputs": [
    {
     "name": "stdout",
     "output_type": "stream",
     "text": [
      "AG:GD=1:1\n",
      "0.37737131105552635\n",
      "glc：23.194871815653045\n",
      "xyl：2.877118993967035\n"
     ]
    }
   ],
   "source": [
    "e=get_pFBA(24,6,6,6)"
   ]
  },
  {
   "cell_type": "markdown",
   "metadata": {},
   "source": [
    "### AG:GD=1:2"
   ]
  },
  {
   "cell_type": "code",
   "execution_count": null,
   "metadata": {},
   "outputs": [
    {
     "name": "stdout",
     "output_type": "stream",
     "text": [
      "AG:GD=1:2\n",
      "4.091261615233407\n",
      "WARNING: Loading a SolverResults object with a warning status into\n",
      "    model=unknown;\n",
      "        message from solver=Model was proven to be infeasible.\n",
      "glc：None\n",
      "xyl：None\n"
     ]
    }
   ],
   "source": [
    "f=get_pFBA(100,100,4,8)"
   ]
  },
  {
   "cell_type": "code",
   "execution_count": null,
   "metadata": {},
   "outputs": [
    {
     "data": {
      "text/plain": [
       "0.1"
      ]
     },
     "execution_count": 506,
     "metadata": {},
     "output_type": "execute_result"
    }
   ],
   "source": [
    "f.reaction['A_tyr__L_e_con_1'].value"
   ]
  },
  {
   "cell_type": "code",
   "execution_count": null,
   "metadata": {},
   "outputs": [
    {
     "data": {
      "text/plain": [
       "0.07"
      ]
     },
     "execution_count": 508,
     "metadata": {},
     "output_type": "execute_result"
    }
   ],
   "source": [
    "f.reaction['B_phpyr_e_con_2_reverse'].value"
   ]
  },
  {
   "cell_type": "code",
   "execution_count": null,
   "metadata": {},
   "outputs": [],
   "source": []
  },
  {
   "cell_type": "code",
   "execution_count": null,
   "metadata": {},
   "outputs": [
    {
     "data": {
      "text/plain": [
       "False"
      ]
     },
     "execution_count": 478,
     "metadata": {},
     "output_type": "execute_result"
    }
   ],
   "source": [
    "f.obj()==e.obj()"
   ]
  },
  {
   "cell_type": "code",
   "execution_count": null,
   "metadata": {},
   "outputs": [],
   "source": [
    "for m in range(1,10):\n",
    "    n=100-m\n",
    "    try:\n",
    "        a=ECM_FBA(100,100,m,n)\n",
    "        result_ratio.at[m,'S_value']=a.obj()*n\n",
    "    except:\n",
    "        print(str(m)+':error')\n",
    "        continue\n",
    "    # if (a.reaction['A_Tyrosol_e_con_1'].value-a.reaction['A_Tyrosol_e_con_1_reverse'].value)>=0 or (a.reaction['A_tyr__L_e_con_1'].value-a.reaction['A_tyr__L_e_con_1_reverse'].value)<=0\\\n",
    "    #      or (a.reaction['A_phpyr_e_con_1'].value-a.reaction['A_phpyr_e_con_1_reverse'].value)<=0:\n",
    "    #     pass\n",
    "    result_ratio.at[m,'A']=m\n",
    "    result_ratio.at[m,'B']=n\n",
    "    result_ratio.at[m,'obj']=a.obj()\n",
    "    result_ratio.at[m,'S_value']=a.obj()*n\n",
    "    result_ratio.at[m,'A_glc_out']=a.reaction['A_glc__D_e_con_1'].value\n",
    "    result_ratio.at[m,'B_glc']=a.reaction['B_glc__D_e_con_2'].value-a.reaction['B_glc__D_e_con_2_reverse'].value\n",
    "    result_ratio.at[m,'A_xyl']=a.reaction['A_xyl__D_e_con_1_reverse'].value-a.reaction['A_xyl__D_e_con_1'].value\n",
    "    result_ratio.at[m,'B_xyl']=a.reaction['B_xyl__D_e_con_2'].value-a.reaction['B_xyl__D_e_con_2_reverse'].value\n",
    "    result_ratio.at[m,'A_c2e']=a.reaction['A_Tyrosol_c2e'].value-a.reaction['A_Tyrosol_c2e_reverse'].value\n",
    "    result_ratio.at[m,'T_A_value']=a.reaction['A_Tyrosol_e_con_1'].value\n",
    "    result_ratio.at[m,'T_B_value']=a.reaction['B_Tyrosol_e_con_2'].value\n",
    "    result_ratio.at[m,'B_e2c']=a.reaction['B_Tyrosol_c2e_reverse'].value-a.reaction['B_Tyrosol_c2e'].value\n",
    "    print(str(a.obj()*n),m,result_ratio.at[m,'A_c2e'],result_ratio.at[m,'T_A_value'],result_ratio.at[m,'T_B_value'],result_ratio.at[m,'B_e2c'])"
   ]
  },
  {
   "cell_type": "code",
   "execution_count": null,
   "metadata": {},
   "outputs": [],
   "source": [
    "b=ECM_pFBA(200,a.obj())"
   ]
  },
  {
   "cell_type": "code",
   "execution_count": null,
   "metadata": {},
   "outputs": [],
   "source": [
    "a.reaction['B_R00271'].value"
   ]
  },
  {
   "cell_type": "code",
   "execution_count": null,
   "metadata": {},
   "outputs": [],
   "source": [
    "a.reaction['A_akg_e_con_1_reverse'].value"
   ]
  },
  {
   "cell_type": "code",
   "execution_count": null,
   "metadata": {},
   "outputs": [],
   "source": [
    "a.reaction['A_akg_e_con_1'].value"
   ]
  },
  {
   "cell_type": "code",
   "execution_count": null,
   "metadata": {},
   "outputs": [],
   "source": [
    "a.reaction['B_akg_e_con_2_reverse'].value"
   ]
  },
  {
   "cell_type": "code",
   "execution_count": null,
   "metadata": {},
   "outputs": [],
   "source": [
    "a.reaction['B_akg_e_con_2'].value"
   ]
  },
  {
   "cell_type": "code",
   "execution_count": null,
   "metadata": {},
   "outputs": [],
   "source": [
    "a=ECM_FBA_2(200,3,97)"
   ]
  },
  {
   "cell_type": "code",
   "execution_count": null,
   "metadata": {},
   "outputs": [],
   "source": [
    "from cobra.io import load_json_model"
   ]
  },
  {
   "cell_type": "code",
   "execution_count": null,
   "metadata": {},
   "outputs": [],
   "source": [
    "model_ab=load_json_model(model_file)\n",
    "cobra.manipulation.modify.convert_to_irreversible(model_ab)\n",
    "isoenzyme_split(model_ab)"
   ]
  },
  {
   "cell_type": "code",
   "execution_count": null,
   "metadata": {},
   "outputs": [],
   "source": [
    "xyl_glc_ECM=pd.DataFrame()\n",
    "for i in Concretemodel_Need_Data['reaction_list']:\n",
    "    try:\n",
    "        xyl_glc_ECM.at[i,'flux']=b.reaction[i].value\n",
    "        xyl_glc_ECM.at[i,'kcat_MW']=Concretemodel_Need_Data['reaction_kcat_MW'].at[i,'kcat_MW']\n",
    "        xyl_glc_ECM.at[i,'enz_useage']=round(xyl_glc_ECM.at[i,'flux']/xyl_glc_ECM.at[i,'kcat_MW'],6)\n",
    "    except:\n",
    "        pass\n",
    "    xyl_glc_ECM.at[i,'formula']=model_ab.reactions.get_by_id(i).reaction\n",
    "xyl_glc_ECM.to_csv('./new_idea/result/2.csv')"
   ]
  },
  {
   "cell_type": "code",
   "execution_count": null,
   "metadata": {},
   "outputs": [],
   "source": [
    "xyl_glc_ECM=pd.DataFrame()\n",
    "for i in Concretemodel_Need_Data['reaction_list']:\n",
    "    try:\n",
    "        xyl_glc_ECM.at[i,'flux']=d.reaction[i].value\n",
    "        xyl_glc_ECM.at[i,'kcat_MW']=Concretemodel_Need_Data['reaction_kcat_MW'].at[i,'kcat_MW']\n",
    "        xyl_glc_ECM.at[i,'enz_useage']=round(xyl_glc_ECM.at[i,'flux']/xyl_glc_ECM.at[i,'kcat_MW'],6)\n",
    "    except:\n",
    "        pass\n",
    "    xyl_glc_ECM.at[i,'formula']=model_ab.reactions.get_by_id(i).reaction\n",
    "xyl_glc_ECM.to_csv('./new_idea/result/3.csv')"
   ]
  },
  {
   "cell_type": "code",
   "execution_count": null,
   "metadata": {},
   "outputs": [],
   "source": [
    "a.obj()"
   ]
  },
  {
   "cell_type": "code",
   "execution_count": null,
   "metadata": {},
   "outputs": [],
   "source": [
    "b.obj()"
   ]
  },
  {
   "cell_type": "code",
   "execution_count": null,
   "metadata": {},
   "outputs": [],
   "source": [
    "a.reaction['R05099'].value"
   ]
  },
  {
   "cell_type": "code",
   "execution_count": null,
   "metadata": {},
   "outputs": [],
   "source": [
    "c=ECM_pFBA3(200,9.84)"
   ]
  },
  {
   "cell_type": "code",
   "execution_count": null,
   "metadata": {},
   "outputs": [],
   "source": [
    "c.obj()"
   ]
  }
 ],
 "metadata": {
  "kernelspec": {
   "display_name": "Python 3.6.5 ('xby')",
   "language": "python",
   "name": "python3"
  },
  "language_info": {
   "codemirror_mode": {
    "name": "ipython",
    "version": 3
   },
   "file_extension": ".py",
   "mimetype": "text/x-python",
   "name": "python",
   "nbconvert_exporter": "python",
   "pygments_lexer": "ipython3",
   "version": "3.6.5"
  },
  "orig_nbformat": 4,
  "vscode": {
   "interpreter": {
    "hash": "678f2c0cb67aa00dbc6da583138b0769cb8531f72b670a012e2187460f06e842"
   }
  }
 },
 "nbformat": 4,
 "nbformat_minor": 2
}
