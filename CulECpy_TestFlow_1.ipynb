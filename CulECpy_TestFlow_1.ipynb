{
 "cells": [
  {
   "cell_type": "code",
   "execution_count": 1,
   "metadata": {},
   "outputs": [],
   "source": [
    "import cobra\n",
    "from cobra import Model, Reaction, Metabolite\n",
    "from cobra.flux_analysis import pfba\n",
    "from cobra.io import write_sbml_model,save_json_model,load_json_model,read_sbml_model\n",
    "import re\n",
    "import pandas as pd\n",
    "import numpy as np\n",
    "import xlrd\n",
    "import re\n",
    "import openpyxl\n",
    "import sys\n",
    "sys.path.append(r'./')\n",
    "import os\n",
    "from copy import copy, deepcopy\n",
    "import numpy as np"
   ]
  },
  {
   "cell_type": "code",
   "execution_count": 2,
   "metadata": {},
   "outputs": [],
   "source": [
    "model_origin_name='./new_idea_SKM_pre_meta/model/iML1515_new.json'\n",
    "model_new='./new_idea_SKM_pre_meta/model/iML1515_UPBC'\n",
    "model_new2='./new_idea_SKM_pre_meta/model/iML1515_DGS'"
   ]
  },
  {
   "cell_type": "code",
   "execution_count": 3,
   "metadata": {},
   "outputs": [],
   "source": [
    "model_new3='./new_idea_SKM_pre_meta/model/iML1515_UPBT'\n",
    "model_new4='./new_idea_SKM_pre_meta/model/iML1515_DGS4'"
   ]
  },
  {
   "cell_type": "code",
   "execution_count": 4,
   "metadata": {},
   "outputs": [],
   "source": [
    "model_ab_json1='./new_idea_SKM_pre_meta/model/iML1515_SKM_coumarate.json'#strategy I file\n",
    "model_ab_json2='./new_idea_SKM_pre_meta/model/iML1515_SKM_tyr.json'#strategy II file"
   ]
  },
  {
   "cell_type": "markdown",
   "metadata": {},
   "source": [
    "# Refinement of model information"
   ]
  },
  {
   "cell_type": "code",
   "execution_count": 5,
   "metadata": {},
   "outputs": [],
   "source": [
    "model = cobra.io.load_json_model(model_origin_name)\n",
    "tyr__L_c=model.metabolites.get_by_id('tyr__L_c')\n",
    "nh4_c=model.metabolites.get_by_id('nh4_c')\n",
    "coumarate_c=Metabolite('coumarate_c',\n",
    "                formula='C9H7O3',\n",
    "                name='4-coumarate',\n",
    "                compartment='c'\n",
    "                )\n",
    "coumarate_e=Metabolite('coumarate_e',\n",
    "                formula='C9H7O3',\n",
    "                name='4-coumarate',\n",
    "                compartment='e'\n",
    "                )\n",
    "TAL=Reaction(\"TAL\")\n",
    "TAL.name='phenylalanine/tyrosine ammonia-lyase(TAL)/RXN_9697'\n",
    "TAL.subsystem='unknow'\n",
    "TAL.lower_bound=0\n",
    "TAL.upper_bound=1000\n",
    "TAL.add_metabolites({\n",
    "    tyr__L_c:-1.0,\n",
    "    coumarate_c:1.0,\n",
    "    nh4_c:1.0\n",
    "})\n",
    "#TAL\n",
    "# EX_coumarate_e=Reaction(\"EX_coumarate_e\")\n",
    "# EX_coumarate_e.name='4-coumarate exchange'\n",
    "# EX_coumarate_e.subsystem='unknow'\n",
    "# EX_coumarate_e.lower_bound=0\n",
    "# EX_coumarate_e.upper_bound=1000\n",
    "# EX_coumarate_e.add_metabolites({\n",
    "#     coumarate_e:-1.0\n",
    "# })\n",
    "# coumarate_c2e=Reaction(\"coumarate_c2e\")\n",
    "# coumarate_c2e.name='4-coumarate_c2e'\n",
    "# coumarate_c2e.subsystem='unknow'\n",
    "# coumarate_c2e.lower_bound=-1000\n",
    "# coumarate_c2e.upper_bound=1000\n",
    "# coumarate_c2e.add_metabolites({\n",
    "#     coumarate_c:-1.0,\n",
    "#     coumarate_e:1.0\n",
    "# })\n",
    "#model.add_reaction(RXN_9697)\n",
    "# model.add_reactions([EX_coumarate_e])\n",
    "# model.add_reactions([coumarate_c2e])\n",
    "# product = model.metabolites.get_by_id('coumarate_c')\n",
    "# demand= model.add_boundary(product, type='demand')  # add demand reaction as the objective\n",
    "# model.objective = demand\n",
    "# model.optimize()\n",
    "# model.summary()\n",
    "# save_json_model(model,model_new)\n",
    "# write_sbml_model(model,model_new.split('.json')[0]+'.xml')\n",
    "# sbml_excel(model_new.split('.json')[0]+'.xml',model_new.split('.json')[0]+'.xlsx')\n",
    "# model = cobra.io.load_json_model(model_origin_name)\n",
    "atp_c=model.metabolites.get_by_id('atp_c')\n",
    "coa_c=model.metabolites.get_by_id('coa_c')\n",
    "amp_c=model.metabolites.get_by_id('amp_c')\n",
    "ppi_c=model.metabolites.get_by_id('ppi_c')\n",
    "coumaroyl_CoA_c=Metabolite('coumaroyl_CoA_c',\n",
    "                formula='C30H38N7O18P3S',\n",
    "                name='(E)-4-coumaroyl-CoA',\n",
    "                compartment='c'\n",
    "                )\n",
    "malcoa_c=model.metabolites.malcoa_c\n",
    "CL=Reaction(\"4CL\")\n",
    "CL.name='4-coumarate:CoA ligase(4CL)'\n",
    "CL.subsystem='unknow'\n",
    "CL.lower_bound=0\n",
    "CL.upper_bound=1000\n",
    "CL.add_metabolites({\n",
    "    coumarate_c:-1.0,\n",
    "    atp_c:-1.0,\n",
    "    coa_c:-1.0,\n",
    "    amp_c:1.0,\n",
    "    coumaroyl_CoA_c:1.0,\n",
    "    ppi_c:1.0\n",
    "})\n",
    "#CL\n",
    "#model.add_reaction(CL)\n",
    "chalcone_c=Metabolite('chalcone_c',\n",
    "                formula='C15H12O5',\n",
    "                name='naringenin chalcone',\n",
    "                compartment='c'\n",
    "                )\n",
    "h_c=model.metabolites.get_by_id('h_c')\n",
    "co2_c=model.metabolites.get_by_id('co2_c')\n",
    "CHS=Reaction(\"CHS\")\n",
    "CHS.name='naringenin chalcone synthase'\n",
    "CHS.subsystem='unknow'\n",
    "CHS.lower_bound=0\n",
    "CHS.upper_bound=1000\n",
    "CHS.add_metabolites({\n",
    "    coumaroyl_CoA_c:-1.0,\n",
    "    h_c:-3.0,\n",
    "    malcoa_c:-3.0,\n",
    "    coa_c:4.0,\n",
    "    co2_c:3.0,\n",
    "    chalcone_c:1.0\n",
    "})\n",
    "#CHS\n",
    "#model.add_reaction(CHS)\n",
    "naringenin_c=Metabolite('naringenin_c',\n",
    "                formula='C15H12O5',\n",
    "                name='naringenin',\n",
    "                compartment='c'\n",
    "                )\n",
    "CHI=Reaction(\"CHI\")\n",
    "CHI.name='chalcone isomerase'\n",
    "CHI.subsystem='unknow'\n",
    "CHI.lower_bound=0\n",
    "CHI.upper_bound=1000\n",
    "CHI.add_metabolites({\n",
    "    chalcone_c:-1.0,\n",
    "    naringenin_c:1.0,\n",
    "})\n",
    "#CHI\n",
    "#model.add_reaction(CHI)\n",
    "sakuranetin_c=Metabolite('sakuranetin_c',\n",
    "                formula='C16H14O5',\n",
    "                name='sakuranetin',\n",
    "                compartment='c'\n",
    "                )\n",
    "sakuranetin_e=Metabolite('sakuranetin_e',\n",
    "                formula='C16H14O5',\n",
    "                name='sakuranetin',\n",
    "                compartment='e'\n",
    "                )\n",
    "amet_c=model.metabolites.get_by_id('amet_c')\n",
    "ahcys_c=model.metabolites.get_by_id('ahcys_c')\n",
    "NOMT=Reaction(\"NOMT\")\n",
    "NOMT.name='naringenin 7-O-methyltransferase'\n",
    "NOMT.subsystem='unknow'\n",
    "NOMT.lower_bound=0\n",
    "NOMT.upper_bound=1000\n",
    "NOMT.add_metabolites({\n",
    "    amet_c:-1.0,\n",
    "    naringenin_c:-1.0,\n",
    "    sakuranetin_c:1.0,\n",
    "    ahcys_c:1.0,\n",
    "    h_c:1.0\n",
    "})\n",
    "#NOMT\n",
    "#model.add_reaction(NOMT)\n",
    "# EX_sakuranetin_e=Reaction(\"EX_sakuranetin_e\")\n",
    "# EX_sakuranetin_e.name='sakuranetin exchange'\n",
    "# EX_sakuranetin_e.subsystem='unknow'\n",
    "# EX_sakuranetin_e.lower_bound=0\n",
    "# EX_sakuranetin_e.upper_bound=1000\n",
    "# EX_sakuranetin_e.add_metabolites({\n",
    "#     sakuranetin_e:-1.0\n",
    "# })\n",
    "# sakuranetin_c2e=Reaction(\"sakuranetin_c2e\")\n",
    "# sakuranetin_c2e.name='sakuranetin_c2e'\n",
    "# sakuranetin_c2e.subsystem='unknow'\n",
    "# sakuranetin_c2e.lower_bound=-1000\n",
    "# sakuranetin_c2e.upper_bound=1000\n",
    "# sakuranetin_c2e.add_metabolites({\n",
    "#     sakuranetin_c:-1.0,\n",
    "#     sakuranetin_e:1.0\n",
    "# })\n",
    "# model.add_reactions([EX_sakuranetin_e])\n",
    "# model.add_reactions([sakuranetin_c2e])\n",
    "# model.reactions.get_by_id('EX_glc__D_e').bounds=(-10,1000)\n",
    "# product2 = model.metabolites.get_by_id('sakuranetin_c')\n",
    "# demand2= model.add_boundary(product2, type='demand')  # add demand reaction as the objective\n",
    "# model.objective = demand2\n",
    "# model.optimize()\n",
    "# model.summary()\n",
    "# save_json_model(model,model_new2)\n",
    "# write_sbml_model(model,model_new2.split('.json')[0]+'.xml')\n",
    "# sbml_excel(model_new2.split('.json')[0]+'.xml',model_new2.split('.json')[0]+'.xlsx')"
   ]
  },
  {
   "cell_type": "code",
   "execution_count": 6,
   "metadata": {},
   "outputs": [],
   "source": [
    "exogenous=[TAL,CL,CHS,CHI,NOMT]"
   ]
  },
  {
   "cell_type": "code",
   "execution_count": 7,
   "metadata": {},
   "outputs": [
    {
     "data": {
      "text/plain": [
       "[<Reaction TAL at 0x14fb885bc18>,\n",
       " <Reaction 4CL at 0x14fc01a09b0>,\n",
       " <Reaction CHS at 0x14fc1967780>,\n",
       " <Reaction CHI at 0x14fc01a06d8>,\n",
       " <Reaction NOMT at 0x14fc01a7128>]"
      ]
     },
     "execution_count": 7,
     "metadata": {},
     "output_type": "execute_result"
    }
   ],
   "source": [
    "exogenous"
   ]
  },
  {
   "cell_type": "markdown",
   "metadata": {},
   "source": [
    "### Model Correction"
   ]
  },
  {
   "cell_type": "code",
   "execution_count": 8,
   "metadata": {},
   "outputs": [
    {
     "name": "stdout",
     "output_type": "stream",
     "text": [
      "coumarate_c\n",
      "['tyr__L_c']\n",
      "['atp_c', 'coa_c', 'coumarate_c']\n",
      "['coumaroyl_CoA_c', '3.0 h_c', '3.0 malcoa_c']\n",
      "['chalcone_c']\n",
      "['amet_c', 'naringenin_c']\n",
      "([<Reaction TAL at 0x14fb885bc18>], [<Reaction 4CL at 0x14fc01a09b0>, <Reaction CHS at 0x14fc1967780>, <Reaction CHI at 0x14fc01a06d8>, <Reaction NOMT at 0x14fc01a7128>])\n",
      "./new_idea_SKM_pre_meta/model/iML1515_UPBC.xlsx\n",
      "./new_idea_SKM_pre_meta/model/iML1515_DGS.xlsx\n"
     ]
    }
   ],
   "source": [
    "from model_correction_tools import *\n",
    "get_new_system(model_origin_name,exogenous,model_new,model_new2,'coumarate_c',sakuranetin_c.id)"
   ]
  },
  {
   "cell_type": "code",
   "execution_count": 9,
   "metadata": {},
   "outputs": [
    {
     "name": "stdout",
     "output_type": "stream",
     "text": [
      "TAL: tyr__L_c --> coumarate_c + nh4_c\n"
     ]
    }
   ],
   "source": [
    "model_a = cobra.io.load_json_model(model_new+'.json')\n",
    "print(model_a.reactions.get_by_id('TAL'))"
   ]
  },
  {
   "cell_type": "code",
   "execution_count": 10,
   "metadata": {},
   "outputs": [
    {
     "name": "stdout",
     "output_type": "stream",
     "text": [
      "coumarate_c2e: coumarate_c <=> coumarate_e\n",
      "EX_coumarate_e: coumarate_e --> \n"
     ]
    }
   ],
   "source": [
    "print(model_a.reactions.get_by_id('coumarate_c2e'))\n",
    "print(model_a.reactions.get_by_id('EX_coumarate_e'))"
   ]
  },
  {
   "cell_type": "code",
   "execution_count": 11,
   "metadata": {},
   "outputs": [
    {
     "name": "stdout",
     "output_type": "stream",
     "text": [
      "4CL: atp_c + coa_c + coumarate_c --> amp_c + coumaroyl_CoA_c + ppi_c\n"
     ]
    }
   ],
   "source": [
    "model_b = cobra.io.load_json_model(model_new2+'.json')\n",
    "print(model_b.reactions.get_by_id('4CL'))"
   ]
  },
  {
   "cell_type": "code",
   "execution_count": 12,
   "metadata": {},
   "outputs": [
    {
     "name": "stdout",
     "output_type": "stream",
     "text": [
      "coumarate_c2e: coumarate_c <=> coumarate_e\n",
      "EX_coumarate_e: coumarate_e --> \n",
      "sakuranetin_c2e: sakuranetin_c <=> sakuranetin_e\n",
      "EX_sakuranetin_e: sakuranetin_e --> \n"
     ]
    }
   ],
   "source": [
    "print(model_b.reactions.get_by_id('coumarate_c2e'))\n",
    "print(model_b.reactions.get_by_id('EX_coumarate_e'))\n",
    "print(model_b.reactions.get_by_id('sakuranetin_c2e'))\n",
    "print(model_b.reactions.get_by_id('EX_sakuranetin_e'))"
   ]
  },
  {
   "cell_type": "markdown",
   "metadata": {},
   "source": [
    "SKMs Construction"
   ]
  },
  {
   "cell_type": "code",
   "execution_count": 17,
   "metadata": {},
   "outputs": [],
   "source": [
    "from model_correction_tools import *"
   ]
  },
  {
   "cell_type": "code",
   "execution_count": 18,
   "metadata": {},
   "outputs": [],
   "source": [
    "model_ab_json1='./new_idea_SKM_pre_meta/model/iML1515_SKM_coumarate.json'\n",
    "model_ab_json2='./new_idea_SKM_pre_meta/model/iML1515_SKM_tyr.json'"
   ]
  },
  {
   "cell_type": "markdown",
   "metadata": {},
   "source": [
    "Strategy I"
   ]
  },
  {
   "cell_type": "code",
   "execution_count": 19,
   "metadata": {},
   "outputs": [
    {
     "name": "stdout",
     "output_type": "stream",
     "text": [
      "coumarate_c\n",
      "['tyr__L_c']\n",
      "['atp_c', 'coa_c', 'coumarate_c']\n",
      "['coumaroyl_CoA_c', '3.0 h_c', '3.0 malcoa_c']\n",
      "['chalcone_c']\n",
      "['amet_c', 'naringenin_c']\n",
      "([<Reaction TAL at 0x14fb885bc18>], [<Reaction 4CL at 0x14fc01a09b0>, <Reaction CHS at 0x14fc1967780>, <Reaction CHI at 0x14fc01a06d8>, <Reaction NOMT at 0x14fc01a7128>])\n",
      "./new_idea_SKM_pre_meta/model/iML1515_UPBC.xlsx\n",
      "./new_idea_SKM_pre_meta/model/iML1515_DGS.xlsx\n"
     ]
    }
   ],
   "source": [
    "get_new_system(model_origin_name,exogenous,model_new,model_new2,'coumarate_c',sakuranetin_c.id)"
   ]
  },
  {
   "cell_type": "code",
   "execution_count": 20,
   "metadata": {},
   "outputs": [
    {
     "name": "stdout",
     "output_type": "stream",
     "text": [
      "--------A  model----------\n",
      "2716\n",
      "1879\n",
      "1516\n",
      "--------B  model----------\n",
      "2721\n",
      "1884\n",
      "1516\n",
      "A_pi_e_con_1\n",
      "A_h_e_con_1\n",
      "A_fe3_e_con_1\n",
      "A_mn2_e_con_1\n",
      "A_co2_e_con_1\n",
      "A_fe2_e_con_1\n",
      "A_glc__D_e_con_1\n",
      "A_zn2_e_con_1\n",
      "A_mg2_e_con_1\n",
      "A_ca2_e_con_1\n",
      "A_ni2_e_con_1\n",
      "A_cu2_e_con_1\n",
      "A_cobalt2_e_con_1\n",
      "A_sel_e_con_1\n",
      "A_h2o_e_con_1\n",
      "A_nh4_e_con_1\n",
      "A_mobd_e_con_1\n",
      "A_so4_e_con_1\n",
      "A_k_e_con_1\n",
      "A_na1_e_con_1\n",
      "A_o2_e_con_1\n",
      "A_cl_e_con_1\n",
      "A_tungs_e_con_1\n",
      "A_slnt_e_con_1\n"
     ]
    }
   ],
   "source": [
    "get_new_AB_model(model_origin_name,model_new,model_new2,'coumarate','EX_sakuranetin_e',model_ab_json1)"
   ]
  },
  {
   "cell_type": "markdown",
   "metadata": {},
   "source": [
    "Strategy II"
   ]
  },
  {
   "cell_type": "code",
   "execution_count": 39,
   "metadata": {},
   "outputs": [
    {
     "name": "stdout",
     "output_type": "stream",
     "text": [
      "tyr__L_c\n",
      "['tyr__L_c']\n",
      "['atp_c', 'coa_c', 'coumarate_c']\n",
      "['coumaroyl_CoA_c', '3.0 h_c', '3.0 malcoa_c']\n",
      "['chalcone_c']\n",
      "['amet_c', 'naringenin_c']\n",
      "([], [<Reaction TAL at 0x14fb885bc18>, <Reaction 4CL at 0x14fc01a09b0>, <Reaction CHS at 0x14fc1967780>, <Reaction CHI at 0x14fc01a06d8>, <Reaction NOMT at 0x14fc01a7128>])\n"
     ]
    },
    {
     "name": "stderr",
     "output_type": "stream",
     "text": [
      "Ignoring reaction 'EX_tyr__L_e' since it already exists.\n",
      "Ignoring reaction 'EX_tyr__L_e' since it already exists.\n"
     ]
    }
   ],
   "source": [
    "get_new_system(model_origin_name,exogenous,model_new3,model_new4,'tyr__L_c',sakuranetin_c.id)"
   ]
  },
  {
   "cell_type": "code",
   "execution_count": 40,
   "metadata": {},
   "outputs": [],
   "source": [
    "#change TYRTA reaction bounds\n",
    "model=load_json_model(model_new4+'.json')\n",
    "model.reactions.TYRTA.bounds=(0.0, 1000.0)\n",
    "save_json_model(model,model_new4+'.json')"
   ]
  },
  {
   "cell_type": "code",
   "execution_count": 41,
   "metadata": {},
   "outputs": [
    {
     "name": "stdout",
     "output_type": "stream",
     "text": [
      "--------A  model----------\n",
      "2714\n",
      "1877\n",
      "1516\n",
      "--------B  model----------\n",
      "2721\n",
      "1883\n",
      "1516\n",
      "A_pi_e_con_1\n",
      "A_h_e_con_1\n",
      "A_fe3_e_con_1\n",
      "A_mn2_e_con_1\n",
      "A_co2_e_con_1\n",
      "A_fe2_e_con_1\n",
      "A_glc__D_e_con_1\n",
      "A_zn2_e_con_1\n",
      "A_mg2_e_con_1\n",
      "A_ca2_e_con_1\n",
      "A_ni2_e_con_1\n",
      "A_cu2_e_con_1\n",
      "A_cobalt2_e_con_1\n",
      "A_sel_e_con_1\n",
      "A_h2o_e_con_1\n",
      "A_nh4_e_con_1\n",
      "A_mobd_e_con_1\n",
      "A_so4_e_con_1\n",
      "A_k_e_con_1\n",
      "A_na1_e_con_1\n",
      "A_o2_e_con_1\n",
      "A_cl_e_con_1\n",
      "A_tungs_e_con_1\n",
      "A_slnt_e_con_1\n"
     ]
    }
   ],
   "source": [
    "get_new_AB_model(model_origin_name,model_new3,model_new4,'tyr__L','EX_sakuranetin_e',model_ab_json2)"
   ]
  },
  {
   "cell_type": "markdown",
   "metadata": {},
   "source": [
    "New_SKMs_model Test"
   ]
  },
  {
   "cell_type": "code",
   "execution_count": 23,
   "metadata": {},
   "outputs": [
    {
     "name": "stdout",
     "output_type": "stream",
     "text": [
      "IN FLUXES            OUT FLUXES            OBJECTIVES\n",
      "-------------------  --------------------  --------------------\n",
      "o2_e      23         h2o_e          80.7   EX_sakuranet...  5.2\n",
      "glc__D_e  20         co2_e          28.6\n",
      "nh4_e      2.16      sakuranetin_e   5.2\n",
      "pi_e       0.193     h_e             1.84\n",
      "so4_e      0.0504\n",
      "k_e        0.039\n",
      "fe2_e      0.00321\n",
      "mg2_e      0.00174\n",
      "ca2_e      0.00104\n",
      "cl_e       0.00104\n",
      "cu2_e      0.000142\n",
      "mn2_e      0.000138\n"
     ]
    }
   ],
   "source": [
    "model_ab=load_json_model(model_ab_json1)\n",
    "model_ab.reactions.EX_glc__D_e.bounds=(-20,1000)\n",
    "model_ab.objective=model_ab.reactions.EX_sakuranetin_e\n",
    "fluxes_product = cobra.flux_analysis.pfba(model_ab).fluxes\n",
    "outputfile_product = './new_idea_SKM_pre_meta/result/iML1515_SKM_coumarate.txt'\n",
    "pathway(model_ab,fluxes_product,outputfile_product)\n",
    "model_ab.optimize()\n",
    "model_ab.summary()"
   ]
  },
  {
   "cell_type": "code",
   "execution_count": 24,
   "metadata": {},
   "outputs": [
    {
     "name": "stdout",
     "output_type": "stream",
     "text": [
      "IN FLUXES            OUT FLUXES            OBJECTIVES\n",
      "-------------------  --------------------  ---------------------\n",
      "glc__D_e  20         h2o_e          71.2   EX_sakuranet...  6.55\n",
      "nh4_e      2.16      co2_e           7.01\n",
      "pi_e       0.193     sakuranetin_e   6.55\n",
      "so4_e      0.0504    h_e             1.84\n",
      "k_e        0.039\n",
      "o2_e       0.0338\n",
      "fe2_e      0.00321\n",
      "mg2_e      0.00174\n",
      "ca2_e      0.00104\n",
      "cl_e       0.00104\n",
      "cu2_e      0.000142\n",
      "mn2_e      0.000138\n"
     ]
    }
   ],
   "source": [
    "model_ab=load_json_model(model_ab_json2)\n",
    "model_ab.reactions.EX_glc__D_e.bounds=(-20,1000)\n",
    "model_ab.objective=model_ab.reactions.EX_sakuranetin_e\n",
    "fluxes_product = cobra.flux_analysis.pfba(model_ab).fluxes\n",
    "outputfile_product = './new_idea_SKM_pre_meta/result/iML1515_SKM_tyr.txt'\n",
    "pathway(model_ab,fluxes_product,outputfile_product)\n",
    "model_ab.optimize()\n",
    "model_ab.summary()"
   ]
  },
  {
   "cell_type": "markdown",
   "metadata": {},
   "source": [
    "# Simulation"
   ]
  },
  {
   "cell_type": "code",
   "execution_count": 25,
   "metadata": {},
   "outputs": [],
   "source": [
    "from CulECpyD import *"
   ]
  },
  {
   "cell_type": "markdown",
   "metadata": {},
   "source": [
    "Strategy I"
   ]
  },
  {
   "cell_type": "code",
   "execution_count": 26,
   "metadata": {},
   "outputs": [],
   "source": [
    "model_file=model_ab_json1\n",
    "# model_file=model_ab_json1\n",
    "reaction_kcat_MW_file='./new_idea_SKM_pre_meta/EC/reaction_kcat_MW_skm_origin.csv'\n",
    "Concretemodel_Need_Data=Get_Concretemodel_Need_Data_json(model_file,reaction_kcat_MW_file,'sakuranetin_c')"
   ]
  },
  {
   "cell_type": "code",
   "execution_count": 27,
   "metadata": {},
   "outputs": [],
   "source": [
    "list_x=[16,10,4,2,1]\n",
    "list_y=[4,10,16,18,19]"
   ]
  },
  {
   "cell_type": "code",
   "execution_count": 28,
   "metadata": {},
   "outputs": [],
   "source": [
    "Concretemodel_Need_Data['reaction_kcat_MW']=pd.read_csv(reaction_kcat_MW_file,index_col=0)\n",
    "Concretemodel_Need_Data['reaction_kcat_MW']=unpdate_kcat_mw(Concretemodel_Need_Data['reaction_list'],Concretemodel_Need_Data['reaction_kcat_MW'],'./new_idea_SKM_pre_meta/EC/reaction_kcat_MW_SKM.csv')"
   ]
  },
  {
   "cell_type": "code",
   "execution_count": 30,
   "metadata": {},
   "outputs": [],
   "source": [
    "from concurrent.futures import ProcessPoolExecutor, as_completed\n",
    "import datetime\n",
    "#from thread import *\n",
    "import sys\n",
    "sys.path.append(r'./')"
   ]
  },
  {
   "cell_type": "code",
   "execution_count": 31,
   "metadata": {},
   "outputs": [
    {
     "name": "stdout",
     "output_type": "stream",
     "text": [
      "0:00:25.528167\n",
      "{<Future at 0x14fde0db128 state=finished returned float>: 0, <Future at 0x14fde0ce4a8 state=finished returned float>: 1, <Future at 0x14fdd8bee10 state=finished returned float>: 2, <Future at 0x14fdd8beef0 state=finished returned float>: 3, <Future at 0x14fdd8bef98 state=finished returned float>: 4}\n"
     ]
    }
   ],
   "source": [
    "if __name__ == \"__main__\":\n",
    "    pool=ProcessPoolExecutor(max_workers=8)\n",
    "    with pool as executor:\n",
    "        start = datetime.datetime.now()\n",
    "        #print(\"pass_2\")\n",
    "        tmp=[]\n",
    "        futures = {executor.submit(fba_max_product,Concretemodel_Need_Data,(list_x[i],list_y[i]),200,0,0,0.5,0.5,'EX_sakuranetin_e'): i for i in range(0,len(list_x))}\n",
    "        # for future in as_completed(futures):\n",
    "        #     tmp.append(future.result())\n",
    "    end = datetime.datetime.now()\n",
    "    print (end - start)\n",
    "    print(futures)"
   ]
  },
  {
   "cell_type": "code",
   "execution_count": 32,
   "metadata": {},
   "outputs": [
    {
     "name": "stdout",
     "output_type": "stream",
     "text": [
      "A:B=1:19\n",
      "0.333184928176011\n",
      "A:B=16:4\n",
      "0.11216584190793721\n",
      "A:B=2:18\n",
      "0.4856277418175391\n",
      "A:B=10:10\n",
      "0.2772520629377776\n",
      "A:B=4:16\n",
      "0.4358051021492866\n"
     ]
    },
    {
     "data": {
      "text/html": [
       "<div>\n",
       "<style scoped>\n",
       "    .dataframe tbody tr th:only-of-type {\n",
       "        vertical-align: middle;\n",
       "    }\n",
       "\n",
       "    .dataframe tbody tr th {\n",
       "        vertical-align: top;\n",
       "    }\n",
       "\n",
       "    .dataframe thead th {\n",
       "        text-align: right;\n",
       "    }\n",
       "</style>\n",
       "<table border=\"1\" class=\"dataframe\">\n",
       "  <thead>\n",
       "    <tr style=\"text-align: right;\">\n",
       "      <th></th>\n",
       "      <th>flux</th>\n",
       "    </tr>\n",
       "  </thead>\n",
       "  <tbody>\n",
       "    <tr>\n",
       "      <th>16:4</th>\n",
       "      <td>0.112166</td>\n",
       "    </tr>\n",
       "    <tr>\n",
       "      <th>10:10</th>\n",
       "      <td>0.277252</td>\n",
       "    </tr>\n",
       "    <tr>\n",
       "      <th>4:16</th>\n",
       "      <td>0.435805</td>\n",
       "    </tr>\n",
       "    <tr>\n",
       "      <th>2:18</th>\n",
       "      <td>0.485628</td>\n",
       "    </tr>\n",
       "    <tr>\n",
       "      <th>1:19</th>\n",
       "      <td>0.333185</td>\n",
       "    </tr>\n",
       "  </tbody>\n",
       "</table>\n",
       "</div>"
      ],
      "text/plain": [
       "           flux\n",
       "16:4   0.112166\n",
       "10:10  0.277252\n",
       "4:16   0.435805\n",
       "2:18   0.485628\n",
       "1:19   0.333185"
      ]
     },
     "execution_count": 32,
     "metadata": {},
     "output_type": "execute_result"
    }
   ],
   "source": [
    "result_list_mass=pd.DataFrame()\n",
    "for future in as_completed(futures):\n",
    "    x=list_x[futures[future]]\n",
    "    y=list_y[futures[future]]\n",
    "    real=1\n",
    "    real_x=int(x*real)\n",
    "    real_y=int(y*real)\n",
    "    print('A:B='+str(real_x)+':'+str(real_y))\n",
    "    print(future.result())\n",
    "    result_list_mass.at[str(real_x)+':'+str(real_y),'flux']=future.result()\n",
    "result_list=pd.DataFrame()\n",
    "for i in range(0,len(list_x)):\n",
    "    real=1\n",
    "    real_x=int(list_x[i]*real)\n",
    "    real_y=int(list_y[i]*real)\n",
    "    result_list.at[str(real_x)+':'+str(real_y),'flux']=result_list_mass.at[str(real_x)+':'+str(real_y),'flux']\n",
    "result_list"
   ]
  },
  {
   "cell_type": "markdown",
   "metadata": {},
   "source": [
    "Strategy II"
   ]
  },
  {
   "cell_type": "code",
   "execution_count": 42,
   "metadata": {},
   "outputs": [],
   "source": [
    "model_file=model_ab_json2\n",
    "# model_file=model_ab_json1\n",
    "reaction_kcat_MW_file='./new_idea_SKM_pre_meta/EC/reaction_kcat_MW_skm_origin.csv'\n",
    "Concretemodel_Need_Data2=Get_Concretemodel_Need_Data_json(model_file,reaction_kcat_MW_file,'sakuranetin_c')"
   ]
  },
  {
   "cell_type": "code",
   "execution_count": 43,
   "metadata": {},
   "outputs": [],
   "source": [
    "Concretemodel_Need_Data2['reaction_kcat_MW']=pd.read_csv(reaction_kcat_MW_file,index_col=0)\n",
    "Concretemodel_Need_Data2['reaction_kcat_MW']=unpdate_kcat_mw(Concretemodel_Need_Data2['reaction_list'],Concretemodel_Need_Data2['reaction_kcat_MW'],'./new_idea_SKM_pre_meta/EC/reaction_kcat_MW_SKM_tyr.csv')"
   ]
  },
  {
   "cell_type": "code",
   "execution_count": 44,
   "metadata": {},
   "outputs": [
    {
     "name": "stdout",
     "output_type": "stream",
     "text": [
      "0:00:18.987902\n",
      "{<Future at 0x14f90531cf8 state=finished returned float>: 0, <Future at 0x14f905cbbe0 state=finished returned float>: 1, <Future at 0x14f905cbe10 state=finished returned float>: 2, <Future at 0x14f905cbc18 state=finished returned float>: 3, <Future at 0x14f905cb7b8 state=finished returned float>: 4}\n"
     ]
    }
   ],
   "source": [
    "if __name__ == \"__main__\":\n",
    "    pool=ProcessPoolExecutor(max_workers=8)\n",
    "    with pool as executor:\n",
    "        start = datetime.datetime.now()\n",
    "        #print(\"pass_2\")\n",
    "        tmp=[]\n",
    "        futures = {executor.submit(fba_max_product,Concretemodel_Need_Data2,(list_x[i],list_y[i]),200,0,0,0.465,0.58,'EX_sakuranetin_e'): i for i in range(0,len(list_x))}\n",
    "        # for future in as_completed(futures):\n",
    "        #     tmp.append(future.result())\n",
    "    end = datetime.datetime.now()\n",
    "    print (end - start)\n",
    "    print(futures)"
   ]
  },
  {
   "cell_type": "code",
   "execution_count": 45,
   "metadata": {},
   "outputs": [
    {
     "name": "stdout",
     "output_type": "stream",
     "text": [
      "A:B=10:10\n",
      "0.25322691100567674\n",
      "A:B=1:19\n",
      "0.47596380050343023\n",
      "A:B=16:4\n",
      "0.10129076440227922\n",
      "A:B=2:18\n",
      "0.4558084398101332\n",
      "A:B=4:16\n",
      "0.40516305760896737\n"
     ]
    },
    {
     "data": {
      "text/html": [
       "<div>\n",
       "<style scoped>\n",
       "    .dataframe tbody tr th:only-of-type {\n",
       "        vertical-align: middle;\n",
       "    }\n",
       "\n",
       "    .dataframe tbody tr th {\n",
       "        vertical-align: top;\n",
       "    }\n",
       "\n",
       "    .dataframe thead th {\n",
       "        text-align: right;\n",
       "    }\n",
       "</style>\n",
       "<table border=\"1\" class=\"dataframe\">\n",
       "  <thead>\n",
       "    <tr style=\"text-align: right;\">\n",
       "      <th></th>\n",
       "      <th>flux</th>\n",
       "    </tr>\n",
       "  </thead>\n",
       "  <tbody>\n",
       "    <tr>\n",
       "      <th>16:4</th>\n",
       "      <td>0.101291</td>\n",
       "    </tr>\n",
       "    <tr>\n",
       "      <th>10:10</th>\n",
       "      <td>0.253227</td>\n",
       "    </tr>\n",
       "    <tr>\n",
       "      <th>4:16</th>\n",
       "      <td>0.405163</td>\n",
       "    </tr>\n",
       "    <tr>\n",
       "      <th>2:18</th>\n",
       "      <td>0.455808</td>\n",
       "    </tr>\n",
       "    <tr>\n",
       "      <th>1:19</th>\n",
       "      <td>0.475964</td>\n",
       "    </tr>\n",
       "  </tbody>\n",
       "</table>\n",
       "</div>"
      ],
      "text/plain": [
       "           flux\n",
       "16:4   0.101291\n",
       "10:10  0.253227\n",
       "4:16   0.405163\n",
       "2:18   0.455808\n",
       "1:19   0.475964"
      ]
     },
     "execution_count": 45,
     "metadata": {},
     "output_type": "execute_result"
    }
   ],
   "source": [
    "result_list_mass=pd.DataFrame()\n",
    "for future in as_completed(futures):\n",
    "    x=list_x[futures[future]]\n",
    "    y=list_y[futures[future]]\n",
    "    real=1\n",
    "    real_x=int(x*real)\n",
    "    real_y=int(y*real)\n",
    "    print('A:B='+str(real_x)+':'+str(real_y))\n",
    "    print(future.result())\n",
    "    result_list_mass.at[str(real_x)+':'+str(real_y),'flux']=future.result()\n",
    "result_list=pd.DataFrame()\n",
    "for i in range(0,len(list_x)):\n",
    "    real=1\n",
    "    real_x=int(list_x[i]*real)\n",
    "    real_y=int(list_y[i]*real)\n",
    "    result_list.at[str(real_x)+':'+str(real_y),'flux']=result_list_mass.at[str(real_x)+':'+str(real_y),'flux']\n",
    "result_list"
   ]
  }
 ],
 "metadata": {
  "kernelspec": {
   "display_name": "Python 3.6.5 ('xby')",
   "language": "python",
   "name": "python3"
  },
  "language_info": {
   "codemirror_mode": {
    "name": "ipython",
    "version": 3
   },
   "file_extension": ".py",
   "mimetype": "text/x-python",
   "name": "python",
   "nbconvert_exporter": "python",
   "pygments_lexer": "ipython3",
   "version": "3.6.5"
  },
  "orig_nbformat": 4,
  "vscode": {
   "interpreter": {
    "hash": "678f2c0cb67aa00dbc6da583138b0769cb8531f72b670a012e2187460f06e842"
   }
  }
 },
 "nbformat": 4,
 "nbformat_minor": 2
}
