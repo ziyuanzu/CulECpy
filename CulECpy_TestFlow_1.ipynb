{
 "cells": [
  {
   "cell_type": "code",
   "execution_count": 1,
   "metadata": {},
   "outputs": [],
   "source": [
    "import cobra\n",
    "import re\n",
    "from cobra import Model, Reaction, Metabolite\n",
    "from cobra.flux_analysis import pfba\n",
    "import pandas as pd\n",
    "import numpy as np\n",
    "import xlrd\n",
    "import re\n",
    "import openpyxl\n",
    "from metnet import pathway \n",
    "import sys\n",
    "sys.path.append(r'./')\n",
    "from COBRApy_ECM_funcation import *\n",
    "from metnet import sbml_excel\n",
    "import os\n",
    "from copy import copy, deepcopy\n",
    "import numpy as np\n",
    "from cobra.io import write_sbml_model,save_json_model\n",
    "from ec_code.cobrapy_ec_model_function import convert_to_irreversible,isoenzyme_split"
   ]
  },
  {
   "cell_type": "code",
   "execution_count": 2,
   "metadata": {},
   "outputs": [],
   "source": [
    "from cobra.io import write_sbml_model,save_json_model,load_json_model,read_sbml_model"
   ]
  },
  {
   "cell_type": "code",
   "execution_count": 3,
   "metadata": {},
   "outputs": [],
   "source": [
    "model_origin_name='./new_idea_SKM_pre_meta/model/iML1515_new.json'\n",
    "model_new='./new_idea_SKM_pre_meta/model/iML1515_UPBC'\n",
    "model_new2='./new_idea_SKM_pre_meta/model/iML1515_DGS'"
   ]
  },
  {
   "cell_type": "code",
   "execution_count": 4,
   "metadata": {},
   "outputs": [],
   "source": [
    "model_new3='./new_idea_SKM_pre_meta/model/iML1515_UPBT'\n",
    "model_new4='./new_idea_SKM_pre_meta/model/iML1515_DGS4'"
   ]
  },
  {
   "cell_type": "code",
   "execution_count": 3,
   "metadata": {},
   "outputs": [],
   "source": [
    "model_ab_json1='./new_idea_SKM_pre_meta/model/iML1515_SKM_coumarate.json'\n",
    "model_ab_json2='./new_idea_SKM_pre_meta/model/iML1515_SKM_tyr.json'"
   ]
  },
  {
   "cell_type": "markdown",
   "metadata": {},
   "source": [
    "## model_info"
   ]
  },
  {
   "cell_type": "markdown",
   "metadata": {},
   "source": [
    "### A"
   ]
  },
  {
   "cell_type": "code",
   "execution_count": 1266,
   "metadata": {},
   "outputs": [
    {
     "data": {
      "text/html": [
       "\n",
       "        <table>\n",
       "            <tr>\n",
       "                <td><strong>Metabolite identifier</strong></td><td>coumarate_c</td>\n",
       "            </tr><tr>\n",
       "                <td><strong>Name</strong></td><td>4-coumarate</td>\n",
       "            </tr><tr>\n",
       "                <td><strong>Memory address</strong></td>\n",
       "                <td>0x02d630fe3ef0</td>\n",
       "            </tr><tr>\n",
       "                <td><strong>Formula</strong></td><td>C9H7O3</td>\n",
       "            </tr><tr>\n",
       "                <td><strong>Compartment</strong></td><td>c</td>\n",
       "            </tr><tr>\n",
       "                <td><strong>In 12 reaction(s)</strong></td><td>\n",
       "                    coumarate_c2e, coumarate_c2e, coumarate_c2e, coumarate_c2e, coumarate_c2e, 4CL, coumarate_c2e, coumarate_c2e, coumarate_c2e, coumarate_c2e, TAL, coumarate_c2e</td>\n",
       "            </tr>\n",
       "        </table>"
      ],
      "text/plain": [
       "<Metabolite coumarate_c at 0x2d630fe3ef0>"
      ]
     },
     "execution_count": 1266,
     "metadata": {},
     "output_type": "execute_result"
    }
   ],
   "source": [
    "coumarate_c"
   ]
  },
  {
   "cell_type": "code",
   "execution_count": 6,
   "metadata": {},
   "outputs": [],
   "source": [
    "model = cobra.io.load_json_model(model_origin_name)\n",
    "tyr__L_c=model.metabolites.get_by_id('tyr__L_c')\n",
    "nh4_c=model.metabolites.get_by_id('nh4_c')\n",
    "coumarate_c=Metabolite('coumarate_c',\n",
    "                formula='C9H7O3',\n",
    "                name='4-coumarate',\n",
    "                compartment='c'\n",
    "                )\n",
    "coumarate_e=Metabolite('coumarate_e',\n",
    "                formula='C9H7O3',\n",
    "                name='4-coumarate',\n",
    "                compartment='e'\n",
    "                )\n",
    "TAL=Reaction(\"TAL\")\n",
    "TAL.name='phenylalanine/tyrosine ammonia-lyase(TAL)/RXN_9697'\n",
    "TAL.subsystem='unknow'\n",
    "TAL.lower_bound=0\n",
    "TAL.upper_bound=1000\n",
    "TAL.add_metabolites({\n",
    "    tyr__L_c:-1.0,\n",
    "    coumarate_c:1.0,\n",
    "    nh4_c:1.0\n",
    "})\n",
    "#TAL\n",
    "# EX_coumarate_e=Reaction(\"EX_coumarate_e\")\n",
    "# EX_coumarate_e.name='4-coumarate exchange'\n",
    "# EX_coumarate_e.subsystem='unknow'\n",
    "# EX_coumarate_e.lower_bound=0\n",
    "# EX_coumarate_e.upper_bound=1000\n",
    "# EX_coumarate_e.add_metabolites({\n",
    "#     coumarate_e:-1.0\n",
    "# })\n",
    "# coumarate_c2e=Reaction(\"coumarate_c2e\")\n",
    "# coumarate_c2e.name='4-coumarate_c2e'\n",
    "# coumarate_c2e.subsystem='unknow'\n",
    "# coumarate_c2e.lower_bound=-1000\n",
    "# coumarate_c2e.upper_bound=1000\n",
    "# coumarate_c2e.add_metabolites({\n",
    "#     coumarate_c:-1.0,\n",
    "#     coumarate_e:1.0\n",
    "# })\n",
    "#model.add_reaction(RXN_9697)\n",
    "# model.add_reactions([EX_coumarate_e])\n",
    "# model.add_reactions([coumarate_c2e])\n",
    "# product = model.metabolites.get_by_id('coumarate_c')\n",
    "# demand= model.add_boundary(product, type='demand')  # add demand reaction as the objective\n",
    "# model.objective = demand\n",
    "# model.optimize()\n",
    "# model.summary()\n",
    "# save_json_model(model,model_new)\n",
    "# write_sbml_model(model,model_new.split('.json')[0]+'.xml')\n",
    "# sbml_excel(model_new.split('.json')[0]+'.xml',model_new.split('.json')[0]+'.xlsx')\n",
    "# model = cobra.io.load_json_model(model_origin_name)\n",
    "atp_c=model.metabolites.get_by_id('atp_c')\n",
    "coa_c=model.metabolites.get_by_id('coa_c')\n",
    "amp_c=model.metabolites.get_by_id('amp_c')\n",
    "ppi_c=model.metabolites.get_by_id('ppi_c')\n",
    "coumaroyl_CoA_c=Metabolite('coumaroyl_CoA_c',\n",
    "                formula='C30H38N7O18P3S',\n",
    "                name='(E)-4-coumaroyl-CoA',\n",
    "                compartment='c'\n",
    "                )\n",
    "malcoa_c=model.metabolites.malcoa_c\n",
    "CL=Reaction(\"4CL\")\n",
    "CL.name='4-coumarate:CoA ligase(4CL)'\n",
    "CL.subsystem='unknow'\n",
    "CL.lower_bound=0\n",
    "CL.upper_bound=1000\n",
    "CL.add_metabolites({\n",
    "    coumarate_c:-1.0,\n",
    "    atp_c:-1.0,\n",
    "    coa_c:-1.0,\n",
    "    amp_c:1.0,\n",
    "    coumaroyl_CoA_c:1.0,\n",
    "    ppi_c:1.0\n",
    "})\n",
    "#CL\n",
    "#model.add_reaction(CL)\n",
    "chalcone_c=Metabolite('chalcone_c',\n",
    "                formula='C15H12O5',\n",
    "                name='naringenin chalcone',\n",
    "                compartment='c'\n",
    "                )\n",
    "h_c=model.metabolites.get_by_id('h_c')\n",
    "co2_c=model.metabolites.get_by_id('co2_c')\n",
    "CHS=Reaction(\"CHS\")\n",
    "CHS.name='naringenin chalcone synthase'\n",
    "CHS.subsystem='unknow'\n",
    "CHS.lower_bound=0\n",
    "CHS.upper_bound=1000\n",
    "CHS.add_metabolites({\n",
    "    coumaroyl_CoA_c:-1.0,\n",
    "    h_c:-3.0,\n",
    "    malcoa_c:-3.0,\n",
    "    coa_c:4.0,\n",
    "    co2_c:3.0,\n",
    "    chalcone_c:1.0\n",
    "})\n",
    "#CHS\n",
    "#model.add_reaction(CHS)\n",
    "naringenin_c=Metabolite('naringenin_c',\n",
    "                formula='C15H12O5',\n",
    "                name='naringenin',\n",
    "                compartment='c'\n",
    "                )\n",
    "CHI=Reaction(\"CHI\")\n",
    "CHI.name='chalcone isomerase'\n",
    "CHI.subsystem='unknow'\n",
    "CHI.lower_bound=0\n",
    "CHI.upper_bound=1000\n",
    "CHI.add_metabolites({\n",
    "    chalcone_c:-1.0,\n",
    "    naringenin_c:1.0,\n",
    "})\n",
    "#CHI\n",
    "#model.add_reaction(CHI)\n",
    "sakuranetin_c=Metabolite('sakuranetin_c',\n",
    "                formula='C16H14O5',\n",
    "                name='sakuranetin',\n",
    "                compartment='c'\n",
    "                )\n",
    "sakuranetin_e=Metabolite('sakuranetin_e',\n",
    "                formula='C16H14O5',\n",
    "                name='sakuranetin',\n",
    "                compartment='e'\n",
    "                )\n",
    "amet_c=model.metabolites.get_by_id('amet_c')\n",
    "ahcys_c=model.metabolites.get_by_id('ahcys_c')\n",
    "NOMT=Reaction(\"NOMT\")\n",
    "NOMT.name='naringenin 7-O-methyltransferase'\n",
    "NOMT.subsystem='unknow'\n",
    "NOMT.lower_bound=0\n",
    "NOMT.upper_bound=1000\n",
    "NOMT.add_metabolites({\n",
    "    amet_c:-1.0,\n",
    "    naringenin_c:-1.0,\n",
    "    sakuranetin_c:1.0,\n",
    "    ahcys_c:1.0,\n",
    "    h_c:1.0\n",
    "})\n",
    "#NOMT\n",
    "#model.add_reaction(NOMT)\n",
    "# EX_sakuranetin_e=Reaction(\"EX_sakuranetin_e\")\n",
    "# EX_sakuranetin_e.name='sakuranetin exchange'\n",
    "# EX_sakuranetin_e.subsystem='unknow'\n",
    "# EX_sakuranetin_e.lower_bound=0\n",
    "# EX_sakuranetin_e.upper_bound=1000\n",
    "# EX_sakuranetin_e.add_metabolites({\n",
    "#     sakuranetin_e:-1.0\n",
    "# })\n",
    "# sakuranetin_c2e=Reaction(\"sakuranetin_c2e\")\n",
    "# sakuranetin_c2e.name='sakuranetin_c2e'\n",
    "# sakuranetin_c2e.subsystem='unknow'\n",
    "# sakuranetin_c2e.lower_bound=-1000\n",
    "# sakuranetin_c2e.upper_bound=1000\n",
    "# sakuranetin_c2e.add_metabolites({\n",
    "#     sakuranetin_c:-1.0,\n",
    "#     sakuranetin_e:1.0\n",
    "# })\n",
    "# model.add_reactions([EX_sakuranetin_e])\n",
    "# model.add_reactions([sakuranetin_c2e])\n",
    "# model.reactions.get_by_id('EX_glc__D_e').bounds=(-10,1000)\n",
    "# product2 = model.metabolites.get_by_id('sakuranetin_c')\n",
    "# demand2= model.add_boundary(product2, type='demand')  # add demand reaction as the objective\n",
    "# model.objective = demand2\n",
    "# model.optimize()\n",
    "# model.summary()\n",
    "# save_json_model(model,model_new2)\n",
    "# write_sbml_model(model,model_new2.split('.json')[0]+'.xml')\n",
    "# sbml_excel(model_new2.split('.json')[0]+'.xml',model_new2.split('.json')[0]+'.xlsx')"
   ]
  },
  {
   "cell_type": "code",
   "execution_count": 7,
   "metadata": {},
   "outputs": [],
   "source": [
    "exogenous=[TAL,CL,CHS,CHI,NOMT]"
   ]
  },
  {
   "cell_type": "code",
   "execution_count": 8,
   "metadata": {},
   "outputs": [
    {
     "data": {
      "text/plain": [
       "[<Reaction TAL at 0x2d6386a13c8>,\n",
       " <Reaction 4CL at 0x2d638c2a748>,\n",
       " <Reaction CHS at 0x2d63a52e908>,\n",
       " <Reaction CHI at 0x2d638c2a828>,\n",
       " <Reaction NOMT at 0x2d638c2e080>]"
      ]
     },
     "execution_count": 8,
     "metadata": {},
     "output_type": "execute_result"
    }
   ],
   "source": [
    "exogenous"
   ]
  },
  {
   "cell_type": "markdown",
   "metadata": {},
   "source": [
    "### Model Correction Function"
   ]
  },
  {
   "cell_type": "code",
   "execution_count": 9,
   "metadata": {},
   "outputs": [],
   "source": [
    "def exogenous_split(exogenous,meta_key):\n",
    "    add_model=True\n",
    "    exogenous_A=[]\n",
    "    exogenous_B=[]\n",
    "    print(meta_key)\n",
    "    for i in exogenous:\n",
    "        if i.reversibility==True:\n",
    "            sub_list=i.reaction.split(' <=> ')[0].split(' + ')\n",
    "        else:\n",
    "            sub_list=i.reaction.split(' --> ')[0].split(' + ')\n",
    "        if meta_key in sub_list:\n",
    "            add_model=False\n",
    "        print(sub_list)\n",
    "        if add_model==True:\n",
    "            exogenous_A.append(i)\n",
    "        else:\n",
    "            exogenous_B.append(i)\n",
    "    print((exogenous_A,exogenous_B))\n",
    "    return (exogenous_A,exogenous_B)"
   ]
  },
  {
   "cell_type": "code",
   "execution_count": 10,
   "metadata": {},
   "outputs": [],
   "source": [
    "def add_new_ex(model,meta):\n",
    "    meta_name=meta.split('_c')[0]\n",
    "    meta_c=model.metabolites.get_by_id(meta)\n",
    "    meta_e=Metabolite(meta_name+'_e',\n",
    "                formula=meta_c.formula,\n",
    "                name=meta_c.name,\n",
    "                compartment='e'\n",
    "                )\n",
    "    EX_new=Reaction(\"EX_\"+meta_name+\"_e\")\n",
    "    EX_new.name=meta_name+' exchange'\n",
    "    EX_new.subsystem='unknow'\n",
    "    EX_new.lower_bound=0\n",
    "    EX_new.upper_bound=1000\n",
    "    EX_new.add_metabolites({\n",
    "        meta_e:-1.0\n",
    "    })\n",
    "    new_c2e=Reaction(meta_name+\"_c2e\")\n",
    "    new_c2e.name=meta_name+'_c2e'\n",
    "    new_c2e.subsystem='unknow'\n",
    "    new_c2e.lower_bound=-1000\n",
    "    new_c2e.upper_bound=1000\n",
    "    new_c2e.add_metabolites({\n",
    "        meta_c:-1.0,\n",
    "        meta_e:1.0\n",
    "    })\n",
    "    model.add_reaction(EX_new)\n",
    "    model.add_reaction(new_c2e)\n",
    "    return model"
   ]
  },
  {
   "cell_type": "code",
   "execution_count": 11,
   "metadata": {},
   "outputs": [],
   "source": [
    "def get_new_model(model_name,exogenous,out_files,meta_key,add_product=False,product=None):\n",
    "    model = cobra.io.load_json_model(model_origin_name)\n",
    "    #初始化底物摄入\n",
    "    model.reactions.get_by_id('EX_glc__D_e').bounds=(-10,1000)\n",
    "    #引入外源反应\n",
    "    model.add_reactions(exogenous)\n",
    "    model=add_new_ex(model,meta_key)\n",
    "    if add_product==True:\n",
    "        model=add_new_ex(model,product)\n",
    "    save_json_model(model,out_files+'.json')\n",
    "    write_sbml_model(model,out_files+'.xml')\n",
    "    sbml_excel(out_files+'.xml',out_files+'.xlsx')  "
   ]
  },
  {
   "cell_type": "code",
   "execution_count": 12,
   "metadata": {},
   "outputs": [],
   "source": [
    "def get_new_system(model_name,exogenous,model_A,model_B,meta_key,product):\n",
    "    (exogenous_A,exogenous_B)=exogenous_split(exogenous,meta_key)\n",
    "    #A\n",
    "    get_new_model(model_name,exogenous_A,model_A,meta_key)\n",
    "    #B\n",
    "    get_new_model(model_name,exogenous_B,model_B,meta_key,True,product)"
   ]
  },
  {
   "cell_type": "code",
   "execution_count": 13,
   "metadata": {},
   "outputs": [],
   "source": [
    "def get_new_AB_model(model_origin_name,model_a_name,model_b_name,meta_test,DM_product,model_ab_json):\n",
    "    model_a=load_json_model(model_a_name+'.json')\n",
    "    model_b=load_json_model(model_b_name+'.json')\n",
    "    model_a.reactions.get_by_id('EX_glc__D_e').bounds=(-10,1000)\n",
    "    model_a.reactions.get_by_id('EX_'+meta_test+'_e').bounds=(0,1000)\n",
    "    model_b.reactions.get_by_id('EX_'+meta_test+'_e').bounds=(-1000,0)\n",
    "    model_b.reactions.get_by_id('EX_glc__D_e').bounds=(-10,1000)\n",
    "    model_a.reactions.get_by_id('BIOMASS_Ec_iML1515_core_75p37M').bounds=(0.1,1000)\n",
    "    model_b.reactions.get_by_id('BIOMASS_Ec_iML1515_core_75p37M').bounds=(0.1,1000)\n",
    "    print(\"--------A  model----------\")\n",
    "    print(len(model_a.reactions))\n",
    "    print(len(model_a.metabolites))\n",
    "    print(len(model_a.genes) )\n",
    "    print(\"--------B  model----------\")\n",
    "    print(len(model_b.reactions))\n",
    "    print(len(model_b.metabolites))\n",
    "    print(len(model_b.genes) )\n",
    "    model=deepcopy(model_a)\n",
    "    for i in model.reactions:\n",
    "        i.id='A_'+i.id\n",
    "    for i in model.metabolites:\n",
    "        i.id='A_'+i.id\n",
    "        i.name='A_'+i.name\n",
    "    model_t=deepcopy(model_b)\n",
    "    # for i in model_t.genes:\n",
    "    #     i.id=i.id+'_B'\n",
    "    for i in model_t.reactions:\n",
    "        i.id='B_'+i.id\n",
    "    for i in model_t.metabolites:\n",
    "        i.id='B_'+i.id\n",
    "        i.name='B_'+i.name\n",
    "    for i in model_t.reactions:\n",
    "        model.add_reaction(i)\n",
    "    e_meta_rn={}\n",
    "    for meta in model_a.metabolites:\n",
    "        if meta.compartment=='e' :\n",
    "            meta_a=model.metabolites.get_by_id('A_'+meta.id)\n",
    "            e_meta_rn[meta.id+\"_1\"]=Reaction('A_'+meta.id+'_con_1')\n",
    "            e_meta_rn[meta.id+\"_1\"].name = meta.id+' Connection 1'\n",
    "            e_meta_rn[meta.id+\"_1\"].subsystem = 'unKnow'\n",
    "            e_meta_rn[meta.id+\"_1\"].lower_bound = 0. # This is the default\n",
    "            e_meta_rn[meta.id+\"_1\"].upper_bound = 1000. # This is the default\n",
    "            e_meta_rn[meta.id+\"_1\"].add_metabolites({\n",
    "                meta_a:-1.0,\n",
    "                meta:1.0\n",
    "                })\n",
    "            model.add_reactions([e_meta_rn[meta.id+\"_1\"]])\n",
    "    for meta in model_b.metabolites:\n",
    "        if meta.compartment=='e' :\n",
    "            meta_b=model_t.metabolites.get_by_id('B_'+meta.id)\n",
    "            e_meta_rn[meta.id+\"_2\"]=Reaction('B_'+meta.id+'_con_2')\n",
    "            e_meta_rn[meta.id+\"_2\"].name = meta.id+' Connection 2'\n",
    "            e_meta_rn[meta.id+\"_2\"].subsystem = 'unKnow'\n",
    "            e_meta_rn[meta.id+\"_2\"].lower_bound = -1000. # This is the default\n",
    "            e_meta_rn[meta.id+\"_2\"].upper_bound = 0. # This is the default\n",
    "            e_meta_rn[meta.id+\"_2\"].add_metabolites({\n",
    "                meta_b:1.0,\n",
    "                meta:-1.0\n",
    "                })\n",
    "            model.add_reactions([e_meta_rn[meta.id+\"_2\"]])\n",
    "    origin_model=cobra.io.load_json_model(model_origin_name)\n",
    "    # origin_model.reactions.get_by_id('EX_xyl__D_e').bounds=(-10.0,1000)\n",
    "    origin_model.medium\n",
    "    for i in origin_model.medium:\n",
    "        model.add_reaction(origin_model.reactions.get_by_id(i))\n",
    "        ex_meta=i.split('EX_')[1]\n",
    "        model.reactions.get_by_id('A_'+ex_meta+'_con_1').bounds=(-1000,1000)\n",
    "        model.reactions.get_by_id('B_'+ex_meta+'_con_2').bounds=(-1000,1000)\n",
    "        print('A_'+ex_meta+'_con_1')\n",
    "    model.reactions.get_by_id('A_'+meta_test+'_e'+'_con_1').bounds=(-1000,1000)\n",
    "    model.reactions.get_by_id('B_'+meta_test+'_e'+'_con_2').bounds=(-1000,1000)\n",
    "    for i in model.medium:\n",
    "        h=i.split('_')[0]\n",
    "        if h=='A' or h=='B':\n",
    "            model.reactions.get_by_id(i).bounds=(0,0)\n",
    "    model.medium\n",
    "    #model.medium\n",
    "    model.add_reaction(model_b.reactions.get_by_id(DM_product))\n",
    "    save_json_model(model,model_ab_json)"
   ]
  },
  {
   "cell_type": "markdown",
   "metadata": {},
   "source": [
    "### 子模型分割构建test"
   ]
  },
  {
   "cell_type": "code",
   "execution_count": null,
   "metadata": {},
   "outputs": [],
   "source": [
    "get_new_system(model_origin_name,exogenous,model_new,model_new2,'coumarate_c',sakuranetin_c.id)"
   ]
  },
  {
   "cell_type": "code",
   "execution_count": null,
   "metadata": {},
   "outputs": [],
   "source": [
    "model_a = cobra.io.load_json_model(model_new+'.json')\n",
    "print(model_a.reactions.get_by_id('TAL'))"
   ]
  },
  {
   "cell_type": "code",
   "execution_count": null,
   "metadata": {},
   "outputs": [],
   "source": [
    "print(model_a.reactions.get_by_id('coumarate_c2e'))\n",
    "print(model_a.reactions.get_by_id('EX_coumarate_e'))"
   ]
  },
  {
   "cell_type": "code",
   "execution_count": null,
   "metadata": {},
   "outputs": [],
   "source": [
    "model_b = cobra.io.load_json_model(model_new2+'.json')\n",
    "print(model_b.reactions.get_by_id('4CL'))"
   ]
  },
  {
   "cell_type": "code",
   "execution_count": null,
   "metadata": {},
   "outputs": [],
   "source": [
    "print(model_b.reactions.get_by_id('coumarate_c2e'))\n",
    "print(model_b.reactions.get_by_id('EX_coumarate_e'))\n",
    "print(model_b.reactions.get_by_id('sakuranetin_c2e'))\n",
    "print(model_b.reactions.get_by_id('EX_sakuranetin_e'))"
   ]
  },
  {
   "cell_type": "markdown",
   "metadata": {},
   "source": [
    "### matC matB"
   ]
  },
  {
   "cell_type": "code",
   "execution_count": null,
   "metadata": {},
   "outputs": [],
   "source": [
    "# MatB=Reaction(\"MatB\")\n",
    "# MatB.name='4-coumarate:CoA ligase(4CL)'\n",
    "# MatB.subsystem='unknow'\n",
    "# MatB.lower_bound=0\n",
    "# MatB.upper_bound=1000\n",
    "# MatB.add_metabolites({\n",
    "#     malonate_c:-1.0,\n",
    "#     atp_c:-1.0,\n",
    "#     coa_c:-1.0,\n",
    "#     amp_c:1.0,\n",
    "#     malcoa_c:1.0,\n",
    "#     ppi_c:1.0\n",
    "# })\n",
    "# MatB\n",
    "# model.add_reaction(MatB)\n",
    "# EX_malonate_e=Reaction(\"EX_malonate_e\")\n",
    "# EX_malonate_e.name='malonate exchange'\n",
    "# EX_malonate_e.subsystem='unknow'\n",
    "# EX_malonate_e.lower_bound=-1000\n",
    "# EX_malonate_e.upper_bound=1000\n",
    "# EX_malonate_e.add_metabolites({\n",
    "#     malonate_e:-1.0\n",
    "# })\n",
    "# malonate_c2e=Reaction(\"malonate_c2e\")\n",
    "# malonate_c2e.name='malonate_c2e'\n",
    "# malonate_c2e.subsystem='unknow'\n",
    "# malonate_c2e.lower_bound=-1000\n",
    "# malonate_c2e.upper_bound=1000\n",
    "# malonate_c2e.add_metabolites({\n",
    "#     malonate_c:-1.0,\n",
    "#     malonate_e:1.0\n",
    "# })\n",
    "# model.add_reactions([EX_malonate_e])\n",
    "# model.add_reactions([malonate_c2e])"
   ]
  },
  {
   "cell_type": "markdown",
   "metadata": {},
   "source": [
    "### change TYR"
   ]
  },
  {
   "cell_type": "code",
   "execution_count": 41,
   "metadata": {},
   "outputs": [],
   "source": [
    "def change_tyr(model_name):\n",
    "    model=load_json_model(model_name+'.json')\n",
    "    model.reactions.TYRTA.bounds=(0.0, 1000.0)\n",
    "    save_json_model(model,model_name+'.json')"
   ]
  },
  {
   "cell_type": "code",
   "execution_count": 419,
   "metadata": {},
   "outputs": [],
   "source": [
    "# change_tyr(model_new2)\n",
    "change_tyr(model_new4)"
   ]
  },
  {
   "cell_type": "code",
   "execution_count": 206,
   "metadata": {},
   "outputs": [],
   "source": [
    "model=load_json_model(model_new4+'.json')\n",
    "# product = model.metabolites.get_by_id('tyr__L_c')\n",
    "# demand= model.add_boundary(product, type='demand')  # add demand reaction as the objective\n",
    "# model.objective = demand\n",
    "# model.optimize()\n",
    "# model.summary()\n",
    "# print (model.reactions.TYRt2rpp.bounds)\n",
    "# print(model.reactions.TYRTA.bounds)"
   ]
  },
  {
   "cell_type": "code",
   "execution_count": 208,
   "metadata": {},
   "outputs": [
    {
     "data": {
      "text/html": [
       "\n",
       "        <table>\n",
       "            <tr>\n",
       "                <td><strong>Reaction identifier</strong></td><td>EX_sakuranetin_e</td>\n",
       "            </tr><tr>\n",
       "                <td><strong>Name</strong></td><td>sakuranetin exchange</td>\n",
       "            </tr><tr>\n",
       "                <td><strong>Memory address</strong></td>\n",
       "                <td>0x02d61abd59e8</td>\n",
       "            </tr><tr>\n",
       "                <td><strong>Stoichiometry</strong></td>\n",
       "                <td>\n",
       "                    <p style='text-align:right'>sakuranetin_e --> </p>\n",
       "                    <p style='text-align:right'>sakuranetin --> </p>\n",
       "                </td>\n",
       "            </tr><tr>\n",
       "                <td><strong>GPR</strong></td><td></td>\n",
       "            </tr><tr>\n",
       "                <td><strong>Lower bound</strong></td><td>0</td>\n",
       "            </tr><tr>\n",
       "                <td><strong>Upper bound</strong></td><td>1000</td>\n",
       "            </tr>\n",
       "        </table>\n",
       "        "
      ],
      "text/plain": [
       "<Reaction EX_sakuranetin_e at 0x2d61abd59e8>"
      ]
     },
     "execution_count": 208,
     "metadata": {},
     "output_type": "execute_result"
    }
   ],
   "source": [
    "model.reactions.EX_sakuranetin_e"
   ]
  },
  {
   "cell_type": "code",
   "execution_count": 132,
   "metadata": {},
   "outputs": [
    {
     "name": "stdout",
     "output_type": "stream",
     "text": [
      "IN FLUXES        OUT FLUXES    OBJECTIVES\n",
      "---------------  ------------  --------------\n",
      "o2_e      1.37   co2_e  1.37   DM_tyr__L_c  0\n",
      "glc__D_e  0.686  ac_e   1.37\n",
      "                 h2o_e  1.37\n",
      "                 h_e    1.37\n"
     ]
    }
   ],
   "source": [
    "model.optimize()\n",
    "model.summary()"
   ]
  },
  {
   "cell_type": "markdown",
   "metadata": {},
   "source": [
    "### AB"
   ]
  },
  {
   "cell_type": "code",
   "execution_count": 133,
   "metadata": {},
   "outputs": [],
   "source": [
    "model_ab_json1='./new_idea_SKM_pre_meta/model/iML1515_SKM_coumarate.json'\n",
    "model_ab_json2='./new_idea_SKM_pre_meta/model/iML1515_SKM_tyr.json'"
   ]
  },
  {
   "cell_type": "code",
   "execution_count": null,
   "metadata": {},
   "outputs": [],
   "source": [
    "model_new"
   ]
  },
  {
   "cell_type": "code",
   "execution_count": 416,
   "metadata": {},
   "outputs": [
    {
     "name": "stdout",
     "output_type": "stream",
     "text": [
      "coumarate_c\n",
      "['tyr__L_c']\n",
      "['atp_c', 'coa_c', 'coumarate_c']\n",
      "['coumaroyl_CoA_c', '3.0 h_c', '3.0 malcoa_c']\n",
      "['chalcone_c']\n",
      "['amet_c', 'naringenin_c']\n",
      "([<Reaction TAL at 0x2d6386a13c8>], [<Reaction 4CL at 0x2d638c2a748>, <Reaction CHS at 0x2d63a52e908>, <Reaction CHI at 0x2d638c2a828>, <Reaction NOMT at 0x2d638c2e080>])\n",
      "./new_idea_SKM_pre_meta/model/iML1515_UPBC.xlsx\n",
      "./new_idea_SKM_pre_meta/model/iML1515_DGS.xlsx\n"
     ]
    }
   ],
   "source": [
    "get_new_system(model_origin_name,exogenous,model_new,model_new2,'coumarate_c',sakuranetin_c.id)"
   ]
  },
  {
   "cell_type": "code",
   "execution_count": 418,
   "metadata": {},
   "outputs": [
    {
     "name": "stdout",
     "output_type": "stream",
     "text": [
      "--------A  model----------\n",
      "2716\n",
      "1879\n",
      "1516\n",
      "--------B  model----------\n",
      "2721\n",
      "1884\n",
      "1516\n",
      "A_pi_e_con_1\n",
      "A_h_e_con_1\n",
      "A_fe3_e_con_1\n",
      "A_mn2_e_con_1\n",
      "A_co2_e_con_1\n",
      "A_fe2_e_con_1\n",
      "A_glc__D_e_con_1\n",
      "A_zn2_e_con_1\n",
      "A_mg2_e_con_1\n",
      "A_ca2_e_con_1\n",
      "A_ni2_e_con_1\n",
      "A_cu2_e_con_1\n",
      "A_cobalt2_e_con_1\n",
      "A_sel_e_con_1\n",
      "A_h2o_e_con_1\n",
      "A_nh4_e_con_1\n",
      "A_mobd_e_con_1\n",
      "A_so4_e_con_1\n",
      "A_k_e_con_1\n",
      "A_na1_e_con_1\n",
      "A_o2_e_con_1\n",
      "A_cl_e_con_1\n",
      "A_tungs_e_con_1\n",
      "A_slnt_e_con_1\n"
     ]
    }
   ],
   "source": [
    "get_new_AB_model(model_origin_name,model_new,model_new2,'coumarate','EX_sakuranetin_e',model_ab_json1)"
   ]
  },
  {
   "cell_type": "code",
   "execution_count": 417,
   "metadata": {},
   "outputs": [
    {
     "name": "stdout",
     "output_type": "stream",
     "text": [
      "tyr__L_c\n",
      "['tyr__L_c']\n",
      "['atp_c', 'coa_c', 'coumarate_c']\n",
      "['coumaroyl_CoA_c', '3.0 h_c', '3.0 malcoa_c']\n",
      "['chalcone_c']\n",
      "['amet_c', 'naringenin_c']\n",
      "([], [<Reaction TAL at 0x2d6386a13c8>, <Reaction 4CL at 0x2d638c2a748>, <Reaction CHS at 0x2d63a52e908>, <Reaction CHI at 0x2d638c2a828>, <Reaction NOMT at 0x2d638c2e080>])\n"
     ]
    },
    {
     "name": "stderr",
     "output_type": "stream",
     "text": [
      "Ignoring reaction 'EX_tyr__L_e' since it already exists.\n"
     ]
    },
    {
     "name": "stdout",
     "output_type": "stream",
     "text": [
      "./new_idea_SKM_pre_meta/model/iML1515_UPBT.xlsx\n"
     ]
    },
    {
     "name": "stderr",
     "output_type": "stream",
     "text": [
      "Ignoring reaction 'EX_tyr__L_e' since it already exists.\n"
     ]
    },
    {
     "name": "stdout",
     "output_type": "stream",
     "text": [
      "./new_idea_SKM_pre_meta/model/iML1515_DGS4.xlsx\n"
     ]
    }
   ],
   "source": [
    "get_new_system(model_origin_name,exogenous,model_new3,model_new4,'tyr__L_c',sakuranetin_c.id)"
   ]
  },
  {
   "cell_type": "code",
   "execution_count": 420,
   "metadata": {},
   "outputs": [
    {
     "name": "stdout",
     "output_type": "stream",
     "text": [
      "--------A  model----------\n",
      "2714\n",
      "1877\n",
      "1516\n",
      "--------B  model----------\n",
      "2721\n",
      "1883\n",
      "1516\n",
      "A_pi_e_con_1\n",
      "A_h_e_con_1\n",
      "A_fe3_e_con_1\n",
      "A_mn2_e_con_1\n",
      "A_co2_e_con_1\n",
      "A_fe2_e_con_1\n",
      "A_glc__D_e_con_1\n",
      "A_zn2_e_con_1\n",
      "A_mg2_e_con_1\n",
      "A_ca2_e_con_1\n",
      "A_ni2_e_con_1\n",
      "A_cu2_e_con_1\n",
      "A_cobalt2_e_con_1\n",
      "A_sel_e_con_1\n",
      "A_h2o_e_con_1\n",
      "A_nh4_e_con_1\n",
      "A_mobd_e_con_1\n",
      "A_so4_e_con_1\n",
      "A_k_e_con_1\n",
      "A_na1_e_con_1\n",
      "A_o2_e_con_1\n",
      "A_cl_e_con_1\n",
      "A_tungs_e_con_1\n",
      "A_slnt_e_con_1\n"
     ]
    }
   ],
   "source": [
    "get_new_AB_model(model_origin_name,model_new3,model_new4,'tyr__L','EX_sakuranetin_e',model_ab_json2)"
   ]
  },
  {
   "cell_type": "markdown",
   "metadata": {},
   "source": [
    "### AB_def"
   ]
  },
  {
   "cell_type": "code",
   "execution_count": null,
   "metadata": {},
   "outputs": [],
   "source": [
    "# convert_to_irreversible(model_a)\n",
    "# #split isoenzyme\n",
    "# model_a = isoenzyme_split(model_a)\n",
    "# #同工酶反应拆分\n",
    "# save_json_model(model_a,model_a_name.split('/model/')[0]+'/model/reversed/Reverse'+model_a_name.split('/model/')[1])\n",
    "# convert_to_irreversible(model_b)\n",
    "# #split isoenzyme\n",
    "# model_b = isoenzyme_split(model_b)\n",
    "# #同工酶反应拆分\n",
    "# save_json_model(model_b,model_b_name.split('/model/')[0]+'/model/reversed/Reverse'+model_b_name.split('/model/')[1])"
   ]
  },
  {
   "cell_type": "code",
   "execution_count": null,
   "metadata": {},
   "outputs": [],
   "source": [
    "# model_a_name.split('/model/')[0]+'/model/reversed/Reverse'+model_a_name.split('/model/')[1]"
   ]
  },
  {
   "cell_type": "code",
   "execution_count": 421,
   "metadata": {},
   "outputs": [
    {
     "name": "stdout",
     "output_type": "stream",
     "text": [
      "IN FLUXES            OUT FLUXES            OBJECTIVES\n",
      "-------------------  --------------------  --------------------\n",
      "o2_e      23         h2o_e          80.7   EX_sakuranet...  5.2\n",
      "glc__D_e  20         co2_e          28.6\n",
      "nh4_e      2.16      sakuranetin_e   5.2\n",
      "pi_e       0.193     h_e             1.84\n",
      "so4_e      0.0504\n",
      "k_e        0.039\n",
      "fe2_e      0.00321\n",
      "mg2_e      0.00174\n",
      "ca2_e      0.00104\n",
      "cl_e       0.00104\n",
      "cu2_e      0.000142\n",
      "mn2_e      0.000138\n"
     ]
    }
   ],
   "source": [
    "model_ab=load_json_model(model_ab_json1)\n",
    "model_ab.reactions.EX_glc__D_e.bounds=(-20,1000)\n",
    "model_ab.objective=model_ab.reactions.EX_sakuranetin_e\n",
    "fluxes_product = cobra.flux_analysis.pfba(model_ab).fluxes\n",
    "outputfile_product = './new_idea_SKM_pre_meta/result/iML1515_SKM_coumarate.txt'\n",
    "pathway(model_ab,fluxes_product,outputfile_product)\n",
    "model_ab.optimize()\n",
    "model_ab.summary()"
   ]
  },
  {
   "cell_type": "code",
   "execution_count": 422,
   "metadata": {},
   "outputs": [
    {
     "name": "stdout",
     "output_type": "stream",
     "text": [
      "IN FLUXES            OUT FLUXES            OBJECTIVES\n",
      "-------------------  --------------------  ---------------------\n",
      "glc__D_e  20         h2o_e          71.2   EX_sakuranet...  6.55\n",
      "nh4_e      2.16      co2_e           7.01\n",
      "pi_e       0.193     sakuranetin_e   6.55\n",
      "so4_e      0.0504    h_e             1.84\n",
      "k_e        0.039\n",
      "o2_e       0.0338\n",
      "fe2_e      0.00321\n",
      "mg2_e      0.00174\n",
      "ca2_e      0.00104\n",
      "cl_e       0.00104\n",
      "cu2_e      0.000142\n",
      "mn2_e      0.000138\n"
     ]
    }
   ],
   "source": [
    "model_ab=load_json_model(model_ab_json2)\n",
    "model_ab.reactions.EX_glc__D_e.bounds=(-20,1000)\n",
    "model_ab.objective=model_ab.reactions.EX_sakuranetin_e\n",
    "fluxes_product = cobra.flux_analysis.pfba(model_ab).fluxes\n",
    "outputfile_product = './new_idea_SKM_pre_meta/result/iML1515_SKM_tyr.txt'\n",
    "pathway(model_ab,fluxes_product,outputfile_product)\n",
    "model_ab.optimize()\n",
    "model_ab.summary()"
   ]
  },
  {
   "cell_type": "code",
   "execution_count": 213,
   "metadata": {},
   "outputs": [
    {
     "data": {
      "text/html": [
       "\n",
       "        <table>\n",
       "            <tr>\n",
       "                <td><strong>Reaction identifier</strong></td><td>B_EX_sakuranetin_e</td>\n",
       "            </tr><tr>\n",
       "                <td><strong>Name</strong></td><td>sakuranetin exchange</td>\n",
       "            </tr><tr>\n",
       "                <td><strong>Memory address</strong></td>\n",
       "                <td>0x02d650a0d588</td>\n",
       "            </tr><tr>\n",
       "                <td><strong>Stoichiometry</strong></td>\n",
       "                <td>\n",
       "                    <p style='text-align:right'>B_sakuranetin_e --> </p>\n",
       "                    <p style='text-align:right'>B_sakuranetin --> </p>\n",
       "                </td>\n",
       "            </tr><tr>\n",
       "                <td><strong>GPR</strong></td><td></td>\n",
       "            </tr><tr>\n",
       "                <td><strong>Lower bound</strong></td><td>0</td>\n",
       "            </tr><tr>\n",
       "                <td><strong>Upper bound</strong></td><td>1000</td>\n",
       "            </tr>\n",
       "        </table>\n",
       "        "
      ],
      "text/plain": [
       "<Reaction B_EX_sakuranetin_e at 0x2d650a0d588>"
      ]
     },
     "execution_count": 213,
     "metadata": {},
     "output_type": "execute_result"
    }
   ],
   "source": [
    "model_ab.reactions.B_EX_sakuranetin_e"
   ]
  },
  {
   "cell_type": "code",
   "execution_count": 214,
   "metadata": {},
   "outputs": [
    {
     "data": {
      "text/html": [
       "\n",
       "        <table>\n",
       "            <tr>\n",
       "                <td><strong>Metabolite identifier</strong></td><td>B_sakuranetin_e</td>\n",
       "            </tr><tr>\n",
       "                <td><strong>Name</strong></td><td>B_sakuranetin</td>\n",
       "            </tr><tr>\n",
       "                <td><strong>Memory address</strong></td>\n",
       "                <td>0x02d61b0bf518</td>\n",
       "            </tr><tr>\n",
       "                <td><strong>Formula</strong></td><td>C16H14O5</td>\n",
       "            </tr><tr>\n",
       "                <td><strong>Compartment</strong></td><td>e</td>\n",
       "            </tr><tr>\n",
       "                <td><strong>In 3 reaction(s)</strong></td><td>\n",
       "                    B_EX_sakuranetin_e, B_sakuranetin_c2e, B_sakuranetin_e_con_2</td>\n",
       "            </tr>\n",
       "        </table>"
      ],
      "text/plain": [
       "<Metabolite B_sakuranetin_e at 0x2d61b0bf518>"
      ]
     },
     "execution_count": 214,
     "metadata": {},
     "output_type": "execute_result"
    }
   ],
   "source": [
    "model_ab.metabolites.B_sakuranetin_e"
   ]
  },
  {
   "cell_type": "code",
   "execution_count": null,
   "metadata": {},
   "outputs": [],
   "source": [
    "cobra.manipulation.modify.convert_to_irreversible(model_ab)\n",
    "isoenzyme_split(model_ab)"
   ]
  },
  {
   "cell_type": "markdown",
   "metadata": {},
   "source": [
    "### change_model"
   ]
  },
  {
   "cell_type": "markdown",
   "metadata": {},
   "source": [
    "### 代谢路径单向传输"
   ]
  },
  {
   "cell_type": "markdown",
   "metadata": {},
   "source": [
    "### change connect"
   ]
  },
  {
   "cell_type": "code",
   "execution_count": null,
   "metadata": {},
   "outputs": [],
   "source": [
    "# model_ab_json='./new_idea_SKM_pre_meta/model/iML1515_SKM.json'"
   ]
  },
  {
   "cell_type": "code",
   "execution_count": null,
   "metadata": {},
   "outputs": [],
   "source": [
    "# for i in EX_change_a.index:\n",
    "#     meta=i.split('EX_')[1]\n",
    "#     if '_reverse' in meta:\n",
    "#         me=meta.split('_reverse')[0]\n",
    "#     else:\n",
    "#         me=meta\n",
    "#         model_change.reactions.get_by_id('A_'+meta+'_con_1').bounds=(0,1000)\n",
    "#         model_change.reactions.get_by_id('A_'+meta+'_con_1_reverse').bounds=(0,1000)\n",
    "#         model_change.reactions.get_by_id('B_'+meta+'_con_2').bounds=(0,1000)\n",
    "#         model_change.reactions.get_by_id('B_'+meta+'_con_2_reverse').bounds=(0,1000)\n",
    "# for i in EX_change_b.index:\n",
    "#     meta=i.split('EX_')[1]\n",
    "#     if '_reverse' in meta:\n",
    "#         me=meta.split('_reverse')[0]\n",
    "#     else:\n",
    "#         me=meta\n",
    "#         model_change.reactions.get_by_id('A_'+meta+'_con_1').bounds=(0,1000)\n",
    "#         model_change.reactions.get_by_id('A_'+meta+'_con_1_reverse').bounds=(0,1000)\n",
    "#         model_change.reactions.get_by_id('B_'+meta+'_con_2').bounds=(0,1000)\n",
    "#         model_change.reactions.get_by_id('B_'+meta+'_con_2_reverse').bounds=(0,1000)"
   ]
  },
  {
   "cell_type": "markdown",
   "metadata": {},
   "source": [
    "### new_idea"
   ]
  },
  {
   "cell_type": "code",
   "execution_count": null,
   "metadata": {},
   "outputs": [],
   "source": [
    "from new_cobra import *"
   ]
  },
  {
   "cell_type": "code",
   "execution_count": null,
   "metadata": {},
   "outputs": [],
   "source": [
    "def Get_Model_Data(model):\n",
    "    \"\"\"Returns reaction_list,metabolite_list,lb_list,ub_list,coef_matrix from model.\n",
    "    \n",
    "    Notes: \n",
    "    ----------\n",
    "    *model： is in SBML format (.xml).\n",
    "    \"\"\"\n",
    "    reaction_list=[]\n",
    "    reaction_list_A=[]\n",
    "    reaction_list_B=[]\n",
    "    metabolite_list=[]\n",
    "    lb_list={}\n",
    "    ub_list={}\n",
    "    coef_matrix={}\n",
    "    for rea in model.reactions:\n",
    "        reaction_list.append(rea.id)\n",
    "        if rea.id.startswith('A_'):\n",
    "            reaction_list_A.append(rea.id)\n",
    "        if rea.id.startswith('B_'):\n",
    "            reaction_list_B.append(rea.id)    \n",
    "        lb_list[rea.id]=rea.lower_bound\n",
    "        ub_list[rea.id]=rea.upper_bound\n",
    "        for met in model.metabolites:\n",
    "            metabolite_list.append(met.id)\n",
    "            try:\n",
    "                rea.get_coefficient(met.id)  \n",
    "            except:\n",
    "                pass\n",
    "            else:\n",
    "                coef_matrix[met.id,rea.id]=rea.get_coefficient(met.id)\n",
    "    reaction_list=list(set(reaction_list))\n",
    "    metabolite_list=list(set(metabolite_list))\n",
    "    return(reaction_list,reaction_list_A,reaction_list_B,metabolite_list,lb_list,ub_list,coef_matrix)"
   ]
  },
  {
   "cell_type": "code",
   "execution_count": null,
   "metadata": {},
   "outputs": [],
   "source": [
    "def Get_Concretemodel_Need_Data_json(model_file,reaction_kcat_MW_file,target):\n",
    "    Concretemodel_Need_Data={}\n",
    "    # reaction_g0=pd.read_csv(reaction_g0_file,index_col=0,sep='\\t')\n",
    "    # Concretemodel_Need_Data['reaction_g0']=reaction_g0\n",
    "    # metabolites_lnC = pd.read_csv(metabolites_lnC_file, index_col=0, sep='\\t')\n",
    "    # Concretemodel_Need_Data['metabolites_lnC']=metabolites_lnC\n",
    "    model=cobra.io.load_json_model(model_file)\n",
    "    try:\n",
    "        product = model.metabolites.get_by_id(target)\n",
    "        model.add_boundary(product, type='demand')  # add demand reaction as the objective\n",
    "    except:\n",
    "        pass\n",
    "    cobra.manipulation.modify.convert_to_irreversible(model)\n",
    "    isoenzyme_split(model)\n",
    "    reaction_kcat_MW=pd.read_csv(reaction_kcat_MW_file,index_col=0)\n",
    "    Concretemodel_Need_Data['model']=model\n",
    "    Concretemodel_Need_Data['reaction_kcat_MW']=reaction_kcat_MW\n",
    "    [reaction_list,reaction_list_A,reaction_list_B,metabolite_list,lb_list,ub_list,coef_matrix]=Get_Model_Data(model)\n",
    "    Concretemodel_Need_Data['reaction_list']=reaction_list\n",
    "    Concretemodel_Need_Data['reaction_list_A']=reaction_list_A\n",
    "    Concretemodel_Need_Data['reaction_list_B']=reaction_list_B\n",
    "    Concretemodel_Need_Data['metabolite_list']=metabolite_list\n",
    "    Concretemodel_Need_Data['lb_list']=lb_list\n",
    "    Concretemodel_Need_Data['ub_list']=ub_list\n",
    "    Concretemodel_Need_Data['coef_matrix']=coef_matrix\n",
    "    return (Concretemodel_Need_Data)"
   ]
  },
  {
   "cell_type": "code",
   "execution_count": null,
   "metadata": {},
   "outputs": [],
   "source": [
    "def Template_Concretemodel2(reaction_list=None,metabolite_list=None,coef_matrix=None,reaction_kcat_MW=None,lb_list=None,ub_list=None,reaction_list_A=None,reaction_list_B=None,\\\n",
    "    set_substrate_ini=False,substrate_name=None,substrate_value=None,substrates=None,substrates_bool=False,\\\n",
    "    set_biomass_ini=False,biomass_value=None,biomass_list=None,biomass_id=None,set_A_biomass_ini=None,set_B_biomass_ini=None,\\\n",
    "    set_bound=False,set_stoi_matrix=False,set_enzyme_constraint=False,set_part_enzyme_constraint=False,set_obj_single_E_value=False,E_total=None,\\\n",
    "    obj_name=None,obj_target=None,set_obj_value=False,set_target_ini=False,target_value=None,\\\n",
    "    set_obj_V_value=False,set_new_stoi_matrix=False,set_obj_E_value=False,\\\n",
    "    set_ratio=False,set_ratio_bound=False,set_pass_ini=False,set_pass_value=None,\\\n",
    "    set_metabolite=False,set_obj_Met_value=False,metabolites_lnC=None,\\\n",
    "    set_sub_ratio=False,sub_a=None,sub_b=None,sub_ratio=None):\n",
    "    \n",
    "\n",
    "    Concretemodel = ConcreteModel()\n",
    "    Concretemodel.reaction = pyo.Var(reaction_list,  within=NonNegativeReals)\n",
    "    Concretemodel.z = pyo.Var(reaction_list,  within=pyo.Binary)\n",
    "    Concretemodel.x = pyo.Var()\n",
    "    Concretemodel.y = pyo.Var()\n",
    "\n",
    "    #Set upper and lower bounds of metabolite concentration\n",
    "    # if set_metabolite:\n",
    "    #     def set_metabolite(m,i):\n",
    "    #         return  inequality(metabolites_lnC.loc[i,'lnClb'], m.metabolite[i], metabolites_lnC.loc[i,'lnCub'])\n",
    "    #     Concretemodel.set_metabolite= Constraint(metabolite_list,rule=set_metabolite)  \n",
    "\n",
    "    if set_ratio:\n",
    "        def set_ratio(m):\n",
    "            return  m.x+m.y==100\n",
    "        Concretemodel.set_ratio= Constraint(rule=set_ratio)    \n",
    "        \n",
    "    if set_ratio_bound:\n",
    "        def set_ratio_bound(m):\n",
    "            return inequality(1,m.x,99)\n",
    "        Concretemodel.set_ratio_bound = Constraint(rule=set_ratio_bound)     \n",
    "\n",
    "    #Minimizing the flux sum of pathway (pFBA)\n",
    "    if set_obj_V_value:             \n",
    "        def set_obj_V_value(m):\n",
    "            return sum(m.reaction[j] for j in reaction_list)\n",
    "        Concretemodel.obj = Objective(rule=set_obj_V_value, sense=minimize)  \n",
    "    \n",
    "    #Set the maximum flux as the object function\n",
    "    if set_obj_value:   \n",
    "        def set_obj_value(m):\n",
    "            return m.reaction[obj_name]\n",
    "        if obj_target=='maximize':\n",
    "            Concretemodel.obj = Objective(rule=set_obj_value, sense=maximize)\n",
    "        elif obj_target=='minimize':\n",
    "            Concretemodel.obj = Objective(rule=set_obj_value, sense=minimize)\n",
    "\n",
    "    #Set the minimum enzyme cost of a pathway as the object function\n",
    "    if set_obj_E_value:             \n",
    "        def set_obj_E_value(m):\n",
    "            return sum(m.reaction[j]/(reaction_kcat_MW.loc[j,'kcat_MW']) for j in reaction_kcat_MW.index)\n",
    "        Concretemodel.obj = Objective(rule=set_obj_E_value, sense=minimize)  \n",
    "\n",
    "    #To calculate the variability of enzyme usage of single reaction.\n",
    "    if set_obj_single_E_value:             \n",
    "        def set_obj_single_E_value(m):\n",
    "            return m.reaction[obj_name]/(reaction_kcat_MW.loc[obj_name,'kcat_MW'])\n",
    "        if obj_target=='maximize':\n",
    "            Concretemodel.obj = Objective(rule=set_obj_single_E_value, sense=maximize) \n",
    "        elif obj_target=='minimize':\n",
    "            Concretemodel.obj = Objective(rule=set_obj_single_E_value, sense=minimize)\n",
    "\n",
    "    if set_sub_ratio:\n",
    "        def set_sub_ratio(m):\n",
    "            return m.reaction[sub_a]==4*m.reaction[sub_b]\n",
    "        Concretemodel.set_sub_ratio = Constraint(rule=set_sub_ratio)\n",
    "\n",
    "    #To calculate the concentration variability of metabolites.\n",
    "    # if set_obj_Met_value:   \n",
    "    #     def set_obj_Met_value(m):\n",
    "    #         return m.metabolite[obj_name]\n",
    "    #     if obj_target=='maximize':\n",
    "    #         Concretemodel.obj = Objective(rule=set_obj_Met_value, sense=maximize)\n",
    "    #     elif obj_target=='minimize':\n",
    "    #         Concretemodel.obj = Objective(rule=set_obj_Met_value, sense=minimize)\n",
    "\n",
    "    #Adding flux balance constraints （FBA）\n",
    "    if set_stoi_matrix:\n",
    "        def set_stoi_matrix(m,i):\n",
    "            return sum(coef_matrix[i,j]*m.reaction[j]  for j in reaction_list if (i,j) in coef_matrix.keys() )==0\n",
    "        Concretemodel.set_stoi_matrix = Constraint( metabolite_list,rule=set_stoi_matrix)\n",
    "\n",
    "    #Adding flux balance constraints （newFBA）\n",
    "    if set_new_stoi_matrix:\n",
    "        def set_new_stoi_matrix(m,i):\n",
    "            for j in reaction_list:\n",
    "                if (i,j) in coef_matrix.keys():\n",
    "                    if j.startswith('A_') and i.startswith('A_') and '_con_' in j:\n",
    "                        coef_matrix[i,j]=(1/m.x)*coef_matrix[i,j]\n",
    "                        # if 'akg_e_con_' in j:\n",
    "                                # print ('A:'+str(coef_matrix[i,j]))\n",
    "                    if j.startswith('B_') and i.startswith('B_') and '_con_' in j:\n",
    "                        coef_matrix[i,j]=(1/m.y)*coef_matrix[i,j]\n",
    "            return sum(coef_matrix[i,j]*m.reaction[j]  for j in reaction_list if (i,j) in coef_matrix.keys() )==0\n",
    "        Concretemodel.set_new_stoi_matrix = Constraint( metabolite_list,rule=set_new_stoi_matrix)\n",
    "\n",
    "    #Adding the upper and lower bound constraints of reaction flux\n",
    "    if set_bound:\n",
    "        def set_bound(m,j):\n",
    "            return inequality(lb_list[j],m.reaction[j],ub_list[j])\n",
    "        Concretemodel.set_bound = Constraint(reaction_list,rule=set_bound) \n",
    "\n",
    "    #Set the upper bound for substrate input reaction flux\n",
    "    if set_substrate_ini and substrates_bool==False:\n",
    "        def set_substrate_ini(m): \n",
    "            return m.reaction[substrate_name] <= substrate_value\n",
    "        Concretemodel.set_substrate_ini = Constraint(rule=set_substrate_ini)  \n",
    "    \n",
    "     #Set the upper bound for substrate input reaction flux\n",
    "    if set_substrate_ini and substrates_bool==True:\n",
    "        def set_substrates_ini(m,j): \n",
    "            return m.reaction[j]<= substrates[j]\n",
    "        Concretemodel.set_substrates_ini = Constraint(substrates.keys(),rule=set_substrates_ini)  \n",
    "    \n",
    "    if set_biomass_ini:\n",
    "        def set_biomass_ini(m): \n",
    "            return m.reaction[biomass_id] >=biomass_value\n",
    "        Concretemodel.set_biomass_ini = Constraint(rule=set_biomass_ini)  \n",
    "        \n",
    "    #Set the lower bound for biomass synthesis reaction flux\n",
    "    if set_A_biomass_ini:\n",
    "        def set_A_biomass_ini(m): \n",
    "            return m.reaction['A_'+biomass_id] >=biomass_list['A']\n",
    "        Concretemodel.set_A_biomass_ini = Constraint(rule=set_A_biomass_ini)  \n",
    "        \n",
    "    #Set the lower bound for biomass synthesis reaction flux\n",
    "    if set_B_biomass_ini:\n",
    "        def set_B_biomass_ini(m): \n",
    "            return m.reaction['B_'+biomass_id] >=biomass_list['B']\n",
    "        Concretemodel.set_B_biomass_ini = Constraint(rule=set_B_biomass_ini)  \n",
    "    \n",
    "    #Set the lower bound for target synthesis reaction flux\n",
    "    if set_target_ini:\n",
    "        def set_target_ini(m): \n",
    "            return m.reaction[obj_name] ==target_value\n",
    "        Concretemodel.set_target_ini = Constraint(rule=set_target_ini)  \n",
    "\n",
    "    #Adding enzymamic constraints\n",
    "    if set_enzyme_constraint:\n",
    "        def set_enzyme_constraint(m):\n",
    "            return sum( m.reaction[j]/(reaction_kcat_MW.loc[j,'kcat_MW']) for j in reaction_kcat_MW.index if j in reaction_list)<= E_total\n",
    "        Concretemodel.set_enzyme_constraint = Constraint(rule=set_enzyme_constraint)    \n",
    "    \n",
    "    #Adding Part A enzymamic constraints\n",
    "    if set_part_enzyme_constraint:\n",
    "        def set_enzyme_constraint_A(m):\n",
    "            return sum( m.reaction[j]/(reaction_kcat_MW.loc[j,'kcat_MW']) for j in reaction_kcat_MW.index if j in reaction_list_A)<= E_total\n",
    "        Concretemodel.set_enzyme_constraint_A = Constraint(rule=set_enzyme_constraint_A)\n",
    "\n",
    "    #Adding Part B enzymamic constraints\n",
    "    if set_part_enzyme_constraint:\n",
    "        def set_enzyme_constraint_B(m):\n",
    "            return sum( m.reaction[j]/(reaction_kcat_MW.loc[j,'kcat_MW']) for j in reaction_kcat_MW.index if j in reaction_list_B)<= E_total\n",
    "        Concretemodel.set_enzyme_constraint_B = Constraint(rule=set_enzyme_constraint_B)\n",
    "\n",
    "    #Adding pass meta flux constraints\n",
    "    if set_pass_ini:\n",
    "        def set_pass_ini(m,j):\n",
    "            return m.reaction[j] >= set_pass_value[j]\n",
    "        Concretemodel.set_pass_ini = Constraint(set_pass_value.keys(),rule=set_pass_ini)  \n",
    "\n",
    "    return Concretemodel"
   ]
  },
  {
   "cell_type": "code",
   "execution_count": null,
   "metadata": {},
   "outputs": [],
   "source": [
    "def Model_Solve(model,solver):\n",
    "    opt = pyo.SolverFactory(solver)\n",
    "    opt.solve(model)\n",
    "    return model"
   ]
  },
  {
   "cell_type": "code",
   "execution_count": null,
   "metadata": {},
   "outputs": [],
   "source": [
    "Concretemodel_Need_Data['reaction_list']"
   ]
  },
  {
   "cell_type": "code",
   "execution_count": null,
   "metadata": {},
   "outputs": [],
   "source": [
    "Concretemodel_Need_Data['coef_matrix']"
   ]
  },
  {
   "cell_type": "code",
   "execution_count": null,
   "metadata": {},
   "outputs": [],
   "source": [
    "def ECM_FBA(a,x,y,mid_a,mid_b,bio_a,bio_b):\n",
    "    #EcoECM=EcoECM(Concretemodel_Need_Data,'DM_B_C06104','maximize',substrates,E_total)\\\n",
    "    #substrates={'EX_glc__D_e_reverse':10}\n",
    "    substrates={'EX_glc__D_e_reverse':a}\n",
    "    substrate_value=10\n",
    "    substrate_name='EX_glc__D_e_reverse'\n",
    "    E_total=0.227\n",
    "    sub_a='EX_glc__D_e_reverse'\n",
    "    sub_b='EX_xyl__D_e_reverse'\n",
    "    ratio=4\n",
    "    reaction_list_A=deepcopy(Concretemodel_Need_Data['reaction_list_A'])\n",
    "    reaction_list_B=deepcopy(Concretemodel_Need_Data['reaction_list_B'])\n",
    "    reaction_list=deepcopy(Concretemodel_Need_Data['reaction_list'])\n",
    "    metabolite_list=deepcopy(Concretemodel_Need_Data['metabolite_list'])\n",
    "    coef_matrix=deepcopy(Concretemodel_Need_Data['coef_matrix'])\n",
    "    for i in metabolite_list:\n",
    "        for j in reaction_list:\n",
    "                if (i,j) in coef_matrix.keys():\n",
    "                    if j.startswith('A_') and i.startswith('A_') and '_con_' in j:\n",
    "                        coef_matrix[i,j]=(1/x)*coef_matrix[i,j]\n",
    "                        # if 'akg_e_con_' in j:\n",
    "                                # print ('A:'+str(coef_matrix[i,j]))\n",
    "                    if j.startswith('B_') and i.startswith('B_') and '_con_' in j:\n",
    "                        coef_matrix[i,j]=(1/y)*coef_matrix[i,j]\n",
    "                        # if 'akg_e_con_' in j:\n",
    "                #                 print ('B:'+str(coef_matrix[i,j]))\n",
    "                #     print ('ij:'+str(coef_matrix[i,j]))\n",
    "    reaction_kcat_MW=deepcopy(Concretemodel_Need_Data['reaction_kcat_MW'])\n",
    "    lb_list=Concretemodel_Need_Data['lb_list']\n",
    "    ub_list=Concretemodel_Need_Data['ub_list']\n",
    "    if len(substrates.keys())==1:\n",
    "            for i in substrates.keys():\n",
    "                ub_list[i]=substrates[i]\n",
    "                substrate_name=i\n",
    "                substrate_value=substrates[i]\n",
    "            substrates_bool=False\n",
    "    else:\n",
    "            for i in substrates.keys():\n",
    "                    ub_list[i]=substrates[i]\n",
    "            substrate_name=''\n",
    "            substrate_value=0\n",
    "            substrates_bool=True\n",
    "    \n",
    "    obj_name='EX_sakuranetin_e'\n",
    "    obj_target='maximize'\n",
    "    biomass_id='BIOMASS_Ec_iML1515_core_75p37M'\n",
    "    #pass_value={'A_tyr__L_e_con_1':tyr,'B_phpyr_e_con_2_reverse':php}\n",
    "    EcoECM_FBA=Template_Concretemodel2(reaction_list=reaction_list,metabolite_list=metabolite_list,coef_matrix=coef_matrix,\\\n",
    "        reaction_list_A=reaction_list_A,reaction_list_B=reaction_list_B,reaction_kcat_MW=reaction_kcat_MW,lb_list=lb_list,ub_list=ub_list,\\\n",
    "        obj_name=obj_name,obj_target=obj_target,set_obj_value=True,biomass_id=biomass_id,set_substrate_ini=True,substrate_name=substrate_name,\\\n",
    "        substrate_value=substrate_value,substrates=substrates,substrates_bool=substrates_bool,set_stoi_matrix=True,set_bound=True,E_total=E_total,\\\n",
    "        set_enzyme_constraint=False,set_part_enzyme_constraint=True,set_A_biomass_ini=True,set_B_biomass_ini=True,biomass_list={'A':bio_a,'B':bio_b},\\\n",
    "        set_pass_ini=False,set_pass_value=None,set_sub_ratio=False,sub_a=sub_a,sub_b=sub_b,sub_ratio=ratio)\n",
    "    opt_ecm_FBA=Model_Solve(EcoECM_FBA,'gurobi')\n",
    "    #opt_ecm_pFBA.obj()\n",
    "    return opt_ecm_FBA"
   ]
  },
  {
   "cell_type": "code",
   "execution_count": null,
   "metadata": {},
   "outputs": [],
   "source": [
    "def ECM_pFBA(a,x,y,obj,mid_a,mid_b,bio_a,bio_b):\n",
    "    #EcoECM=EcoECM(Concretemodel_Need_Data,'DM_B_C06104','maximize',substrates,E_total)\\\n",
    "    #substrates={'EX_glc__D_e_reverse':10}\n",
    "    substrates={'EX_glc__D_e_reverse':a}\n",
    "    substrate_value=10\n",
    "    substrate_name=''\n",
    "    E_total=0.227\n",
    "    sub_a='EX_glc__D_e_reverse'\n",
    "    sub_b='EX_xyl__D_e_reverse'\n",
    "    ratio=4\n",
    "    reaction_list_A=deepcopy(Concretemodel_Need_Data['reaction_list_A'])\n",
    "    reaction_list_B=deepcopy(Concretemodel_Need_Data['reaction_list_B'])\n",
    "    reaction_list=deepcopy(Concretemodel_Need_Data['reaction_list'])\n",
    "    metabolite_list=deepcopy(Concretemodel_Need_Data['metabolite_list'])\n",
    "    coef_matrix=deepcopy(Concretemodel_Need_Data['coef_matrix'])\n",
    "    for i in metabolite_list:\n",
    "        for j in reaction_list:\n",
    "                if (i,j) in coef_matrix.keys():\n",
    "                    if j.startswith('A_') and i.startswith('A_') and '_con_' in j:\n",
    "                        coef_matrix[i,j]=(1/x)*coef_matrix[i,j]\n",
    "                        # if 'akg_e_con_' in j:\n",
    "                                # print ('A:'+str(coef_matrix[i,j]))\n",
    "                    if j.startswith('B_') and i.startswith('B_') and '_con_' in j:\n",
    "                        coef_matrix[i,j]=(1/y)*coef_matrix[i,j]\n",
    "                        # if 'akg_e_con_' in j:\n",
    "                #                 print ('B:'+str(coef_matrix[i,j]))\n",
    "                #     print ('ij:'+str(coef_matrix[i,j]))\n",
    "    reaction_kcat_MW=deepcopy(Concretemodel_Need_Data['reaction_kcat_MW'])\n",
    "    lb_list=Concretemodel_Need_Data['lb_list']\n",
    "    ub_list=Concretemodel_Need_Data['ub_list']\n",
    "    if len(substrates.keys())==1:\n",
    "            for i in substrates.keys():\n",
    "                ub_list[i]=substrates[i]\n",
    "                substrate_name=i\n",
    "                substrate_value=substrates[i]\n",
    "            substrates_bool=False\n",
    "    else:\n",
    "            for i in substrates.keys():\n",
    "                    ub_list[i]=substrates[i]\n",
    "            substrate_name=''\n",
    "            substrate_value=0\n",
    "            substrates_bool=True\n",
    "    substrates_bool=True\n",
    "    obj_name='EX_sakuranetin_e'\n",
    "    obj_target='maximize'\n",
    "    biomass_id='BIOMASS_Ec_iML1515_core_75p37M'\n",
    "    #pass_value={'A_tyr__L_e_con_1':tyr,'B_phpyr_e_con_2_reverse':php}\n",
    "    EcoECM_pFBA=Template_Concretemodel2(reaction_list=reaction_list,metabolite_list=metabolite_list,coef_matrix=coef_matrix,\\\n",
    "        reaction_list_A=reaction_list_A,reaction_list_B=reaction_list_B,reaction_kcat_MW=reaction_kcat_MW,lb_list=lb_list,ub_list=ub_list,\\\n",
    "        obj_name=obj_name,obj_target=obj_target,set_obj_value=False,set_target_ini=True,set_obj_V_value=True,target_value=obj,\\\n",
    "        biomass_id=biomass_id,set_A_biomass_ini=True,set_B_biomass_ini=True,biomass_list={'A':bio_a,'B':bio_b},set_substrate_ini=True,substrate_name=substrate_name,\\\n",
    "        substrate_value=substrate_value,substrates=substrates,substrates_bool=substrates_bool,set_stoi_matrix=True,set_bound=True,E_total=E_total,\\\n",
    "        set_enzyme_constraint=False,set_part_enzyme_constraint=True,set_pass_ini=False,set_pass_value=None,set_sub_ratio=False,sub_a=sub_a,sub_b=sub_b,sub_ratio=ratio)\n",
    "    opt_ecm_pFBA=Model_Solve(EcoECM_pFBA,'gurobi')\n",
    "    #opt_ecm_pFBA.obj()\n",
    "    return opt_ecm_pFBA"
   ]
  },
  {
   "cell_type": "markdown",
   "metadata": {},
   "source": [
    "## test_new"
   ]
  },
  {
   "cell_type": "code",
   "execution_count": 4,
   "metadata": {},
   "outputs": [],
   "source": [
    "from double_ECM import *"
   ]
  },
  {
   "cell_type": "code",
   "execution_count": 5,
   "metadata": {},
   "outputs": [],
   "source": [
    "model_file=model_ab_json1\n",
    "# model_file=model_ab_json1\n",
    "reaction_kcat_MW_file='./new_idea_SKM_pre_meta/EC/reaction_kcat_MW_skm_origin.csv'\n",
    "Concretemodel_Need_Data=Get_Concretemodel_Need_Data_json(model_file,reaction_kcat_MW_file,'sakuranetin_c')"
   ]
  },
  {
   "cell_type": "code",
   "execution_count": 1253,
   "metadata": {},
   "outputs": [],
   "source": [
    "# Concretemodel_Need_Data['reaction_kcat_MW']=unpdate_kcat_mw(Concretemodel_Need_Data['reaction_list'],Concretemodel_Need_Data['reaction_kcat_MW'],'./new_idea_SKM_pre_meta/EC/reaction_kcat_MW_SKM.csv')"
   ]
  },
  {
   "cell_type": "code",
   "execution_count": 6,
   "metadata": {},
   "outputs": [],
   "source": [
    "list_x=[16,10,4,2,1]\n",
    "list_y=[4,10,16,18,19]"
   ]
  },
  {
   "cell_type": "code",
   "execution_count": 7,
   "metadata": {},
   "outputs": [
    {
     "data": {
      "text/plain": [
       "'./new_idea_SKM_pre_meta/EC/reaction_kcat_MW_skm_origin.csv'"
      ]
     },
     "execution_count": 7,
     "metadata": {},
     "output_type": "execute_result"
    }
   ],
   "source": [
    "reaction_kcat_MW_file"
   ]
  },
  {
   "cell_type": "code",
   "execution_count": 8,
   "metadata": {},
   "outputs": [],
   "source": [
    "Concretemodel_Need_Data['reaction_kcat_MW']=pd.read_csv(reaction_kcat_MW_file,index_col=0)\n",
    "Concretemodel_Need_Data['reaction_kcat_MW']=unpdate_kcat_mw(Concretemodel_Need_Data['reaction_list'],Concretemodel_Need_Data['reaction_kcat_MW'],'./new_idea_SKM_pre_meta/EC/reaction_kcat_MW_SKM.csv')"
   ]
  },
  {
   "cell_type": "code",
   "execution_count": 9,
   "metadata": {},
   "outputs": [],
   "source": [
    "from concurrent.futures import ProcessPoolExecutor, as_completed\n",
    "import datetime\n",
    "from thread import *\n",
    "import sys\n",
    "sys.path.append(r'./')"
   ]
  },
  {
   "cell_type": "code",
   "execution_count": 10,
   "metadata": {},
   "outputs": [
    {
     "name": "stdout",
     "output_type": "stream",
     "text": [
      "0:00:24.100428\n",
      "{<Future at 0x17ac14d3828 state=finished returned float>: 0, <Future at 0x17ac14a7be0 state=finished returned float>: 1, <Future at 0x17ac14a7630 state=finished returned float>: 2, <Future at 0x17ac14a7ac8 state=finished returned float>: 3, <Future at 0x17ac14a77b8 state=finished returned float>: 4}\n"
     ]
    }
   ],
   "source": [
    "if __name__ == \"__main__\":\n",
    "    pool=ProcessPoolExecutor(max_workers=8)\n",
    "    with pool as executor:\n",
    "        start = datetime.datetime.now()\n",
    "        #print(\"pass_2\")\n",
    "        tmp=[]\n",
    "        futures = {executor.submit(fba_max_product,Concretemodel_Need_Data,(list_x[i],list_y[i]),200,0,0,0.5,0.5,'EX_sakuranetin_e'): i for i in range(0,len(list_x))}\n",
    "        # for future in as_completed(futures):\n",
    "        #     tmp.append(future.result())\n",
    "    end = datetime.datetime.now()\n",
    "    print (end - start)\n",
    "    print(futures)"
   ]
  },
  {
   "cell_type": "code",
   "execution_count": 11,
   "metadata": {},
   "outputs": [
    {
     "name": "stdout",
     "output_type": "stream",
     "text": [
      "A:B=10:10\n",
      "0.27725206316118706\n",
      "A:B=1:19\n",
      "0.33318492817602263\n",
      "A:B=2:18\n",
      "0.4856277418175747\n",
      "A:B=4:16\n",
      "0.43580523653096326\n",
      "A:B=16:4\n",
      "0.11216584190793528\n"
     ]
    },
    {
     "data": {
      "text/html": [
       "<div>\n",
       "<style scoped>\n",
       "    .dataframe tbody tr th:only-of-type {\n",
       "        vertical-align: middle;\n",
       "    }\n",
       "\n",
       "    .dataframe tbody tr th {\n",
       "        vertical-align: top;\n",
       "    }\n",
       "\n",
       "    .dataframe thead th {\n",
       "        text-align: right;\n",
       "    }\n",
       "</style>\n",
       "<table border=\"1\" class=\"dataframe\">\n",
       "  <thead>\n",
       "    <tr style=\"text-align: right;\">\n",
       "      <th></th>\n",
       "      <th>flux</th>\n",
       "    </tr>\n",
       "  </thead>\n",
       "  <tbody>\n",
       "    <tr>\n",
       "      <th>16:4</th>\n",
       "      <td>0.112166</td>\n",
       "    </tr>\n",
       "    <tr>\n",
       "      <th>10:10</th>\n",
       "      <td>0.277252</td>\n",
       "    </tr>\n",
       "    <tr>\n",
       "      <th>4:16</th>\n",
       "      <td>0.435805</td>\n",
       "    </tr>\n",
       "    <tr>\n",
       "      <th>2:18</th>\n",
       "      <td>0.485628</td>\n",
       "    </tr>\n",
       "    <tr>\n",
       "      <th>1:19</th>\n",
       "      <td>0.333185</td>\n",
       "    </tr>\n",
       "  </tbody>\n",
       "</table>\n",
       "</div>"
      ],
      "text/plain": [
       "           flux\n",
       "16:4   0.112166\n",
       "10:10  0.277252\n",
       "4:16   0.435805\n",
       "2:18   0.485628\n",
       "1:19   0.333185"
      ]
     },
     "execution_count": 11,
     "metadata": {},
     "output_type": "execute_result"
    }
   ],
   "source": [
    "result_list_mass=pd.DataFrame()\n",
    "for future in as_completed(futures):\n",
    "    x=list_x[futures[future]]\n",
    "    y=list_y[futures[future]]\n",
    "    real=1\n",
    "    real_x=int(x*real)\n",
    "    real_y=int(y*real)\n",
    "    print('A:B='+str(real_x)+':'+str(real_y))\n",
    "    print(future.result())\n",
    "    result_list_mass.at[str(real_x)+':'+str(real_y),'flux']=future.result()\n",
    "result_list=pd.DataFrame()\n",
    "for i in range(0,len(list_x)):\n",
    "    real=1\n",
    "    real_x=int(list_x[i]*real)\n",
    "    real_y=int(list_y[i]*real)\n",
    "    result_list.at[str(real_x)+':'+str(real_y),'flux']=result_list_mass.at[str(real_x)+':'+str(real_y),'flux']\n",
    "result_list"
   ]
  },
  {
   "cell_type": "markdown",
   "metadata": {},
   "source": [
    "## test_new2"
   ]
  },
  {
   "cell_type": "code",
   "execution_count": 12,
   "metadata": {},
   "outputs": [],
   "source": [
    "model_file=model_ab_json2\n",
    "# model_file=model_ab_json1\n",
    "reaction_kcat_MW_file='./new_idea_SKM_pre_meta/EC/reaction_kcat_MW_skm_origin.csv'\n",
    "Concretemodel_Need_Data2=Get_Concretemodel_Need_Data_json(model_file,reaction_kcat_MW_file,'sakuranetin_c')"
   ]
  },
  {
   "cell_type": "code",
   "execution_count": 13,
   "metadata": {},
   "outputs": [],
   "source": [
    "Concretemodel_Need_Data2['reaction_kcat_MW']=pd.read_csv(reaction_kcat_MW_file,index_col=0)\n",
    "Concretemodel_Need_Data2['reaction_kcat_MW']=unpdate_kcat_mw(Concretemodel_Need_Data2['reaction_list'],Concretemodel_Need_Data2['reaction_kcat_MW'],'./new_idea_SKM_pre_meta/EC/reaction_kcat_MW_SKM_tyr.csv')"
   ]
  },
  {
   "cell_type": "code",
   "execution_count": 14,
   "metadata": {},
   "outputs": [
    {
     "name": "stdout",
     "output_type": "stream",
     "text": [
      "0:00:29.173241\n",
      "{<Future at 0x17abe752828 state=finished returned float>: 0, <Future at 0x17ac6d317f0 state=finished returned float>: 1, <Future at 0x17ac6d31908 state=finished returned float>: 2, <Future at 0x17ac6d31a90 state=finished returned float>: 3, <Future at 0x17ac6d286a0 state=finished returned float>: 4}\n"
     ]
    }
   ],
   "source": [
    "if __name__ == \"__main__\":\n",
    "    pool=ProcessPoolExecutor(max_workers=8)\n",
    "    with pool as executor:\n",
    "        start = datetime.datetime.now()\n",
    "        #print(\"pass_2\")\n",
    "        tmp=[]\n",
    "        futures = {executor.submit(fba_max_product,Concretemodel_Need_Data2,(list_x[i],list_y[i]),200,0,0,0.465,0.58,'EX_sakuranetin_e'): i for i in range(0,len(list_x))}\n",
    "        # for future in as_completed(futures):\n",
    "        #     tmp.append(future.result())\n",
    "    end = datetime.datetime.now()\n",
    "    print (end - start)\n",
    "    print(futures)"
   ]
  },
  {
   "cell_type": "code",
   "execution_count": 15,
   "metadata": {},
   "outputs": [
    {
     "name": "stdout",
     "output_type": "stream",
     "text": [
      "A:B=10:10\n",
      "0.25322691100569117\n",
      "A:B=4:16\n",
      "0.4051630576091612\n",
      "A:B=1:19\n",
      "0.47596380050329884\n",
      "A:B=2:18\n",
      "0.4558084398102151\n",
      "A:B=16:4\n",
      "0.10129076440227047\n"
     ]
    },
    {
     "data": {
      "text/html": [
       "<div>\n",
       "<style scoped>\n",
       "    .dataframe tbody tr th:only-of-type {\n",
       "        vertical-align: middle;\n",
       "    }\n",
       "\n",
       "    .dataframe tbody tr th {\n",
       "        vertical-align: top;\n",
       "    }\n",
       "\n",
       "    .dataframe thead th {\n",
       "        text-align: right;\n",
       "    }\n",
       "</style>\n",
       "<table border=\"1\" class=\"dataframe\">\n",
       "  <thead>\n",
       "    <tr style=\"text-align: right;\">\n",
       "      <th></th>\n",
       "      <th>flux</th>\n",
       "    </tr>\n",
       "  </thead>\n",
       "  <tbody>\n",
       "    <tr>\n",
       "      <th>16:4</th>\n",
       "      <td>0.101291</td>\n",
       "    </tr>\n",
       "    <tr>\n",
       "      <th>10:10</th>\n",
       "      <td>0.253227</td>\n",
       "    </tr>\n",
       "    <tr>\n",
       "      <th>4:16</th>\n",
       "      <td>0.405163</td>\n",
       "    </tr>\n",
       "    <tr>\n",
       "      <th>2:18</th>\n",
       "      <td>0.455808</td>\n",
       "    </tr>\n",
       "    <tr>\n",
       "      <th>1:19</th>\n",
       "      <td>0.475964</td>\n",
       "    </tr>\n",
       "  </tbody>\n",
       "</table>\n",
       "</div>"
      ],
      "text/plain": [
       "           flux\n",
       "16:4   0.101291\n",
       "10:10  0.253227\n",
       "4:16   0.405163\n",
       "2:18   0.455808\n",
       "1:19   0.475964"
      ]
     },
     "execution_count": 15,
     "metadata": {},
     "output_type": "execute_result"
    }
   ],
   "source": [
    "result_list_mass=pd.DataFrame()\n",
    "for future in as_completed(futures):\n",
    "    x=list_x[futures[future]]\n",
    "    y=list_y[futures[future]]\n",
    "    real=1\n",
    "    real_x=int(x*real)\n",
    "    real_y=int(y*real)\n",
    "    print('A:B='+str(real_x)+':'+str(real_y))\n",
    "    print(future.result())\n",
    "    result_list_mass.at[str(real_x)+':'+str(real_y),'flux']=future.result()\n",
    "result_list=pd.DataFrame()\n",
    "for i in range(0,len(list_x)):\n",
    "    real=1\n",
    "    real_x=int(list_x[i]*real)\n",
    "    real_y=int(list_y[i]*real)\n",
    "    result_list.at[str(real_x)+':'+str(real_y),'flux']=result_list_mass.at[str(real_x)+':'+str(real_y),'flux']\n",
    "result_list"
   ]
  },
  {
   "cell_type": "markdown",
   "metadata": {},
   "source": [
    "### 酶约束影响"
   ]
  },
  {
   "cell_type": "code",
   "execution_count": null,
   "metadata": {},
   "outputs": [],
   "source": [
    "result_enzyme=pd.DataFrame()\n",
    "for j in range(0,120):\n",
    "    a=ECM_FBA(j,2,18,0,0,0.1,0.1)\n",
    "    print('A:B='+str(list_x[i])+':'+str(list_y[i])+'→glc:'+str(j)+'→obj:')\n",
    "    try:\n",
    "        get_two_float(a.obj(),2)\n",
    "        print(a.obj())\n",
    "        result_enzyme.at[j,'flux']=a.obj()\n",
    "    except:\n",
    "        print(0.0)\n",
    "        result_enzyme.at[j,'flux']=0\n",
    "    "
   ]
  },
  {
   "cell_type": "code",
   "execution_count": null,
   "metadata": {},
   "outputs": [],
   "source": [
    "result_enzyme.to_csv('./new_idea_SKM_pre_meta/result/result_enzyme_diff_glc_2_18.csv')"
   ]
  },
  {
   "cell_type": "code",
   "execution_count": null,
   "metadata": {},
   "outputs": [],
   "source": [
    "# model_file=model_new\n",
    "model_file=model_ab_json2\n",
    "reaction_kcat_MW_file='./new_idea_SKM_pre_meta/EC/reaction_kcat_MW.csv'\n",
    "Concretemodel_Need_Data=Get_Concretemodel_Need_Data_json(model_file,reaction_kcat_MW_file,'sakuranetin_c')\n",
    "Concretemodel_Need_Data['reaction_kcat_MW']=unpdate_kcat_mw(Concretemodel_Need_Data['reaction_list'],Concretemodel_Need_Data['reaction_kcat_MW'],'./new_idea_SKM_pre_meta/EC/reaction_kcat_MW_SKM.csv')"
   ]
  },
  {
   "cell_type": "code",
   "execution_count": null,
   "metadata": {},
   "outputs": [],
   "source": [
    "pass_v=0\n",
    "for i in range(0,5):\n",
    "    a=ECM_FBA(200,list_x[i],list_y[i],0,0,0.1,0.1)\n",
    "    print('A:B='+str(list_x[i])+':'+str(list_y[i])+'→obj:')\n",
    "    print(a.obj())\n",
    "    # a_obj=get_two_float(a.obj(),2)\n",
    "    # b=ECM_pFBA(200,list_x[i],list_y[i],a.obj(),0,0,0.1,0.1)\n",
    "    # print('pFBA')\n",
    "    # print('glc:'+str(b.reaction['EX_glc__D_e_reverse'].value))\n",
    "    # print('glc_A:'+str(b.reaction['A_glc__D_e_con_1_reverse'].value))\n",
    "    # print('glc_B:'+str(b.reaction['B_glc__D_e_con_2'].value))\n",
    "    if pass_v>a.obj():\n",
    "        print('True')\n",
    "    else:\n",
    "        print('False')\n",
    "    pass_v=a.obj()"
   ]
  },
  {
   "cell_type": "code",
   "execution_count": null,
   "metadata": {},
   "outputs": [],
   "source": [
    "a=ECM_FBA(200,0.25,19.75,0,0,0.1,0.1)\n",
    "a.obj()"
   ]
  },
  {
   "cell_type": "code",
   "execution_count": null,
   "metadata": {},
   "outputs": [],
   "source": [
    "model_out=load_json_model(model_ab_json_new)\n",
    "cobra.manipulation.modify.convert_to_irreversible(model_out)\n",
    "isoenzyme_split(model_out)\n",
    "model_pfba_solution_detail=pd.DataFrame()\n",
    "\n",
    "model_pfba_solution_detail.to_csv('./new_idea_SKM_pre_meta/result/result_pfba_enz.csv')"
   ]
  }
 ],
 "metadata": {
  "kernelspec": {
   "display_name": "Python 3.6.5 ('xby')",
   "language": "python",
   "name": "python3"
  },
  "language_info": {
   "codemirror_mode": {
    "name": "ipython",
    "version": 3
   },
   "file_extension": ".py",
   "mimetype": "text/x-python",
   "name": "python",
   "nbconvert_exporter": "python",
   "pygments_lexer": "ipython3",
   "version": "3.6.5"
  },
  "orig_nbformat": 4,
  "vscode": {
   "interpreter": {
    "hash": "678f2c0cb67aa00dbc6da583138b0769cb8531f72b670a012e2187460f06e842"
   }
  }
 },
 "nbformat": 4,
 "nbformat_minor": 2
}
