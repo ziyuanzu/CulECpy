{
 "cells": [
  {
   "cell_type": "code",
   "execution_count": 1,
   "metadata": {},
   "outputs": [],
   "source": [
    "import cobra\n",
    "import re\n",
    "from cobra import Model, Reaction, Metabolite\n",
    "from cobra.flux_analysis import pfba\n",
    "import pandas as pd\n",
    "import numpy as np\n",
    "import xlrd\n",
    "import re\n",
    "import openpyxl\n",
    "import sys\n",
    "sys.path.append(r'./')\n",
    "import os\n",
    "from copy import copy, deepcopy\n",
    "import numpy as np\n",
    "from cobra.io import write_sbml_model,save_json_model\n"
   ]
  },
  {
   "cell_type": "code",
   "execution_count": 2,
   "metadata": {},
   "outputs": [],
   "source": [
    "from CulECpyD import *"
   ]
  },
  {
   "cell_type": "code",
   "execution_count": 3,
   "metadata": {},
   "outputs": [],
   "source": [
    "model_origin_name='./new_idea_SBCF/model/iML1515_new.json'\n",
    "model_new='./new_idea_SBCF/model/iML1515_2KB'\n",
    "model_new2='./new_idea_SBCF/model/iML1515_2MB'"
   ]
  },
  {
   "cell_type": "code",
   "execution_count": 4,
   "metadata": {},
   "outputs": [],
   "source": [
    "model_ab_file='./new_idea_SBCF/model/iML1515_2KB_2MB_SBCF.json'"
   ]
  },
  {
   "cell_type": "markdown",
   "metadata": {},
   "source": [
    "### Reactions storehouse"
   ]
  },
  {
   "cell_type": "code",
   "execution_count": 27,
   "metadata": {},
   "outputs": [],
   "source": [
    "model = cobra.io.load_json_model(model_origin_name)"
   ]
  },
  {
   "cell_type": "code",
   "execution_count": 28,
   "metadata": {},
   "outputs": [],
   "source": [
    "accoa_c=model.metabolites.get_by_id(\"accoa_c\")\n",
    "coa_c=model.metabolites.get_by_id(\"coa_c\")\n",
    "nad_c=model.metabolites.get_by_id(\"nad_c\")\n",
    "nadh_c=model.metabolites.get_by_id(\"nadh_c\")\n",
    "nadp_c=model.metabolites.get_by_id(\"nadp_c\")\n",
    "nadph_c=model.metabolites.get_by_id(\"nadph_c\")\n",
    "h_c=model.metabolites.get_by_id(\"h_c\")\n",
    "h2o_c=model.metabolites.get_by_id(\"h2o_c\")\n",
    "co2_c=model.metabolites.get_by_id(\"co2_c\")\n",
    "akg_c=model.metabolites.get_by_id(\"akg_c\")\n",
    "dxylnt_c=model.metabolites.get_by_id(\"dxylnt_c\")\n",
    "xyl__D_c=model.metabolites.get_by_id(\"xyl__D_c\")\n",
    "ddara_c=model.metabolites.get_by_id(\"2ddara_c\")\n",
    "pyr_c=model.metabolites.get_by_id(\"pyr_c\")\n",
    "obut_c=model.metabolites.get_by_id(\"2obut_c\")\n",
    "ahbut_c=model.metabolites.get_by_id(\"2ahbut_c\")\n",
    "mop_c=model.metabolites.get_by_id('3mop_c')"
   ]
  },
  {
   "cell_type": "code",
   "execution_count": 32,
   "metadata": {},
   "outputs": [],
   "source": [
    "o2_e=model.metabolites.get_by_id('o2_e')"
   ]
  },
  {
   "cell_type": "code",
   "execution_count": 33,
   "metadata": {},
   "outputs": [
    {
     "data": {
      "text/plain": [
       "False"
      ]
     },
     "execution_count": 33,
     "metadata": {},
     "output_type": "execute_result"
    }
   ],
   "source": [
    "o2_e.compartment=='External_Species'"
   ]
  },
  {
   "cell_type": "code",
   "execution_count": 7,
   "metadata": {},
   "outputs": [],
   "source": [
    "mbal_c=Metabolite(\n",
    "    '2mbal_c',\n",
    "    formula='C5H10O',\n",
    "    name='2-Methylbutanal',\n",
    "    compartment='c',\n",
    "    charge=0\n",
    ")\n",
    "mba_c=Metabolite(\n",
    "    '2mba_c',\n",
    "    formula='C5H10O2',\n",
    "    name='2-Methylbutyrate;2-Methylbutyric acid',\n",
    "    compartment='c',\n",
    "    charge=0\n",
    ")\n",
    "mmR_C=Metabolite(\n",
    "    '2mmR_c',\n",
    "    formula='C5H6O5',\n",
    "    name='(R)-2-Methylmalate;(R)-2-Methylmalic acid;(R)-Citramalate;(R)-Citramalic acid;',\n",
    "    compartment='c',\n",
    "    charge=-2\n",
    ")\n",
    "cita_c=Metabolite(\n",
    "    'citc_c',\n",
    "    formula='C5H4O4',\n",
    "    name='(R)-2-methylmalate dehydratase;citraconate hydratase;citraconase;',\n",
    "    compartment='c',\n",
    "    charge=-2\n",
    ")\n",
    "mmRS_c=Metabolite(\n",
    "    '3mmRS_c',\n",
    "    formula='C5H6O5',\n",
    "    name='(2R,3S)-3-methylmalate',\n",
    "    compartment='c',\n",
    "    charge=-2\n",
    ")\n",
    "#EC2.3.3.21\n",
    "CimA=Reaction(\"CimA\")\n",
    "CimA.name=\"(R)-citramalate synthase\"\n",
    "CimA.subsystem='unknow'\n",
    "CimA.lower_bound=0\n",
    "CimA.upper_bound=1000\n",
    "CimA.add_metabolites({\n",
    "    accoa_c:-1.0,\n",
    "    pyr_c:-1.0,\n",
    "    h2o_c:-1.0,\n",
    "    mmR_C:1.0,\n",
    "    coa_c:1.0,\n",
    "    h_c:1.0\n",
    "})\n",
    "LeuCD_1=Reaction(\"LeuCD_1\")\n",
    "LeuCD_1.name=\"isopropylmalate isomerase1\"\n",
    "LeuCD_1.subsystem='unknow'\n",
    "LeuCD_1.lower_bound=-1000\n",
    "LeuCD_1.upper_bound=1000\n",
    "LeuCD_1.add_metabolites({\n",
    "    mmR_C:-1.0,\n",
    "    cita_c:1.0,\n",
    "    h2o_c:1.0\n",
    "})\n",
    "LeuCD_2=Reaction(\"LeuCD_2\")\n",
    "LeuCD_2.name=\"isopropylmalate isomerase2\"\n",
    "LeuCD_2.subsystem='unknow'\n",
    "LeuCD_2.lower_bound=0\n",
    "LeuCD_2.upper_bound=1000\n",
    "LeuCD_2.add_metabolites({\n",
    "    cita_c:-1.0,\n",
    "    h2o_c:-1.0,\n",
    "    mmRS_c:1.0\n",
    "})\n",
    "#1.1.1.85\n",
    "LeuB=Reaction(\"LeuB\")\n",
    "LeuB.name=\"β-isopropylmalate dehydrogenase\"\n",
    "LeuB.subsystem='unknow'\n",
    "LeuB.lower_bound=0\n",
    "LeuB.upper_bound=1000\n",
    "LeuB.add_metabolites({\n",
    "    nad_c:-1.0,\n",
    "    mmRS_c:-1.0,\n",
    "    obut_c:1.0,\n",
    "    nadh_c:1.0,\n",
    "    co2_c:1.0\n",
    "})\n",
    "model.reactions.get_by_id('ACHBS')#ilv IH\n",
    "model.metabolites.get_by_id('2ahbut_c')\n",
    "model.reactions.get_by_id('KARA2')#ilv C\n",
    "model.metabolites.get_by_id('23dhmp_c')\n",
    "model.reactions.get_by_id('DHAD2')#DHAD2 ilv D\n",
    "#EC 4.1.1.72\n",
    "kivD=Reaction('kivD')\n",
    "kivD.name=\"branched-chain-2-oxoacid decarboxylase\"\n",
    "kivD.subsystem='unknow'\n",
    "kivD.lower_bound=0\n",
    "kivD.upper_bound=1000\n",
    "kivD.add_metabolites({\n",
    "    mop_c:-1.0,\n",
    "    h_c:-1.0,\n",
    "    mbal_c:1.0,\n",
    "    co2_c:1.0\n",
    "})\n",
    "#EC 1.2.1.3\n",
    "ALD2=Reaction('ALD2')\n",
    "ALD2.name=\"aldehyde dehydrogenase2/5\"\n",
    "ALD2.subsystem='unknow'\n",
    "ALD2.lower_bound=0\n",
    "ALD2.upper_bound=1000\n",
    "ALD2.add_metabolites({\n",
    "    mbal_c:-1.0,\n",
    "    nad_c:-1.0,\n",
    "    h2o_c:-1.0,\n",
    "    mba_c:1.0,\n",
    "    nadh_c:1.0,\n",
    "    h_c:1.0\n",
    "})\n",
    "#\n",
    "ALD5=Reaction('ALD5')\n",
    "ALD5.name=\"aldehyde dehydrogenase2/5\"\n",
    "ALD5.subsystem='unknow'\n",
    "ALD5.lower_bound=0\n",
    "ALD5.upper_bound=1000\n",
    "ALD5.add_metabolites({\n",
    "    mbal_c:-1.0,\n",
    "    nadp_c:-1.0,\n",
    "    h2o_c:-1.0,\n",
    "    mba_c:1.0,\n",
    "    nadph_c:1.0,\n",
    "    h_c:1.0\n",
    "})\n",
    "# R4_3=Reaction('ADH2')\n",
    "# R4_3.name=\"ADH2\"\n",
    "# R4_3.subsystem='unknow'\n",
    "# R4_3.lower_bound=0\n",
    "# R4_3.upper_bound=1000\n",
    "# R4_3.add_metabolites({\n",
    "#     mbal:-1.0,\n",
    "#     mbtoh:1.0,\n",
    "#     nadh_c:-1.0,\n",
    "#     h_c:-1.0,\n",
    "#     nad_c:1.0\n",
    "# })"
   ]
  },
  {
   "cell_type": "markdown",
   "metadata": {},
   "source": [
    "### Model Correction Function"
   ]
  },
  {
   "cell_type": "code",
   "execution_count": 8,
   "metadata": {},
   "outputs": [],
   "source": [
    "exogenous=[CimA,LeuCD_1,LeuCD_2,LeuB,kivD,ALD2,ALD5]"
   ]
  },
  {
   "cell_type": "code",
   "execution_count": 9,
   "metadata": {},
   "outputs": [
    {
     "name": "stdout",
     "output_type": "stream",
     "text": [
      "3mop_c\n",
      "['accoa_c', 'h2o_c', 'pyr_c']\n",
      "['2mmR_c']\n",
      "['citc_c', 'h2o_c']\n",
      "['3mmRS_c', 'nad_c']\n",
      "['3mop_c', 'h_c']\n",
      "['2mbal_c', 'h2o_c', 'nad_c']\n",
      "['2mbal_c', 'h2o_c', 'nadp_c']\n",
      "([<Reaction CimA at 0x1af7f314ac8>, <Reaction LeuCD_1 at 0x1af7f314d68>, <Reaction LeuCD_2 at 0x1af7f314ef0>, <Reaction LeuB at 0x1af7f326710>], [<Reaction kivD at 0x1af7f326b70>, <Reaction ALD2 at 0x1af7f32c9e8>, <Reaction ALD5 at 0x1af7f3355c0>])\n"
     ]
    }
   ],
   "source": [
    "get_new_system(model_origin_name,exogenous,model_new,model_new2,mop_c.id,mba_c.id)"
   ]
  },
  {
   "cell_type": "code",
   "execution_count": 10,
   "metadata": {},
   "outputs": [],
   "source": [
    "model_2KB=load_json_model(model_new+'.json')\n",
    "model_2MB=load_json_model(model_new2+'.json')\n",
    "model_2KB=add_new_ex(model_2KB,obut_c.id)\n",
    "model_2MB=add_new_ex(model_2MB,obut_c.id)\n",
    "save_json_model(model_2KB,model_new+'.json')\n",
    "save_json_model(model_2MB,model_new2+'.json')"
   ]
  },
  {
   "cell_type": "code",
   "execution_count": 11,
   "metadata": {},
   "outputs": [
    {
     "data": {
      "text/html": [
       "\n",
       "        <table>\n",
       "            <tr>\n",
       "                <td><strong>Reaction identifier</strong></td><td>EX_2obut_e</td>\n",
       "            </tr><tr>\n",
       "                <td><strong>Name</strong></td><td>2obut exchange</td>\n",
       "            </tr><tr>\n",
       "                <td><strong>Memory address</strong></td>\n",
       "                <td>0x01af0b221d68</td>\n",
       "            </tr><tr>\n",
       "                <td><strong>Stoichiometry</strong></td>\n",
       "                <td>\n",
       "                    <p style='text-align:right'>2obut_e --> </p>\n",
       "                    <p style='text-align:right'>2-Oxobutanoate --> </p>\n",
       "                </td>\n",
       "            </tr><tr>\n",
       "                <td><strong>GPR</strong></td><td></td>\n",
       "            </tr><tr>\n",
       "                <td><strong>Lower bound</strong></td><td>0</td>\n",
       "            </tr><tr>\n",
       "                <td><strong>Upper bound</strong></td><td>1000</td>\n",
       "            </tr>\n",
       "        </table>\n",
       "        "
      ],
      "text/plain": [
       "<Reaction EX_2obut_e at 0x1af0b221d68>"
      ]
     },
     "execution_count": 11,
     "metadata": {},
     "output_type": "execute_result"
    }
   ],
   "source": [
    "model_2MB.reactions.get_by_id('EX_2obut_e')"
   ]
  },
  {
   "cell_type": "code",
   "execution_count": 12,
   "metadata": {},
   "outputs": [
    {
     "name": "stdout",
     "output_type": "stream",
     "text": [
      "--------A  model----------\n",
      "2721\n",
      "1882\n",
      "1516\n",
      "--------B  model----------\n",
      "2722\n",
      "1882\n",
      "1516\n",
      "A_pi_e_con_1\n",
      "A_h_e_con_1\n",
      "A_fe3_e_con_1\n",
      "A_mn2_e_con_1\n",
      "A_co2_e_con_1\n",
      "A_fe2_e_con_1\n",
      "A_glc__D_e_con_1\n",
      "A_zn2_e_con_1\n",
      "A_mg2_e_con_1\n",
      "A_ca2_e_con_1\n",
      "A_ni2_e_con_1\n",
      "A_cu2_e_con_1\n",
      "A_cobalt2_e_con_1\n",
      "A_sel_e_con_1\n",
      "A_h2o_e_con_1\n",
      "A_nh4_e_con_1\n",
      "A_mobd_e_con_1\n",
      "A_so4_e_con_1\n",
      "A_k_e_con_1\n",
      "A_na1_e_con_1\n",
      "A_o2_e_con_1\n",
      "A_cl_e_con_1\n",
      "A_tungs_e_con_1\n",
      "A_slnt_e_con_1\n"
     ]
    }
   ],
   "source": [
    "get_new_AB_model(model_origin_name,model_new,model_new2,cut_compartment(mop_c.id,'_c'),EX_product(mba_c.id),model_ab_file)"
   ]
  },
  {
   "cell_type": "code",
   "execution_count": 13,
   "metadata": {},
   "outputs": [],
   "source": [
    "model_2KB_2MB=load_json_model(model_ab_file)"
   ]
  },
  {
   "cell_type": "code",
   "execution_count": 14,
   "metadata": {},
   "outputs": [],
   "source": [
    "model_2KB_2MB.reactions.get_by_id('A_2obut_e_con_1').bounds=(-1000,1000)"
   ]
  },
  {
   "cell_type": "code",
   "execution_count": 15,
   "metadata": {},
   "outputs": [],
   "source": [
    "model_2KB_2MB.reactions.get_by_id('B_2obut_e_con_2').bounds=(-1000,1000)"
   ]
  },
  {
   "cell_type": "code",
   "execution_count": 16,
   "metadata": {},
   "outputs": [],
   "source": [
    "save_json_model(model_2KB_2MB,model_ab_file)"
   ]
  },
  {
   "cell_type": "markdown",
   "metadata": {},
   "source": [
    "### model_AB optimize FBA TEST"
   ]
  },
  {
   "cell_type": "code",
   "execution_count": 17,
   "metadata": {},
   "outputs": [],
   "source": [
    "model_2KB_2MB.objective=model_2KB_2MB.reactions.B_EX_2mba_e"
   ]
  },
  {
   "cell_type": "code",
   "execution_count": 18,
   "metadata": {},
   "outputs": [
    {
     "data": {
      "text/html": [
       "\n",
       "        <table>\n",
       "            <tr>\n",
       "                <td><strong>Name</strong></td>\n",
       "                <td>iML1515</td>\n",
       "            </tr><tr>\n",
       "                <td><strong>Memory address</strong></td>\n",
       "                <td>0x01af0cae05c0</td>\n",
       "            </tr><tr>\n",
       "                <td><strong>Number of metabolites</strong></td>\n",
       "                <td>4108</td>\n",
       "            </tr><tr>\n",
       "                <td><strong>Number of reactions</strong></td>\n",
       "                <td>6155</td>\n",
       "            </tr><tr>\n",
       "                <td><strong>Objective expression</strong></td>\n",
       "                <td>1.0*B_EX_2mba_e - 1.0*B_EX_2mba_e_reverse_07494</td>\n",
       "            </tr><tr>\n",
       "                <td><strong>Compartments</strong></td>\n",
       "                <td>cytosol, extracellular space, periplasm</td>\n",
       "            </tr>\n",
       "          </table>"
      ],
      "text/plain": [
       "<Model iML1515 at 0x1af0cae05c0>"
      ]
     },
     "execution_count": 18,
     "metadata": {},
     "output_type": "execute_result"
    }
   ],
   "source": [
    "model_2KB_2MB"
   ]
  },
  {
   "cell_type": "code",
   "execution_count": 19,
   "metadata": {},
   "outputs": [
    {
     "name": "stdout",
     "output_type": "stream",
     "text": [
      "IN FLUXES            OUT FLUXES       OBJECTIVES\n",
      "-------------------  ---------------  -----------------\n",
      "glc__D_e  10         h2o_e     24     B_EX_2mba_e  6.62\n",
      "o2_e       8.35      co2_e     18.7\n",
      "nh4_e      2.16      B_2mba_e   6.62\n",
      "pi_e       0.193     h_e        1.84\n",
      "so4_e      0.0504\n",
      "k_e        0.039\n",
      "fe2_e      0.00321\n",
      "mg2_e      0.00174\n",
      "ca2_e      0.00104\n",
      "cl_e       0.00104\n",
      "cu2_e      0.000142\n",
      "mn2_e      0.000138\n",
      "zn2_e      6.82e-05\n",
      "ni2_e      6.46e-05\n"
     ]
    }
   ],
   "source": [
    "model_2KB_2MB.optimize()\n",
    "model_2KB_2MB.summary()"
   ]
  },
  {
   "cell_type": "markdown",
   "metadata": {},
   "source": [
    "### models To math"
   ]
  },
  {
   "cell_type": "code",
   "execution_count": 6,
   "metadata": {},
   "outputs": [
    {
     "data": {
      "text/plain": [
       "'./new_idea_SBCF/model/iML1515_2KB_2MB_SBCF.json'"
      ]
     },
     "execution_count": 6,
     "metadata": {},
     "output_type": "execute_result"
    }
   ],
   "source": [
    "model_ab_file"
   ]
  },
  {
   "cell_type": "code",
   "execution_count": 7,
   "metadata": {},
   "outputs": [],
   "source": [
    "# model_file=model_new\n",
    "model_file=model_ab_file\n",
    "reaction_kcat_MW_file='./new_idea_SBCF/EC/reaction_kcat_MW_SBCF_origin.csv'\n",
    "Concretemodel_Need_Data=Get_Concretemodel_Need_Data_json(model_file,reaction_kcat_MW_file,'2mba_c')#mba_c.id=2mba_c"
   ]
  },
  {
   "cell_type": "code",
   "execution_count": 8,
   "metadata": {},
   "outputs": [],
   "source": [
    "Concretemodel_Need_Data['reaction_kcat_MW']=unpdate_kcat_mw(Concretemodel_Need_Data['reaction_list'],Concretemodel_Need_Data['reaction_kcat_MW'],'./new_idea_SBCF/EC/reaction_kcat_MW_SBCF_new.csv')"
   ]
  },
  {
   "cell_type": "markdown",
   "metadata": {},
   "source": [
    "### analysis"
   ]
  },
  {
   "cell_type": "code",
   "execution_count": 5,
   "metadata": {},
   "outputs": [],
   "source": [
    "from concurrent.futures import ProcessPoolExecutor, as_completed\n",
    "import datetime\n",
    "from thread import *\n",
    "import sys\n",
    "sys.path.append(r'./')"
   ]
  },
  {
   "cell_type": "code",
   "execution_count": 9,
   "metadata": {},
   "outputs": [],
   "source": [
    "list_x=[9,6,3,1,1,1,1]\n",
    "list_y=[1,1,1,1,3,6,9]\n",
    "for i in range(0,len(list_x)):\n",
    "    num=list_x[i]+list_y[i]\n",
    "    list_x[i]=list_x[i]/num\n",
    "    list_y[i]=list_y[i]/num"
   ]
  },
  {
   "cell_type": "code",
   "execution_count": 10,
   "metadata": {},
   "outputs": [],
   "source": [
    "Concretemodel_Need_Data['reaction_kcat_MW']=pd.read_csv(reaction_kcat_MW_file,index_col=0)\n",
    "Concretemodel_Need_Data['reaction_kcat_MW']=unpdate_kcat_mw(Concretemodel_Need_Data['reaction_list'],Concretemodel_Need_Data['reaction_kcat_MW'],'./new_idea_SBCF/EC/reaction_kcat_MW_SBCF_new.csv')"
   ]
  },
  {
   "cell_type": "code",
   "execution_count": 17,
   "metadata": {},
   "outputs": [
    {
     "name": "stdout",
     "output_type": "stream",
     "text": [
      "0:00:35.402579\n",
      "{<Future at 0x167da3ce518 state=finished returned float>: 0, <Future at 0x167da3ce7f0 state=finished returned float>: 1, <Future at 0x167da3ceb38 state=finished returned float>: 2, <Future at 0x167d74435f8 state=finished returned float>: 3, <Future at 0x167d74434a8 state=finished returned float>: 4, <Future at 0x167d74436a0 state=finished returned float>: 5, <Future at 0x167804d54a8 state=finished returned float>: 6}\n"
     ]
    }
   ],
   "source": [
    "if __name__ == \"__main__\":\n",
    "    pool=ProcessPoolExecutor(max_workers=8)\n",
    "    with pool as executor:\n",
    "        start = datetime.datetime.now()\n",
    "        #print(\"pass_2\")\n",
    "        tmp=[]\n",
    "        futures = {executor.submit(fba_max_product,Concretemodel_Need_Data,(list_x[i],list_y[i]),10,0,0,0.1,0.1,'EX_2mba_e'): i for i in range(0,len(list_x))}\n",
    "        # for future in as_completed(futures):\n",
    "        #     tmp.append(future.result())\n",
    "    end = datetime.datetime.now()\n",
    "    print (end - start)\n",
    "    print(futures)"
   ]
  },
  {
   "cell_type": "code",
   "execution_count": 27,
   "metadata": {},
   "outputs": [
    {
     "name": "stdout",
     "output_type": "stream",
     "text": [
      "A:B=0.8571428571428571:0.14285714285714285\n",
      "1.7467357614298213\n",
      "A:B=0.9:0.1\n",
      "1.7397080536520622\n",
      "A:B=0.5:0.5\n",
      "1.7451702048134201\n",
      "A:B=0.1:0.9\n",
      "1.6422430889693178\n",
      "A:B=0.75:0.25\n",
      "1.7520205024138222\n",
      "A:B=0.14285714285714285:0.8571428571428571\n",
      "1.6790737538160014\n",
      "A:B=0.25:0.75\n",
      "1.703276215870151\n"
     ]
    },
    {
     "data": {
      "text/html": [
       "<div>\n",
       "<style scoped>\n",
       "    .dataframe tbody tr th:only-of-type {\n",
       "        vertical-align: middle;\n",
       "    }\n",
       "\n",
       "    .dataframe tbody tr th {\n",
       "        vertical-align: top;\n",
       "    }\n",
       "\n",
       "    .dataframe thead th {\n",
       "        text-align: right;\n",
       "    }\n",
       "</style>\n",
       "<table border=\"1\" class=\"dataframe\">\n",
       "  <thead>\n",
       "    <tr style=\"text-align: right;\">\n",
       "      <th></th>\n",
       "      <th>flux</th>\n",
       "    </tr>\n",
       "  </thead>\n",
       "  <tbody>\n",
       "    <tr>\n",
       "      <th>0.9:0.1</th>\n",
       "      <td>1.739708</td>\n",
       "    </tr>\n",
       "    <tr>\n",
       "      <th>0.8571428571428571:0.14285714285714285</th>\n",
       "      <td>1.746736</td>\n",
       "    </tr>\n",
       "    <tr>\n",
       "      <th>0.75:0.25</th>\n",
       "      <td>1.752021</td>\n",
       "    </tr>\n",
       "    <tr>\n",
       "      <th>0.5:0.5</th>\n",
       "      <td>1.745170</td>\n",
       "    </tr>\n",
       "    <tr>\n",
       "      <th>0.25:0.75</th>\n",
       "      <td>1.703276</td>\n",
       "    </tr>\n",
       "    <tr>\n",
       "      <th>0.14285714285714285:0.8571428571428571</th>\n",
       "      <td>1.679074</td>\n",
       "    </tr>\n",
       "    <tr>\n",
       "      <th>0.1:0.9</th>\n",
       "      <td>1.642243</td>\n",
       "    </tr>\n",
       "  </tbody>\n",
       "</table>\n",
       "</div>"
      ],
      "text/plain": [
       "                                            flux\n",
       "0.9:0.1                                 1.739708\n",
       "0.8571428571428571:0.14285714285714285  1.746736\n",
       "0.75:0.25                               1.752021\n",
       "0.5:0.5                                 1.745170\n",
       "0.25:0.75                               1.703276\n",
       "0.14285714285714285:0.8571428571428571  1.679074\n",
       "0.1:0.9                                 1.642243"
      ]
     },
     "execution_count": 27,
     "metadata": {},
     "output_type": "execute_result"
    }
   ],
   "source": [
    "result_list_mass=pd.DataFrame()\n",
    "for future in as_completed(futures):\n",
    "    x=list_x[futures[future]]\n",
    "    y=list_y[futures[future]]\n",
    "    real=1\n",
    "    real_x=(x*real)\n",
    "    real_y=(y*real)\n",
    "    print('A:B='+str(real_x)+':'+str(real_y))\n",
    "    print(future.result())\n",
    "    result_list_mass.at[str(real_x)+':'+str(real_y),'flux']=future.result()\n",
    "result_list=pd.DataFrame()\n",
    "for i in range(0,len(list_x)):\n",
    "    real=1\n",
    "    real_x=(list_x[i]*real)\n",
    "    real_y=(list_y[i]*real)\n",
    "    result_list.at[str(real_x)+':'+str(real_y),'flux']=result_list_mass.at[str(real_x)+':'+str(real_y),'flux']\n",
    "result_list"
   ]
  },
  {
   "cell_type": "code",
   "execution_count": 28,
   "metadata": {},
   "outputs": [],
   "source": [
    "list_x_int=[9,6,3,1,1,1,1]\n",
    "list_y_int=[1,1,1,1,3,6,9]"
   ]
  },
  {
   "cell_type": "code",
   "execution_count": 29,
   "metadata": {},
   "outputs": [
    {
     "name": "stdout",
     "output_type": "stream",
     "text": [
      "9:1=1.7397080536520622\n",
      "6:1=1.7467357614298213\n",
      "3:1=1.7520205024138222\n",
      "1:1=1.7451702048134201\n",
      "1:3=1.703276215870151\n",
      "1:6=1.6790737538160014\n",
      "1:9=1.6422430889693178\n"
     ]
    }
   ],
   "source": [
    "for i in range(0,len(list_x)):\n",
    "    # print(list_x[i])\n",
    "    # print(list_y[i])\n",
    "    print(str(round(list_x[i]*(list_x_int[i]+list_y_int[i])))+':'+str(round(list_y[i]*(list_x_int[i]+list_y_int[i])))+'='+str(result_list.at[str(list_x[i])+':'+str(list_y[i]),'flux']))"
   ]
  },
  {
   "cell_type": "code",
   "execution_count": 30,
   "metadata": {},
   "outputs": [],
   "source": [
    "result_file='./new_idea_SBCF/result/pfba_detail_'"
   ]
  },
  {
   "cell_type": "code",
   "execution_count": 31,
   "metadata": {},
   "outputs": [
    {
     "name": "stdout",
     "output_type": "stream",
     "text": [
      "0:01:43.478946\n",
      "{<Future at 0x1af13e9e668 state=finished returned DataFrame>: 0, <Future at 0x1af1500bf28 state=finished returned DataFrame>: 1, <Future at 0x1af1500b940 state=finished returned DataFrame>: 2, <Future at 0x1af1500be48 state=finished returned DataFrame>: 3, <Future at 0x1af10c55da0 state=finished returned DataFrame>: 4, <Future at 0x1af10bff748 state=finished returned DataFrame>: 5, <Future at 0x1af10c5e1d0 state=finished returned DataFrame>: 6}\n"
     ]
    }
   ],
   "source": [
    "if __name__ == \"__main__\":\n",
    "    pool=ProcessPoolExecutor(max_workers=8)\n",
    "    with pool as executor:\n",
    "        start = datetime.datetime.now()\n",
    "        #print(\"pass_2\")\n",
    "        tmp=[]\n",
    "        futures = {executor.submit(pfba_max_product,Concretemodel_Need_Data,model_file,(list_x[i],list_y[i],result_list.at[str(list_x[i])+':'+str(list_y[i]),'flux'],result_file+str(i)+'.csv'),10,0,0,0.1,0.1,'EX_2mba_e'): i for i in range(0,len(list_x))}\n",
    "        # for future in as_completed(futures):\n",
    "        #     tmp.append(future.result())\n",
    "    end = datetime.datetime.now()\n",
    "    print (end - start)\n",
    "    print(futures)"
   ]
  },
  {
   "cell_type": "markdown",
   "metadata": {},
   "source": [
    "##### 过表达下游ilvIH"
   ]
  },
  {
   "cell_type": "code",
   "execution_count": 446,
   "metadata": {},
   "outputs": [],
   "source": [
    "reaction_kcat_MW_file='./new_idea_SBCF/EC/reaction_kcat_MW_SBCF_change_origin.csv'"
   ]
  },
  {
   "cell_type": "code",
   "execution_count": 447,
   "metadata": {},
   "outputs": [],
   "source": [
    "Concretemodel_Need_Data['reaction_kcat_MW']=pd.read_csv(reaction_kcat_MW_file,index_col=0)\n",
    "Concretemodel_Need_Data['reaction_kcat_MW']=unpdate_kcat_mw(Concretemodel_Need_Data['reaction_list'],Concretemodel_Need_Data['reaction_kcat_MW'],'./new_idea_SBCF/EC/reaction_kcat_MW_SBCF_new_over.csv')"
   ]
  },
  {
   "cell_type": "markdown",
   "metadata": {},
   "source": [
    "##### origin_kcat kcat*2"
   ]
  },
  {
   "cell_type": "code",
   "execution_count": 448,
   "metadata": {},
   "outputs": [
    {
     "data": {
      "text/plain": [
       "784.1083024000001"
      ]
     },
     "execution_count": 448,
     "metadata": {},
     "output_type": "execute_result"
    }
   ],
   "source": [
    "Concretemodel_Need_Data['reaction_kcat_MW'].at['A_PDH','kcat_MW']"
   ]
  },
  {
   "cell_type": "code",
   "execution_count": 449,
   "metadata": {},
   "outputs": [],
   "source": [
    "# Concretemodel_Need_Data['reaction_kcat_MW'].at['A_CimA','kcat_MW']"
   ]
  },
  {
   "cell_type": "code",
   "execution_count": 450,
   "metadata": {},
   "outputs": [
    {
     "data": {
      "text/plain": [
       "4.686812924"
      ]
     },
     "execution_count": 450,
     "metadata": {},
     "output_type": "execute_result"
    }
   ],
   "source": [
    "Concretemodel_Need_Data['reaction_kcat_MW'].at['A_ACHBS_num1','kcat_MW']"
   ]
  },
  {
   "cell_type": "code",
   "execution_count": 451,
   "metadata": {},
   "outputs": [
    {
     "data": {
      "text/plain": [
       "4.1417959710000005"
      ]
     },
     "execution_count": 451,
     "metadata": {},
     "output_type": "execute_result"
    }
   ],
   "source": [
    "Concretemodel_Need_Data['reaction_kcat_MW'].at['A_ACHBS_num2','kcat_MW']"
   ]
  },
  {
   "cell_type": "code",
   "execution_count": 452,
   "metadata": {},
   "outputs": [
    {
     "data": {
      "text/plain": [
       "4.686812924"
      ]
     },
     "execution_count": 452,
     "metadata": {},
     "output_type": "execute_result"
    }
   ],
   "source": [
    "Concretemodel_Need_Data['reaction_kcat_MW'].at['B_ACHBS_num1','kcat_MW']"
   ]
  },
  {
   "cell_type": "code",
   "execution_count": 453,
   "metadata": {},
   "outputs": [
    {
     "data": {
      "text/plain": [
       "4.1417959710000005"
      ]
     },
     "execution_count": 453,
     "metadata": {},
     "output_type": "execute_result"
    }
   ],
   "source": [
    "Concretemodel_Need_Data['reaction_kcat_MW'].at['B_ACHBS_num2','kcat_MW']"
   ]
  },
  {
   "cell_type": "code",
   "execution_count": 454,
   "metadata": {},
   "outputs": [],
   "source": [
    "Concretemodel_Need_Data['reaction_kcat_MW'].at['A_ACHBS_num1','kcat_MW']=Concretemodel_Need_Data['reaction_kcat_MW'].at['A_ACHBS_num1','kcat_MW']*4\n",
    "Concretemodel_Need_Data['reaction_kcat_MW'].at['A_ACHBS_num2','kcat_MW']=Concretemodel_Need_Data['reaction_kcat_MW'].at['A_ACHBS_num2','kcat_MW']*4\n",
    "Concretemodel_Need_Data['reaction_kcat_MW'].at['B_ACHBS_num1','kcat_MW']=Concretemodel_Need_Data['reaction_kcat_MW'].at['B_ACHBS_num1','kcat_MW']*2\n",
    "Concretemodel_Need_Data['reaction_kcat_MW'].at['B_ACHBS_num2','kcat_MW']=Concretemodel_Need_Data['reaction_kcat_MW'].at['B_ACHBS_num2','kcat_MW']*2"
   ]
  },
  {
   "cell_type": "code",
   "execution_count": 455,
   "metadata": {},
   "outputs": [],
   "source": [
    "# Concretemodel_Need_Data['reaction_kcat_MW'].at['A_ACHBS_num1','kcat_MW']=Concretemodel_Need_Data['reaction_kcat_MW'].at['A_ACHBS_num1','kcat_MW']*0.9\n",
    "# Concretemodel_Need_Data['reaction_kcat_MW'].at['A_ACHBS_num2','kcat_MW']=Concretemodel_Need_Data['reaction_kcat_MW'].at['A_ACHBS_num2','kcat_MW']*0.9\n",
    "# Concretemodel_Need_Data['reaction_kcat_MW'].at['B_ACHBS_num1','kcat_MW']=Concretemodel_Need_Data['reaction_kcat_MW'].at['B_ACHBS_num1','kcat_MW']*0.05\n",
    "# Concretemodel_Need_Data['reaction_kcat_MW'].at['B_ACHBS_num2','kcat_MW']=Concretemodel_Need_Data['reaction_kcat_MW'].at['B_ACHBS_num2','kcat_MW']*0.05"
   ]
  },
  {
   "cell_type": "code",
   "execution_count": 456,
   "metadata": {},
   "outputs": [],
   "source": [
    "# Concretemodel_Need_Data['reaction_kcat_MW'].at['A_ACLS_num1','kcat_MW']=1685.462085*2\n",
    "# Concretemodel_Need_Data['reaction_kcat_MW'].at['A_ACLS_num2','kcat_MW']=1685.462085*2\n",
    "# Concretemodel_Need_Data['reaction_kcat_MW'].at['B_ACLS_num1','kcat_MW']=1685.462085*2\n",
    "# Concretemodel_Need_Data['reaction_kcat_MW'].at['B_ACLS_num2','kcat_MW']=1685.462085*2"
   ]
  },
  {
   "cell_type": "code",
   "execution_count": 457,
   "metadata": {},
   "outputs": [
    {
     "data": {
      "text/plain": [
       "9.373625848"
      ]
     },
     "execution_count": 457,
     "metadata": {},
     "output_type": "execute_result"
    }
   ],
   "source": [
    "Concretemodel_Need_Data['reaction_kcat_MW'].at['B_ACHBS_num1','kcat_MW']"
   ]
  },
  {
   "cell_type": "code",
   "execution_count": 458,
   "metadata": {},
   "outputs": [
    {
     "data": {
      "text/plain": [
       "8.283591942000001"
      ]
     },
     "execution_count": 458,
     "metadata": {},
     "output_type": "execute_result"
    }
   ],
   "source": [
    "Concretemodel_Need_Data['reaction_kcat_MW'].at['B_ACHBS_num2','kcat_MW']"
   ]
  },
  {
   "cell_type": "code",
   "execution_count": 459,
   "metadata": {},
   "outputs": [
    {
     "data": {
      "text/plain": [
       "16.567183884000002"
      ]
     },
     "execution_count": 459,
     "metadata": {},
     "output_type": "execute_result"
    }
   ],
   "source": [
    "Concretemodel_Need_Data['reaction_kcat_MW'].at['A_ACHBS_num2','kcat_MW']"
   ]
  },
  {
   "cell_type": "code",
   "execution_count": 460,
   "metadata": {},
   "outputs": [],
   "source": [
    "# Concretemodel_Need_Data['reaction_kcat_MW'].at['B_ALD5','kcat_MW']"
   ]
  },
  {
   "cell_type": "code",
   "execution_count": 461,
   "metadata": {},
   "outputs": [
    {
     "name": "stdout",
     "output_type": "stream",
     "text": [
      "0:00:35.170846\n",
      "{<Future at 0x1af14dfb4e0 state=finished returned float>: 0, <Future at 0x1af1ccbdd68 state=finished returned float>: 1, <Future at 0x1af1ccbd630 state=finished returned float>: 2, <Future at 0x1af1ccc7278 state=finished returned float>: 3, <Future at 0x1af1ccc74a8 state=finished returned float>: 4, <Future at 0x1af1ccc7710 state=finished returned float>: 5, <Future at 0x1af1ccc7940 state=finished returned float>: 6}\n"
     ]
    }
   ],
   "source": [
    "if __name__ == \"__main__\":\n",
    "    pool=ProcessPoolExecutor(max_workers=8)\n",
    "    with pool as executor:\n",
    "        start = datetime.datetime.now()\n",
    "        #print(\"pass_2\")\n",
    "        tmp=[]\n",
    "        futures = {executor.submit(fba_max_product,Concretemodel_Need_Data,(list_x[i],list_y[i]),10,0,0,0.07,0.07,'EX_2mba_e'): i for i in range(0,len(list_x))}\n",
    "        # for future in as_completed(futures):\n",
    "        #     tmp.append(future.result())\n",
    "    end = datetime.datetime.now()\n",
    "    print (end - start)\n",
    "    print(futures)"
   ]
  },
  {
   "cell_type": "code",
   "execution_count": 462,
   "metadata": {},
   "outputs": [
    {
     "name": "stdout",
     "output_type": "stream",
     "text": [
      "A:B=0.8571428571428571:0.14285714285714285\n",
      "0.9022964854159626\n",
      "A:B=0.1:0.9\n",
      "1.392904272138686\n",
      "A:B=0.14285714285714285:0.8571428571428571\n",
      "1.448547171293889\n",
      "A:B=0.9:0.1\n",
      "0.6316059189341383\n",
      "A:B=0.25:0.75\n",
      "1.5876544191819837\n",
      "A:B=0.5:0.5\n",
      "1.912071472340811\n",
      "A:B=0.75:0.25\n",
      "1.5790147973927655\n"
     ]
    },
    {
     "data": {
      "text/html": [
       "<div>\n",
       "<style scoped>\n",
       "    .dataframe tbody tr th:only-of-type {\n",
       "        vertical-align: middle;\n",
       "    }\n",
       "\n",
       "    .dataframe tbody tr th {\n",
       "        vertical-align: top;\n",
       "    }\n",
       "\n",
       "    .dataframe thead th {\n",
       "        text-align: right;\n",
       "    }\n",
       "</style>\n",
       "<table border=\"1\" class=\"dataframe\">\n",
       "  <thead>\n",
       "    <tr style=\"text-align: right;\">\n",
       "      <th></th>\n",
       "      <th>flux</th>\n",
       "    </tr>\n",
       "  </thead>\n",
       "  <tbody>\n",
       "    <tr>\n",
       "      <th>0.9:0.1</th>\n",
       "      <td>0.631606</td>\n",
       "    </tr>\n",
       "    <tr>\n",
       "      <th>0.8571428571428571:0.14285714285714285</th>\n",
       "      <td>0.902296</td>\n",
       "    </tr>\n",
       "    <tr>\n",
       "      <th>0.75:0.25</th>\n",
       "      <td>1.579015</td>\n",
       "    </tr>\n",
       "    <tr>\n",
       "      <th>0.5:0.5</th>\n",
       "      <td>1.912071</td>\n",
       "    </tr>\n",
       "    <tr>\n",
       "      <th>0.25:0.75</th>\n",
       "      <td>1.587654</td>\n",
       "    </tr>\n",
       "    <tr>\n",
       "      <th>0.14285714285714285:0.8571428571428571</th>\n",
       "      <td>1.448547</td>\n",
       "    </tr>\n",
       "    <tr>\n",
       "      <th>0.1:0.9</th>\n",
       "      <td>1.392904</td>\n",
       "    </tr>\n",
       "  </tbody>\n",
       "</table>\n",
       "</div>"
      ],
      "text/plain": [
       "                                            flux\n",
       "0.9:0.1                                 0.631606\n",
       "0.8571428571428571:0.14285714285714285  0.902296\n",
       "0.75:0.25                               1.579015\n",
       "0.5:0.5                                 1.912071\n",
       "0.25:0.75                               1.587654\n",
       "0.14285714285714285:0.8571428571428571  1.448547\n",
       "0.1:0.9                                 1.392904"
      ]
     },
     "execution_count": 462,
     "metadata": {},
     "output_type": "execute_result"
    }
   ],
   "source": [
    "result_list_mass=pd.DataFrame()\n",
    "for future in as_completed(futures):\n",
    "    x=list_x[futures[future]]\n",
    "    y=list_y[futures[future]]\n",
    "    real=1\n",
    "    real_x=(x*real)\n",
    "    real_y=(y*real)\n",
    "    print('A:B='+str(real_x)+':'+str(real_y))\n",
    "    print(future.result())\n",
    "    result_list_mass.at[str(real_x)+':'+str(real_y),'flux']=future.result()\n",
    "result_list=pd.DataFrame()\n",
    "for i in range(0,len(list_x)):\n",
    "    real=1\n",
    "    real_x=(list_x[i]*real)\n",
    "    real_y=(list_y[i]*real)\n",
    "    result_list.at[str(real_x)+':'+str(real_y),'flux']=result_list_mass.at[str(real_x)+':'+str(real_y),'flux']\n",
    "result_list"
   ]
  },
  {
   "cell_type": "code",
   "execution_count": 463,
   "metadata": {},
   "outputs": [
    {
     "data": {
      "text/plain": [
       "Index(['0.9:0.1', '0.8571428571428571:0.14285714285714285', '0.75:0.25',\n",
       "       '0.5:0.5', '0.25:0.75', '0.14285714285714285:0.8571428571428571',\n",
       "       '0.1:0.9'],\n",
       "      dtype='object')"
      ]
     },
     "execution_count": 463,
     "metadata": {},
     "output_type": "execute_result"
    }
   ],
   "source": [
    "result_list.index"
   ]
  },
  {
   "cell_type": "code",
   "execution_count": 464,
   "metadata": {},
   "outputs": [
    {
     "data": {
      "text/html": [
       "<div>\n",
       "<style scoped>\n",
       "    .dataframe tbody tr th:only-of-type {\n",
       "        vertical-align: middle;\n",
       "    }\n",
       "\n",
       "    .dataframe tbody tr th {\n",
       "        vertical-align: top;\n",
       "    }\n",
       "\n",
       "    .dataframe thead th {\n",
       "        text-align: right;\n",
       "    }\n",
       "</style>\n",
       "<table border=\"1\" class=\"dataframe\">\n",
       "  <thead>\n",
       "    <tr style=\"text-align: right;\">\n",
       "      <th></th>\n",
       "      <th>flux</th>\n",
       "    </tr>\n",
       "  </thead>\n",
       "  <tbody>\n",
       "    <tr>\n",
       "      <th>9:1</th>\n",
       "      <td>0.6316059189341383</td>\n",
       "    </tr>\n",
       "    <tr>\n",
       "      <th>6:1</th>\n",
       "      <td>0.9022964854159626</td>\n",
       "    </tr>\n",
       "    <tr>\n",
       "      <th>3:1</th>\n",
       "      <td>1.5790147973927655</td>\n",
       "    </tr>\n",
       "    <tr>\n",
       "      <th>1:1</th>\n",
       "      <td>1.912071472340811</td>\n",
       "    </tr>\n",
       "    <tr>\n",
       "      <th>1:3</th>\n",
       "      <td>1.5876544191819837</td>\n",
       "    </tr>\n",
       "    <tr>\n",
       "      <th>1:6</th>\n",
       "      <td>1.448547171293889</td>\n",
       "    </tr>\n",
       "    <tr>\n",
       "      <th>1:9</th>\n",
       "      <td>1.392904272138686</td>\n",
       "    </tr>\n",
       "  </tbody>\n",
       "</table>\n",
       "</div>"
      ],
      "text/plain": [
       "                   flux\n",
       "9:1  0.6316059189341383\n",
       "6:1  0.9022964854159626\n",
       "3:1  1.5790147973927655\n",
       "1:1   1.912071472340811\n",
       "1:3  1.5876544191819837\n",
       "1:6   1.448547171293889\n",
       "1:9   1.392904272138686"
      ]
     },
     "execution_count": 464,
     "metadata": {},
     "output_type": "execute_result"
    }
   ],
   "source": [
    "output_SBCF_over3=pd.DataFrame()\n",
    "for i in range(0,len(list_x)):\n",
    "    # print(list_x[i])\n",
    "    # print(list_y[i])\n",
    "    output_SBCF_over3.at[str(round(list_x[i]*(list_x_int[i]+list_y_int[i])))+':'+str(round(list_y[i]*(list_x_int[i]+list_y_int[i]))),'flux']=str(result_list.at[str(list_x[i])+':'+str(list_y[i]),'flux'])\n",
    "    #print(str(round(list_x[i]*(list_x_int[i]+list_y_int[i])))+':'+str(round(list_y[i]*(list_x_int[i]+list_y_int[i])))+'='+str(result_list.at[str(list_x[i])+':'+str(list_y[i]),'flux']))\n",
    "output_SBCF_over3"
   ]
  },
  {
   "cell_type": "code",
   "execution_count": 465,
   "metadata": {},
   "outputs": [],
   "source": [
    "# result_file='./new_idea_SBCF/result/pfba_detail_over'"
   ]
  },
  {
   "cell_type": "code",
   "execution_count": 466,
   "metadata": {},
   "outputs": [],
   "source": [
    "# if __name__ == \"__main__\":\n",
    "#     pool=ProcessPoolExecutor(max_workers=8)\n",
    "#     with pool as executor:\n",
    "#         start = datetime.datetime.now()\n",
    "#         #print(\"pass_2\")\n",
    "#         tmp=[]\n",
    "#         futures = {executor.submit(pfba_max_product,Concretemodel_Need_Data,model_file,(list_x[i],list_y[i],result_list.at[str(list_x[i])+':'+str(list_y[i]),'flux'],result_file+str(i)+'.csv'),10,0,0,0.1,0.1,'EX_2mba_e'): i for i in range(0,len(list_x))}\n",
    "#         # for future in as_completed(futures):\n",
    "#         #     tmp.append(future.result())\n",
    "#     end = datetime.datetime.now()\n",
    "#     print (end - start)\n",
    "#     print(futures)"
   ]
  },
  {
   "cell_type": "markdown",
   "metadata": {},
   "source": [
    "### 通量测试"
   ]
  },
  {
   "cell_type": "code",
   "execution_count": 467,
   "metadata": {},
   "outputs": [
    {
     "data": {
      "text/plain": [
       "[0.9, 0.8571428571428571, 0.75, 0.5, 0.25, 0.14285714285714285, 0.1]"
      ]
     },
     "execution_count": 467,
     "metadata": {},
     "output_type": "execute_result"
    }
   ],
   "source": [
    "list_x"
   ]
  },
  {
   "cell_type": "code",
   "execution_count": 468,
   "metadata": {},
   "outputs": [
    {
     "data": {
      "text/plain": [
       "'./new_idea_SBCF/EC/reaction_kcat_MW_SBCF_change_origin.csv'"
      ]
     },
     "execution_count": 468,
     "metadata": {},
     "output_type": "execute_result"
    }
   ],
   "source": [
    "reaction_kcat_MW_file"
   ]
  },
  {
   "cell_type": "code",
   "execution_count": 469,
   "metadata": {},
   "outputs": [],
   "source": [
    "Concretemodel_Need_Data['reaction_kcat_MW']=pd.read_csv(reaction_kcat_MW_file,index_col=0)\n",
    "Concretemodel_Need_Data['reaction_kcat_MW']=unpdate_kcat_mw(Concretemodel_Need_Data['reaction_list'],Concretemodel_Need_Data['reaction_kcat_MW'],'./new_idea_SBCF/EC/reaction_kcat_MW_SBCF_new.csv')"
   ]
  },
  {
   "cell_type": "code",
   "execution_count": 470,
   "metadata": {},
   "outputs": [
    {
     "name": "stdout",
     "output_type": "stream",
     "text": [
      "A:B=0.75:0.25→obj:\n",
      "0.7534440737593537\n",
      "False\n"
     ]
    }
   ],
   "source": [
    "a=fba_max_product(Concretemodel_Need_Data,(0.75,0.25),10,0,0,0.07,0.07,'EX_2mba_e')"
   ]
  },
  {
   "cell_type": "code",
   "execution_count": 471,
   "metadata": {},
   "outputs": [
    {
     "data": {
      "text/plain": [
       "2.5732012914540325"
      ]
     },
     "execution_count": 471,
     "metadata": {},
     "output_type": "execute_result"
    }
   ],
   "source": [
    "detail=pfba_max_product(Concretemodel_Need_Data,model_file,(0.75,0.25,a,'./new_idea_SBCF/result/1_test_detail_over.csv'),10,0,0,0.07,0.07,'EX_2mba_e')\n",
    "detail.at['B_3mop_c2e_reverse','fluxes']"
   ]
  },
  {
   "cell_type": "code",
   "execution_count": 472,
   "metadata": {},
   "outputs": [
    {
     "data": {
      "text/plain": [
       "0.8577337638180107"
      ]
     },
     "execution_count": 472,
     "metadata": {},
     "output_type": "execute_result"
    }
   ],
   "source": [
    "detail.at['A_3mop_c2e','fluxes']"
   ]
  },
  {
   "cell_type": "code",
   "execution_count": 473,
   "metadata": {},
   "outputs": [
    {
     "data": {
      "text/plain": [
       "0.1565426345277941"
      ]
     },
     "execution_count": 473,
     "metadata": {},
     "output_type": "execute_result"
    }
   ],
   "source": [
    "detail.at['A_2obut_c2e','fluxes']"
   ]
  },
  {
   "cell_type": "code",
   "execution_count": null,
   "metadata": {},
   "outputs": [],
   "source": [
    "detail.at['B_2obut_c2e_reverse','fluxes']"
   ]
  }
 ],
 "metadata": {
  "kernelspec": {
   "display_name": "Python 3.6.5 ('xby')",
   "language": "python",
   "name": "python3"
  },
  "language_info": {
   "codemirror_mode": {
    "name": "ipython",
    "version": 3
   },
   "file_extension": ".py",
   "mimetype": "text/x-python",
   "name": "python",
   "nbconvert_exporter": "python",
   "pygments_lexer": "ipython3",
   "version": "3.6.5"
  },
  "orig_nbformat": 4,
  "vscode": {
   "interpreter": {
    "hash": "678f2c0cb67aa00dbc6da583138b0769cb8531f72b670a012e2187460f06e842"
   }
  }
 },
 "nbformat": 4,
 "nbformat_minor": 2
}
