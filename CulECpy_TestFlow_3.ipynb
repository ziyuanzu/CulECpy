{
 "cells": [
  {
   "cell_type": "code",
   "execution_count": 1,
   "metadata": {},
   "outputs": [],
   "source": [
    "import cobra\n",
    "from cobra import Model, Reaction, Metabolite\n",
    "from cobra.flux_analysis import pfba\n",
    "from cobra.io import write_sbml_model,save_json_model,load_json_model,read_sbml_model\n",
    "import re\n",
    "import pandas as pd\n",
    "import numpy as np\n",
    "import xlrd\n",
    "import re\n",
    "import openpyxl\n",
    "import sys\n",
    "sys.path.append(r'./')\n",
    "import os\n",
    "from copy import copy, deepcopy\n",
    "import numpy as np"
   ]
  },
  {
   "cell_type": "code",
   "execution_count": 2,
   "metadata": {},
   "outputs": [],
   "source": [
    "model_origin_file='./3_mass/model/iML1515_new.json'"
   ]
  },
  {
   "cell_type": "markdown",
   "metadata": {},
   "source": [
    "# Refinement of model information"
   ]
  },
  {
   "cell_type": "code",
   "execution_count": 3,
   "metadata": {},
   "outputs": [],
   "source": [
    "model=load_json_model(model_origin_file)"
   ]
  },
  {
   "cell_type": "code",
   "execution_count": 4,
   "metadata": {},
   "outputs": [],
   "source": [
    "tyr__L_c=model.metabolites.get_by_id('tyr__L_c')\n",
    "coumarate_c=Metabolite('coumarate_c',\n",
    "                formula='C9H7O3',\n",
    "                name='p-coumarate',\n",
    "                compartment='c'\n",
    "                )\n",
    "nh4_c=model.metabolites.get_by_id('nh4_c')\n",
    "TAL=Reaction(\"TAL\")\n",
    "TAL.name='phenylalanine/tyrosine ammonia-lyase'\n",
    "TAL.subsystem='unknow'\n",
    "TAL.lower_bound=0\n",
    "TAL.upper_bound=1000\n",
    "TAL.add_metabolites({\n",
    "    tyr__L_c:-1.0,\n",
    "    coumarate_c:1.0,\n",
    "    nh4_c:1.0\n",
    "})\n",
    "fadh2_c=model.metabolites.get_by_id('fadh2_c')\n",
    "caffeate_c=Metabolite('caffeate_c',\n",
    "                formula='C9H7O4',\n",
    "                name='trans-caffeic acid',\n",
    "                compartment='c'\n",
    "                )\n",
    "o2_c=model.metabolites.get_by_id('o2_c')            \n",
    "fad_c=model.metabolites.get_by_id('fad_c')\n",
    "h_c=model.metabolites.get_by_id('h_c')\n",
    "h2o_c=model.metabolites.get_by_id('h2o_c')   \n",
    "HpaBC_CA=Reaction(\"HpaBC_CA\")\n",
    "HpaBC_CA.name='4-coumarate 3-monooxygenase,hpaB'\n",
    "HpaBC_CA.subsystem='unknow'\n",
    "HpaBC_CA.lower_bound=0\n",
    "HpaBC_CA.upper_bound=1000\n",
    "HpaBC_CA.add_metabolites({\n",
    "    caffeate_c:1.0,\n",
    "    o2_c:-1.0,\n",
    "    fadh2_c:-1.0,\n",
    "    coumarate_c:-1.0,\n",
    "    fad_c:1.0,\n",
    "    h_c:1.0,\n",
    "    h2o_c:1.0\n",
    "})\n",
    "hpp_c=model.metabolites.get_by_id('34hpp_c')\n",
    "fadh2_c=model.metabolites.get_by_id('fadh2_c')\n",
    "o2_c=model.metabolites.get_by_id('o2_c')            \n",
    "fad_c=model.metabolites.get_by_id('fad_c')\n",
    "h_c=model.metabolites.get_by_id('h_c')\n",
    "h2o_c=model.metabolites.get_by_id('h2o_c')\n",
    "nadph_c=model.metabolites.get_by_id('nadph_c')\n",
    "nadp_c=model.metabolites.get_by_id('nadp_c')\n",
    "dpp_c=Metabolite('34dpp_c',\n",
    "                formula='C9H7O5',\n",
    "                name='3,4-dihydroxyphenylpyruvate',\n",
    "                compartment='c'\n",
    "                )\n",
    "HpaB_1=Reaction(\"HpaB_1\")\n",
    "HpaB_1.name='4-coumarate 3-monooxygenase_1'\n",
    "HpaB_1.subsystem='unknow'\n",
    "HpaB_1.lower_bound=0\n",
    "HpaB_1.upper_bound=1000\n",
    "HpaB_1.add_metabolites({\n",
    "    hpp_c:-1.0,\n",
    "    o2_c:-1.0,\n",
    "    fadh2_c:-1.0,\n",
    "    dpp_c:1.0,\n",
    "    fad_c:1.0,\n",
    "    h_c:1.0,\n",
    "    h2o_c:1.0\n",
    "})\n",
    "dpla_c=Metabolite('34dpla_c',\n",
    "                formula='C9H9O5',\n",
    "                name='(R)-3-(3,4-dihydroxyphenyl)lactate',\n",
    "                compartment='c'\n",
    "                )\n",
    "D_LDH_1=Reaction(\"D_LDH_1\")\n",
    "D_LDH_1.name='hydroxyphenylpyruvate reductase_1'\n",
    "D_LDH_1.subsystem='unknow'\n",
    "D_LDH_1.lower_bound=0\n",
    "D_LDH_1.upper_bound=1000\n",
    "D_LDH_1.add_metabolites({\n",
    "    dpp_c:-1.0,\n",
    "    nadp_c:1.0,\n",
    "    h_c:-1.0,\n",
    "    nadph_c:-1.0,\n",
    "    dpla_c:1.0\n",
    "})\n",
    "dpl_c=Metabolite('4dpl_c',\n",
    "                formula='C9H9O4',\n",
    "                name='(R)-3-(4-hydroxyphenyl)lactate',\n",
    "                compartment='c'\n",
    "                )\n",
    "D_LDH_2=Reaction(\"D_LDH_2\")\n",
    "D_LDH_2.name='hydroxyphenylpyruvate reductase_2'\n",
    "D_LDH_2.subsystem='unknow'\n",
    "D_LDH_2.lower_bound=0\n",
    "D_LDH_2.upper_bound=1000\n",
    "D_LDH_2.add_metabolites({\n",
    "    hpp_c:-1.0,\n",
    "    nadp_c:1.0,\n",
    "    nadph_c:-1.0,\n",
    "    dpl_c:1.0,\n",
    "    h_c:-1.0\n",
    "})\n",
    "HpaB_2=Reaction(\"HpaB_2\")\n",
    "HpaB_2.name='4-coumarate 3-monooxygenase_2'\n",
    "HpaB_2.subsystem='unknow'\n",
    "HpaB_2.lower_bound=0\n",
    "HpaB_2.upper_bound=1000\n",
    "HpaB_2.add_metabolites({\n",
    "    dpl_c:-1.0,\n",
    "    o2_c:-1.0,\n",
    "    fadh2_c:-1.0,\n",
    "    dpla_c:1.0,\n",
    "    fad_c:1.0,\n",
    "    h_c:1.0,\n",
    "    h2o_c:1.0\n",
    "})\n",
    "atp_c=model.metabolites.get_by_id('atp_c')\n",
    "coa_c=model.metabolites.get_by_id('coa_c')\n",
    "amp_c=model.metabolites.get_by_id('amp_c')\n",
    "ppi_c=model.metabolites.get_by_id('ppi_c')\n",
    "caffeateCoA_c=Metabolite('caffeateCoA_c',\n",
    "                formula='C30H38N7O19P3S',\n",
    "                name='(E)-caffeoyl-CoA',\n",
    "                compartment='c'\n",
    "                )\n",
    "CL=Reaction(\"4CL\")\n",
    "CL.name='4-coumarate:CoA ligase'\n",
    "CL.subsystem='unknow'\n",
    "CL.lower_bound=0\n",
    "CL.upper_bound=1000\n",
    "CL.add_metabolites({\n",
    "    caffeate_c:-1.0,\n",
    "    caffeateCoA_c:1.0,\n",
    "    ppi_c:1.0,\n",
    "    amp_c:1.0,\n",
    "    atp_c:-1.0,\n",
    "    coa_c:-1.0\n",
    "})\n",
    "ra_c=Metabolite('ra_c',\n",
    "                formula='C18H15O8',\n",
    "                name='(R)-rosmarinate',\n",
    "                compartment='c'\n",
    "                )\n",
    "RAS=Reaction(\"RAS\")\n",
    "RAS.name='rosmarinic acid synthase'\n",
    "RAS.subsystem='unknow'\n",
    "RAS.lower_bound=0\n",
    "RAS.upper_bound=1000\n",
    "RAS.add_metabolites({\n",
    "    dpla_c:-1.0,\n",
    "    caffeateCoA_c:-1.0,\n",
    "    coa_c:1.0,\n",
    "    ra_c:1.0\n",
    "})"
   ]
  },
  {
   "cell_type": "markdown",
   "metadata": {},
   "source": [
    "SKMs model construction"
   ]
  },
  {
   "cell_type": "code",
   "execution_count": 5,
   "metadata": {},
   "outputs": [],
   "source": [
    "CA=[TAL,HpaBC_CA]\n",
    "SAA=[HpaB_1,D_LDH_1,D_LDH_2,HpaB_2]\n",
    "RA=[CL,RAS]\n",
    "SAA_RA=[HpaB_1,D_LDH_1,D_LDH_2,HpaB_2,CL,RAS]"
   ]
  },
  {
   "cell_type": "code",
   "execution_count": 6,
   "metadata": {},
   "outputs": [],
   "source": [
    "from model_correction_tools import *"
   ]
  },
  {
   "cell_type": "markdown",
   "metadata": {},
   "source": [
    "CA sub models"
   ]
  },
  {
   "cell_type": "code",
   "execution_count": 7,
   "metadata": {},
   "outputs": [
    {
     "name": "stdout",
     "output_type": "stream",
     "text": [
      "./3_mass/model/iML1515_CA.xlsx\n"
     ]
    }
   ],
   "source": [
    "out_files='./3_mass/model/iML1515_CA'\n",
    "model_CA=load_json_model(model_origin_file)\n",
    "model_CA.add_reactions(CA)\n",
    "add_new_ex(model_CA,'caffeate_c')\n",
    "save_json_model(model_CA,out_files+'.json')\n",
    "write_sbml_model(model_CA,out_files+'.xml')\n",
    "sbml_excel(out_files+'.xml',out_files+'.xlsx')  "
   ]
  },
  {
   "cell_type": "markdown",
   "metadata": {},
   "source": [
    "SAA sub models"
   ]
  },
  {
   "cell_type": "code",
   "execution_count": 8,
   "metadata": {},
   "outputs": [
    {
     "name": "stdout",
     "output_type": "stream",
     "text": [
      "./3_mass/model/iML1515_SAA.xlsx\n"
     ]
    }
   ],
   "source": [
    "out_files='./3_mass/model/iML1515_SAA'\n",
    "model_SAA=load_json_model(model_origin_file)\n",
    "model_SAA.add_reactions(SAA)\n",
    "add_new_ex(model_SAA,'34dpla_c')\n",
    "save_json_model(model_SAA,out_files+'.json')\n",
    "write_sbml_model(model_SAA,out_files+'.xml')\n",
    "sbml_excel(out_files+'.xml',out_files+'.xlsx')  "
   ]
  },
  {
   "cell_type": "markdown",
   "metadata": {},
   "source": [
    "RA sub models"
   ]
  },
  {
   "cell_type": "code",
   "execution_count": 9,
   "metadata": {},
   "outputs": [
    {
     "name": "stdout",
     "output_type": "stream",
     "text": [
      "./3_mass/model/iML1515_SAA.xlsx\n"
     ]
    }
   ],
   "source": [
    "out_files='./3_mass/model/iML1515_SAA'\n",
    "model_SAA=load_json_model(model_origin_file)\n",
    "model_SAA.add_reactions(SAA)\n",
    "add_new_ex(model_SAA,'34dpla_c')\n",
    "save_json_model(model_SAA,out_files+'.json')\n",
    "write_sbml_model(model_SAA,out_files+'.xml')\n",
    "sbml_excel(out_files+'.xml',out_files+'.xlsx')  "
   ]
  },
  {
   "cell_type": "markdown",
   "metadata": {},
   "source": [
    "SAA_RA sub models"
   ]
  },
  {
   "cell_type": "code",
   "execution_count": 10,
   "metadata": {},
   "outputs": [
    {
     "name": "stdout",
     "output_type": "stream",
     "text": [
      "./3_mass/model/iML1515_SAA_RA.xlsx\n"
     ]
    }
   ],
   "source": [
    "out_files='./3_mass/model/iML1515_SAA_RA'\n",
    "model_SAA_RA=load_json_model(model_origin_file)\n",
    "model_SAA_RA.add_reactions(SAA_RA)\n",
    "add_new_ex(model_SAA_RA,'caffeate_c')\n",
    "add_new_ex(model_SAA_RA,'ra_c')\n",
    "save_json_model(model_SAA_RA,out_files+'.json')\n",
    "write_sbml_model(model_SAA_RA,out_files+'.xml')\n",
    "sbml_excel(out_files+'.xml',out_files+'.xlsx')  "
   ]
  },
  {
   "cell_type": "markdown",
   "metadata": {},
   "source": [
    "Two-strain Strategy"
   ]
  },
  {
   "cell_type": "code",
   "execution_count": 11,
   "metadata": {},
   "outputs": [],
   "source": [
    "model_CA_file='./3_mass/model/iML1515_CA.json'\n",
    "model_SAA_RA_file='./3_mass/model/iML1515_SAA_RA.json'\n",
    "model_CA_SAARA_file='./3_mass/model/iML1515_CA_SAA+RA.json'"
   ]
  },
  {
   "cell_type": "code",
   "execution_count": 12,
   "metadata": {},
   "outputs": [
    {
     "name": "stdout",
     "output_type": "stream",
     "text": [
      "--------A  model----------\n",
      "2717\n",
      "1880\n",
      "1516\n",
      "--------B  model----------\n",
      "2723\n",
      "1885\n",
      "1516\n",
      "A_pi_e_con_1\n",
      "A_h_e_con_1\n",
      "A_fe3_e_con_1\n",
      "A_mn2_e_con_1\n",
      "A_co2_e_con_1\n",
      "A_fe2_e_con_1\n",
      "A_glc__D_e_con_1\n",
      "A_zn2_e_con_1\n",
      "A_mg2_e_con_1\n",
      "A_ca2_e_con_1\n",
      "A_ni2_e_con_1\n",
      "A_cu2_e_con_1\n",
      "A_cobalt2_e_con_1\n",
      "A_sel_e_con_1\n",
      "A_h2o_e_con_1\n",
      "A_nh4_e_con_1\n",
      "A_mobd_e_con_1\n",
      "A_so4_e_con_1\n",
      "A_k_e_con_1\n",
      "A_na1_e_con_1\n",
      "A_o2_e_con_1\n",
      "A_cl_e_con_1\n",
      "A_tungs_e_con_1\n",
      "A_slnt_e_con_1\n"
     ]
    },
    {
     "data": {
      "text/plain": [
       "{'EX_pi_e': 1000.0,\n",
       " 'EX_h_e': 1000.0,\n",
       " 'EX_fe3_e': 1000.0,\n",
       " 'EX_mn2_e': 1000.0,\n",
       " 'EX_co2_e': 1000.0,\n",
       " 'EX_fe2_e': 1000.0,\n",
       " 'EX_glc__D_e': 10.0,\n",
       " 'EX_zn2_e': 1000.0,\n",
       " 'EX_mg2_e': 1000.0,\n",
       " 'EX_ca2_e': 1000.0,\n",
       " 'EX_ni2_e': 1000.0,\n",
       " 'EX_cu2_e': 1000.0,\n",
       " 'EX_cobalt2_e': 1000.0,\n",
       " 'EX_sel_e': 1000.0,\n",
       " 'EX_h2o_e': 1000.0,\n",
       " 'EX_nh4_e': 1000.0,\n",
       " 'EX_mobd_e': 1000.0,\n",
       " 'EX_so4_e': 1000.0,\n",
       " 'EX_k_e': 1000.0,\n",
       " 'EX_na1_e': 1000.0,\n",
       " 'EX_o2_e': 1000.0,\n",
       " 'EX_cl_e': 1000.0,\n",
       " 'EX_tungs_e': 1000.0,\n",
       " 'EX_slnt_e': 1000.0}"
      ]
     },
     "execution_count": 12,
     "metadata": {},
     "output_type": "execute_result"
    }
   ],
   "source": [
    "model_a=load_json_model(model_CA_file)\n",
    "model_b=load_json_model(model_SAA_RA_file)\n",
    "model_a.reactions.get_by_id('EX_glc__D_e').bounds=(-10,1000)\n",
    "model_a.reactions.get_by_id('EX_caffeate_e').bounds=(0,1000)\n",
    "model_b.reactions.get_by_id('EX_caffeate_e').bounds=(-1000,0)\n",
    "model_b.reactions.get_by_id('EX_glc__D_e').bounds=(-10,1000)\n",
    "model_a.reactions.get_by_id('BIOMASS_Ec_iML1515_core_75p37M').bounds=(0.1,1000)\n",
    "model_b.reactions.get_by_id('BIOMASS_Ec_iML1515_core_75p37M').bounds=(0.1,1000)\n",
    "print(\"--------A  model----------\")\n",
    "print(len(model_a.reactions))\n",
    "print(len(model_a.metabolites))\n",
    "print(len(model_a.genes) )\n",
    "print(\"--------B  model----------\")\n",
    "print(len(model_b.reactions))\n",
    "print(len(model_b.metabolites))\n",
    "print(len(model_b.genes) )\n",
    "model=deepcopy(model_a)\n",
    "for i in model.reactions:\n",
    "    i.id='A_'+i.id\n",
    "for i in model.metabolites:\n",
    "    i.id='A_'+i.id\n",
    "    i.name='A_'+i.name\n",
    "model_t=deepcopy(model_b)\n",
    "# for i in model_t.genes:\n",
    "#     i.id=i.id+'_B'\n",
    "for i in model_t.reactions:\n",
    "    i.id='B_'+i.id\n",
    "for i in model_t.metabolites:\n",
    "    i.id='B_'+i.id\n",
    "    i.name='B_'+i.name\n",
    "for i in model_t.reactions:\n",
    "    model.add_reaction(i)\n",
    "e_meta_rn={}\n",
    "for meta in model_a.metabolites:\n",
    "    if meta.compartment=='e' :\n",
    "        meta_a=model.metabolites.get_by_id('A_'+meta.id)\n",
    "        e_meta_rn[meta.id+\"_1\"]=Reaction('A_'+meta.id+'_con_1')\n",
    "        e_meta_rn[meta.id+\"_1\"].name = meta.id+' Connection 1'\n",
    "        e_meta_rn[meta.id+\"_1\"].subsystem = 'unKnow'\n",
    "        e_meta_rn[meta.id+\"_1\"].lower_bound = 0. # This is the default\n",
    "        e_meta_rn[meta.id+\"_1\"].upper_bound = 1000. # This is the default\n",
    "        e_meta_rn[meta.id+\"_1\"].add_metabolites({\n",
    "            meta_a:-1.0,\n",
    "            meta:1.0\n",
    "            })\n",
    "        model.add_reactions([e_meta_rn[meta.id+\"_1\"]])\n",
    "for meta in model_b.metabolites:\n",
    "    if meta.compartment=='e' :\n",
    "        meta_b=model_t.metabolites.get_by_id('B_'+meta.id)\n",
    "        e_meta_rn[meta.id+\"_2\"]=Reaction('B_'+meta.id+'_con_2')\n",
    "        e_meta_rn[meta.id+\"_2\"].name = meta.id+' Connection 2'\n",
    "        e_meta_rn[meta.id+\"_2\"].subsystem = 'unKnow'\n",
    "        e_meta_rn[meta.id+\"_2\"].lower_bound = -1000. # This is the default\n",
    "        e_meta_rn[meta.id+\"_2\"].upper_bound = 0. # This is the default\n",
    "        e_meta_rn[meta.id+\"_2\"].add_metabolites({\n",
    "            meta_b:1.0,\n",
    "            meta:-1.0\n",
    "            })\n",
    "        model.add_reactions([e_meta_rn[meta.id+\"_2\"]])\n",
    "origin_model=cobra.io.load_json_model(model_origin_file)\n",
    "# origin_model.reactions.get_by_id('EX_xyl__D_e').bounds=(-10.0,1000)\n",
    "origin_model.medium\n",
    "for i in origin_model.medium:\n",
    "    model.add_reaction(origin_model.reactions.get_by_id(i))\n",
    "    ex_meta=i.split('EX_')[1]\n",
    "    model.reactions.get_by_id('A_'+ex_meta+'_con_1').bounds=(-1000,1000)\n",
    "    model.reactions.get_by_id('B_'+ex_meta+'_con_2').bounds=(-1000,1000)\n",
    "    print('A_'+ex_meta+'_con_1')\n",
    "model.reactions.get_by_id('A_caffeate_e_con_1').bounds=(-1000,1000)\n",
    "model.reactions.get_by_id('B_caffeate_e_con_2').bounds=(-1000,1000)\n",
    "for i in model.medium:\n",
    "    h=i.split('_')[0]\n",
    "    if h=='A' or h=='B':\n",
    "        model.reactions.get_by_id(i).bounds=(0,0)\n",
    "model.medium"
   ]
  },
  {
   "cell_type": "code",
   "execution_count": 13,
   "metadata": {},
   "outputs": [],
   "source": [
    "model.add_reaction(model_b.reactions.EX_ra_e)"
   ]
  },
  {
   "cell_type": "code",
   "execution_count": 14,
   "metadata": {},
   "outputs": [
    {
     "name": "stdout",
     "output_type": "stream",
     "text": [
      "IN FLUXES            OUT FLUXES    OBJECTIVES\n",
      "-------------------  ------------  -------------\n",
      "o2_e      16.2       h2o_e  41.5   EX_ra_e  1.95\n",
      "glc__D_e  10         co2_e  16.7\n",
      "nh4_e      2.16      h_e     7.69\n",
      "pi_e       0.193     ra_e    1.95\n",
      "so4_e      0.0504\n",
      "k_e        0.039\n",
      "fe2_e      0.00321\n",
      "mg2_e      0.00174\n",
      "cl_e       0.00104\n",
      "ca2_e      0.00104\n",
      "cu2_e      0.000142\n",
      "mn2_e      0.000138\n",
      "zn2_e      6.82e-05\n",
      "ni2_e      6.46e-05\n"
     ]
    }
   ],
   "source": [
    "model.objective=model.reactions.EX_ra_e\n",
    "model.optimize()\n",
    "model.summary()"
   ]
  },
  {
   "cell_type": "code",
   "execution_count": 15,
   "metadata": {},
   "outputs": [],
   "source": [
    "save_json_model(model,model_CA_SAARA_file)"
   ]
  },
  {
   "cell_type": "markdown",
   "metadata": {},
   "source": [
    "Three-strain Strategy"
   ]
  },
  {
   "cell_type": "code",
   "execution_count": 16,
   "metadata": {},
   "outputs": [],
   "source": [
    "model_CA_file='./3_mass/model/iML1515_CA.json'\n",
    "model_SAA_file='./3_mass/model/iML1515_SAA.json'\n",
    "model_RA_file='./3_mass/model/iML1515_RA.json'\n",
    "model_CA_SAA_RA_file='./3_mass/model/iML1515_CA_SAA_RA.json'"
   ]
  },
  {
   "cell_type": "code",
   "execution_count": 17,
   "metadata": {},
   "outputs": [
    {
     "name": "stdout",
     "output_type": "stream",
     "text": [
      "--------A  model----------\n",
      "2717\n",
      "1880\n",
      "1516\n",
      "--------B  model----------\n",
      "2721\n",
      "1884\n",
      "1516\n",
      "A_pi_e_con_1\n",
      "A_h_e_con_1\n",
      "A_fe3_e_con_1\n",
      "A_mn2_e_con_1\n",
      "A_co2_e_con_1\n",
      "A_fe2_e_con_1\n",
      "A_glc__D_e_con_1\n",
      "A_zn2_e_con_1\n",
      "A_mg2_e_con_1\n",
      "A_ca2_e_con_1\n",
      "A_ni2_e_con_1\n",
      "A_cu2_e_con_1\n",
      "A_cobalt2_e_con_1\n",
      "A_sel_e_con_1\n",
      "A_h2o_e_con_1\n",
      "A_nh4_e_con_1\n",
      "A_mobd_e_con_1\n",
      "A_so4_e_con_1\n",
      "A_k_e_con_1\n",
      "A_na1_e_con_1\n",
      "A_o2_e_con_1\n",
      "A_cl_e_con_1\n",
      "A_tungs_e_con_1\n",
      "A_slnt_e_con_1\n"
     ]
    },
    {
     "data": {
      "text/plain": [
       "{'EX_pi_e': 1000.0,\n",
       " 'EX_h_e': 1000.0,\n",
       " 'EX_fe3_e': 1000.0,\n",
       " 'EX_mn2_e': 1000.0,\n",
       " 'EX_co2_e': 1000.0,\n",
       " 'EX_fe2_e': 1000.0,\n",
       " 'EX_glc__D_e': 10.0,\n",
       " 'EX_zn2_e': 1000.0,\n",
       " 'EX_mg2_e': 1000.0,\n",
       " 'EX_ca2_e': 1000.0,\n",
       " 'EX_ni2_e': 1000.0,\n",
       " 'EX_cu2_e': 1000.0,\n",
       " 'EX_cobalt2_e': 1000.0,\n",
       " 'EX_sel_e': 1000.0,\n",
       " 'EX_h2o_e': 1000.0,\n",
       " 'EX_nh4_e': 1000.0,\n",
       " 'EX_mobd_e': 1000.0,\n",
       " 'EX_so4_e': 1000.0,\n",
       " 'EX_k_e': 1000.0,\n",
       " 'EX_na1_e': 1000.0,\n",
       " 'EX_o2_e': 1000.0,\n",
       " 'EX_cl_e': 1000.0,\n",
       " 'EX_tungs_e': 1000.0,\n",
       " 'EX_slnt_e': 1000.0}"
      ]
     },
     "execution_count": 17,
     "metadata": {},
     "output_type": "execute_result"
    }
   ],
   "source": [
    "meta_test='caffeate'\n",
    "model_a=load_json_model(model_CA_file)\n",
    "model_b=load_json_model(model_SAA_file)\n",
    "model_c=load_json_model(model_RA_file)\n",
    "model_a.reactions.get_by_id('EX_glc__D_e').bounds=(-10,1000)\n",
    "model_b.reactions.get_by_id('EX_glc__D_e').bounds=(-10,1000)\n",
    "model_c.reactions.get_by_id('EX_glc__D_e').bounds=(-10,1000)\n",
    "model_a.reactions.get_by_id('EX_caffeate_e').bounds=(0,1000)\n",
    "model_b.reactions.get_by_id('EX_34dpla_e').bounds=(0,1000)\n",
    "model_c.reactions.get_by_id('EX_34dpla_e').bounds=(-1000,0)\n",
    "model_c.reactions.get_by_id('EX_caffeate_e').bounds=(-1000,0)\n",
    "model_a.reactions.get_by_id('BIOMASS_Ec_iML1515_core_75p37M').bounds=(0.1,1000)\n",
    "model_b.reactions.get_by_id('BIOMASS_Ec_iML1515_core_75p37M').bounds=(0.1,1000)\n",
    "model_c.reactions.get_by_id('BIOMASS_Ec_iML1515_core_75p37M').bounds=(0.1,1000)\n",
    "print(\"--------A  model----------\")\n",
    "print(len(model_a.reactions))\n",
    "print(len(model_a.metabolites))\n",
    "print(len(model_a.genes) )\n",
    "print(\"--------B  model----------\")\n",
    "print(len(model_c.reactions))\n",
    "print(len(model_c.metabolites))\n",
    "print(len(model_c.genes) )\n",
    "model=deepcopy(model_a)\n",
    "for i in model.reactions:\n",
    "    i.id='A_'+i.id\n",
    "for i in model.metabolites:\n",
    "    i.id='A_'+i.id\n",
    "    i.name='A_'+i.name\n",
    "model_t=deepcopy(model_b)\n",
    "# for i in model_t.genes:\n",
    "#     i.id=i.id+'_B'\n",
    "for i in model_t.reactions:\n",
    "    i.id='B_'+i.id\n",
    "for i in model_t.metabolites:\n",
    "    i.id='B_'+i.id\n",
    "    i.name='B_'+i.name\n",
    "for i in model_t.reactions:\n",
    "    model.add_reaction(i)\n",
    "model_s=deepcopy(model_c)\n",
    "# for i in model_t.genes:\n",
    "#     i.id=i.id+'_B'\n",
    "for i in model_s.reactions:\n",
    "    i.id='C_'+i.id\n",
    "for i in model_s.metabolites:\n",
    "    i.id='C_'+i.id\n",
    "    i.name='C_'+i.name\n",
    "for i in model_s.reactions:\n",
    "    model.add_reaction(i)\n",
    "e_meta_rn={}\n",
    "for meta in model_a.metabolites:\n",
    "    if meta.compartment=='e' :\n",
    "        meta_a=model.metabolites.get_by_id('A_'+meta.id)\n",
    "        e_meta_rn[meta.id+\"_A1\"]=Reaction('A_'+meta.id+'_con_1')\n",
    "        e_meta_rn[meta.id+\"_A1\"].name = meta.id+' Connection 1'\n",
    "        e_meta_rn[meta.id+\"_A1\"].subsystem = 'unKnow'\n",
    "        e_meta_rn[meta.id+\"_A1\"].lower_bound = 0. # This is the default\n",
    "        e_meta_rn[meta.id+\"_A1\"].upper_bound = 1000. # This is the default\n",
    "        e_meta_rn[meta.id+\"_A1\"].add_metabolites({\n",
    "            meta_a:-1.0,\n",
    "            meta:1.0\n",
    "            })\n",
    "        model.add_reactions([e_meta_rn[meta.id+\"_A1\"]])\n",
    "for meta in model_b.metabolites:\n",
    "    if meta.compartment=='e' :\n",
    "        meta_b=model.metabolites.get_by_id('B_'+meta.id)\n",
    "        e_meta_rn[meta.id+\"_B1\"]=Reaction('B_'+meta.id+'_con_1')\n",
    "        e_meta_rn[meta.id+\"_B1\"].name = meta.id+' Connection 1'\n",
    "        e_meta_rn[meta.id+\"_B1\"].subsystem = 'unKnow'\n",
    "        e_meta_rn[meta.id+\"_B1\"].lower_bound = 0. # This is the default\n",
    "        e_meta_rn[meta.id+\"_B1\"].upper_bound = 1000. # This is the default\n",
    "        e_meta_rn[meta.id+\"_B1\"].add_metabolites({\n",
    "            meta_b:-1.0,\n",
    "            meta:1.0\n",
    "            })\n",
    "        model.add_reactions([e_meta_rn[meta.id+\"_B1\"]])\n",
    "for meta in model_c.metabolites:\n",
    "    if meta.compartment=='e' :\n",
    "        meta_c=model.metabolites.get_by_id('C_'+meta.id)\n",
    "        e_meta_rn[meta.id+\"_C2\"]=Reaction('C_'+meta.id+'_con_2')\n",
    "        e_meta_rn[meta.id+\"_C2\"].name = meta.id+' Connection 2'\n",
    "        e_meta_rn[meta.id+\"_C2\"].subsystem = 'unKnow'\n",
    "        e_meta_rn[meta.id+\"_C2\"].lower_bound = -1000. # This is the default\n",
    "        e_meta_rn[meta.id+\"_C2\"].upper_bound = 0. # This is the default\n",
    "        e_meta_rn[meta.id+\"_C2\"].add_metabolites({\n",
    "            meta_c:1.0,\n",
    "            meta:-1.0\n",
    "            })\n",
    "        model.add_reactions([e_meta_rn[meta.id+\"_C2\"]])\n",
    "origin_model=cobra.io.load_json_model(model_origin_file)\n",
    "# origin_model.reactions.get_by_id('EX_xyl__D_e').bounds=(-10.0,1000)\n",
    "origin_model.medium\n",
    "for i in origin_model.medium:\n",
    "    model.add_reaction(origin_model.reactions.get_by_id(i))\n",
    "    ex_meta=i.split('EX_')[1]\n",
    "    model.reactions.get_by_id('A_'+ex_meta+'_con_1').bounds=(-1000,1000)\n",
    "    model.reactions.get_by_id('B_'+ex_meta+'_con_1').bounds=(-1000,1000)\n",
    "    model.reactions.get_by_id('C_'+ex_meta+'_con_2').bounds=(-1000,1000)\n",
    "    print('A_'+ex_meta+'_con_1')\n",
    "model.reactions.get_by_id('A_caffeate_e'+'_con_1').bounds=(-1000,1000)\n",
    "model.reactions.get_by_id('B_34dpla_e'+'_con_1').bounds=(-1000,1000)\n",
    "model.reactions.get_by_id('C_34dpla_e'+'_con_2').bounds=(-1000,1000)\n",
    "model.reactions.get_by_id('C_caffeate_e'+'_con_2').bounds=(-1000,1000)\n",
    "for i in model.medium:\n",
    "    h=i.split('_')[0]\n",
    "    if h=='A' or h=='B' or h=='C':\n",
    "        model.reactions.get_by_id(i).bounds=(0,0)\n",
    "model.medium"
   ]
  },
  {
   "cell_type": "code",
   "execution_count": 18,
   "metadata": {},
   "outputs": [],
   "source": [
    "model.add_reaction(model_c.reactions.EX_ra_e)"
   ]
  },
  {
   "cell_type": "code",
   "execution_count": 19,
   "metadata": {},
   "outputs": [
    {
     "name": "stdout",
     "output_type": "stream",
     "text": [
      "IN FLUXES            OUT FLUXES    OBJECTIVES\n",
      "-------------------  ------------  -------------\n",
      "o2_e      18.8       h2o_e  43     EX_ra_e  1.57\n",
      "glc__D_e  10         co2_e  19.4\n",
      "nh4_e      3.24      h_e     7.47\n",
      "pi_e       0.289     ra_e    1.57\n",
      "so4_e      0.0755\n",
      "k_e        0.0586\n",
      "fe2_e      0.00482\n",
      "mg2_e      0.0026\n",
      "cl_e       0.00156\n",
      "ca2_e      0.00156\n",
      "cu2_e      0.000213\n",
      "mn2_e      0.000207\n",
      "zn2_e      0.000102\n",
      "ni2_e      9.69e-05\n"
     ]
    }
   ],
   "source": [
    "model.objective=model.reactions.get_by_id('EX_ra_e')\n",
    "model.optimize()\n",
    "model.summary()"
   ]
  },
  {
   "cell_type": "code",
   "execution_count": 20,
   "metadata": {},
   "outputs": [],
   "source": [
    "save_json_model(model,model_CA_SAA_RA_file)"
   ]
  },
  {
   "cell_type": "markdown",
   "metadata": {},
   "source": [
    "# Simulation"
   ]
  },
  {
   "cell_type": "markdown",
   "metadata": {},
   "source": [
    "Simulation Two-strain Strategy"
   ]
  },
  {
   "cell_type": "code",
   "execution_count": 21,
   "metadata": {},
   "outputs": [],
   "source": [
    "from CulECpyD import *"
   ]
  },
  {
   "cell_type": "code",
   "execution_count": 22,
   "metadata": {},
   "outputs": [],
   "source": [
    "model_CA_SAARA_file='./3_mass/model/iML1515_CA_SAA+RA.json'"
   ]
  },
  {
   "cell_type": "code",
   "execution_count": 23,
   "metadata": {},
   "outputs": [],
   "source": [
    "model_2_file=model_CA_SAARA_file\n",
    "reaction_kcat_MW_file='./3_mass/EC/reaction_kcat_MW.csv'\n",
    "Concretemodel_Need_2_Data=Get_Concretemodel_Need_Data_json(model_2_file,reaction_kcat_MW_file,'ra_c')"
   ]
  },
  {
   "cell_type": "code",
   "execution_count": 24,
   "metadata": {},
   "outputs": [],
   "source": [
    "Concretemodel_Need_2_Data['reaction_kcat_MW']=reaction_kcat_MW=pd.read_csv(reaction_kcat_MW_file,index_col=0)\n",
    "Concretemodel_Need_2_Data['reaction_kcat_MW']=unpdate_kcat_mw(Concretemodel_Need_2_Data['reaction_list'],Concretemodel_Need_2_Data['reaction_kcat_MW'],'./3_mass/EC/reaction_kcat_MW_2mass.csv')"
   ]
  },
  {
   "cell_type": "code",
   "execution_count": 25,
   "metadata": {},
   "outputs": [],
   "source": [
    "list_2_x=[9/10,5/6,3/4,1/2,1/4,1/6,1/10]\n",
    "list_2_y=[1/10,1/6,1/4,1/2,3/4,5/6,9/10]"
   ]
  },
  {
   "cell_type": "code",
   "execution_count": 26,
   "metadata": {},
   "outputs": [
    {
     "name": "stdout",
     "output_type": "stream",
     "text": [
      "A:B=0.9:0.1\n",
      "→obj:0.02661950670869828\n",
      "False\n",
      "A:B=0.8333333333333334:0.16666666666666666\n",
      "→obj:0.04436572993197766\n",
      "False\n",
      "A:B=0.75:0.25\n",
      "→obj:0.06654859489799492\n",
      "False\n",
      "A:B=0.5:0.5\n",
      "→obj:0.05937950222147492\n",
      "True\n",
      "A:B=0.25:0.75\n",
      "→obj:0.02968975111073746\n",
      "True\n",
      "A:B=0.16666666666666666:0.8333333333333334\n",
      "→obj:0.019793167407158307\n",
      "True\n",
      "A:B=0.1:0.9\n",
      "→obj:0.011875900444192665\n",
      "True\n"
     ]
    },
    {
     "data": {
      "text/html": [
       "<div>\n",
       "<style scoped>\n",
       "    .dataframe tbody tr th:only-of-type {\n",
       "        vertical-align: middle;\n",
       "    }\n",
       "\n",
       "    .dataframe tbody tr th {\n",
       "        vertical-align: top;\n",
       "    }\n",
       "\n",
       "    .dataframe thead th {\n",
       "        text-align: right;\n",
       "    }\n",
       "</style>\n",
       "<table border=\"1\" class=\"dataframe\">\n",
       "  <thead>\n",
       "    <tr style=\"text-align: right;\">\n",
       "      <th></th>\n",
       "      <th>flux</th>\n",
       "    </tr>\n",
       "  </thead>\n",
       "  <tbody>\n",
       "    <tr>\n",
       "      <th>0.9:0.1</th>\n",
       "      <td>0.026620</td>\n",
       "    </tr>\n",
       "    <tr>\n",
       "      <th>0.8333333333333334:0.16666666666666666</th>\n",
       "      <td>0.044366</td>\n",
       "    </tr>\n",
       "    <tr>\n",
       "      <th>0.75:0.25</th>\n",
       "      <td>0.066549</td>\n",
       "    </tr>\n",
       "    <tr>\n",
       "      <th>0.5:0.5</th>\n",
       "      <td>0.059380</td>\n",
       "    </tr>\n",
       "    <tr>\n",
       "      <th>0.25:0.75</th>\n",
       "      <td>0.029690</td>\n",
       "    </tr>\n",
       "    <tr>\n",
       "      <th>0.16666666666666666:0.8333333333333334</th>\n",
       "      <td>0.019793</td>\n",
       "    </tr>\n",
       "    <tr>\n",
       "      <th>0.1:0.9</th>\n",
       "      <td>0.011876</td>\n",
       "    </tr>\n",
       "  </tbody>\n",
       "</table>\n",
       "</div>"
      ],
      "text/plain": [
       "                                            flux\n",
       "0.9:0.1                                 0.026620\n",
       "0.8333333333333334:0.16666666666666666  0.044366\n",
       "0.75:0.25                               0.066549\n",
       "0.5:0.5                                 0.059380\n",
       "0.25:0.75                               0.029690\n",
       "0.16666666666666666:0.8333333333333334  0.019793\n",
       "0.1:0.9                                 0.011876"
      ]
     },
     "execution_count": 26,
     "metadata": {},
     "output_type": "execute_result"
    }
   ],
   "source": [
    "Concretemodel_Need_2_Data['reaction_kcat_MW']=reaction_kcat_MW=pd.read_csv('./3_mass/EC/reaction_kcat_MW_MAM2.csv',index_col=0)\n",
    "Concretemodel_Need_2_Data['reaction_kcat_MW']=unpdate_kcat_mw(Concretemodel_Need_2_Data['reaction_list'],Concretemodel_Need_2_Data['reaction_kcat_MW'],'./3_mass/EC/reaction_kcat_MW_2mass.csv')\n",
    "pass_v=0\n",
    "result_2_flux=pd.DataFrame()\n",
    "for i in range(0,len(list_2_x)):\n",
    "    b=ECM_FBA(Concretemodel_Need_2_Data,10,list_2_x[i],list_2_y[i],0,0,0.55,0.1,'EX_ra_e')\n",
    "    print('A:B='+str(list_2_x[i])+':'+str(list_2_y[i]))\n",
    "    print('→obj:'+str(b.obj()))\n",
    "    result_2_flux.at[(str(list_2_x[i])+':'+str(list_2_y[i])),'flux']=b.obj()\n",
    "    # a_obj=get_two_float(a.obj(),2)\n",
    "    # b=ECM_pFBA(100,list_x[i],list_y[i],a_obj,0,0,0.1,0.1)\n",
    "    # print('pFBA')\n",
    "    # print('glc:'+str(b.reaction['EX_glc__D_e_reverse'].value))\n",
    "    # print('glc_A:'+str(b.reaction['A_glc__D_e_con_1_reverse'].value))\n",
    "    # print('glc_B:'+str(b.reaction['B_glc__D_e_con_2'].value))\n",
    "    if pass_v>b.obj():\n",
    "        print('True')\n",
    "    else:\n",
    "        print('False')\n",
    "    pass_v=b.obj()\n",
    "result_2_flux"
   ]
  },
  {
   "cell_type": "markdown",
   "metadata": {},
   "source": [
    "Simulation Three-strain Strategy (multi thread)"
   ]
  },
  {
   "cell_type": "code",
   "execution_count": 27,
   "metadata": {},
   "outputs": [],
   "source": [
    "from concurrent.futures import ProcessPoolExecutor, as_completed\n",
    "import datetime\n",
    "import sys\n",
    "from CulECpyT import *"
   ]
  },
  {
   "cell_type": "code",
   "execution_count": 28,
   "metadata": {},
   "outputs": [],
   "source": [
    "model_CA_SAA_RA_file='./3_mass/model/iML1515_CA_SAA_RA.json'\n",
    "model_file=model_CA_SAA_RA_file\n",
    "reaction_kcat_MW_file='./3_mass/EC/reaction_kcat_MW.csv'\n",
    "Concretemodel_Need_Data=Get_Concretemodel_Need_Data_3_json(model_file,reaction_kcat_MW_file)\n",
    "Concretemodel_Need_Data['reaction_kcat_MW']=reaction_kcat_MW=pd.read_csv('./3_mass/EC/reaction_kcat_MW_MAM2.csv',index_col=0)\n",
    "Concretemodel_Need_Data['reaction_kcat_MW']=unpdate_3_kcat_mw(Concretemodel_Need_Data['reaction_list'],Concretemodel_Need_Data['reaction_kcat_MW'],'./3_mass/EC/reaction_kcat_MW_3mass.csv')\n",
    "list_x=[1/4,1/4,1/2,1/3,1/5,2/5,2/5,1/6,1/6,1/3,1/3,1/2,1/2,1/7,3/7,3/7]\n",
    "list_y=[1/4,1/2,1/4,1/3,2/5,1/5,2/5,1/3,1/2,1/6,1/2,1/6,1/3,3/7,1/7,3/7]\n",
    "list_z=[1/2,1/4,1/4,1/3,2/5,2/5,1/5,1/2,1/3,1/2,1/6,1/3,1/6,3/7,3/7,1/7]\n",
    "list_triple=[]\n",
    "for i in range(0,len(list_x)):\n",
    "    list_triple.append((list_x[i],list_y[i],list_z[i]))\n",
    "# start = datetime.datetime.now()"
   ]
  },
  {
   "cell_type": "code",
   "execution_count": 29,
   "metadata": {},
   "outputs": [],
   "source": [
    "# Concretemodel_Need_Data['reaction_kcat_MW']=reaction_kcat_MW=pd.read_csv('./3_mass/EC/reaction_kcat_MW.csv',index_col=0)\n",
    "Concretemodel_Need_Data['reaction_kcat_MW']=reaction_kcat_MW=pd.read_csv('./3_mass/EC/reaction_kcat_MW_MAM2.csv',index_col=0)\n",
    "Concretemodel_Need_Data['reaction_kcat_MW']=unpdate_3_kcat_mw(Concretemodel_Need_Data['reaction_list'],Concretemodel_Need_Data['reaction_kcat_MW'],'./3_mass/EC/reaction_kcat_MW_3mass.csv')"
   ]
  },
  {
   "cell_type": "code",
   "execution_count": 30,
   "metadata": {},
   "outputs": [],
   "source": [
    "CA=['TAL']#,'HpaBC_CA'\n",
    "SAA=['D_LDH_1','D_LDH_2']#,'HpaB_2''HpaB_1',\n",
    "RA=['4CL']#"
   ]
  },
  {
   "cell_type": "code",
   "execution_count": 31,
   "metadata": {},
   "outputs": [
    {
     "name": "stdout",
     "output_type": "stream",
     "text": [
      "------CA------\n",
      "TAL:2.383275261\n",
      "------SAA------\n",
      "D_LDH_1:1.480833997\n",
      "D_LDH_2:1.480833997\n",
      "------RA------\n",
      "4CL:26.32835821\n"
     ]
    }
   ],
   "source": [
    "print('------CA------')\n",
    "for i in CA:\n",
    "    print (i+':'+str(Concretemodel_Need_Data['reaction_kcat_MW'].at['A_'+i,'kcat_MW']))\n",
    "print('------SAA------')\n",
    "for i in SAA:\n",
    "    print (i+':'+str(Concretemodel_Need_Data['reaction_kcat_MW'].at['B_'+i,'kcat_MW']))\n",
    "print('------RA------')\n",
    "for i in RA:\n",
    "    print (i+':'+str(Concretemodel_Need_Data['reaction_kcat_MW'].at['C_'+i,'kcat_MW']))"
   ]
  },
  {
   "cell_type": "code",
   "execution_count": 32,
   "metadata": {},
   "outputs": [
    {
     "name": "stdout",
     "output_type": "stream",
     "text": [
      "0:01:53.983584\n",
      "{<Future at 0x1d665b4ff60 state=finished returned float>: (0.25, 0.25, 0.5), <Future at 0x1d662340860 state=finished returned float>: (0.25, 0.5, 0.25), <Future at 0x1d662340748 state=finished returned float>: (0.5, 0.25, 0.25), <Future at 0x1d662340ef0 state=finished returned float>: (0.3333333333333333, 0.3333333333333333, 0.3333333333333333), <Future at 0x1d662340400 state=finished returned float>: (0.2, 0.4, 0.4), <Future at 0x1d662340b00 state=finished returned float>: (0.4, 0.2, 0.4), <Future at 0x1d662340a20 state=finished returned float>: (0.4, 0.4, 0.2), <Future at 0x1d662340cc0 state=finished returned float>: (0.16666666666666666, 0.3333333333333333, 0.5), <Future at 0x1d664208828 state=finished returned float>: (0.16666666666666666, 0.5, 0.3333333333333333), <Future at 0x1d6649d79e8 state=finished returned float>: (0.3333333333333333, 0.16666666666666666, 0.5), <Future at 0x1d6649d7be0 state=finished returned float>: (0.3333333333333333, 0.5, 0.16666666666666666), <Future at 0x1d6649d7518 state=finished returned float>: (0.5, 0.16666666666666666, 0.3333333333333333), <Future at 0x1d6649d7e80 state=finished returned float>: (0.5, 0.3333333333333333, 0.16666666666666666), <Future at 0x1d6649d7dd8 state=finished returned float>: (0.14285714285714285, 0.42857142857142855, 0.42857142857142855), <Future at 0x1d6649d76d8 state=finished returned float>: (0.42857142857142855, 0.14285714285714285, 0.42857142857142855), <Future at 0x1d6649d72e8 state=finished returned float>: (0.42857142857142855, 0.42857142857142855, 0.14285714285714285)}\n"
     ]
    }
   ],
   "source": [
    "if __name__ == \"__main__\":\n",
    "    pool=ProcessPoolExecutor(max_workers=8)\n",
    "    with pool as executor:\n",
    "        start = datetime.datetime.now()\n",
    "        #print(\"pass_2\")\n",
    "        tmp=[]\n",
    "        futures = {executor.submit(thread_FBA,Concretemodel_Need_Data,10,(triple),0,0,0,0.25,0.15,0.45,'EX_ra_e'): triple for triple in list_triple}\n",
    "        # for future in as_completed(futures):\n",
    "        #     tmp.append(future.result())\n",
    "    end = datetime.datetime.now()\n",
    "    print (end - start)\n",
    "    print(futures)"
   ]
  },
  {
   "cell_type": "code",
   "execution_count": 33,
   "metadata": {},
   "outputs": [
    {
     "name": "stdout",
     "output_type": "stream",
     "text": [
      "A:B:C=2:1:3\n",
      "0.043082472195294486\n",
      "A:B:C=1:3:3\n",
      "0.04812151243379503\n",
      "A:B:C=1:1:2\n",
      "0.06462398086620169\n",
      "A:B:C=2:3:1\n",
      "0.11228352901220735\n",
      "A:B:C=2:1:1\n",
      "0.06462370829297015\n",
      "A:B:C=3:1:2\n",
      "0.04308265391080113\n",
      "A:B:C=2:1:2\n",
      "0.05169896663437612\n",
      "A:B:C=1:1:1\n",
      "0.08616530782160225\n",
      "A:B:C=3:3:1\n",
      "0.11078396719918666\n",
      "A:B:C=3:1:3\n",
      "0.036927833310252414\n",
      "A:B:C=1:2:3\n",
      "0.056141764506094205\n",
      "A:B:C=3:2:1\n",
      "0.08616530782158331\n",
      "A:B:C=1:2:1\n",
      "0.08421336651406364\n",
      "A:B:C=2:2:1\n",
      "0.10339793326875224\n",
      "A:B:C=1:3:2\n",
      "0.056141764506113155\n",
      "A:B:C=1:2:2\n",
      "0.06737011740733578\n"
     ]
    }
   ],
   "source": [
    "result_3_list_mass=pd.DataFrame()\n",
    "for future in as_completed(futures):\n",
    "    x,y,z=futures[future]\n",
    "    real=1/min(x,y,z)\n",
    "    real_x=int(x*real)\n",
    "    real_y=int(y*real)\n",
    "    real_z=int(z*real)\n",
    "    print('A:B:C='+str(real_x)+':'+str(real_y)+':'+str(real_z))\n",
    "    print(future.result())\n",
    "    result_3_list_mass.at[str(real_x)+':'+str(real_y)+':'+str(real_z),'flux']=future.result()"
   ]
  },
  {
   "cell_type": "code",
   "execution_count": 34,
   "metadata": {},
   "outputs": [
    {
     "data": {
      "text/html": [
       "<div>\n",
       "<style scoped>\n",
       "    .dataframe tbody tr th:only-of-type {\n",
       "        vertical-align: middle;\n",
       "    }\n",
       "\n",
       "    .dataframe tbody tr th {\n",
       "        vertical-align: top;\n",
       "    }\n",
       "\n",
       "    .dataframe thead th {\n",
       "        text-align: right;\n",
       "    }\n",
       "</style>\n",
       "<table border=\"1\" class=\"dataframe\">\n",
       "  <thead>\n",
       "    <tr style=\"text-align: right;\">\n",
       "      <th></th>\n",
       "      <th>flux</th>\n",
       "    </tr>\n",
       "  </thead>\n",
       "  <tbody>\n",
       "    <tr>\n",
       "      <th>2:1:3</th>\n",
       "      <td>0.043082</td>\n",
       "    </tr>\n",
       "    <tr>\n",
       "      <th>1:3:3</th>\n",
       "      <td>0.048122</td>\n",
       "    </tr>\n",
       "    <tr>\n",
       "      <th>1:1:2</th>\n",
       "      <td>0.064624</td>\n",
       "    </tr>\n",
       "    <tr>\n",
       "      <th>2:3:1</th>\n",
       "      <td>0.112284</td>\n",
       "    </tr>\n",
       "    <tr>\n",
       "      <th>2:1:1</th>\n",
       "      <td>0.064624</td>\n",
       "    </tr>\n",
       "    <tr>\n",
       "      <th>3:1:2</th>\n",
       "      <td>0.043083</td>\n",
       "    </tr>\n",
       "    <tr>\n",
       "      <th>2:1:2</th>\n",
       "      <td>0.051699</td>\n",
       "    </tr>\n",
       "    <tr>\n",
       "      <th>1:1:1</th>\n",
       "      <td>0.086165</td>\n",
       "    </tr>\n",
       "    <tr>\n",
       "      <th>3:3:1</th>\n",
       "      <td>0.110784</td>\n",
       "    </tr>\n",
       "    <tr>\n",
       "      <th>3:1:3</th>\n",
       "      <td>0.036928</td>\n",
       "    </tr>\n",
       "    <tr>\n",
       "      <th>1:2:3</th>\n",
       "      <td>0.056142</td>\n",
       "    </tr>\n",
       "    <tr>\n",
       "      <th>3:2:1</th>\n",
       "      <td>0.086165</td>\n",
       "    </tr>\n",
       "    <tr>\n",
       "      <th>1:2:1</th>\n",
       "      <td>0.084213</td>\n",
       "    </tr>\n",
       "    <tr>\n",
       "      <th>2:2:1</th>\n",
       "      <td>0.103398</td>\n",
       "    </tr>\n",
       "    <tr>\n",
       "      <th>1:3:2</th>\n",
       "      <td>0.056142</td>\n",
       "    </tr>\n",
       "    <tr>\n",
       "      <th>1:2:2</th>\n",
       "      <td>0.067370</td>\n",
       "    </tr>\n",
       "  </tbody>\n",
       "</table>\n",
       "</div>"
      ],
      "text/plain": [
       "           flux\n",
       "2:1:3  0.043082\n",
       "1:3:3  0.048122\n",
       "1:1:2  0.064624\n",
       "2:3:1  0.112284\n",
       "2:1:1  0.064624\n",
       "3:1:2  0.043083\n",
       "2:1:2  0.051699\n",
       "1:1:1  0.086165\n",
       "3:3:1  0.110784\n",
       "3:1:3  0.036928\n",
       "1:2:3  0.056142\n",
       "3:2:1  0.086165\n",
       "1:2:1  0.084213\n",
       "2:2:1  0.103398\n",
       "1:3:2  0.056142\n",
       "1:2:2  0.067370"
      ]
     },
     "execution_count": 34,
     "metadata": {},
     "output_type": "execute_result"
    }
   ],
   "source": [
    "result_3_list_mass"
   ]
  },
  {
   "cell_type": "code",
   "execution_count": 35,
   "metadata": {},
   "outputs": [],
   "source": [
    "result_3_list=pd.DataFrame()\n",
    "for i in range(0,len(list_x)):\n",
    "    real=1/min([list_x[i],list_y[i],list_z[i]])\n",
    "    real_x=int(list_x[i]*real)\n",
    "    real_y=int(list_y[i]*real)\n",
    "    real_z=int(list_z[i]*real)\n",
    "    result_3_list.at[str(real_x)+':'+str(real_y)+':'+str(real_z),'flux']=result_3_list_mass.at[str(real_x)+':'+str(real_y)+':'+str(real_z),'flux']"
   ]
  },
  {
   "cell_type": "code",
   "execution_count": 36,
   "metadata": {},
   "outputs": [
    {
     "data": {
      "text/html": [
       "<div>\n",
       "<style scoped>\n",
       "    .dataframe tbody tr th:only-of-type {\n",
       "        vertical-align: middle;\n",
       "    }\n",
       "\n",
       "    .dataframe tbody tr th {\n",
       "        vertical-align: top;\n",
       "    }\n",
       "\n",
       "    .dataframe thead th {\n",
       "        text-align: right;\n",
       "    }\n",
       "</style>\n",
       "<table border=\"1\" class=\"dataframe\">\n",
       "  <thead>\n",
       "    <tr style=\"text-align: right;\">\n",
       "      <th></th>\n",
       "      <th>flux</th>\n",
       "    </tr>\n",
       "  </thead>\n",
       "  <tbody>\n",
       "    <tr>\n",
       "      <th>1:1:2</th>\n",
       "      <td>0.064624</td>\n",
       "    </tr>\n",
       "    <tr>\n",
       "      <th>1:2:1</th>\n",
       "      <td>0.084213</td>\n",
       "    </tr>\n",
       "    <tr>\n",
       "      <th>2:1:1</th>\n",
       "      <td>0.064624</td>\n",
       "    </tr>\n",
       "    <tr>\n",
       "      <th>1:1:1</th>\n",
       "      <td>0.086165</td>\n",
       "    </tr>\n",
       "    <tr>\n",
       "      <th>1:2:2</th>\n",
       "      <td>0.067370</td>\n",
       "    </tr>\n",
       "    <tr>\n",
       "      <th>2:1:2</th>\n",
       "      <td>0.051699</td>\n",
       "    </tr>\n",
       "    <tr>\n",
       "      <th>2:2:1</th>\n",
       "      <td>0.103398</td>\n",
       "    </tr>\n",
       "    <tr>\n",
       "      <th>1:2:3</th>\n",
       "      <td>0.056142</td>\n",
       "    </tr>\n",
       "    <tr>\n",
       "      <th>1:3:2</th>\n",
       "      <td>0.056142</td>\n",
       "    </tr>\n",
       "    <tr>\n",
       "      <th>2:1:3</th>\n",
       "      <td>0.043082</td>\n",
       "    </tr>\n",
       "    <tr>\n",
       "      <th>2:3:1</th>\n",
       "      <td>0.112284</td>\n",
       "    </tr>\n",
       "    <tr>\n",
       "      <th>3:1:2</th>\n",
       "      <td>0.043083</td>\n",
       "    </tr>\n",
       "    <tr>\n",
       "      <th>3:2:1</th>\n",
       "      <td>0.086165</td>\n",
       "    </tr>\n",
       "    <tr>\n",
       "      <th>1:3:3</th>\n",
       "      <td>0.048122</td>\n",
       "    </tr>\n",
       "    <tr>\n",
       "      <th>3:1:3</th>\n",
       "      <td>0.036928</td>\n",
       "    </tr>\n",
       "    <tr>\n",
       "      <th>3:3:1</th>\n",
       "      <td>0.110784</td>\n",
       "    </tr>\n",
       "  </tbody>\n",
       "</table>\n",
       "</div>"
      ],
      "text/plain": [
       "           flux\n",
       "1:1:2  0.064624\n",
       "1:2:1  0.084213\n",
       "2:1:1  0.064624\n",
       "1:1:1  0.086165\n",
       "1:2:2  0.067370\n",
       "2:1:2  0.051699\n",
       "2:2:1  0.103398\n",
       "1:2:3  0.056142\n",
       "1:3:2  0.056142\n",
       "2:1:3  0.043082\n",
       "2:3:1  0.112284\n",
       "3:1:2  0.043083\n",
       "3:2:1  0.086165\n",
       "1:3:3  0.048122\n",
       "3:1:3  0.036928\n",
       "3:3:1  0.110784"
      ]
     },
     "execution_count": 36,
     "metadata": {},
     "output_type": "execute_result"
    }
   ],
   "source": [
    "result_3_list"
   ]
  }
 ],
 "metadata": {
  "kernelspec": {
   "display_name": "Python 3.6.5 ('xby')",
   "language": "python",
   "name": "python3"
  },
  "language_info": {
   "codemirror_mode": {
    "name": "ipython",
    "version": 3
   },
   "file_extension": ".py",
   "mimetype": "text/x-python",
   "name": "python",
   "nbconvert_exporter": "python",
   "pygments_lexer": "ipython3",
   "version": "3.6.5"
  },
  "orig_nbformat": 4,
  "vscode": {
   "interpreter": {
    "hash": "678f2c0cb67aa00dbc6da583138b0769cb8531f72b670a012e2187460f06e842"
   }
  }
 },
 "nbformat": 4,
 "nbformat_minor": 2
}
