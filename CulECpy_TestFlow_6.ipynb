{
 "cells": [
  {
   "cell_type": "code",
   "execution_count": 1,
   "metadata": {},
   "outputs": [],
   "source": [
    "import cobra\n",
    "import re\n",
    "from cobra import Model, Reaction, Metabolite\n",
    "from cobra.flux_analysis import pfba\n",
    "import pandas as pd\n",
    "import numpy as np\n",
    "import xlrd\n",
    "import re\n",
    "import openpyxl\n",
    "from metnet import pathway \n",
    "import sys\n",
    "sys.path.append(r'./')\n",
    "from COBRApy_ECM_funcation import *\n",
    "from metnet import sbml_excel\n",
    "import os\n",
    "from copy import copy, deepcopy\n",
    "import numpy as np\n",
    "from cobra.io import write_sbml_model,save_json_model\n",
    "from ec_code.cobrapy_ec_model_function import convert_to_irreversible,isoenzyme_split"
   ]
  },
  {
   "cell_type": "code",
   "execution_count": 2,
   "metadata": {},
   "outputs": [],
   "source": [
    "from cobra.io import write_sbml_model,save_json_model,load_json_model,read_sbml_model"
   ]
  },
  {
   "cell_type": "markdown",
   "metadata": {},
   "source": [
    "#### model json file"
   ]
  },
  {
   "cell_type": "code",
   "execution_count": 3,
   "metadata": {},
   "outputs": [],
   "source": [
    "model_1515_773_file='./iCW773+iML1515/model/iML1515_iCW773.json'"
   ]
  },
  {
   "cell_type": "code",
   "execution_count": 847,
   "metadata": {},
   "outputs": [],
   "source": [
    "model_origin_1515='./iCW773+iML1515/model/iML1515_new.json'\n",
    "model_origin_773='./iCW773+iML1515/model/iCW773_final.json'"
   ]
  },
  {
   "cell_type": "code",
   "execution_count": 7,
   "metadata": {},
   "outputs": [
    {
     "name": "stdout",
     "output_type": "stream",
     "text": [
      "IN FLUXES            OUT FLUXES       OBJECTIVES\n",
      "-------------------  ---------------  ---------------------\n",
      "xyl__D_e  757        for_e     1e+03  BIOMASS_Ec_i...  25.4\n",
      "o2_e      623        h2o_e     1e+03\n",
      "fe2_e     609        h_e       1e+03\n",
      "nh4_e     274        fe3_e   609\n",
      "pi_e       24.5      ac_e    376\n",
      "so4_e       6.39     co2_e   348\n",
      "k_e         4.95     etoh_e  323\n",
      "mg2_e       0.22\n",
      "ca2_e       0.132\n",
      "cl_e        0.132\n",
      "cu2_e       0.018\n",
      "mn2_e       0.0175\n",
      "zn2_e       0.00866\n",
      "ni2_e       0.0082\n"
     ]
    }
   ],
   "source": [
    "model1=load_json_model(model_origin_1515)\n",
    "model1.reactions.get_by_id('EX_glc__D_e').bounds=(0,1000)\n",
    "model1.reactions.get_by_id('EX_xyl__D_e').bounds=(-1000,1000)\n",
    "# model.reactions.get_by_id('EX_lcts_e').bounds=(-2,1000)\n",
    "# model.reactions.get_by_id('EX_fru_e').bounds=(-10,1000)\n",
    "model1.optimize()\n",
    "model1.summary()"
   ]
  },
  {
   "cell_type": "code",
   "execution_count": 8,
   "metadata": {},
   "outputs": [
    {
     "data": {
      "text/plain": [
       "{'EX_pi_e': 1000.0,\n",
       " 'EX_h_e': 1000.0,\n",
       " 'EX_fe3_e': 1000.0,\n",
       " 'EX_mn2_e': 1000.0,\n",
       " 'EX_co2_e': 1000.0,\n",
       " 'EX_fe2_e': 1000.0,\n",
       " 'EX_xyl__D_e': 1000,\n",
       " 'EX_zn2_e': 1000.0,\n",
       " 'EX_mg2_e': 1000.0,\n",
       " 'EX_ca2_e': 1000.0,\n",
       " 'EX_ni2_e': 1000.0,\n",
       " 'EX_cu2_e': 1000.0,\n",
       " 'EX_cobalt2_e': 1000.0,\n",
       " 'EX_sel_e': 1000.0,\n",
       " 'EX_h2o_e': 1000.0,\n",
       " 'EX_nh4_e': 1000.0,\n",
       " 'EX_mobd_e': 1000.0,\n",
       " 'EX_so4_e': 1000.0,\n",
       " 'EX_k_e': 1000.0,\n",
       " 'EX_na1_e': 1000.0,\n",
       " 'EX_o2_e': 1000.0,\n",
       " 'EX_cl_e': 1000.0,\n",
       " 'EX_tungs_e': 1000.0,\n",
       " 'EX_slnt_e': 1000.0}"
      ]
     },
     "execution_count": 8,
     "metadata": {},
     "output_type": "execute_result"
    }
   ],
   "source": [
    "model1.medium"
   ]
  },
  {
   "cell_type": "code",
   "execution_count": 9,
   "metadata": {},
   "outputs": [
    {
     "name": "stdout",
     "output_type": "stream",
     "text": [
      "IN FLUXES            OUT FLUXES          OBJECTIVES\n",
      "-------------------  ------------------  ---------------------\n",
      "glc__D_e   564       h2o_e      1e+03    CG_biomass_c...  25.1\n",
      "o2_e       381       co2_e    981\n",
      "nh4_e      209       etoh_e   518\n",
      "k_e         31.8     h_e      341\n",
      "pi_e        12.5     ac_e     155\n",
      "so4_e        4.02    thymd_e    4.03\n",
      "mg2_e        1.41    glyc_e     0.00477\n",
      "fe3_e        1.27\n",
      "fe2_e        1.09\n",
      "ca2_e        0.847\n",
      "cl_e         0.847\n",
      "cu2_e        0.115\n",
      "mn2_e        0.113\n",
      "zn2_e        0.0555\n",
      "ni2_e        0.0525\n",
      "cobalt2_e    0.0041\n"
     ]
    }
   ],
   "source": [
    "model2=load_json_model(model_origin_773)\n",
    "model2.reactions.get_by_id('EX_glc_e').bounds=(-1000,1000)\n",
    "model2.reactions.get_by_id('EX_xyl__D_e').bounds=(-1000,1000)\n",
    "model2.optimize()\n",
    "model2.summary()"
   ]
  },
  {
   "cell_type": "code",
   "execution_count": 10,
   "metadata": {},
   "outputs": [
    {
     "data": {
      "text/plain": [
       "{'EX_fe2_e': 1000.0,\n",
       " 'EX_fe3_e': 1000.0,\n",
       " 'EX_glc_e': 1000,\n",
       " 'EX_xyl__D_e': 1000,\n",
       " 'EX_ca2_e_reverse': 1000.0,\n",
       " 'EX_co2_e_reverse': 1000.0,\n",
       " 'EX_cobalt2_e_reverse': 1000.0,\n",
       " 'EX_cu2_e_reverse': 1000.0,\n",
       " 'EX_glc_e_reverse': 4.67,\n",
       " 'EX_h2o_e_reverse': 1000.0,\n",
       " 'EX_k_e_reverse': 1000.0,\n",
       " 'EX_mg2_e_reverse': 1000.0,\n",
       " 'EX_mn2_e_reverse': 1000.0,\n",
       " 'EX_na1_e_reverse': 1000.0,\n",
       " 'EX_nh4_e_reverse': 1000.0,\n",
       " 'EX_ni2_e_reverse': 1000.0,\n",
       " 'EX_o2_e_reverse': 1000.0,\n",
       " 'EX_pi_e_reverse': 1000.0,\n",
       " 'EX_so4_e_reverse': 1000.0,\n",
       " 'EX_zn2_e_reverse': 1000.0,\n",
       " 'EX_BIOTIN_reverse': 1000.0,\n",
       " 'EX_cl_reverse': 1000.0}"
      ]
     },
     "execution_count": 10,
     "metadata": {},
     "output_type": "execute_result"
    }
   ],
   "source": [
    "model2.medium"
   ]
  },
  {
   "cell_type": "markdown",
   "metadata": {},
   "source": [
    "iBsu773 information file"
   ]
  },
  {
   "cell_type": "code",
   "execution_count": 11,
   "metadata": {},
   "outputs": [],
   "source": [
    "def sbml_to_excel(modelname,output):#模型SBML文件转为excel文件\n",
    "    from cobra.io.dict import model_to_dict\n",
    "    from cobra.io import read_sbml_model\n",
    "    import pandas as pd\n",
    "    model=read_sbml_model(modelname)\n",
    "    model_dict=model_to_dict(model,sort=False)\n",
    "    writer = pd.ExcelWriter(output)\n",
    "    pd.DataFrame(model_dict['metabolites']).to_excel(writer,'metabolites',index=False)\n",
    "    pd.DataFrame(model_dict['genes']).to_excel(writer,'genes',index=False)\n",
    "    model_df=pd.DataFrame(model_dict['reactions'])\n",
    "    model_df['reaction_eq'] = model_df.id.apply(lambda x: model.reactions.get_by_id(x).build_reaction_string(use_metabolite_names=False))\n",
    "    model_df['reaction_eq_name'] = model_df.id.apply(lambda x: model.reactions.get_by_id(x).build_reaction_string(use_metabolite_names=True))\n",
    "    model_df.to_excel(writer,'reactions',index=False)\n",
    "    writer.save()"
   ]
  },
  {
   "cell_type": "code",
   "execution_count": 12,
   "metadata": {},
   "outputs": [],
   "source": [
    "def json_to_excel(modelname,output):#模型json文件转为excel文件\n",
    "    from cobra.io.dict import model_to_dict\n",
    "    from cobra.io import load_json_model\n",
    "    import pandas as pd\n",
    "    model=load_json_model(modelname)\n",
    "    model_dict=model_to_dict(model,sort=False)\n",
    "    writer = pd.ExcelWriter(output)\n",
    "    pd.DataFrame(model_dict['metabolites']).to_excel(writer,'metabolites',index=False)\n",
    "    pd.DataFrame(model_dict['genes']).to_excel(writer,'genes',index=False)\n",
    "    model_df=pd.DataFrame(model_dict['reactions'])\n",
    "    model_df['reaction_eq'] = model_df.id.apply(lambda x: model.reactions.get_by_id(x).build_reaction_string(use_metabolite_names=False))\n",
    "    model_df['reaction_eq_name'] = model_df.id.apply(lambda x: model.reactions.get_by_id(x).build_reaction_string(use_metabolite_names=True))\n",
    "    model_df.to_excel(writer,'reactions',index=False)\n",
    "    writer.save()"
   ]
  },
  {
   "cell_type": "code",
   "execution_count": null,
   "metadata": {},
   "outputs": [],
   "source": [
    "json_to_excel('./iCW773+iML1515/model/iCW773_final.json','./iCW773+iML1515/model/iCW773_final.xlsx')"
   ]
  },
  {
   "cell_type": "code",
   "execution_count": null,
   "metadata": {},
   "outputs": [],
   "source": [
    "json_to_excel('./iCW773+iML1515/model/iML1515_new.json','./iCW773+iML1515/model/iMl1515_new.xlsx')"
   ]
  },
  {
   "cell_type": "markdown",
   "metadata": {},
   "source": [
    "#### model construction"
   ]
  },
  {
   "cell_type": "code",
   "execution_count": 292,
   "metadata": {},
   "outputs": [],
   "source": [
    "model1=load_json_model(model_origin_1515)"
   ]
  },
  {
   "cell_type": "code",
   "execution_count": 300,
   "metadata": {},
   "outputs": [
    {
     "data": {
      "text/html": [
       "\n",
       "        <table>\n",
       "            <tr>\n",
       "                <td><strong>Metabolite identifier</strong></td><td>pi_c</td>\n",
       "            </tr><tr>\n",
       "                <td><strong>Name</strong></td><td>Phosphate</td>\n",
       "            </tr><tr>\n",
       "                <td><strong>Memory address</strong></td>\n",
       "                <td>0x01b19d37bb70</td>\n",
       "            </tr><tr>\n",
       "                <td><strong>Formula</strong></td><td>HO4P</td>\n",
       "            </tr><tr>\n",
       "                <td><strong>Compartment</strong></td><td>c</td>\n",
       "            </tr><tr>\n",
       "                <td><strong>In 324 reaction(s)</strong></td><td>\n",
       "                    PPS, PRASCSi, PE140abcpp, PItpp, PGPP160, ACPPAT180, SELabcpp, PE141abcpp, LIPAabcpp, RIBabcpp, GTPDPDP, GNP, MALTabcpp, CYSabc2pp, GLUCYS, PGPP161, ACPPAT160, ACCOAC, PGP141abcpp, GLCP, GLUabcpp, ...</td>\n",
       "            </tr>\n",
       "        </table>"
      ],
      "text/plain": [
       "<Metabolite pi_c at 0x1b19d37bb70>"
      ]
     },
     "execution_count": 300,
     "metadata": {},
     "output_type": "execute_result"
    }
   ],
   "source": [
    "model1.metabolites.get_by_id('pi_c')"
   ]
  },
  {
   "cell_type": "markdown",
   "metadata": {},
   "source": [
    "reaction information"
   ]
  },
  {
   "cell_type": "code",
   "execution_count": 323,
   "metadata": {},
   "outputs": [],
   "source": [
    "model1=load_json_model(model_origin_1515)\n",
    "pydx5p_c=model1.metabolites.get_by_id('pydx5p_c')\n",
    "lys__L_c=model1.metabolites.get_by_id('lys__L_c')\n",
    "dap_c=model1.metabolites.get_by_id('15dap_c')\n",
    "r5p_c=model1.metabolites.get_by_id('r5p_c')\n",
    "g3p_c=model1.metabolites.get_by_id('g3p_c')\n",
    "glu__L_c=model1.metabolites.get_by_id('glu__L_c')\n",
    "gln__L_c=model1.metabolites.get_by_id('gln__L_c')\n",
    "pi_c=model1.metabolites.get_by_id('pi_c')\n",
    "h_c=model1.metabolites.get_by_id('h_c')\n",
    "h2o_c=model1.metabolites.get_by_id('h2o_c')\n",
    "EX_lys__L_e=model1.reactions.get_by_id('EX_lys__L_e')\n",
    "EX_lys__L_e.bounds=(-1000,1000)\n",
    "LYSDC=model1.reactions.get_by_id('LYSDC')\n",
    "pdx=Reaction(\"pdx\")\n",
    "pdx.name='BioID:RXN-11322'\n",
    "pdx.subsystem='unknow'\n",
    "pdx.lower_bound=-1000\n",
    "pdx.upper_bound=1000\n",
    "pdx.add_metabolites({\n",
    "    gln__L_c:-1.0,\n",
    "    g3p_c:-1.0,\n",
    "    r5p_c:-1.0,\n",
    "    pydx5p_c:1.0,\n",
    "    pi_c:1.0,\n",
    "    glu__L_c:1.0,\n",
    "    h2o_c:3.0,\n",
    "    h_c:1.0\n",
    "})\n",
    "model1.add_reaction(pdx)\n",
    "model1.reactions.get_by_id('EX_glc__D_e').bounds=(0,1000)\n",
    "#model1.reactions.get_by_id('EX_glc__D_e_reverse').bounds=(0,0)\n",
    "model1.reactions.get_by_id('EX_glyc_e').bounds=(-1000,1000)\n",
    "model_origin_1515_final=model_origin_1515.split('.json')[0]+'_final.json'\n",
    "save_json_model(model1,model_origin_1515_final)"
   ]
  },
  {
   "cell_type": "code",
   "execution_count": 344,
   "metadata": {},
   "outputs": [
    {
     "data": {
      "text/html": [
       "\n",
       "        <table>\n",
       "            <tr>\n",
       "                <td><strong>Reaction identifier</strong></td><td>LYSDC</td>\n",
       "            </tr><tr>\n",
       "                <td><strong>Name</strong></td><td>Lysine decarboxylase</td>\n",
       "            </tr><tr>\n",
       "                <td><strong>Memory address</strong></td>\n",
       "                <td>0x01b1aa2a2860</td>\n",
       "            </tr><tr>\n",
       "                <td><strong>Stoichiometry</strong></td>\n",
       "                <td>\n",
       "                    <p style='text-align:right'>h_c + lys__L_c --> 15dap_c + co2_c</p>\n",
       "                    <p style='text-align:right'>H+ + L-Lysine --> 1,5-Diaminopentane + CO2 CO2</p>\n",
       "                </td>\n",
       "            </tr><tr>\n",
       "                <td><strong>GPR</strong></td><td>b0186 or b4131</td>\n",
       "            </tr><tr>\n",
       "                <td><strong>Lower bound</strong></td><td>0.0</td>\n",
       "            </tr><tr>\n",
       "                <td><strong>Upper bound</strong></td><td>1000.0</td>\n",
       "            </tr>\n",
       "        </table>\n",
       "        "
      ],
      "text/plain": [
       "<Reaction LYSDC at 0x1b1aa2a2860>"
      ]
     },
     "execution_count": 344,
     "metadata": {},
     "output_type": "execute_result"
    }
   ],
   "source": [
    "LYSDC"
   ]
  },
  {
   "cell_type": "code",
   "execution_count": 324,
   "metadata": {},
   "outputs": [
    {
     "name": "stdout",
     "output_type": "stream",
     "text": [
      "IN FLUXES            OUT FLUXES        OBJECTIVES\n",
      "-------------------  ----------------  ---------------------\n",
      "glyc_e    841        h2o_e      1e+03  BIOMASS_Ec_i...  22.7\n",
      "lys__L_e  686        h_e        1e+03\n",
      "o2_e      454        for_e    998\n",
      "nh4_e     230        15dap_e  678\n",
      "pi_e       21.9      ac_e     480\n",
      "so4_e       5.72     co2_e    288\n",
      "k_e         4.43     etoh_e    34.8\n",
      "fe2_e       0.365\n",
      "mg2_e       0.197\n",
      "ca2_e       0.118\n",
      "cl_e        0.118\n",
      "cu2_e       0.0161\n",
      "mn2_e       0.0157\n",
      "zn2_e       0.00775\n",
      "ni2_e       0.00734\n"
     ]
    }
   ],
   "source": [
    "model1.optimize()\n",
    "model1.summary()"
   ]
  },
  {
   "cell_type": "code",
   "execution_count": 303,
   "metadata": {},
   "outputs": [],
   "source": [
    "model2=load_json_model(model_origin_773)\n",
    "glyc_c=model2.metabolites.get_by_id('glyc_c')\n",
    "dha_c=model2.metabolites.get_by_id('dha_c')\n",
    "dhap_c=model2.metabolites.get_by_id('dhap_c')\n",
    "#ASPK reaction up\n",
    "lys__L_c=model2.metabolites.get_by_id('lys__L_c')\n",
    "EX_lys_L_e=model2.reactions.get_by_id('EX_lys_L_e')\n",
    "EX_glyc_e=model2.reactions.get_by_id('EX_glyc_e')\n",
    "# metabolites\n",
    "nad_c=model2.metabolites.get_by_id('nad_c')\n",
    "nadh_c=model2.metabolites.get_by_id('nadh_c')\n",
    "h_c=model2.metabolites.get_by_id('h_c')\n",
    "DhaD=Reaction(\"DhaD\")\n",
    "DhaD.name='BioID:GLYCDEH-RXN'\n",
    "DhaD.subsystem='unknow'\n",
    "DhaD.lower_bound=-1000\n",
    "DhaD.upper_bound=1000\n",
    "DhaD.add_metabolites({\n",
    "    glyc_c:-1.0,\n",
    "    nad_c:-1.0,\n",
    "    dha_c:1.0,\n",
    "    nadh_c:1.0,\n",
    "    h_c:1.0\n",
    "})\n",
    "# metabolites\n",
    "atp_c=model2.metabolites.get_by_id('atp_c')\n",
    "adp_c=model2.metabolites.get_by_id('adp_c')\n",
    "DhaK=Reaction(\"DhaK\")\n",
    "DhaK.name='BioID:GLYCERONE-KINASE-RXN'\n",
    "DhaK.subsystem='unknow'\n",
    "DhaK.lower_bound=0\n",
    "DhaK.upper_bound=1000\n",
    "DhaK.add_metabolites({\n",
    "    dha_c:-1.0,\n",
    "    atp_c:-1.0,\n",
    "    dhap_c:1.0,\n",
    "    adp_c:1.0,\n",
    "    h_c:1.0,\n",
    "})\n",
    "model2.add_reactions([DhaD,DhaK])\n",
    "EX_glyc_e.bounds=(-1000,1000)\n",
    "EX_lys_L_e.bounds=(-1000,1000)\n",
    "model2.reactions.get_by_id('EX_glc_e').bounds=(0,1000)\n",
    "model2.reactions.get_by_id('EX_glc_e_reverse').bounds=(0,0)\n",
    "model_origin_773_lys=model_origin_773.split('.json')[0]+'_lys.json'\n",
    "save_json_model(model2,model_origin_773_lys)"
   ]
  },
  {
   "cell_type": "code",
   "execution_count": 304,
   "metadata": {},
   "outputs": [
    {
     "name": "stdout",
     "output_type": "stream",
     "text": [
      "IN FLUXES             OUT FLUXES         OBJECTIVES\n",
      "--------------------  -----------------  ---------------------\n",
      "glyc_e     482        h2o_e       1e+03  CG_biomass_c...  19.3\n",
      "o2_e       298        h_e       312\n",
      "nh4_e      150        lac__L_e  182\n",
      "k_e         24.4      co2_e     126\n",
      "pi_e         9.58     met__L_e    3.09\n",
      "so4_e        6.18\n",
      "lys__L_e     3.95\n",
      "mg2_e        1.08\n",
      "fe3_e        0.976\n",
      "fe2_e        0.84\n",
      "ca2_e        0.651\n",
      "cl_e         0.651\n",
      "cu2_e        0.0886\n",
      "mn2_e        0.0865\n",
      "zn2_e        0.0426\n",
      "ni2_e        0.0404\n",
      "cobalt2_e    0.00315\n"
     ]
    }
   ],
   "source": [
    "model2.optimize()\n",
    "model2.summary()"
   ]
  },
  {
   "cell_type": "markdown",
   "metadata": {},
   "source": [
    "medium analyze"
   ]
  },
  {
   "cell_type": "code",
   "execution_count": 52,
   "metadata": {},
   "outputs": [
    {
     "data": {
      "text/plain": [
       "{'EX_pi_e': 1000.0,\n",
       " 'EX_h_e': 1000.0,\n",
       " 'EX_fe3_e': 1000.0,\n",
       " 'EX_glyc_e': 1000,\n",
       " 'EX_mn2_e': 1000.0,\n",
       " 'EX_co2_e': 1000.0,\n",
       " 'EX_fe2_e': 1000.0,\n",
       " 'EX_lys__L_e': 1000,\n",
       " 'EX_zn2_e': 1000.0,\n",
       " 'EX_mg2_e': 1000.0,\n",
       " 'EX_ca2_e': 1000.0,\n",
       " 'EX_ni2_e': 1000.0,\n",
       " 'EX_cu2_e': 1000.0,\n",
       " 'EX_cobalt2_e': 1000.0,\n",
       " 'EX_sel_e': 1000.0,\n",
       " 'EX_h2o_e': 1000.0,\n",
       " 'EX_nh4_e': 1000.0,\n",
       " 'EX_mobd_e': 1000.0,\n",
       " 'EX_so4_e': 1000.0,\n",
       " 'EX_k_e': 1000.0,\n",
       " 'EX_na1_e': 1000.0,\n",
       " 'EX_o2_e': 1000.0,\n",
       " 'EX_cl_e': 1000.0,\n",
       " 'EX_tungs_e': 1000.0,\n",
       " 'EX_slnt_e': 1000.0}"
      ]
     },
     "execution_count": 52,
     "metadata": {},
     "output_type": "execute_result"
    }
   ],
   "source": [
    "model1=load_json_model(model_origin_1515_final)\n",
    "model1.medium"
   ]
  },
  {
   "cell_type": "code",
   "execution_count": 54,
   "metadata": {},
   "outputs": [
    {
     "data": {
      "text/plain": [
       "{'EX_fe2_e': 1000.0,\n",
       " 'EX_fe3_e': 1000.0,\n",
       " 'EX_glyc_e': 1000,\n",
       " 'EX_lys_L_e': 1000,\n",
       " 'EX_ca2_e_reverse': 1000.0,\n",
       " 'EX_co2_e_reverse': 1000.0,\n",
       " 'EX_cobalt2_e_reverse': 1000.0,\n",
       " 'EX_cu2_e_reverse': 1000.0,\n",
       " 'EX_h2o_e_reverse': 1000.0,\n",
       " 'EX_k_e_reverse': 1000.0,\n",
       " 'EX_mg2_e_reverse': 1000.0,\n",
       " 'EX_mn2_e_reverse': 1000.0,\n",
       " 'EX_na1_e_reverse': 1000.0,\n",
       " 'EX_nh4_e_reverse': 1000.0,\n",
       " 'EX_ni2_e_reverse': 1000.0,\n",
       " 'EX_o2_e_reverse': 1000.0,\n",
       " 'EX_pi_e_reverse': 1000.0,\n",
       " 'EX_so4_e_reverse': 1000.0,\n",
       " 'EX_zn2_e_reverse': 1000.0,\n",
       " 'EX_BIOTIN_reverse': 1000.0,\n",
       " 'EX_cl_reverse': 1000.0}"
      ]
     },
     "execution_count": 54,
     "metadata": {},
     "output_type": "execute_result"
    }
   ],
   "source": [
    "model2=load_json_model(model_origin_773_lys)\n",
    "model2.medium"
   ]
  },
  {
   "cell_type": "code",
   "execution_count": 57,
   "metadata": {},
   "outputs": [
    {
     "name": "stdout",
     "output_type": "stream",
     "text": [
      "fe2_e\n",
      "fe3_e\n",
      "glyc_e\n",
      "lys__L_e\n",
      "ca2_e\n",
      "co2_e\n",
      "cobalt2_e\n",
      "cu2_e\n",
      "h2o_e\n",
      "k_e\n",
      "mg2_e\n",
      "mn2_e\n",
      "na1_e\n",
      "nh4_e\n",
      "ni2_e\n",
      "o2_e\n",
      "pi_e\n",
      "so4_e\n",
      "zn2_e\n",
      "btn_e\n",
      "cl_e\n"
     ]
    }
   ],
   "source": [
    "for i in model2.medium:\n",
    "    r=model2.reactions.get_by_id(i)\n",
    "    #print(r.metabolites.keys())\n",
    "    for j in r.metabolites.keys():\n",
    "        print(j.id)"
   ]
  },
  {
   "cell_type": "markdown",
   "metadata": {},
   "source": [
    "construct double-model"
   ]
  },
  {
   "cell_type": "code",
   "execution_count": 325,
   "metadata": {},
   "outputs": [
    {
     "name": "stdout",
     "output_type": "stream",
     "text": [
      "--------A  model----------\n",
      "2714\n",
      "1877\n",
      "1516\n",
      "--------B  model----------\n",
      "1852\n",
      "949\n",
      "794\n",
      "A_pi_e_con_1\n",
      "A_h_e_con_1\n",
      "A_fe3_e_con_1\n",
      "A_glyc_e_con_1\n",
      "A_mn2_e_con_1\n",
      "A_co2_e_con_1\n",
      "A_fe2_e_con_1\n",
      "A_lys__L_e_con_1\n",
      "A_zn2_e_con_1\n",
      "A_mg2_e_con_1\n",
      "A_ca2_e_con_1\n",
      "A_ni2_e_con_1\n",
      "A_cu2_e_con_1\n",
      "A_cobalt2_e_con_1\n",
      "A_sel_e_con_1\n",
      "A_h2o_e_con_1\n",
      "A_nh4_e_con_1\n",
      "A_mobd_e_con_1\n",
      "A_so4_e_con_1\n",
      "A_k_e_con_1\n",
      "A_na1_e_con_1\n",
      "A_o2_e_con_1\n",
      "A_cl_e_con_1\n",
      "A_tungs_e_con_1\n",
      "A_slnt_e_con_1\n",
      "A_fe2_e_con_1\n",
      "A_fe3_e_con_1\n",
      "A_glyc_e_con_1\n",
      "A_lys__L_e_con_1\n",
      "A_ca2_e_con_1\n",
      "A_co2_e_con_1\n",
      "A_cobalt2_e_con_1\n",
      "A_cu2_e_con_1\n",
      "A_h2o_e_con_1\n",
      "A_k_e_con_1\n",
      "A_mg2_e_con_1\n",
      "A_mn2_e_con_1\n",
      "A_na1_e_con_1\n",
      "A_nh4_e_con_1\n",
      "A_ni2_e_con_1\n",
      "A_o2_e_con_1\n",
      "A_pi_e_con_1\n",
      "A_so4_e_con_1\n",
      "A_zn2_e_con_1\n",
      "A_btn_e_con_1\n",
      "A_cl_e_con_1\n"
     ]
    }
   ],
   "source": [
    "model_a=load_json_model(model_origin_1515_final)\n",
    "model_b=load_json_model(model_origin_773_lys)\n",
    "# model_a.reactions.get_by_id('EX_glc__D_e').bounds=(-1000,1000)\n",
    "# model_a.reactions.get_by_id('EX_'+meta_test+'_e').bounds=(0,1000)\n",
    "# model_b.reactions.get_by_id('EX_'+meta_test+'_e').bounds=(-1000,0)\n",
    "model_a.reactions.get_by_id('EX_glc__D_e').bounds=(0,1000)\n",
    "model_b.reactions.get_by_id('EX_glc_e').bounds=(0,1000)\n",
    "model_a.reactions.get_by_id('EX_glyc_e').bounds=(-1000,1000)\n",
    "model_b.reactions.get_by_id('EX_glyc_e').bounds=(-1000,1000)\n",
    "model_b.reactions.get_by_id('EX_lys_L_e').bounds=(-1000,1000)\n",
    "model_a.reactions.get_by_id('BIOMASS_Ec_iML1515_core_75p37M').bounds=(0.1,1000)\n",
    "model_b.reactions.get_by_id('CG_biomass_cgl_ATCC13032').bounds=(0.1,1000)\n",
    "print(\"--------A  model----------\")\n",
    "print(len(model_a.reactions))\n",
    "print(len(model_a.metabolites))\n",
    "print(len(model_a.genes) )\n",
    "print(\"--------B  model----------\")\n",
    "print(len(model_b.reactions))\n",
    "print(len(model_b.metabolites))\n",
    "print(len(model_b.genes) )\n",
    "model=deepcopy(model_a)\n",
    "for i in model.reactions:\n",
    "    i.id='A_'+i.id\n",
    "for i in model.metabolites:\n",
    "    i.id='A_'+i.id\n",
    "    i.name='A_'+i.name\n",
    "model_t=deepcopy(model_b)\n",
    "# for i in model_t.genes:\n",
    "#     i.id=i.id+'_B'\n",
    "for i in model_t.reactions:\n",
    "    i.id='B_'+i.id\n",
    "for i in model_t.metabolites:\n",
    "    i.id='B_'+i.id\n",
    "    i.name='B_'+i.name\n",
    "for i in model_t.reactions:\n",
    "    model.add_reaction(i)\n",
    "e_meta_rn={}\n",
    "for meta in model_a.metabolites:\n",
    "    if meta.compartment=='e' :\n",
    "        meta_a=model.metabolites.get_by_id('A_'+meta.id)\n",
    "        e_meta_rn[meta.id+\"_1\"]=Reaction('A_'+meta.id+'_con_1')\n",
    "        e_meta_rn[meta.id+\"_1\"].name = meta.id+' Connection 1'\n",
    "        e_meta_rn[meta.id+\"_1\"].subsystem = 'unKnow'\n",
    "        e_meta_rn[meta.id+\"_1\"].lower_bound = 0. # This is the default\n",
    "        e_meta_rn[meta.id+\"_1\"].upper_bound = 1000. # This is the default\n",
    "        e_meta_rn[meta.id+\"_1\"].add_metabolites({\n",
    "            meta_a:-1.0,\n",
    "            meta:1.0\n",
    "            })\n",
    "        model.add_reactions([e_meta_rn[meta.id+\"_1\"]])\n",
    "for meta in model_b.metabolites:\n",
    "    if meta.compartment=='e' :\n",
    "        meta_b=model_t.metabolites.get_by_id('B_'+meta.id)\n",
    "        e_meta_rn[meta.id+\"_2\"]=Reaction('B_'+meta.id+'_con_2')\n",
    "        e_meta_rn[meta.id+\"_2\"].name = meta.id+' Connection 2'\n",
    "        e_meta_rn[meta.id+\"_2\"].subsystem = 'unKnow'\n",
    "        e_meta_rn[meta.id+\"_2\"].lower_bound = -1000. # This is the default\n",
    "        e_meta_rn[meta.id+\"_2\"].upper_bound = 0. # This is the default\n",
    "        e_meta_rn[meta.id+\"_2\"].add_metabolites({\n",
    "            meta_b:1.0,\n",
    "            meta:-1.0\n",
    "            })\n",
    "        model.add_reactions([e_meta_rn[meta.id+\"_2\"]])\n",
    "origin_model1=cobra.io.load_json_model(model_origin_1515_final)\n",
    "origin_model1.medium\n",
    "for i in origin_model1.medium:\n",
    "    model.add_reaction(origin_model1.reactions.get_by_id(i))\n",
    "    ex_meta=i.split('EX_')[1]\n",
    "    model.reactions.get_by_id('A_'+ex_meta+'_con_1').bounds=(-1000,1000)\n",
    "    #model.reactions.get_by_id('B_'+ex_meta+'_con_2').bounds=(-1000,1000)\n",
    "    print('A_'+ex_meta+'_con_1')\n",
    "origin_model2=cobra.io.load_json_model(model_origin_773_lys)\n",
    "origin_model2.medium\n",
    "for i in origin_model2.medium:\n",
    "    r=model2.reactions.get_by_id(i)\n",
    "    #print(r.metabolites.keys())\n",
    "    for j in r.metabolites.keys():\n",
    "        ex_meta=j.id#print(j)\n",
    "    if 'EX_'+ex_meta not in model.medium:\n",
    "        model.add_reaction(origin_model2.reactions.get_by_id(i))\n",
    "    #model.reactions.get_by_id('A_'+ex_meta+'_con_1').bounds=(-1000,1000)\n",
    "    model.reactions.get_by_id('B_'+ex_meta+'_con_2').bounds=(-1000,1000)\n",
    "    print('A_'+ex_meta+'_con_1')\n",
    "# model.reactions.get_by_id('A_'+meta_test+'_e'+'_con_1').bounds=(-1000,1000)\n",
    "# model.reactions.get_by_id('B_'+meta_test+'_e'+'_con_2').bounds=(-1000,1000)\n",
    "for i in model.medium:\n",
    "    h=i.split('_')[0]\n",
    "    if h=='A' or h=='B':\n",
    "        model.reactions.get_by_id(i).bounds=(0,0)\n",
    "model.medium\n",
    "#model.medium\n",
    "EX_15dap_e=model1.reactions.get_by_id('EX_15dap_e')\n",
    "model.add_reaction(EX_15dap_e)\n",
    "save_json_model(model,model_1515_773_file)"
   ]
  },
  {
   "cell_type": "code",
   "execution_count": 306,
   "metadata": {},
   "outputs": [
    {
     "data": {
      "text/html": [
       "\n",
       "        <table>\n",
       "            <tr>\n",
       "                <td><strong>Reaction identifier</strong></td><td>B_glyc_e_con_2</td>\n",
       "            </tr><tr>\n",
       "                <td><strong>Name</strong></td><td>glyc_e Connection 2</td>\n",
       "            </tr><tr>\n",
       "                <td><strong>Memory address</strong></td>\n",
       "                <td>0x01b19e20b828</td>\n",
       "            </tr><tr>\n",
       "                <td><strong>Stoichiometry</strong></td>\n",
       "                <td>\n",
       "                    <p style='text-align:right'>glyc_e <=> B_glyc_e</p>\n",
       "                    <p style='text-align:right'>Glycerol <=> B_Glycerol</p>\n",
       "                </td>\n",
       "            </tr><tr>\n",
       "                <td><strong>GPR</strong></td><td></td>\n",
       "            </tr><tr>\n",
       "                <td><strong>Lower bound</strong></td><td>-1000</td>\n",
       "            </tr><tr>\n",
       "                <td><strong>Upper bound</strong></td><td>1000</td>\n",
       "            </tr>\n",
       "        </table>\n",
       "        "
      ],
      "text/plain": [
       "<Reaction B_glyc_e_con_2 at 0x1b19e20b828>"
      ]
     },
     "execution_count": 306,
     "metadata": {},
     "output_type": "execute_result"
    }
   ],
   "source": [
    "model.reactions.get_by_id('B_glyc_e_con_2')"
   ]
  },
  {
   "cell_type": "code",
   "execution_count": 76,
   "metadata": {},
   "outputs": [
    {
     "data": {
      "text/html": [
       "\n",
       "        <table>\n",
       "            <tr>\n",
       "                <td><strong>Metabolite identifier</strong></td><td>zn2_e</td>\n",
       "            </tr><tr>\n",
       "                <td><strong>Name</strong></td><td>Zinc</td>\n",
       "            </tr><tr>\n",
       "                <td><strong>Memory address</strong></td>\n",
       "                <td>0x01b1a3d9ea20</td>\n",
       "            </tr><tr>\n",
       "                <td><strong>Formula</strong></td><td>Zn</td>\n",
       "            </tr><tr>\n",
       "                <td><strong>Compartment</strong></td><td>e</td>\n",
       "            </tr><tr>\n",
       "                <td><strong>In 3 reaction(s)</strong></td><td>\n",
       "                    EX_zn2_e, B_zn2_e_con_2, A_zn2_e_con_1</td>\n",
       "            </tr>\n",
       "        </table>"
      ],
      "text/plain": [
       "<Metabolite zn2_e at 0x1b1a3d9ea20>"
      ]
     },
     "execution_count": 76,
     "metadata": {},
     "output_type": "execute_result"
    }
   ],
   "source": [
    "model.metabolites.get_by_id('zn2_e')"
   ]
  },
  {
   "cell_type": "code",
   "execution_count": 89,
   "metadata": {},
   "outputs": [
    {
     "data": {
      "text/plain": [
       "{'EX_pi_e': 1000.0,\n",
       " 'EX_h_e': 1000.0,\n",
       " 'EX_fe3_e': 1000.0,\n",
       " 'EX_glyc_e': 1000,\n",
       " 'EX_mn2_e': 1000.0,\n",
       " 'EX_co2_e': 1000.0,\n",
       " 'EX_fe2_e': 1000.0,\n",
       " 'EX_lys__L_e': 1000,\n",
       " 'EX_zn2_e': 1000.0,\n",
       " 'EX_mg2_e': 1000.0,\n",
       " 'EX_ca2_e': 1000.0,\n",
       " 'EX_ni2_e': 1000.0,\n",
       " 'EX_cu2_e': 1000.0,\n",
       " 'EX_cobalt2_e': 1000.0,\n",
       " 'EX_sel_e': 1000.0,\n",
       " 'EX_h2o_e': 1000.0,\n",
       " 'EX_nh4_e': 1000.0,\n",
       " 'EX_mobd_e': 1000.0,\n",
       " 'EX_so4_e': 1000.0,\n",
       " 'EX_k_e': 1000.0,\n",
       " 'EX_na1_e': 1000.0,\n",
       " 'EX_o2_e': 1000.0,\n",
       " 'EX_cl_e': 1000.0,\n",
       " 'EX_tungs_e': 1000.0,\n",
       " 'EX_slnt_e': 1000.0,\n",
       " 'EX_BIOTIN_reverse': 1000.0}"
      ]
     },
     "execution_count": 89,
     "metadata": {},
     "output_type": "execute_result"
    }
   ],
   "source": [
    "model.medium"
   ]
  },
  {
   "cell_type": "code",
   "execution_count": 307,
   "metadata": {},
   "outputs": [
    {
     "name": "stdout",
     "output_type": "stream",
     "text": [
      "IN FLUXES            OUT FLUXES           OBJECTIVES\n",
      "-------------------  -------------------  -----------------\n",
      "lys__L_e    1e+03    15dap_e       1e+03  EX_15dap_e  1e+03\n",
      "glyc_e    522        B_h2o_e     593\n",
      "o2_e      258        co2_e       517\n",
      "nh4_e      31.9      A_mal__L_e  475\n",
      "pi_e        2.82     A_for_e      22.4\n",
      "so4_e       0.74     A_ac_e        1.67\n",
      "k_e         0.688    B_co2_e       1.24\n",
      "fe2_e       0.0556   B_h_e         0.74\n",
      "mg2_e       0.0306   B_his__L_e    0.016\n",
      "ca2_e       0.0183\n",
      "cl_e        0.0183\n",
      "cu2_e       0.0025\n",
      "mn2_e       0.00244\n",
      "zn2_e       0.0012\n",
      "ni2_e       0.00114\n"
     ]
    }
   ],
   "source": [
    "model.objective=model.reactions.get_by_id('EX_15dap_e')\n",
    "model.optimize()\n",
    "model.summary()"
   ]
  },
  {
   "cell_type": "code",
   "execution_count": 147,
   "metadata": {},
   "outputs": [
    {
     "data": {
      "text/html": [
       "\n",
       "        <table>\n",
       "            <tr>\n",
       "                <td><strong>Name</strong></td>\n",
       "                <td>iML1515</td>\n",
       "            </tr><tr>\n",
       "                <td><strong>Memory address</strong></td>\n",
       "                <td>0x01b1b7e15860</td>\n",
       "            </tr><tr>\n",
       "                <td><strong>Number of metabolites</strong></td>\n",
       "                <td>3183</td>\n",
       "            </tr><tr>\n",
       "                <td><strong>Number of reactions</strong></td>\n",
       "                <td>5145</td>\n",
       "            </tr><tr>\n",
       "                <td><strong>Objective expression</strong></td>\n",
       "                <td>1.0*A_BIOMASS_Ec_iML1515_core_75p37M - 1.0*A_BIOMASS_Ec_iML1515_core_75p37M_reverse_6059f</td>\n",
       "            </tr><tr>\n",
       "                <td><strong>Compartments</strong></td>\n",
       "                <td>cytosol, extracellular space, periplasm</td>\n",
       "            </tr>\n",
       "          </table>"
      ],
      "text/plain": [
       "<Model iML1515 at 0x1b1b7e15860>"
      ]
     },
     "execution_count": 147,
     "metadata": {},
     "output_type": "execute_result"
    }
   ],
   "source": [
    "model=load_json_model(model_1515_773_file)\n",
    "model"
   ]
  },
  {
   "cell_type": "code",
   "execution_count": 149,
   "metadata": {},
   "outputs": [
    {
     "data": {
      "text/plain": [
       "{'EX_pi_e': 1000.0,\n",
       " 'EX_h_e': 1000.0,\n",
       " 'EX_fe3_e': 1000.0,\n",
       " 'EX_glyc_e': 1000,\n",
       " 'EX_mn2_e': 1000.0,\n",
       " 'EX_co2_e': 1000.0,\n",
       " 'EX_fe2_e': 1000.0,\n",
       " 'EX_lys__L_e': 1000,\n",
       " 'EX_zn2_e': 1000.0,\n",
       " 'EX_mg2_e': 1000.0,\n",
       " 'EX_ca2_e': 1000.0,\n",
       " 'EX_ni2_e': 1000.0,\n",
       " 'EX_cu2_e': 1000.0,\n",
       " 'EX_cobalt2_e': 1000.0,\n",
       " 'EX_sel_e': 1000.0,\n",
       " 'EX_h2o_e': 1000.0,\n",
       " 'EX_nh4_e': 1000.0,\n",
       " 'EX_mobd_e': 1000.0,\n",
       " 'EX_so4_e': 1000.0,\n",
       " 'EX_k_e': 1000.0,\n",
       " 'EX_na1_e': 1000.0,\n",
       " 'EX_o2_e': 1000.0,\n",
       " 'EX_cl_e': 1000.0,\n",
       " 'EX_tungs_e': 1000.0,\n",
       " 'EX_slnt_e': 1000.0}"
      ]
     },
     "execution_count": 149,
     "metadata": {},
     "output_type": "execute_result"
    }
   ],
   "source": [
    "model1.medium"
   ]
  },
  {
   "cell_type": "code",
   "execution_count": 150,
   "metadata": {},
   "outputs": [
    {
     "name": "stdout",
     "output_type": "stream",
     "text": [
      "EX_BIOTIN_reverse\n"
     ]
    }
   ],
   "source": [
    "for i in model.medium:\n",
    "    if i not in model1.medium:\n",
    "        print(i)"
   ]
  },
  {
   "cell_type": "code",
   "execution_count": 152,
   "metadata": {},
   "outputs": [
    {
     "data": {
      "text/html": [
       "\n",
       "        <table>\n",
       "            <tr>\n",
       "                <td><strong>Reaction identifier</strong></td><td>EX_BIOTIN</td>\n",
       "            </tr><tr>\n",
       "                <td><strong>Name</strong></td><td>EX_BIOTIN</td>\n",
       "            </tr><tr>\n",
       "                <td><strong>Memory address</strong></td>\n",
       "                <td>0x01b19f4d0320</td>\n",
       "            </tr><tr>\n",
       "                <td><strong>Stoichiometry</strong></td>\n",
       "                <td>\n",
       "                    <p style='text-align:right'>btn_e --> </p>\n",
       "                    <p style='text-align:right'>Biotin --> </p>\n",
       "                </td>\n",
       "            </tr><tr>\n",
       "                <td><strong>GPR</strong></td><td></td>\n",
       "            </tr><tr>\n",
       "                <td><strong>Lower bound</strong></td><td>0</td>\n",
       "            </tr><tr>\n",
       "                <td><strong>Upper bound</strong></td><td>1000.0</td>\n",
       "            </tr>\n",
       "        </table>\n",
       "        "
      ],
      "text/plain": [
       "<Reaction EX_BIOTIN at 0x1b19f4d0320>"
      ]
     },
     "execution_count": 152,
     "metadata": {},
     "output_type": "execute_result"
    }
   ],
   "source": [
    "model2.reactions.EX_BIOTIN"
   ]
  },
  {
   "cell_type": "code",
   "execution_count": null,
   "metadata": {},
   "outputs": [],
   "source": [
    "model.reactions.get_by_id('A_fru_e_con_1')"
   ]
  },
  {
   "cell_type": "code",
   "execution_count": null,
   "metadata": {},
   "outputs": [],
   "source": [
    "model.reactions.get_by_id('EX_fru_e')"
   ]
  },
  {
   "cell_type": "code",
   "execution_count": null,
   "metadata": {},
   "outputs": [],
   "source": [
    "model.reactions.get_by_id('B_lys_e_con_2')"
   ]
  },
  {
   "cell_type": "code",
   "execution_count": null,
   "metadata": {},
   "outputs": [],
   "source": [
    "model.reactions.get_by_id('A_lcts_e_con_1').bounds=(-1000,1000)\n",
    "model.reactions.get_by_id('B_lcts_e_con_2').bounds=(-1000,1000)\n",
    "model.reactions.get_by_id('A_fru_e_con_1').bounds=(-1000,1000)\n",
    "model.reactions.get_by_id('B_fru_e_con_2').bounds=(-1000,1000)\n",
    "save_json_model(model,model_1515_773_file)"
   ]
  },
  {
   "cell_type": "code",
   "execution_count": null,
   "metadata": {},
   "outputs": [],
   "source": [
    "model=load_json_model(model_1515_773_file)\n",
    "model.objective=model.reactions.get_by_id('EX_lys_e')\n",
    "model.reactions.get_by_id('EX_glc__D_e').bounds=(0,1000)\n",
    "model.reactions.get_by_id('EX_lcts_e').bounds=(-2,1000)\n",
    "model.reactions.get_by_id('EX_fru_e').bounds=(-10,1000)\n",
    "#model.reactions.get_by_id('EX_glc__D_e').bounds=(-100,1000)\n",
    "model.optimize()\n",
    "model.summary()"
   ]
  },
  {
   "cell_type": "code",
   "execution_count": null,
   "metadata": {},
   "outputs": [],
   "source": [
    "model.reactions.get_by_id('EX_fru_e')"
   ]
  },
  {
   "cell_type": "markdown",
   "metadata": {},
   "source": [
    "## main"
   ]
  },
  {
   "cell_type": "code",
   "execution_count": 4,
   "metadata": {},
   "outputs": [],
   "source": [
    "from CulECpyD import *"
   ]
  },
  {
   "cell_type": "code",
   "execution_count": 506,
   "metadata": {},
   "outputs": [],
   "source": [
    "model_file=model_1515_773_file\n",
    "reaction_kcat_MW_file1='./iCW773+iML1515/data/iML1515_reaction_kcat_MW.csv'\n",
    "reaction_kcat_MW_file2='./iCW773+iML1515/data/iCW773_reaction_kcat_MW.csv'\n",
    "reaction_kcat_MW_file3='./iCW773+iML1515/data/iML1515_iCW773_reaction_kcat_MW.csv'\n",
    "Concretemodel_Need_Data=Get_Concretemodel_Need_Data_json(model_file,reaction_kcat_MW_file1,'None')"
   ]
  },
  {
   "cell_type": "code",
   "execution_count": 507,
   "metadata": {},
   "outputs": [],
   "source": [
    "def unpdate_kcat_mw_iBsu_iML(reaction_list,kcat_file_A,kcat_file_B,new_file):\n",
    "    reaction_up_kact_MW=pd.DataFrame()\n",
    "    kcat_A=pd.read_csv(kcat_file_A,index_col=0)\n",
    "    kcat_B=pd.read_csv(kcat_file_B,index_col=0)\n",
    "    for i in reaction_list:\n",
    "        if i.startswith('A_'):\n",
    "            id=i[2:]\n",
    "            if id in kcat_A.index:\n",
    "                reaction_up_kact_MW.at[i,'kcat_MW']=kcat_A.at[id,'kcat_MW']\n",
    "        if i.startswith('B_'):\n",
    "            id=i[2:]\n",
    "            if id in kcat_B.index:\n",
    "                reaction_up_kact_MW.at[i,'kcat_MW']=kcat_B.at[id,'kcat_MW'] \n",
    "    reaction_up_kact_MW.to_csv(new_file)\n",
    "    return reaction_up_kact_MW\n"
   ]
  },
  {
   "cell_type": "code",
   "execution_count": 734,
   "metadata": {},
   "outputs": [],
   "source": [
    "Concretemodel_Need_Data['reaction_kcat_MW']=unpdate_kcat_mw_iBsu_iML(Concretemodel_Need_Data['reaction_list'],reaction_kcat_MW_file1,reaction_kcat_MW_file2,reaction_kcat_MW_file3)"
   ]
  },
  {
   "cell_type": "markdown",
   "metadata": {},
   "source": [
    "function"
   ]
  },
  {
   "cell_type": "code",
   "execution_count": 733,
   "metadata": {},
   "outputs": [],
   "source": [
    "def Template_Concretemodel_double_diff(reaction_list=None,metabolite_list=None,coef_matrix=None,reaction_kcat_MW=None,lb_list=None,ub_list=None,reaction_list_A=None,reaction_list_B=None,\\\n",
    "    set_substrate_ini=False,substrates=None,\\\n",
    "    set_A_biomass_ini=None,set_B_biomass_ini=None,biomass_value_A=None,biomass_value_B=None,biomass_id_A=None,biomass_id_B=None,\\\n",
    "    set_bound=False,set_stoi_matrix=False,\\\n",
    "    set_part_enzyme_constraint=False,set_obj_single_E_value=False,E_total_A=None,E_total_B=None,\\\n",
    "    set_obj_value=False,obj_name=None,obj_target=None,\\\n",
    "    set_target_ini=False,target_name=None,target_value=None,\\\n",
    "    set_obj_V_value=False,set_obj_E_value=False,special_constraint=False,x=None,y=None):\n",
    "    \n",
    "\n",
    "    Concretemodel = ConcreteModel()\n",
    "    Concretemodel.reaction = pyo.Var(reaction_list,  within=NonNegativeReals)\n",
    "    Concretemodel.z = pyo.Var(reaction_list,  within=pyo.Binary)\n",
    "    Concretemodel.x = pyo.Var()\n",
    "    Concretemodel.y = pyo.Var()\n",
    "\n",
    "    #Set upper and lower bounds of metabolite concentration\n",
    "    # if set_metabolite:\n",
    "    #     def set_metabolite(m,i):\n",
    "    #         return  inequality(metabolites_lnC.loc[i,'lnClb'], m.metabolite[i], metabolites_lnC.loc[i,'lnCub'])\n",
    "    #     Concretemodel.set_metabolite= Constraint(metabolite_list,rule=set_metabolite)     \n",
    "\n",
    "    #Minimizing the flux sum of pathway (pFBA)\n",
    "    if set_obj_V_value:             \n",
    "        def set_obj_V_value(m):\n",
    "            return sum(m.reaction[j] for j in reaction_list)\n",
    "        Concretemodel.obj = Objective(rule=set_obj_V_value, sense=minimize)  \n",
    "    \n",
    "    #Set the maximum flux as the object function\n",
    "    if set_obj_value:   \n",
    "        def set_obj_value(m):\n",
    "            return m.reaction[obj_name]#+m.reaction['A_'+biomass_id_A]+m.reaction['B_'+biomass_id_B]\n",
    "        if obj_target=='maximize':\n",
    "            Concretemodel.obj = Objective(rule=set_obj_value, sense=maximize)\n",
    "        elif obj_target=='minimize':\n",
    "            Concretemodel.obj = Objective(rule=set_obj_value, sense=minimize)\n",
    "\n",
    "    #Set the minimum enzyme cost of a pathway as the object function\n",
    "    if set_obj_E_value:             \n",
    "        def set_obj_E_value(m):\n",
    "            return sum(m.reaction[j]/(reaction_kcat_MW.loc[j,'kcat_MW']) for j in reaction_kcat_MW.index)\n",
    "        Concretemodel.obj = Objective(rule=set_obj_E_value, sense=minimize)  \n",
    "\n",
    "    #To calculate the variability of enzyme usage of single reaction.\n",
    "    if set_obj_single_E_value:             \n",
    "        def set_obj_single_E_value(m):\n",
    "            return m.reaction[obj_name]/(reaction_kcat_MW.loc[obj_name,'kcat_MW'])\n",
    "        if obj_target=='maximize':\n",
    "            Concretemodel.obj = Objective(rule=set_obj_single_E_value, sense=maximize) \n",
    "        elif obj_target=='minimize':\n",
    "            Concretemodel.obj = Objective(rule=set_obj_single_E_value, sense=minimize)\n",
    "\n",
    "    #Adding flux balance constraints （FBA）\n",
    "    if set_stoi_matrix:\n",
    "        def set_stoi_matrix(m,i):\n",
    "            return sum(coef_matrix[i,j]*m.reaction[j]  for j in reaction_list if (i,j) in coef_matrix.keys() )==0\n",
    "        Concretemodel.set_stoi_matrix = Constraint( metabolite_list,rule=set_stoi_matrix)\n",
    "\n",
    "    #Adding the upper and lower bound constraints of reaction flux\n",
    "    if set_bound:\n",
    "        def set_bound(m,j):\n",
    "            return inequality(lb_list[j],m.reaction[j],ub_list[j])\n",
    "        Concretemodel.set_bound = Constraint(reaction_list,rule=set_bound) \n",
    "    \n",
    "     #Set the upper bound for substrate input reaction flux\n",
    "    if set_substrate_ini :\n",
    "        def set_substrates_ini(m,j): \n",
    "            return m.reaction[j]<= substrates[j]\n",
    "        Concretemodel.set_substrates_ini = Constraint(substrates.keys(),rule=set_substrates_ini)  \n",
    "        \n",
    "    #Set the lower bound for biomass synthesis reaction flux\n",
    "    if set_A_biomass_ini:\n",
    "        def set_A_biomass_ini(m): \n",
    "            return m.reaction['A_'+biomass_id_A] >=biomass_value_A\n",
    "        Concretemodel.set_A_biomass_ini = Constraint(rule=set_A_biomass_ini)  \n",
    "        \n",
    "    #Set the lower bound for biomass synthesis reaction flux\n",
    "    if set_B_biomass_ini:\n",
    "        def set_B_biomass_ini(m): \n",
    "            return m.reaction['B_'+biomass_id_B] >=biomass_value_B\n",
    "        Concretemodel.set_B_biomass_ini = Constraint(rule=set_B_biomass_ini)  \n",
    "    \n",
    "    #Set the lower bound for target synthesis reaction flux\n",
    "    if set_target_ini:\n",
    "        def set_target_ini(m): \n",
    "            return m.reaction[target_name] >=target_value\n",
    "        Concretemodel.set_target_ini = Constraint(rule=set_target_ini)  \n",
    "    \n",
    "    #Adding Part A enzymamic constraints\n",
    "    if set_part_enzyme_constraint:\n",
    "        def set_enzyme_constraint_A(m):\n",
    "            return sum( m.reaction[j]/(reaction_kcat_MW.loc[j,'kcat_MW']) for j in reaction_kcat_MW.index if j in reaction_list_A)<= E_total_A\n",
    "        Concretemodel.set_enzyme_constraint_A = Constraint(rule=set_enzyme_constraint_A)\n",
    "\n",
    "    #Adding Part B enzymamic constraints\n",
    "    if set_part_enzyme_constraint:\n",
    "        def set_enzyme_constraint_B(m):\n",
    "            return sum( m.reaction[j]/(reaction_kcat_MW.loc[j,'kcat_MW']) for j in reaction_kcat_MW.index if j in reaction_list_B)<= E_total_B\n",
    "        Concretemodel.set_enzyme_constraint_B = Constraint(rule=set_enzyme_constraint_B)\n",
    "    \n",
    "    if special_constraint:\n",
    "        def special_constraint(m):\n",
    "            return m.reaction['A_pdx']==m.reaction['A_LYSDC_num1']+m.reaction['A_LYSDC_num2']\n",
    "        Concretemodel.special_constraint = Constraint(rule=special_constraint)\n",
    "        # def special_constraint2(m):\n",
    "        #     return m.reaction['A_'+biomass_id_A]*x+m.reaction['B_'+biomass_id_B]*y>=0.46\n",
    "        # Concretemodel.special_constraint2 = Constraint(rule=special_constraint2)\n",
    "    return Concretemodel"
   ]
  },
  {
   "cell_type": "code",
   "execution_count": 637,
   "metadata": {},
   "outputs": [],
   "source": [
    "def ECM_FBA_diff(Concretemodel_Need_Data,substrates,x,y,bio_a,bio_b,obj_name,obj_target='maximize',set_target_ini=False,target_name=None,target_value=None,special_constraint=False):#基于pyomo的FBA分析方法（glc）\n",
    "    E_total_A=0.227\n",
    "    E_total_B=0.129\n",
    "    sub_a='EX_glc__D_e_reverse'\n",
    "    sub_b='EX_xyl__D_e_reverse'\n",
    "    ratio=4\n",
    "    reaction_list_A=deepcopy(Concretemodel_Need_Data['reaction_list_A'])\n",
    "    reaction_list_B=deepcopy(Concretemodel_Need_Data['reaction_list_B'])\n",
    "    reaction_list=deepcopy(Concretemodel_Need_Data['reaction_list'])\n",
    "    metabolite_list=deepcopy(Concretemodel_Need_Data['metabolite_list'])\n",
    "    coef_matrix=deepcopy(Concretemodel_Need_Data['coef_matrix'])\n",
    "    for i in metabolite_list:\n",
    "        for j in reaction_list:\n",
    "                if (i,j) in coef_matrix.keys():\n",
    "                    if j.startswith('A_') and i.startswith('A_') and '_con_' in j:\n",
    "                        coef_matrix[i,j]=(1/x)*coef_matrix[i,j]\n",
    "                        # if 'akg_e_con_' in j:\n",
    "                                # print ('A:'+str(coef_matrix[i,j]))\n",
    "                    if j.startswith('B_') and i.startswith('B_') and '_con_' in j:\n",
    "                        coef_matrix[i,j]=(1/y)*coef_matrix[i,j]\n",
    "                        # if 'akg_e_con_' in j:\n",
    "                #                 print ('B:'+str(coef_matrix[i,j]))\n",
    "                #     print ('ij:'+str(coef_matrix[i,j]))\n",
    "    reaction_kcat_MW=deepcopy(Concretemodel_Need_Data['reaction_kcat_MW'])\n",
    "    lb_list=Concretemodel_Need_Data['lb_list']\n",
    "    ub_list=Concretemodel_Need_Data['ub_list']\n",
    "    biomass_id_a='BIOMASS_Ec_iML1515_core_75p37M'\n",
    "    biomass_id_b='CG_biomass_cgl_ATCC13032'    \n",
    "    #pass_value={'A_tyr__L_e_con_1':tyr,'B_phpyr_e_con_2_reverse':php}\n",
    "    EcoECM_FBA=Template_Concretemodel_double_diff(reaction_list=reaction_list,metabolite_list=metabolite_list,coef_matrix=coef_matrix,\\\n",
    "        reaction_kcat_MW=reaction_kcat_MW,lb_list=lb_list,ub_list=ub_list,reaction_list_A=reaction_list_A,reaction_list_B=reaction_list_B,\\\n",
    "        set_substrate_ini=True,substrates=substrates,\\\n",
    "        set_A_biomass_ini=True,set_B_biomass_ini=True,biomass_value_A=bio_a,biomass_value_B=bio_b,biomass_id_A=biomass_id_a,biomass_id_B=biomass_id_b,\\\n",
    "        set_bound=True,set_stoi_matrix=True,set_obj_single_E_value=False,\\\n",
    "        set_part_enzyme_constraint=True,E_total_A=E_total_A,E_total_B=E_total_B,\\\n",
    "        set_obj_value=True,obj_name=obj_name,obj_target='maximize',\\\n",
    "        set_target_ini=set_target_ini,target_name=target_name,target_value=target_value,\\\n",
    "        set_obj_V_value=False,set_obj_E_value=False,special_constraint=special_constraint,x=x,y=y)\n",
    "    opt_ecm_FBA=Model_Solve(EcoECM_FBA,'gurobi')\n",
    "    #opt_ecm_pFBA.obj()\n",
    "    return opt_ecm_FBA"
   ]
  },
  {
   "cell_type": "markdown",
   "metadata": {},
   "source": [
    "# continue"
   ]
  },
  {
   "cell_type": "code",
   "execution_count": 793,
   "metadata": {},
   "outputs": [],
   "source": [
    "substrates={'EX_glyc_e_reverse':400,'EX_lys__L_e_reverse':0}"
   ]
  },
  {
   "cell_type": "code",
   "execution_count": 764,
   "metadata": {},
   "outputs": [],
   "source": [
    "Concretemodel_Need_Data['reaction_kcat_MW'].loc['A_LYSDC_num1','kcat_MW']=Concretemodel_Need_Data['reaction_kcat_MW'].loc['A_LYSDC_num1','kcat_MW']*2"
   ]
  },
  {
   "cell_type": "code",
   "execution_count": 765,
   "metadata": {},
   "outputs": [],
   "source": [
    "Concretemodel_Need_Data['reaction_kcat_MW'].loc['A_LYSDC_num2','kcat_MW']=Concretemodel_Need_Data['reaction_kcat_MW'].loc['A_LYSDC_num2','kcat_MW']*2"
   ]
  },
  {
   "cell_type": "markdown",
   "metadata": {},
   "source": [
    "Cgl:BL=3:1"
   ]
  },
  {
   "cell_type": "code",
   "execution_count": 832,
   "metadata": {},
   "outputs": [],
   "source": [
    "result=ECM_FBA_diff(Concretemodel_Need_Data,substrates=substrates,x=1/4,y=3/4,bio_a=0.1,bio_b=0.23,obj_name='EX_15dap_e',obj_target='maximize',special_constraint=True)"
   ]
  },
  {
   "cell_type": "code",
   "execution_count": 833,
   "metadata": {},
   "outputs": [
    {
     "data": {
      "text/plain": [
       "1.2790436623513766"
      ]
     },
     "execution_count": 833,
     "metadata": {},
     "output_type": "execute_result"
    }
   ],
   "source": [
    "result.obj()"
   ]
  },
  {
   "cell_type": "code",
   "execution_count": 834,
   "metadata": {},
   "outputs": [
    {
     "data": {
      "text/plain": [
       "1.2790436623513766"
      ]
     },
     "execution_count": 834,
     "metadata": {},
     "output_type": "execute_result"
    }
   ],
   "source": [
    "result.reaction['EX_15dap_e'].value"
   ]
  },
  {
   "cell_type": "markdown",
   "metadata": {},
   "source": [
    "Cgl:BL=2:1"
   ]
  },
  {
   "cell_type": "code",
   "execution_count": 835,
   "metadata": {},
   "outputs": [],
   "source": [
    "result=ECM_FBA_diff(Concretemodel_Need_Data,substrates=substrates,x=1/3,y=2/3,bio_a=0.1,bio_b=0.23,obj_name='EX_15dap_e',obj_target='maximize',special_constraint=True)"
   ]
  },
  {
   "cell_type": "code",
   "execution_count": 836,
   "metadata": {},
   "outputs": [
    {
     "data": {
      "text/plain": [
       "1.7053915498018395"
      ]
     },
     "execution_count": 836,
     "metadata": {},
     "output_type": "execute_result"
    }
   ],
   "source": [
    "result.obj()"
   ]
  },
  {
   "cell_type": "markdown",
   "metadata": {},
   "source": [
    "Cgl:BL=1:1"
   ]
  },
  {
   "cell_type": "code",
   "execution_count": 837,
   "metadata": {},
   "outputs": [],
   "source": [
    "result=ECM_FBA_diff(Concretemodel_Need_Data,substrates=substrates,x=1/2,y=1/2,bio_a=0.26,bio_b=0.23,obj_name='EX_15dap_e',obj_target='maximize',special_constraint=True)"
   ]
  },
  {
   "cell_type": "code",
   "execution_count": 838,
   "metadata": {},
   "outputs": [
    {
     "data": {
      "text/plain": [
       "1.6386459522457542"
      ]
     },
     "execution_count": 838,
     "metadata": {},
     "output_type": "execute_result"
    }
   ],
   "source": [
    "result.obj()"
   ]
  },
  {
   "cell_type": "markdown",
   "metadata": {},
   "source": [
    "Cgl:BL=1:2"
   ]
  },
  {
   "cell_type": "code",
   "execution_count": 839,
   "metadata": {},
   "outputs": [],
   "source": [
    "result=ECM_FBA_diff(Concretemodel_Need_Data,substrates=substrates,x=2/3,y=1/3,bio_a=0.26,bio_b=0.1,obj_name='EX_15dap_e',obj_target='maximize',special_constraint=True)"
   ]
  },
  {
   "cell_type": "code",
   "execution_count": 840,
   "metadata": {},
   "outputs": [
    {
     "data": {
      "text/plain": [
       "2.184861269660973"
      ]
     },
     "execution_count": 840,
     "metadata": {},
     "output_type": "execute_result"
    }
   ],
   "source": [
    "result.obj()"
   ]
  },
  {
   "cell_type": "markdown",
   "metadata": {},
   "source": [
    "Cgl:BL=1:3"
   ]
  },
  {
   "cell_type": "code",
   "execution_count": 841,
   "metadata": {},
   "outputs": [],
   "source": [
    "result=ECM_FBA_diff(Concretemodel_Need_Data,substrates=substrates,x=3/4,y=1/4,bio_a=0.26,bio_b=0.1,obj_name='EX_15dap_e',obj_target='maximize',special_constraint=True)"
   ]
  },
  {
   "cell_type": "code",
   "execution_count": 842,
   "metadata": {},
   "outputs": [
    {
     "data": {
      "text/plain": [
       "2.3634813443017935"
      ]
     },
     "execution_count": 842,
     "metadata": {},
     "output_type": "execute_result"
    }
   ],
   "source": [
    "result.obj()"
   ]
  },
  {
   "cell_type": "code",
   "execution_count": 843,
   "metadata": {},
   "outputs": [
    {
     "data": {
      "text/plain": [
       "3.1513084590690577"
      ]
     },
     "execution_count": 843,
     "metadata": {},
     "output_type": "execute_result"
    }
   ],
   "source": [
    "result.reaction['A_pdx'].value"
   ]
  },
  {
   "cell_type": "code",
   "execution_count": 844,
   "metadata": {},
   "outputs": [
    {
     "data": {
      "text/plain": [
       "3.1513084590690577"
      ]
     },
     "execution_count": 844,
     "metadata": {},
     "output_type": "execute_result"
    }
   ],
   "source": [
    "result.reaction['A_LYSDC_num1'].value"
   ]
  },
  {
   "cell_type": "code",
   "execution_count": 845,
   "metadata": {},
   "outputs": [
    {
     "data": {
      "text/plain": [
       "0.0"
      ]
     },
     "execution_count": 845,
     "metadata": {},
     "output_type": "execute_result"
    }
   ],
   "source": [
    "result.reaction['A_LYSDC_num2'].value"
   ]
  }
 ],
 "metadata": {
  "kernelspec": {
   "display_name": "Python 3.6.5 ('xby')",
   "language": "python",
   "name": "python3"
  },
  "language_info": {
   "codemirror_mode": {
    "name": "ipython",
    "version": 3
   },
   "file_extension": ".py",
   "mimetype": "text/x-python",
   "name": "python",
   "nbconvert_exporter": "python",
   "pygments_lexer": "ipython3",
   "version": "3.6.5"
  },
  "orig_nbformat": 4,
  "vscode": {
   "interpreter": {
    "hash": "678f2c0cb67aa00dbc6da583138b0769cb8531f72b670a012e2187460f06e842"
   }
  }
 },
 "nbformat": 4,
 "nbformat_minor": 2
}
