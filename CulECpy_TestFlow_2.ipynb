{
 "cells": [
  {
   "cell_type": "code",
   "execution_count": 1,
   "metadata": {},
   "outputs": [],
   "source": [
    "import cobra\n",
    "from cobra import Model, Reaction, Metabolite\n",
    "from cobra.flux_analysis import pfba\n",
    "from cobra.io import write_sbml_model,save_json_model,load_json_model,read_sbml_model\n",
    "import re\n",
    "import pandas as pd\n",
    "import numpy as np\n",
    "import xlrd\n",
    "import re\n",
    "import openpyxl\n",
    "import sys\n",
    "sys.path.append(r'./')\n",
    "import os\n",
    "from copy import copy, deepcopy\n",
    "import numpy as np"
   ]
  },
  {
   "cell_type": "code",
   "execution_count": 2,
   "metadata": {},
   "outputs": [],
   "source": [
    "model_cur_COMT_file='./cur/model/iML1515_iMl1515_cur_COMT.json'\n",
    "model_cur_CcOAOMT_file='./cur/model/iML1515_iMl1515_cur_CcoAOMT.json'"
   ]
  },
  {
   "cell_type": "code",
   "execution_count": 3,
   "metadata": {},
   "outputs": [],
   "source": [
    "model_origin_up='./cur/model/iML1515_new.json'\n",
    "model_origin_down='./cur/model/iML1515_new.json'"
   ]
  },
  {
   "cell_type": "code",
   "execution_count": 4,
   "metadata": {},
   "outputs": [],
   "source": [
    "model_new_up='./cur/model/iML1515_new_cur_up.json'\n",
    "model_new_down='./cur/model/iML1515_new_cur_down.json'\n",
    "model_new_up_CCoAOMT='./cur/model/iML1515_new_cur_up_CCoAOMT.json'\n",
    "model_new_down_CCoAOMT='./cur/model/iML1515_new_cur_down_CCoAOMT.json'"
   ]
  },
  {
   "cell_type": "markdown",
   "metadata": {},
   "source": [
    "# Refinement of model information"
   ]
  },
  {
   "cell_type": "code",
   "execution_count": 5,
   "metadata": {},
   "outputs": [],
   "source": [
    "from model_correction_tools import *"
   ]
  },
  {
   "cell_type": "code",
   "execution_count": 6,
   "metadata": {},
   "outputs": [],
   "source": [
    "model1=load_json_model(model_origin_up)\n",
    "model2=load_json_model(model_origin_down)"
   ]
  },
  {
   "cell_type": "markdown",
   "metadata": {},
   "source": [
    "add exogenous reactions"
   ]
  },
  {
   "cell_type": "code",
   "execution_count": 7,
   "metadata": {},
   "outputs": [],
   "source": [
    "tyr__L_c=model1.metabolites.get_by_id('tyr__L_c')\n",
    "nh4_c=model1.metabolites.get_by_id('nh4_c')\n",
    "o2_c=model1.metabolites.get_by_id('o2_c')            \n",
    "fad_c=model1.metabolites.get_by_id('fad_c')\n",
    "h_c=model1.metabolites.get_by_id('h_c')\n",
    "fadh2_c=model1.metabolites.get_by_id('fadh2_c')\n",
    "h2o_c=model1.metabolites.get_by_id('h2o_c')"
   ]
  },
  {
   "cell_type": "code",
   "execution_count": 8,
   "metadata": {},
   "outputs": [],
   "source": [
    "coumarate_c=Metabolite('coumarate_c',\n",
    "                formula='C9H7O3',\n",
    "                name='4-coumarate',\n",
    "                compartment='c'\n",
    "                )\n",
    "coumarate_e=Metabolite('coumarate_e',\n",
    "                formula='C9H7O3',\n",
    "                name='4-coumarate',\n",
    "                compartment='e'\n",
    "                )\n",
    "TAL=Reaction(\"TAL\")\n",
    "TAL.name='phenylalanine/tyrosine ammonia-lyase'\n",
    "TAL.subsystem='unknow'\n",
    "TAL.lower_bound=0\n",
    "TAL.upper_bound=1000\n",
    "TAL.add_metabolites({\n",
    "    tyr__L_c:-1.0,\n",
    "    coumarate_c:1.0,\n",
    "    nh4_c:1.0\n",
    "})\n",
    "caffeate_c=Metabolite('caffeate_c',\n",
    "                formula='C9H7O4',\n",
    "                name='caffeic-acid',\n",
    "                compartment='c'\n",
    "                )\n",
    "caffeate_e=Metabolite('caffeate_e',\n",
    "                formula='C9H7O4',\n",
    "                name='caffeic-acid',\n",
    "                compartment='e'\n",
    "                )      \n",
    "C3H=Reaction(\"C3H\")\n",
    "C3H.name='4-coumarate 3-monooxygenaseInferred from experiment: hpaB'\n",
    "C3H.subsystem='unknow'\n",
    "C3H.lower_bound=0\n",
    "C3H.upper_bound=1000\n",
    "C3H.add_metabolites({\n",
    "    o2_c:-1.0,\n",
    "    fadh2_c:-1.0,\n",
    "    coumarate_c:-1.0,\n",
    "    fad_c:1.0,\n",
    "    caffeate_c:1.0,\n",
    "    h_c:1.0,\n",
    "    h2o_c:1.0\n",
    "})\n",
    "amet_c=model1.metabolites.get_by_id('amet_c')\n",
    "ahcys_c=model1.metabolites.get_by_id('ahcys_c')            \n",
    "ferulate_c=Metabolite('ferulate_c',\n",
    "                formula='C10H9O4',\n",
    "                name='ferulic-acid',\n",
    "                compartment='c'\n",
    "                )\n",
    "ferulate_e=Metabolite('ferulate_e',\n",
    "                formula='C10H9O4',\n",
    "                name='ferulic-acid',\n",
    "                compartment='e'\n",
    "                )     \n",
    "COMT=Reaction(\"COMT\")\n",
    "COMT.name='caffeate 3-O-methyltransferaseInferred from experiment: COMT1'\n",
    "COMT.subsystem='unknow'\n",
    "COMT.lower_bound=0\n",
    "COMT.upper_bound=1000\n",
    "COMT.add_metabolites({\n",
    "    caffeate_c:-1.0,\n",
    "    amet_c:-1.0,\n",
    "    ahcys_c:1.0,\n",
    "    ferulate_c:1.0,\n",
    "    h_c:1.0,\n",
    "})"
   ]
  },
  {
   "cell_type": "code",
   "execution_count": 9,
   "metadata": {},
   "outputs": [],
   "source": [
    "atp_c=model2.metabolites.get_by_id('atp_c')\n",
    "coa_c=model2.metabolites.get_by_id('coa_c')\n",
    "amp_c=model2.metabolites.get_by_id('amp_c')\n",
    "ppi_c=model2.metabolites.get_by_id('ppi_c')\n",
    "coumaroyl_CoA_c=Metabolite('coumaroyl_CoA_c',\n",
    "                formula='C30H38N7O18P3S',\n",
    "                name='coumaroyl-CoA',\n",
    "                compartment='c'\n",
    "                )\n",
    "CL1=Reaction(\"4CL1\")\n",
    "CL1.name='4-coumarate:CoA ligase(4CL)_1'\n",
    "CL1.subsystem='unknow'\n",
    "CL1.lower_bound=0\n",
    "CL1.upper_bound=1000\n",
    "CL1.add_metabolites({\n",
    "    coumarate_c:-1.0,\n",
    "    atp_c:-1.0,\n",
    "    coa_c:-1.0,\n",
    "    amp_c:1.0,\n",
    "    coumaroyl_CoA_c:1.0,\n",
    "    ppi_c:1.0\n",
    "})"
   ]
  },
  {
   "cell_type": "code",
   "execution_count": 10,
   "metadata": {},
   "outputs": [],
   "source": [
    "caffeate_CoA_c=Metabolite('caffeate_CoA_c',\n",
    "                formula='C30H38N7O19P3S',\n",
    "                name='caffeoyl-CoA',\n",
    "                compartment='c'\n",
    "                )\n",
    "CL2=Reaction(\"4CL2\")\n",
    "CL2.name='4-coumarate:CoA ligase(4CL)_2'\n",
    "CL2.subsystem='unknow'\n",
    "CL2.lower_bound=0\n",
    "CL2.upper_bound=1000\n",
    "CL2.add_metabolites({\n",
    "    caffeate_c:-1.0,\n",
    "    atp_c:-1.0,\n",
    "    coa_c:-1.0,\n",
    "    amp_c:1.0,\n",
    "    caffeate_CoA_c:1.0,\n",
    "    ppi_c:1.0\n",
    "})"
   ]
  },
  {
   "cell_type": "code",
   "execution_count": 11,
   "metadata": {},
   "outputs": [],
   "source": [
    "feruloyl_CoA_c=Metabolite('feruloyl_CoA_c',\n",
    "                formula='C31H40N7O19P3S',\n",
    "                name='feruloyl-CoA',\n",
    "                compartment='c'\n",
    "                )\n",
    "CL3=Reaction(\"4CL3\")\n",
    "CL3.name='4-coumarate:CoA ligase(4CL)_3'\n",
    "CL3.subsystem='unknow'\n",
    "CL3.lower_bound=0\n",
    "CL3.upper_bound=1000\n",
    "CL3.add_metabolites({\n",
    "    ferulate_c:-1.0,\n",
    "    atp_c:-1.0,\n",
    "    coa_c:-1.0,\n",
    "    amp_c:1.0,\n",
    "    feruloyl_CoA_c:1.0,\n",
    "    ppi_c:1.0\n",
    "})"
   ]
  },
  {
   "cell_type": "code",
   "execution_count": 12,
   "metadata": {},
   "outputs": [],
   "source": [
    "malonyl_CoA_c=model2.metabolites.get_by_id('malcoa_c')\n",
    "coumaroylacetyl_CoA_c=Metabolite('4_coumaroylacetyl_CoA_c',\n",
    "                formula='C32H40N7O19P3S',\n",
    "                name='4-coumaroylacetyl-CoA',\n",
    "                compartment='c'\n",
    "                )\n",
    "coa_c=model2.metabolites.get_by_id('coa_c')\n",
    "co2_c=model2.metabolites.get_by_id('co2_c')            \n",
    "DCS=Reaction(\"DCS\")\n",
    "DCS.name='diketide-CoA synthaseInferred from experiment:DCS'\n",
    "DCS.subsystem='unknow'\n",
    "DCS.lower_bound=0\n",
    "DCS.upper_bound=1000\n",
    "DCS.add_metabolites({\n",
    "    coumaroyl_CoA_c:-1.0,\n",
    "    malonyl_CoA_c:-1.0,\n",
    "    coumaroylacetyl_CoA_c:1.0,\n",
    "    coa_c:1.0,\n",
    "    co2_c:1.0,\n",
    "})"
   ]
  },
  {
   "cell_type": "code",
   "execution_count": 13,
   "metadata": {},
   "outputs": [],
   "source": [
    "feruloylacetyl_CoA_c=Metabolite('feruloylacetyl_CoA_c',\n",
    "                formula='C33H42N7O20P3S',\n",
    "                name='feruloylacetyl-CoA-CoA',\n",
    "                compartment='c'\n",
    "                )         \n",
    "DCS2=Reaction(\"DCS2\")\n",
    "DCS2.name='diketide-CoA synthaseInferred from experiment:DCS2'\n",
    "DCS2.subsystem='unknow'\n",
    "DCS2.lower_bound=0\n",
    "DCS2.upper_bound=1000\n",
    "DCS2.add_metabolites({\n",
    "    feruloyl_CoA_c:-1.0,\n",
    "    malonyl_CoA_c:-1.0,\n",
    "    feruloylacetyl_CoA_c:1.0,\n",
    "    coa_c:1.0,\n",
    "    co2_c:1.0,\n",
    "})"
   ]
  },
  {
   "cell_type": "code",
   "execution_count": 14,
   "metadata": {},
   "outputs": [],
   "source": [
    "h2o_c=model2.metabolites.get_by_id('h2o_c')\n",
    "bisdemethoxycurcumin_c=Metabolite('bisdemethoxycurcumin_c',\n",
    "                formula='C19H16O4',\n",
    "                name='bisdemethoxycurcumin',\n",
    "                compartment='c'\n",
    "                )\n",
    "bisdemethoxycurcumin_e=Metabolite('bisdemethoxycurcumin_e',\n",
    "                formula='C19H16O4',\n",
    "                name='bisdemethoxycurcumin',\n",
    "                compartment='e'\n",
    "                )            \n",
    "CURS1=Reaction(\"CURS1\")\n",
    "CURS1.name='curcumin synthaseInferred from experiment: CURS 1'\n",
    "CURS1.subsystem='unknow'\n",
    "CURS1.lower_bound=0\n",
    "CURS1.upper_bound=1000\n",
    "CURS1.add_metabolites({\n",
    "    coumaroyl_CoA_c:-1.0,\n",
    "    coumaroylacetyl_CoA_c:-1.0,\n",
    "    h2o_c:-1.0,\n",
    "    bisdemethoxycurcumin_c:1.0,\n",
    "    coa_c:2.0,\n",
    "    co2_c:1.0,\n",
    "})"
   ]
  },
  {
   "cell_type": "code",
   "execution_count": 15,
   "metadata": {},
   "outputs": [],
   "source": [
    "demethoxycurcumin_c=Metabolite('demethoxycurcumin_c',\n",
    "                formula='C20H18O5',\n",
    "                name='demethoxycurcumin',\n",
    "                compartment='c'\n",
    "                )\n",
    "demethoxycurcumin_e=Metabolite('demethoxycurcumin_e',\n",
    "                formula='C20H18O5',\n",
    "                name='demethoxycurcumin',\n",
    "                compartment='e'\n",
    "                )              \n",
    "CURS2=Reaction(\"CURS2\")\n",
    "CURS2.name='curcumin synthaseInferred from experiment: CURS 2'\n",
    "CURS2.subsystem='unknow'\n",
    "CURS2.lower_bound=0\n",
    "CURS2.upper_bound=1000\n",
    "CURS2.add_metabolites({\n",
    "    feruloyl_CoA_c:-1.0,\n",
    "    coumaroylacetyl_CoA_c:-1.0,\n",
    "    h2o_c:-1.0,\n",
    "    demethoxycurcumin_c:1.0,\n",
    "    coa_c:2.0,\n",
    "    co2_c:1.0,\n",
    "})"
   ]
  },
  {
   "cell_type": "code",
   "execution_count": 16,
   "metadata": {},
   "outputs": [],
   "source": [
    "CURS3=Reaction(\"CURS3\")\n",
    "CURS3.name='curcumin synthaseInferred from experiment: CURS 3'\n",
    "CURS3.subsystem='unknow'\n",
    "CURS3.lower_bound=0\n",
    "CURS3.upper_bound=1000\n",
    "CURS3.add_metabolites({\n",
    "    coumaroyl_CoA_c:-1.0,\n",
    "    feruloylacetyl_CoA_c:-1.0,\n",
    "    h2o_c:-1.0,\n",
    "    demethoxycurcumin_c:1.0,\n",
    "    coa_c:2.0,\n",
    "    co2_c:1.0,\n",
    "})"
   ]
  },
  {
   "cell_type": "code",
   "execution_count": 17,
   "metadata": {},
   "outputs": [],
   "source": [
    "curcumin_c=Metabolite('curcumin_c',\n",
    "                formula='C21H20O6',\n",
    "                name='curcumin',\n",
    "                compartment='c'\n",
    "                )\n",
    "curcumin_e=Metabolite('curcumin_e',\n",
    "                formula='C21H20O6',\n",
    "                name='curcumin',\n",
    "                compartment='e'\n",
    "                )        \n",
    "CURS4=Reaction(\"CURS4\")\n",
    "CURS4.name='curcumin synthaseInferred from experiment: CURS 4'\n",
    "CURS4.subsystem='unknow'\n",
    "CURS4.lower_bound=0\n",
    "CURS4.upper_bound=1000\n",
    "CURS4.add_metabolites({\n",
    "    feruloyl_CoA_c:-1.0,\n",
    "    feruloylacetyl_CoA_c:-1.0,\n",
    "    h2o_c:-1.0,\n",
    "    curcumin_c:1.0,\n",
    "    coa_c:2.0,\n",
    "    co2_c:1.0,\n",
    "})"
   ]
  },
  {
   "cell_type": "markdown",
   "metadata": {},
   "source": [
    "Strategy I"
   ]
  },
  {
   "cell_type": "code",
   "execution_count": 18,
   "metadata": {},
   "outputs": [],
   "source": [
    "exogenous_up=[TAL,C3H,COMT]\n",
    "exogenous_down=[CL1,CL2,CL3,C3H,DCS,DCS2,CURS1,CURS2,CURS3,CURS4]"
   ]
  },
  {
   "cell_type": "code",
   "execution_count": 19,
   "metadata": {},
   "outputs": [],
   "source": [
    "model1.add_reactions(exogenous_up)\n",
    "model2.add_reactions(exogenous_down)"
   ]
  },
  {
   "cell_type": "markdown",
   "metadata": {},
   "source": [
    "Strategy II"
   ]
  },
  {
   "cell_type": "code",
   "execution_count": 20,
   "metadata": {},
   "outputs": [],
   "source": [
    "model3=deepcopy(model1)\n",
    "model4=deepcopy(model2)"
   ]
  },
  {
   "cell_type": "code",
   "execution_count": 21,
   "metadata": {},
   "outputs": [],
   "source": [
    "amet_c=model4.metabolites.get_by_id('amet_c')\n",
    "ahcys_c=model4.metabolites.get_by_id('ahcys_c')            \n",
    "CCoAOMT=Reaction(\"CCoAOMT\")\n",
    "CCoAOMT.name='caffeoyl-CoA-O-methyltransferaseInferred from experiment: CCoAOMT'\n",
    "CCoAOMT.subsystem='unknow'\n",
    "CCoAOMT.lower_bound=0\n",
    "CCoAOMT.upper_bound=1000\n",
    "CCoAOMT.add_metabolites({\n",
    "    caffeate_CoA_c:-1.0,\n",
    "    amet_c:-1.0,\n",
    "    ahcys_c:1.0,\n",
    "    feruloyl_CoA_c:1.0,\n",
    "    h_c:1.0,\n",
    "})"
   ]
  },
  {
   "cell_type": "code",
   "execution_count": 22,
   "metadata": {},
   "outputs": [],
   "source": [
    "exogenous_up_new=[TAL,C3H]\n",
    "exogenous_down_new=[CCoAOMT,CL1,CL2,CL3,C3H,DCS,DCS2,CURS1,CURS2,CURS3,CURS4]"
   ]
  },
  {
   "cell_type": "code",
   "execution_count": 23,
   "metadata": {},
   "outputs": [
    {
     "name": "stderr",
     "output_type": "stream",
     "text": [
      "Ignoring reaction 'TAL' since it already exists.\n",
      "Ignoring reaction 'C3H' since it already exists.\n",
      "Ignoring reaction '4CL1' since it already exists.\n",
      "Ignoring reaction '4CL2' since it already exists.\n",
      "Ignoring reaction '4CL3' since it already exists.\n",
      "Ignoring reaction 'C3H' since it already exists.\n",
      "Ignoring reaction 'DCS' since it already exists.\n",
      "Ignoring reaction 'DCS2' since it already exists.\n",
      "Ignoring reaction 'CURS1' since it already exists.\n",
      "Ignoring reaction 'CURS2' since it already exists.\n",
      "Ignoring reaction 'CURS3' since it already exists.\n",
      "Ignoring reaction 'CURS4' since it already exists.\n"
     ]
    }
   ],
   "source": [
    "model3.add_reactions(exogenous_up_new)\n",
    "model4.add_reactions(exogenous_down_new)"
   ]
  },
  {
   "cell_type": "code",
   "execution_count": 24,
   "metadata": {},
   "outputs": [
    {
     "data": {
      "text/html": [
       "\n",
       "        <table>\n",
       "            <tr>\n",
       "                <td><strong>Name</strong></td>\n",
       "                <td>iML1515</td>\n",
       "            </tr><tr>\n",
       "                <td><strong>Memory address</strong></td>\n",
       "                <td>0x0297cfe70048</td>\n",
       "            </tr><tr>\n",
       "                <td><strong>Number of metabolites</strong></td>\n",
       "                <td>1894</td>\n",
       "            </tr><tr>\n",
       "                <td><strong>Number of reactions</strong></td>\n",
       "                <td>2735</td>\n",
       "            </tr><tr>\n",
       "                <td><strong>Objective expression</strong></td>\n",
       "                <td>1.0*BIOMASS_Ec_iML1515_core_75p37M - 1.0*BIOMASS_Ec_iML1515_core_75p37M_reverse_35685</td>\n",
       "            </tr><tr>\n",
       "                <td><strong>Compartments</strong></td>\n",
       "                <td>cytosol, extracellular space, periplasm</td>\n",
       "            </tr>\n",
       "          </table>"
      ],
      "text/plain": [
       "<Model iML1515 at 0x297cfe70048>"
      ]
     },
     "execution_count": 24,
     "metadata": {},
     "output_type": "execute_result"
    }
   ],
   "source": [
    "add_new_ex_special(model1,'coumarate','coumarate_c','coumarate_e')\n",
    "add_new_ex_special(model1,'caffeate','caffeate_c','caffeate_e')\n",
    "add_new_ex_special(model1,'ferulate','ferulate_c','ferulate_e')\n",
    "add_new_ex_special(model2,'coumarate','coumarate_c','coumarate_e')\n",
    "add_new_ex_special(model2,'caffeate','caffeate_c','caffeate_e')\n",
    "add_new_ex_special(model2,'ferulate','ferulate_c','ferulate_e')\n",
    "add_new_ex_special(model2,'bisdemethoxycurcumin','bisdemethoxycurcumin_c','bisdemethoxycurcumin_e')\n",
    "add_new_ex_special(model2,'demethoxycurcumin','demethoxycurcumin_c','demethoxycurcumin_e')\n",
    "add_new_ex_special(model2,'curcumin','curcumin_c','curcumin_e')"
   ]
  },
  {
   "cell_type": "code",
   "execution_count": 25,
   "metadata": {},
   "outputs": [
    {
     "data": {
      "text/html": [
       "\n",
       "        <table>\n",
       "            <tr>\n",
       "                <td><strong>Name</strong></td>\n",
       "                <td>iML1515</td>\n",
       "            </tr><tr>\n",
       "                <td><strong>Memory address</strong></td>\n",
       "                <td>0x0297d05e2358</td>\n",
       "            </tr><tr>\n",
       "                <td><strong>Number of metabolites</strong></td>\n",
       "                <td>1893</td>\n",
       "            </tr><tr>\n",
       "                <td><strong>Number of reactions</strong></td>\n",
       "                <td>2734</td>\n",
       "            </tr><tr>\n",
       "                <td><strong>Objective expression</strong></td>\n",
       "                <td>1.0*BIOMASS_Ec_iML1515_core_75p37M - 1.0*BIOMASS_Ec_iML1515_core_75p37M_reverse_35685</td>\n",
       "            </tr><tr>\n",
       "                <td><strong>Compartments</strong></td>\n",
       "                <td>cytosol, extracellular space, periplasm</td>\n",
       "            </tr>\n",
       "          </table>"
      ],
      "text/plain": [
       "<Model iML1515 at 0x297d05e2358>"
      ]
     },
     "execution_count": 25,
     "metadata": {},
     "output_type": "execute_result"
    }
   ],
   "source": [
    "add_new_ex_special(model3,'coumarate','coumarate_c','coumarate_e')\n",
    "add_new_ex_special(model3,'caffeate','caffeate_c','caffeate_e')\n",
    "#add_new_ex_special(model3,'ferulate','ferulate_c','ferulate_e')\n",
    "add_new_ex_special(model4,'coumarate','coumarate_c','coumarate_e')\n",
    "add_new_ex_special(model4,'caffeate','caffeate_c','caffeate_e')\n",
    "#add_new_ex_special(model4,'ferulate','ferulate_c','ferulate_e')\n",
    "add_new_ex_special(model4,'bisdemethoxycurcumin','bisdemethoxycurcumin_c','bisdemethoxycurcumin_e')\n",
    "add_new_ex_special(model4,'demethoxycurcumin','demethoxycurcumin_c','demethoxycurcumin_e')\n",
    "add_new_ex_special(model4,'curcumin','curcumin_c','curcumin_e')"
   ]
  },
  {
   "cell_type": "markdown",
   "metadata": {},
   "source": [
    "Test COMT/CCoAOMT Single-model"
   ]
  },
  {
   "cell_type": "code",
   "execution_count": 26,
   "metadata": {},
   "outputs": [
    {
     "name": "stdout",
     "output_type": "stream",
     "text": [
      "IN FLUXES        OUT FLUXES          OBJECTIVES\n",
      "---------------  ------------------  --------------------\n",
      "glc__D_e  10     h2o_e        37.6   EX_coumarate_e  5.61\n",
      "o2_e       6.75  co2_e         9.55\n",
      "                 coumarate_e   5.61\n",
      "                 h_e           5.61\n",
      "IN FLUXES       OUT FLUXES         OBJECTIVES\n",
      "--------------  -----------------  -------------------\n",
      "o2_e      11.7  h2o_e       38.5   EX_caffeate_e  5.37\n",
      "glc__D_e  10    co2_e       11.7\n",
      "                h_e         10.7\n",
      "                caffeate_e   5.37\n",
      "IN FLUXES     OUT FLUXES         OBJECTIVES\n",
      "------------  -----------------  -------------------\n",
      "o2_e      15  h2o_e       38.5   EX_ferulate_e  4.29\n",
      "glc__D_e  10  co2_e       17.1\n",
      "              h_e          8.58\n",
      "              ferulate_e   4.29\n"
     ]
    }
   ],
   "source": [
    "for i in ['coumarate_e','caffeate_e','ferulate_e']:\n",
    "    model1.reactions.get_by_id('EX_'+i).bounds=(0,1000)\n",
    "for j in ['EX_coumarate_e','EX_caffeate_e','EX_ferulate_e']:\n",
    "    with model1 as model_1:\n",
    "        model_1.objective=model_1.reactions.get_by_id(j)\n",
    "        model_1.optimize()\n",
    "        model_1.summary()\n"
   ]
  },
  {
   "cell_type": "code",
   "execution_count": 27,
   "metadata": {},
   "outputs": [
    {
     "name": "stdout",
     "output_type": "stream",
     "text": [
      "IN FLUXES        OUT FLUXES           OBJECTIVES\n",
      "---------------  -------------------  -------------------\n",
      "coumarate_e  38  h2o_e            60  EX_bisdemeth...  19\n",
      "o2_e         22  co2_e            41\n",
      "h_e          19  bisdemethoxy...  19\n",
      "glc__D_e     10\n",
      "IN FLUXES        OUT FLUXES           OBJECTIVES\n",
      "---------------  -------------------  -------------------\n",
      "o2_e         22  h2o_e            60  EX_demethoxy...  19\n",
      "coumarate_e  19  co2_e            41\n",
      "ferulate_e   19  demethoxycur...  19\n",
      "h_e          19\n",
      "glc__D_e     10\n",
      "IN FLUXES       OUT FLUXES      OBJECTIVES\n",
      "--------------  --------------  -----------------\n",
      "ferulate_e  38  h2o_e       60  EX_curcumin_e  19\n",
      "o2_e        22  co2_e       41\n",
      "h_e         19  curcumin_e  19\n",
      "glc__D_e    10\n"
     ]
    }
   ],
   "source": [
    "for i in ['coumarate_e','caffeate_e','ferulate_e']:\n",
    "    model2.reactions.get_by_id('EX_'+i).bounds=(-1000,0)\n",
    "for j in ['EX_bisdemethoxycurcumin_e','EX_demethoxycurcumin_e','EX_curcumin_e']:\n",
    "    with model2 as model_2:\n",
    "        model_2.objective=model_2.reactions.get_by_id(j)\n",
    "        model_2.optimize()\n",
    "        model_2.summary()"
   ]
  },
  {
   "cell_type": "code",
   "execution_count": 28,
   "metadata": {},
   "outputs": [
    {
     "name": "stdout",
     "output_type": "stream",
     "text": [
      "IN FLUXES        OUT FLUXES          OBJECTIVES\n",
      "---------------  ------------------  --------------------\n",
      "glc__D_e  10     h2o_e        37.6   EX_coumarate_e  5.61\n",
      "o2_e       6.75  co2_e         9.55\n",
      "                 h_e           5.61\n",
      "                 coumarate_e   5.61\n",
      "IN FLUXES       OUT FLUXES         OBJECTIVES\n",
      "--------------  -----------------  -------------------\n",
      "o2_e      11.7  h2o_e       38.5   EX_caffeate_e  5.37\n",
      "glc__D_e  10    co2_e       11.7\n",
      "                h_e         10.7\n",
      "                caffeate_e   5.37\n"
     ]
    }
   ],
   "source": [
    "for i in ['coumarate_e','caffeate_e']:\n",
    "    model3.reactions.get_by_id('EX_'+i).bounds=(0,1000)\n",
    "for j in ['EX_coumarate_e','EX_caffeate_e']:\n",
    "    with model3 as model_1:\n",
    "        model_1.objective=model_1.reactions.get_by_id(j)\n",
    "        model_1.optimize()\n",
    "        model_1.summary()"
   ]
  },
  {
   "cell_type": "code",
   "execution_count": 29,
   "metadata": {},
   "outputs": [
    {
     "name": "stdout",
     "output_type": "stream",
     "text": [
      "IN FLUXES        OUT FLUXES           OBJECTIVES\n",
      "---------------  -------------------  -------------------\n",
      "coumarate_e  38  h2o_e            60  EX_bisdemeth...  19\n",
      "o2_e         22  co2_e            41\n",
      "h_e          19  bisdemethoxy...  19\n",
      "glc__D_e     10\n",
      "IN FLUXES          OUT FLUXES             OBJECTIVES\n",
      "-----------------  ---------------------  ---------------------\n",
      "o2_e         24.5  h2o_e            49.9  EX_demethoxy...  10.1\n",
      "h_e          10.1  co2_e            39.7\n",
      "caffeate_e   10.1  demethoxycur...  10.1\n",
      "coumarate_e  10.1\n",
      "glc__D_e     10\n",
      "IN FLUXES          OUT FLUXES         OBJECTIVES\n",
      "-----------------  -----------------  -------------------\n",
      "o2_e        25.6   h2o_e       46.2   EX_curcumin_e  6.88\n",
      "caffeate_e  13.8   co2_e       39.3\n",
      "glc__D_e    10     curcumin_e   6.88\n",
      "h_e          6.88\n"
     ]
    }
   ],
   "source": [
    "for i in ['coumarate_e','caffeate_e']:\n",
    "    model4.reactions.get_by_id('EX_'+i).bounds=(-1000,0)\n",
    "for j in ['EX_bisdemethoxycurcumin_e','EX_demethoxycurcumin_e','EX_curcumin_e']:\n",
    "    with model4 as model_2:\n",
    "        model_2.objective=model_2.reactions.get_by_id(j)\n",
    "        model_2.optimize()\n",
    "        model_2.summary()"
   ]
  },
  {
   "cell_type": "code",
   "execution_count": 30,
   "metadata": {},
   "outputs": [
    {
     "name": "stdout",
     "output_type": "stream",
     "text": [
      "IN FLUXES            OUT FLUXES    OBJECTIVES\n",
      "-------------------  ------------  ---------------------\n",
      "o2_e      22.4       h2o_e  47.3   BIOMASS_Ec_i...  0.87\n",
      "glc__D_e  10         co2_e  24.3\n",
      "nh4_e      9.39      h_e     7.99\n",
      "pi_e       0.839\n",
      "so4_e      0.219\n",
      "k_e        0.17\n",
      "fe2_e      0.014\n",
      "mg2_e      0.00755\n",
      "ca2_e      0.00453\n",
      "cl_e       0.00453\n",
      "cu2_e      0.000617\n",
      "mn2_e      0.000601\n",
      "zn2_e      0.000297\n",
      "ni2_e      0.000281\n"
     ]
    }
   ],
   "source": [
    "model1.optimize()\n",
    "model1.summary()"
   ]
  },
  {
   "cell_type": "code",
   "execution_count": 31,
   "metadata": {},
   "outputs": [],
   "source": [
    "save_json_model(model1,model_new_up)\n",
    "save_json_model(model2,model_new_down)\n",
    "save_json_model(model3,model_new_up_CCoAOMT)\n",
    "save_json_model(model4,model_new_down_CCoAOMT)"
   ]
  },
  {
   "cell_type": "markdown",
   "metadata": {},
   "source": [
    "### Model Correction"
   ]
  },
  {
   "cell_type": "markdown",
   "metadata": {},
   "source": [
    "SKMs Construction"
   ]
  },
  {
   "cell_type": "code",
   "execution_count": 32,
   "metadata": {},
   "outputs": [],
   "source": [
    "from model_correction_tools import *"
   ]
  },
  {
   "cell_type": "code",
   "execution_count": 33,
   "metadata": {},
   "outputs": [
    {
     "name": "stdout",
     "output_type": "stream",
     "text": [
      "--------A  model----------\n",
      "2722\n",
      "1883\n",
      "1516\n",
      "--------B  model----------\n",
      "2735\n",
      "1894\n",
      "1516\n",
      "A_pi_e_con_1\n",
      "A_h_e_con_1\n",
      "A_fe3_e_con_1\n",
      "A_mn2_e_con_1\n",
      "A_co2_e_con_1\n",
      "A_fe2_e_con_1\n",
      "A_glc__D_e_con_1\n",
      "A_zn2_e_con_1\n",
      "A_mg2_e_con_1\n",
      "A_ca2_e_con_1\n",
      "A_ni2_e_con_1\n",
      "A_cu2_e_con_1\n",
      "A_cobalt2_e_con_1\n",
      "A_sel_e_con_1\n",
      "A_h2o_e_con_1\n",
      "A_nh4_e_con_1\n",
      "A_mobd_e_con_1\n",
      "A_so4_e_con_1\n",
      "A_k_e_con_1\n",
      "A_na1_e_con_1\n",
      "A_o2_e_con_1\n",
      "A_cl_e_con_1\n",
      "A_tungs_e_con_1\n",
      "A_slnt_e_con_1\n"
     ]
    },
    {
     "name": "stderr",
     "output_type": "stream",
     "text": [
      "Ignoring reaction 'EX_pi_e' since it already exists.\n",
      "Ignoring reaction 'EX_h_e' since it already exists.\n",
      "Ignoring reaction 'EX_fe3_e' since it already exists.\n",
      "Ignoring reaction 'EX_mn2_e' since it already exists.\n",
      "Ignoring reaction 'EX_co2_e' since it already exists.\n",
      "Ignoring reaction 'EX_fe2_e' since it already exists.\n",
      "Ignoring reaction 'EX_glc__D_e' since it already exists.\n",
      "Ignoring reaction 'EX_zn2_e' since it already exists.\n",
      "Ignoring reaction 'EX_mg2_e' since it already exists.\n",
      "Ignoring reaction 'EX_ca2_e' since it already exists.\n",
      "Ignoring reaction 'EX_ni2_e' since it already exists.\n",
      "Ignoring reaction 'EX_cu2_e' since it already exists.\n",
      "Ignoring reaction 'EX_cobalt2_e' since it already exists.\n",
      "Ignoring reaction 'EX_sel_e' since it already exists.\n",
      "Ignoring reaction 'EX_h2o_e' since it already exists.\n",
      "Ignoring reaction 'EX_nh4_e' since it already exists.\n",
      "Ignoring reaction 'EX_mobd_e' since it already exists.\n",
      "Ignoring reaction 'EX_so4_e' since it already exists.\n",
      "Ignoring reaction 'EX_k_e' since it already exists.\n",
      "Ignoring reaction 'EX_na1_e' since it already exists.\n",
      "Ignoring reaction 'EX_o2_e' since it already exists.\n",
      "Ignoring reaction 'EX_cl_e' since it already exists.\n",
      "Ignoring reaction 'EX_tungs_e' since it already exists.\n",
      "Ignoring reaction 'EX_slnt_e' since it already exists.\n"
     ]
    },
    {
     "name": "stdout",
     "output_type": "stream",
     "text": [
      "B_pi_e_con_2\n",
      "B_h_e_con_2\n",
      "B_fe3_e_con_2\n",
      "B_mn2_e_con_2\n",
      "B_co2_e_con_2\n",
      "B_fe2_e_con_2\n",
      "B_glc__D_e_con_2\n",
      "B_zn2_e_con_2\n",
      "B_mg2_e_con_2\n",
      "B_ca2_e_con_2\n",
      "B_ni2_e_con_2\n",
      "B_cu2_e_con_2\n",
      "B_cobalt2_e_con_2\n",
      "B_sel_e_con_2\n",
      "B_h2o_e_con_2\n",
      "B_nh4_e_con_2\n",
      "B_mobd_e_con_2\n",
      "B_so4_e_con_2\n",
      "B_k_e_con_2\n",
      "B_na1_e_con_2\n",
      "B_o2_e_con_2\n",
      "B_cl_e_con_2\n",
      "B_tungs_e_con_2\n",
      "B_slnt_e_con_2\n",
      "B_coumarate_e_con_2\n",
      "B_caffeate_e_con_2\n",
      "B_ferulate_e_con_2\n",
      "B_bisdemethoxycurcumin_e_con_2\n",
      "B_demethoxycurcumin_e_con_2\n",
      "B_curcumin_e_con_2\n"
     ]
    }
   ],
   "source": [
    "model_a=load_json_model(model_new_up)\n",
    "model_b=load_json_model(model_new_down)\n",
    "print(\"--------A  model----------\")\n",
    "print(len(model_a.reactions))\n",
    "print(len(model_a.metabolites))\n",
    "print(len(model_a.genes) )\n",
    "print(\"--------B  model----------\")\n",
    "print(len(model_b.reactions))\n",
    "print(len(model_b.metabolites))\n",
    "print(len(model_b.genes) )\n",
    "model=deepcopy(model_a)\n",
    "for i in model.reactions:\n",
    "    i.id='A_'+i.id\n",
    "for i in model.metabolites:\n",
    "    i.id='A_'+i.id\n",
    "    i.name='A_'+i.name\n",
    "model_t=deepcopy(model_b)\n",
    "# for i in model_t.genes:\n",
    "#     i.id=i.id+'_B'\n",
    "for i in model_t.reactions:\n",
    "    i.id='B_'+i.id\n",
    "for i in model_t.metabolites:\n",
    "    i.id='B_'+i.id\n",
    "    i.name='B_'+i.name\n",
    "for i in model_t.reactions:\n",
    "    model.add_reaction(i)\n",
    "e_meta_rn={}\n",
    "for meta in model_a.metabolites:\n",
    "    if meta.compartment=='e' :\n",
    "        meta_a=model.metabolites.get_by_id('A_'+meta.id)\n",
    "        e_meta_rn[meta.id+\"_1\"]=Reaction('A_'+meta.id+'_con_1')\n",
    "        e_meta_rn[meta.id+\"_1\"].name = meta.id+' Connection 1'\n",
    "        e_meta_rn[meta.id+\"_1\"].subsystem = 'unKnow'\n",
    "        e_meta_rn[meta.id+\"_1\"].lower_bound = 0. # This is the default\n",
    "        e_meta_rn[meta.id+\"_1\"].upper_bound = 1000. # This is the default\n",
    "        e_meta_rn[meta.id+\"_1\"].add_metabolites({\n",
    "            meta_a:-1.0,\n",
    "            meta:1.0\n",
    "            })\n",
    "        model.add_reactions([e_meta_rn[meta.id+\"_1\"]])\n",
    "for meta in model_b.metabolites:\n",
    "    if meta.compartment=='e' :\n",
    "        meta_b=model_t.metabolites.get_by_id('B_'+meta.id)\n",
    "        e_meta_rn[meta.id+\"_2\"]=Reaction('B_'+meta.id+'_con_2')\n",
    "        e_meta_rn[meta.id+\"_2\"].name = meta.id+' Connection 2'\n",
    "        e_meta_rn[meta.id+\"_2\"].subsystem = 'unKnow'\n",
    "        e_meta_rn[meta.id+\"_2\"].lower_bound = -1000. # This is the default\n",
    "        e_meta_rn[meta.id+\"_2\"].upper_bound = 0. # This is the default\n",
    "        e_meta_rn[meta.id+\"_2\"].add_metabolites({\n",
    "            meta_b:1.0,\n",
    "            meta:-1.0\n",
    "            })\n",
    "        model.add_reactions([e_meta_rn[meta.id+\"_2\"]])\n",
    "origin_model1=cobra.io.load_json_model(model_new_up)\n",
    "origin_model1.medium\n",
    "for i in origin_model1.medium:\n",
    "    model.add_reaction(origin_model1.reactions.get_by_id(i))\n",
    "    ex_meta=i.split('EX_')[1]\n",
    "    model.reactions.get_by_id('A_'+ex_meta+'_con_1').bounds=(-1000,1000)\n",
    "    #model.reactions.get_by_id('B_'+ex_meta+'_con_2').bounds=(-1000,1000)\n",
    "    print('A_'+ex_meta+'_con_1')\n",
    "origin_model2=cobra.io.load_json_model(model_new_down)\n",
    "origin_model2.medium\n",
    "for i in origin_model2.medium:\n",
    "    model.add_reaction(origin_model2.reactions.get_by_id(i))\n",
    "    ex_meta=i.split('EX_')[1]\n",
    "    #model.reactions.get_by_id('A_'+ex_meta+'_con_1').bounds=(-1000,1000)\n",
    "    model.reactions.get_by_id('B_'+ex_meta+'_con_2').bounds=(-1000,1000)\n",
    "    print('B_'+ex_meta+'_con_2')\n",
    "# model.reactions.get_by_id('A_'+meta_test+'_e'+'_con_1').bounds=(-1000,1000)\n",
    "# model.reactions.get_by_id('B_'+meta_test+'_e'+'_con_2').bounds=(-1000,1000)\n",
    "# for i in model.medium:\n",
    "#     h=i.split('_')[0]\n",
    "#     if h=='A' or h=='B':\n",
    "#         model.reactions.get_by_id(i).bounds=(0,0)\n",
    "model.medium\n",
    "model.name='iML_iML_Cur'\n",
    "model.id='iML_iML_Cur'\n",
    "#model.medium\n"
   ]
  },
  {
   "cell_type": "markdown",
   "metadata": {},
   "source": [
    "Strategy I SKM"
   ]
  },
  {
   "cell_type": "code",
   "execution_count": 34,
   "metadata": {},
   "outputs": [
    {
     "data": {
      "text/plain": [
       "{'EX_pi_e': 1000.0,\n",
       " 'EX_h_e': 1000.0,\n",
       " 'EX_fe3_e': 1000.0,\n",
       " 'EX_mn2_e': 1000.0,\n",
       " 'EX_co2_e': 1000.0,\n",
       " 'EX_fe2_e': 1000.0,\n",
       " 'EX_glc__D_e': 10.0,\n",
       " 'EX_zn2_e': 1000.0,\n",
       " 'EX_mg2_e': 1000.0,\n",
       " 'EX_ca2_e': 1000.0,\n",
       " 'EX_ni2_e': 1000.0,\n",
       " 'EX_cu2_e': 1000.0,\n",
       " 'EX_cobalt2_e': 1000.0,\n",
       " 'EX_sel_e': 1000.0,\n",
       " 'EX_h2o_e': 1000.0,\n",
       " 'EX_nh4_e': 1000.0,\n",
       " 'EX_mobd_e': 1000.0,\n",
       " 'EX_so4_e': 1000.0,\n",
       " 'EX_k_e': 1000.0,\n",
       " 'EX_na1_e': 1000.0,\n",
       " 'EX_o2_e': 1000.0,\n",
       " 'EX_cl_e': 1000.0,\n",
       " 'EX_tungs_e': 1000.0,\n",
       " 'EX_slnt_e': 1000.0,\n",
       " 'EX_coumarate_e': 1000,\n",
       " 'EX_caffeate_e': 1000,\n",
       " 'EX_ferulate_e': 1000,\n",
       " 'EX_bisdemethoxycurcumin_e': 1000,\n",
       " 'EX_demethoxycurcumin_e': 1000,\n",
       " 'EX_curcumin_e': 1000}"
      ]
     },
     "execution_count": 34,
     "metadata": {},
     "output_type": "execute_result"
    }
   ],
   "source": [
    "for i in model.medium:\n",
    "    h=i.split('_')[0]\n",
    "    if h=='A' or h=='B':\n",
    "        model.reactions.get_by_id(i).bounds=(0,0)\n",
    "model.medium"
   ]
  },
  {
   "cell_type": "code",
   "execution_count": 35,
   "metadata": {},
   "outputs": [],
   "source": [
    "for i in ['EX_coumarate_e','EX_caffeate_e','EX_ferulate_e','EX_bisdemethoxycurcumin_e','EX_demethoxycurcumin_e','EX_curcumin_e']:\n",
    "    model.reactions.get_by_id(i).bounds=(0,1000)"
   ]
  },
  {
   "cell_type": "code",
   "execution_count": 36,
   "metadata": {},
   "outputs": [
    {
     "name": "stdout",
     "output_type": "stream",
     "text": [
      "IN FLUXES            OUT FLUXES              OBJECTIVES\n",
      "-------------------  ----------------------  ---------------------\n",
      "o2_e      13.3       h2o_e            42.6   EX_bisdemeth...  1.81\n",
      "glc__D_e  10         co2_e            17.3\n",
      "nh4_e      2.16      h_e               3.65\n",
      "pi_e       0.193     bisdemethoxy...   1.81\n",
      "so4_e      0.0504\n",
      "k_e        0.039\n",
      "fe2_e      0.00321\n",
      "mg2_e      0.00174\n",
      "cl_e       0.00104\n",
      "ca2_e      0.00104\n",
      "cu2_e      0.000142\n",
      "mn2_e      0.000138\n",
      "zn2_e      6.82e-05\n",
      "ni2_e      6.46e-05\n",
      "A_coumarate_e_con_1:3.6290222260803016\n",
      "A_caffeate_e_con_1:0.0\n",
      "A_ferulate_e_con_1:0.0\n",
      "IN FLUXES            OUT FLUXES              OBJECTIVES\n",
      "-------------------  ----------------------  --------------------\n",
      "o2_e      16.2       h2o_e            42.7   EX_demethoxy...  1.6\n",
      "glc__D_e  10         co2_e            19.8\n",
      "nh4_e      2.16      h_e               5.04\n",
      "pi_e       0.193     demethoxycur...   1.6\n",
      "so4_e      0.0504\n",
      "k_e        0.039\n",
      "fe2_e      0.00321\n",
      "mg2_e      0.00174\n",
      "cl_e       0.00104\n",
      "ca2_e      0.00104\n",
      "cu2_e      0.000142\n",
      "mn2_e      0.000138\n",
      "zn2_e      6.82e-05\n",
      "ni2_e      6.46e-05\n",
      "A_coumarate_e_con_1:1.6000722619741368\n",
      "A_caffeate_e_con_1:0.0\n",
      "A_ferulate_e_con_1:1.600072261974137\n",
      "IN FLUXES            OUT FLUXES         OBJECTIVES\n",
      "-------------------  -----------------  -------------------\n",
      "o2_e      18.5       h2o_e       42.8   EX_curcumin_e  1.43\n",
      "glc__D_e  10         co2_e       21.7\n",
      "nh4_e      2.16      h_e          6.13\n",
      "pi_e       0.193     curcumin_e   1.43\n",
      "so4_e      0.0504\n",
      "k_e        0.039\n",
      "fe2_e      0.00321\n",
      "mg2_e      0.00174\n",
      "cl_e       0.00104\n",
      "ca2_e      0.00104\n",
      "cu2_e      0.000142\n",
      "mn2_e      0.000138\n",
      "zn2_e      6.82e-05\n",
      "ni2_e      6.46e-05\n",
      "A_coumarate_e_con_1:0.0\n",
      "A_caffeate_e_con_1:0.0\n",
      "A_ferulate_e_con_1:2.8619226224224383\n"
     ]
    }
   ],
   "source": [
    "with model as model_test:\n",
    "    for i in ['EX_bisdemethoxycurcumin_e','EX_demethoxycurcumin_e','EX_curcumin_e']:\n",
    "        model_test.reactions.get_by_id('A_BIOMASS_Ec_iML1515_core_75p37M').bounds=(0.1,1000)\n",
    "        model_test.reactions.get_by_id('B_BIOMASS_Ec_iML1515_core_75p37M').bounds=(0.1,1000)\n",
    "        model_test.objective=model_test.reactions.get_by_id(i)\n",
    "        model_test.optimize()\n",
    "        model_test.summary()\n",
    "        pfba_solution = cobra.flux_analysis.pfba(model_test)\n",
    "        for j in ['coumarate','caffeate','ferulate']:\n",
    "            Find_ex_id='A_'+j+'_e_con_1'\n",
    "            print(Find_ex_id+':'+str(pfba_solution.fluxes[Find_ex_id]))"
   ]
  },
  {
   "cell_type": "code",
   "execution_count": 37,
   "metadata": {},
   "outputs": [
    {
     "name": "stdout",
     "output_type": "stream",
     "text": [
      "IN FLUXES            OUT FLUXES    OBJECTIVES\n",
      "-------------------  ------------  ----------------------\n",
      "o2_e      25.5       h2o_e  51.5   A_BIOMASS_Ec...  0.844\n",
      "glc__D_e  10         co2_e  25.4\n",
      "nh4_e      9.11      fe3_e   7.75\n",
      "fe2_e      7.77\n",
      "pi_e       0.814\n",
      "so4_e      0.212\n",
      "k_e        0.165\n",
      "mg2_e      0.00732\n",
      "ca2_e      0.00439\n",
      "cl_e       0.00439\n",
      "cu2_e      0.000598\n",
      "mn2_e      0.000583\n",
      "zn2_e      0.000288\n",
      "ni2_e      0.000272\n",
      "IN FLUXES            OUT FLUXES    OBJECTIVES\n",
      "-------------------  ------------  ----------------------\n",
      "o2_e      23.6       h2o_e  47.7   B_BIOMASS_Ec...  0.844\n",
      "glc__D_e  10         co2_e  25.4\n",
      "nh4_e      9.11      h_e     7.75\n",
      "pi_e       0.814\n",
      "so4_e      0.212\n",
      "k_e        0.165\n",
      "fe2_e      0.0135\n",
      "mg2_e      0.00732\n",
      "ca2_e      0.00439\n",
      "cl_e       0.00439\n",
      "cu2_e      0.000598\n",
      "mn2_e      0.000583\n",
      "zn2_e      0.000288\n",
      "ni2_e      0.000272\n"
     ]
    }
   ],
   "source": [
    "with model as model_test:\n",
    "    for i in ['A_BIOMASS_Ec_iML1515_core_75p37M','B_BIOMASS_Ec_iML1515_core_75p37M']:\n",
    "        model_test.objective=model_test.reactions.get_by_id(i)\n",
    "        #model_test.reactions.get_by_id('A_ATPM').bounds=(0,0)\n",
    "        #model_test.objective=model_test.reactions.get_by_id(i)\n",
    "        model_test.optimize()\n",
    "        model_test.summary()"
   ]
  },
  {
   "cell_type": "code",
   "execution_count": 38,
   "metadata": {},
   "outputs": [],
   "source": [
    "save_json_model(model,model_cur_COMT_file)"
   ]
  },
  {
   "cell_type": "markdown",
   "metadata": {},
   "source": [
    "Strategy II SKM"
   ]
  },
  {
   "cell_type": "code",
   "execution_count": 39,
   "metadata": {},
   "outputs": [
    {
     "name": "stdout",
     "output_type": "stream",
     "text": [
      "--------A  model----------\n",
      "2720\n",
      "1882\n",
      "1516\n",
      "--------B  model----------\n",
      "2734\n",
      "1893\n",
      "1516\n",
      "A_pi_e_con_1\n",
      "A_h_e_con_1\n",
      "A_fe3_e_con_1\n",
      "A_mn2_e_con_1\n",
      "A_co2_e_con_1\n",
      "A_fe2_e_con_1\n",
      "A_glc__D_e_con_1\n",
      "A_zn2_e_con_1\n",
      "A_mg2_e_con_1\n",
      "A_ca2_e_con_1\n",
      "A_ni2_e_con_1\n",
      "A_cu2_e_con_1\n",
      "A_cobalt2_e_con_1\n",
      "A_sel_e_con_1\n",
      "A_h2o_e_con_1\n",
      "A_nh4_e_con_1\n",
      "A_mobd_e_con_1\n",
      "A_so4_e_con_1\n",
      "A_k_e_con_1\n",
      "A_na1_e_con_1\n",
      "A_o2_e_con_1\n",
      "A_cl_e_con_1\n",
      "A_tungs_e_con_1\n",
      "A_slnt_e_con_1\n"
     ]
    },
    {
     "name": "stderr",
     "output_type": "stream",
     "text": [
      "Ignoring reaction 'EX_pi_e' since it already exists.\n",
      "Ignoring reaction 'EX_h_e' since it already exists.\n",
      "Ignoring reaction 'EX_fe3_e' since it already exists.\n",
      "Ignoring reaction 'EX_mn2_e' since it already exists.\n",
      "Ignoring reaction 'EX_co2_e' since it already exists.\n",
      "Ignoring reaction 'EX_fe2_e' since it already exists.\n",
      "Ignoring reaction 'EX_glc__D_e' since it already exists.\n",
      "Ignoring reaction 'EX_zn2_e' since it already exists.\n",
      "Ignoring reaction 'EX_mg2_e' since it already exists.\n",
      "Ignoring reaction 'EX_ca2_e' since it already exists.\n",
      "Ignoring reaction 'EX_ni2_e' since it already exists.\n",
      "Ignoring reaction 'EX_cu2_e' since it already exists.\n",
      "Ignoring reaction 'EX_cobalt2_e' since it already exists.\n",
      "Ignoring reaction 'EX_sel_e' since it already exists.\n",
      "Ignoring reaction 'EX_h2o_e' since it already exists.\n",
      "Ignoring reaction 'EX_nh4_e' since it already exists.\n",
      "Ignoring reaction 'EX_mobd_e' since it already exists.\n",
      "Ignoring reaction 'EX_so4_e' since it already exists.\n",
      "Ignoring reaction 'EX_k_e' since it already exists.\n",
      "Ignoring reaction 'EX_na1_e' since it already exists.\n",
      "Ignoring reaction 'EX_o2_e' since it already exists.\n",
      "Ignoring reaction 'EX_cl_e' since it already exists.\n",
      "Ignoring reaction 'EX_tungs_e' since it already exists.\n",
      "Ignoring reaction 'EX_slnt_e' since it already exists.\n"
     ]
    },
    {
     "name": "stdout",
     "output_type": "stream",
     "text": [
      "B_pi_e_con_2\n",
      "B_h_e_con_2\n",
      "B_fe3_e_con_2\n",
      "B_mn2_e_con_2\n",
      "B_co2_e_con_2\n",
      "B_fe2_e_con_2\n",
      "B_glc__D_e_con_2\n",
      "B_zn2_e_con_2\n",
      "B_mg2_e_con_2\n",
      "B_ca2_e_con_2\n",
      "B_ni2_e_con_2\n",
      "B_cu2_e_con_2\n",
      "B_cobalt2_e_con_2\n",
      "B_sel_e_con_2\n",
      "B_h2o_e_con_2\n",
      "B_nh4_e_con_2\n",
      "B_mobd_e_con_2\n",
      "B_so4_e_con_2\n",
      "B_k_e_con_2\n",
      "B_na1_e_con_2\n",
      "B_o2_e_con_2\n",
      "B_cl_e_con_2\n",
      "B_tungs_e_con_2\n",
      "B_slnt_e_con_2\n",
      "B_coumarate_e_con_2\n",
      "B_caffeate_e_con_2\n",
      "B_bisdemethoxycurcumin_e_con_2\n",
      "B_demethoxycurcumin_e_con_2\n",
      "B_curcumin_e_con_2\n"
     ]
    }
   ],
   "source": [
    "model_a=load_json_model(model_new_up_CCoAOMT)\n",
    "model_b=load_json_model(model_new_down_CCoAOMT)\n",
    "print(\"--------A  model----------\")\n",
    "print(len(model_a.reactions))\n",
    "print(len(model_a.metabolites))\n",
    "print(len(model_a.genes) )\n",
    "print(\"--------B  model----------\")\n",
    "print(len(model_b.reactions))\n",
    "print(len(model_b.metabolites))\n",
    "print(len(model_b.genes) )\n",
    "model=deepcopy(model_a)\n",
    "for i in model.reactions:\n",
    "    i.id='A_'+i.id\n",
    "for i in model.metabolites:\n",
    "    i.id='A_'+i.id\n",
    "    i.name='A_'+i.name\n",
    "model_t=deepcopy(model_b)\n",
    "# for i in model_t.genes:\n",
    "#     i.id=i.id+'_B'\n",
    "for i in model_t.reactions:\n",
    "    i.id='B_'+i.id\n",
    "for i in model_t.metabolites:\n",
    "    i.id='B_'+i.id\n",
    "    i.name='B_'+i.name\n",
    "for i in model_t.reactions:\n",
    "    model.add_reaction(i)\n",
    "e_meta_rn={}\n",
    "for meta in model_a.metabolites:\n",
    "    if meta.compartment=='e' :\n",
    "        meta_a=model.metabolites.get_by_id('A_'+meta.id)\n",
    "        e_meta_rn[meta.id+\"_1\"]=Reaction('A_'+meta.id+'_con_1')\n",
    "        e_meta_rn[meta.id+\"_1\"].name = meta.id+' Connection 1'\n",
    "        e_meta_rn[meta.id+\"_1\"].subsystem = 'unKnow'\n",
    "        e_meta_rn[meta.id+\"_1\"].lower_bound = 0. # This is the default\n",
    "        e_meta_rn[meta.id+\"_1\"].upper_bound = 1000. # This is the default\n",
    "        e_meta_rn[meta.id+\"_1\"].add_metabolites({\n",
    "            meta_a:-1.0,\n",
    "            meta:1.0\n",
    "            })\n",
    "        model.add_reactions([e_meta_rn[meta.id+\"_1\"]])\n",
    "for meta in model_b.metabolites:\n",
    "    if meta.compartment=='e' :\n",
    "        meta_b=model_t.metabolites.get_by_id('B_'+meta.id)\n",
    "        e_meta_rn[meta.id+\"_2\"]=Reaction('B_'+meta.id+'_con_2')\n",
    "        e_meta_rn[meta.id+\"_2\"].name = meta.id+' Connection 2'\n",
    "        e_meta_rn[meta.id+\"_2\"].subsystem = 'unKnow'\n",
    "        e_meta_rn[meta.id+\"_2\"].lower_bound = -1000. # This is the default\n",
    "        e_meta_rn[meta.id+\"_2\"].upper_bound = 0. # This is the default\n",
    "        e_meta_rn[meta.id+\"_2\"].add_metabolites({\n",
    "            meta_b:1.0,\n",
    "            meta:-1.0\n",
    "            })\n",
    "        model.add_reactions([e_meta_rn[meta.id+\"_2\"]])\n",
    "origin_model1=cobra.io.load_json_model(model_new_up_CCoAOMT)\n",
    "origin_model1.medium\n",
    "for i in origin_model1.medium:\n",
    "    model.add_reaction(origin_model1.reactions.get_by_id(i))\n",
    "    ex_meta=i.split('EX_')[1]\n",
    "    model.reactions.get_by_id('A_'+ex_meta+'_con_1').bounds=(-1000,1000)\n",
    "    #model.reactions.get_by_id('B_'+ex_meta+'_con_2').bounds=(-1000,1000)\n",
    "    print('A_'+ex_meta+'_con_1')\n",
    "origin_model2=cobra.io.load_json_model(model_new_down_CCoAOMT)\n",
    "origin_model2.medium\n",
    "for i in origin_model2.medium:\n",
    "    model.add_reaction(origin_model2.reactions.get_by_id(i))\n",
    "    ex_meta=i.split('EX_')[1]\n",
    "    #model.reactions.get_by_id('A_'+ex_meta+'_con_1').bounds=(-1000,1000)\n",
    "    model.reactions.get_by_id('B_'+ex_meta+'_con_2').bounds=(-1000,1000)\n",
    "    print('B_'+ex_meta+'_con_2')\n",
    "# model.reactions.get_by_id('A_'+meta_test+'_e'+'_con_1').bounds=(-1000,1000)\n",
    "# model.reactions.get_by_id('B_'+meta_test+'_e'+'_con_2').bounds=(-1000,1000)\n",
    "# for i in model.medium:\n",
    "#     h=i.split('_')[0]\n",
    "#     if h=='A' or h=='B':\n",
    "#         model.reactions.get_by_id(i).bounds=(0,0)\n",
    "model.medium\n",
    "model.name='iML_iML_Cur'\n",
    "model.id='iML_iML_Cur'\n",
    "#model.medium"
   ]
  },
  {
   "cell_type": "code",
   "execution_count": 40,
   "metadata": {},
   "outputs": [
    {
     "data": {
      "text/plain": [
       "{'EX_pi_e': 1000.0,\n",
       " 'EX_h_e': 1000.0,\n",
       " 'EX_fe3_e': 1000.0,\n",
       " 'EX_mn2_e': 1000.0,\n",
       " 'EX_co2_e': 1000.0,\n",
       " 'EX_fe2_e': 1000.0,\n",
       " 'EX_glc__D_e': 10.0,\n",
       " 'EX_zn2_e': 1000.0,\n",
       " 'EX_mg2_e': 1000.0,\n",
       " 'EX_ca2_e': 1000.0,\n",
       " 'EX_ni2_e': 1000.0,\n",
       " 'EX_cu2_e': 1000.0,\n",
       " 'EX_cobalt2_e': 1000.0,\n",
       " 'EX_sel_e': 1000.0,\n",
       " 'EX_h2o_e': 1000.0,\n",
       " 'EX_nh4_e': 1000.0,\n",
       " 'EX_mobd_e': 1000.0,\n",
       " 'EX_so4_e': 1000.0,\n",
       " 'EX_k_e': 1000.0,\n",
       " 'EX_na1_e': 1000.0,\n",
       " 'EX_o2_e': 1000.0,\n",
       " 'EX_cl_e': 1000.0,\n",
       " 'EX_tungs_e': 1000.0,\n",
       " 'EX_slnt_e': 1000.0,\n",
       " 'EX_coumarate_e': 1000,\n",
       " 'EX_caffeate_e': 1000,\n",
       " 'EX_bisdemethoxycurcumin_e': 1000,\n",
       " 'EX_demethoxycurcumin_e': 1000,\n",
       " 'EX_curcumin_e': 1000}"
      ]
     },
     "execution_count": 40,
     "metadata": {},
     "output_type": "execute_result"
    }
   ],
   "source": [
    "for i in model.medium:\n",
    "    h=i.split('_')[0]\n",
    "    if h=='A' or h=='B':\n",
    "        model.reactions.get_by_id(i).bounds=(0,0)\n",
    "model.medium"
   ]
  },
  {
   "cell_type": "code",
   "execution_count": 41,
   "metadata": {},
   "outputs": [],
   "source": [
    "for i in ['EX_coumarate_e','EX_caffeate_e','EX_bisdemethoxycurcumin_e','EX_demethoxycurcumin_e','EX_curcumin_e']:\n",
    "    model.reactions.get_by_id(i).bounds=(0,1000)"
   ]
  },
  {
   "cell_type": "code",
   "execution_count": 42,
   "metadata": {},
   "outputs": [
    {
     "name": "stdout",
     "output_type": "stream",
     "text": [
      "IN FLUXES            OUT FLUXES              OBJECTIVES\n",
      "-------------------  ----------------------  ---------------------\n",
      "o2_e      13.3       h2o_e            42.6   EX_bisdemeth...  1.81\n",
      "glc__D_e  10         co2_e            17.3\n",
      "nh4_e      2.16      h_e               3.65\n",
      "pi_e       0.193     bisdemethoxy...   1.81\n",
      "so4_e      0.0504\n",
      "k_e        0.039\n",
      "fe2_e      0.00321\n",
      "mg2_e      0.00174\n",
      "cl_e       0.00104\n",
      "ca2_e      0.00104\n",
      "cu2_e      0.000142\n",
      "mn2_e      0.000138\n",
      "zn2_e      6.82e-05\n",
      "ni2_e      6.46e-05\n",
      "A_coumarate_e_con_1:3.629022226080304\n",
      "A_caffeate_e_con_1:0.0\n",
      "IN FLUXES            OUT FLUXES              OBJECTIVES\n",
      "-------------------  ----------------------  --------------------\n",
      "o2_e      16.1       h2o_e            42.7   EX_demethoxy...  1.6\n",
      "glc__D_e  10         co2_e            19.8\n",
      "nh4_e      2.16      h_e               5.04\n",
      "pi_e       0.193     demethoxycur...   1.6\n",
      "so4_e      0.0504\n",
      "k_e        0.039\n",
      "fe2_e      0.00321\n",
      "mg2_e      0.00174\n",
      "cl_e       0.00104\n",
      "ca2_e      0.00104\n",
      "cu2_e      0.000142\n",
      "mn2_e      0.000138\n",
      "zn2_e      6.82e-05\n",
      "ni2_e      6.46e-05\n",
      "A_coumarate_e_con_1:1.6020206562466546\n",
      "A_caffeate_e_con_1:1.6020206562466546\n",
      "IN FLUXES            OUT FLUXES         OBJECTIVES\n",
      "-------------------  -----------------  -------------------\n",
      "o2_e      18.4       h2o_e       42.7   EX_curcumin_e  1.43\n",
      "glc__D_e  10         co2_e       21.7\n",
      "nh4_e      2.16      h_e          6.14\n",
      "pi_e       0.193     curcumin_e   1.43\n",
      "so4_e      0.0504\n",
      "k_e        0.039\n",
      "fe2_e      0.00321\n",
      "mg2_e      0.00174\n",
      "cl_e       0.00104\n",
      "ca2_e      0.00104\n",
      "cu2_e      0.000142\n",
      "mn2_e      0.000138\n",
      "zn2_e      6.82e-05\n",
      "ni2_e      6.46e-05\n",
      "A_coumarate_e_con_1:1.7312413242494814e-12\n",
      "A_caffeate_e_con_1:2.865960006438797\n"
     ]
    }
   ],
   "source": [
    "with model as model_test:\n",
    "    for i in ['EX_bisdemethoxycurcumin_e','EX_demethoxycurcumin_e','EX_curcumin_e']:\n",
    "        model_test.reactions.get_by_id('A_BIOMASS_Ec_iML1515_core_75p37M').bounds=(0.1,1000)\n",
    "        model_test.reactions.get_by_id('B_BIOMASS_Ec_iML1515_core_75p37M').bounds=(0.1,1000)\n",
    "        model_test.objective=model_test.reactions.get_by_id(i)\n",
    "        model_test.optimize()\n",
    "        model_test.summary()\n",
    "        pfba_solution = cobra.flux_analysis.pfba(model_test)\n",
    "        for j in ['coumarate','caffeate']:\n",
    "            Find_ex_id='A_'+j+'_e_con_1'\n",
    "            print(Find_ex_id+':'+str(pfba_solution.fluxes[Find_ex_id]))"
   ]
  },
  {
   "cell_type": "code",
   "execution_count": 43,
   "metadata": {},
   "outputs": [
    {
     "name": "stdout",
     "output_type": "stream",
     "text": [
      "IN FLUXES            OUT FLUXES    OBJECTIVES\n",
      "-------------------  ------------  ----------------------\n",
      "o2_e      25.5       h2o_e  51.5   A_BIOMASS_Ec...  0.844\n",
      "glc__D_e  10         co2_e  25.4\n",
      "nh4_e      9.11      fe3_e   7.75\n",
      "fe2_e      7.77\n",
      "pi_e       0.814\n",
      "so4_e      0.212\n",
      "k_e        0.165\n",
      "mg2_e      0.00732\n",
      "ca2_e      0.00439\n",
      "cl_e       0.00439\n",
      "cu2_e      0.000598\n",
      "mn2_e      0.000583\n",
      "zn2_e      0.000288\n",
      "ni2_e      0.000272\n",
      "IN FLUXES            OUT FLUXES    OBJECTIVES\n",
      "-------------------  ------------  ----------------------\n",
      "o2_e      23.6       h2o_e  47.7   B_BIOMASS_Ec...  0.844\n",
      "glc__D_e  10         co2_e  25.4\n",
      "nh4_e      9.11      h_e     7.75\n",
      "pi_e       0.814\n",
      "so4_e      0.212\n",
      "k_e        0.165\n",
      "fe2_e      0.0135\n",
      "mg2_e      0.00732\n",
      "ca2_e      0.00439\n",
      "cl_e       0.00439\n",
      "cu2_e      0.000598\n",
      "mn2_e      0.000583\n",
      "zn2_e      0.000288\n",
      "ni2_e      0.000272\n"
     ]
    }
   ],
   "source": [
    "with model as model_test:\n",
    "    for i in ['A_BIOMASS_Ec_iML1515_core_75p37M','B_BIOMASS_Ec_iML1515_core_75p37M']:\n",
    "        model_test.objective=model_test.reactions.get_by_id(i)\n",
    "        #model_test.reactions.get_by_id('A_ATPM').bounds=(0,0)\n",
    "        #model_test.objective=model_test.reactions.get_by_id(i)\n",
    "        model_test.optimize()\n",
    "        model_test.summary()"
   ]
  },
  {
   "cell_type": "code",
   "execution_count": 44,
   "metadata": {},
   "outputs": [],
   "source": [
    "save_json_model(model,model_cur_CcOAOMT_file)"
   ]
  },
  {
   "cell_type": "markdown",
   "metadata": {},
   "source": [
    "# Simulation"
   ]
  },
  {
   "cell_type": "code",
   "execution_count": 54,
   "metadata": {},
   "outputs": [],
   "source": [
    "from CulECpyD import *\n",
    "from model_ec_simulation_diff import *"
   ]
  },
  {
   "cell_type": "markdown",
   "metadata": {},
   "source": [
    "Strategy I enzyme"
   ]
  },
  {
   "cell_type": "code",
   "execution_count": 46,
   "metadata": {},
   "outputs": [],
   "source": [
    "model_file=model_cur_COMT_file\n",
    "reaction_kcat_MW_file1='./cur/data/iML1515_reaction_kcat_MW.csv'\n",
    "reaction_kcat_MW_file2='./cur/data/iML1515_reaction_kcat_MW2.csv'\n",
    "reaction_kcat_MW_file3='./cur/data/iML1515_cur_COMT_reaction_kcat_MW.csv'\n",
    "Concretemodel_Need_Data_COMT=Get_Concretemodel_Need_Data_json(model_file,reaction_kcat_MW_file1,'None')"
   ]
  },
  {
   "cell_type": "markdown",
   "metadata": {},
   "source": [
    "Strategy II enzyme"
   ]
  },
  {
   "cell_type": "code",
   "execution_count": 47,
   "metadata": {},
   "outputs": [],
   "source": [
    "model_file=model_cur_CcOAOMT_file\n",
    "Concretemodel_Need_Data_CcOAOMT=Get_Concretemodel_Need_Data_json(model_file,reaction_kcat_MW_file1,'None')"
   ]
  },
  {
   "cell_type": "code",
   "execution_count": 50,
   "metadata": {},
   "outputs": [],
   "source": [
    "Concretemodel_Need_Data_COMT['reaction_kcat_MW']=unpdate_kcat_mw_diff(Concretemodel_Need_Data_COMT['reaction_list'],reaction_kcat_MW_file1,reaction_kcat_MW_file2,reaction_kcat_MW_file3)\n",
    "Concretemodel_Need_Data_CcOAOMT['reaction_kcat_MW']=unpdate_kcat_mw_diff(Concretemodel_Need_Data_CcOAOMT['reaction_list'],reaction_kcat_MW_file1,reaction_kcat_MW_file2,reaction_kcat_MW_file3)"
   ]
  },
  {
   "cell_type": "markdown",
   "metadata": {},
   "source": [
    "Simulation result diff strategy"
   ]
  },
  {
   "cell_type": "code",
   "execution_count": 59,
   "metadata": {},
   "outputs": [
    {
     "data": {
      "text/plain": [
       "0.6688780259185413"
      ]
     },
     "execution_count": 59,
     "metadata": {},
     "output_type": "execute_result"
    }
   ],
   "source": [
    "result_ec=ECM_FBA_diff(Concretemodel_Need_Data_COMT,substrates={'EX_glc__D_e_reverse':10},x=1,y=1,bio_a=0,bio_b=0,obj_name='A_BIOMASS_Ec_iML1515_core_75p37M',obj_target='maximize',special_constraint=True)\n",
    "result_ec.obj()"
   ]
  },
  {
   "cell_type": "code",
   "execution_count": 60,
   "metadata": {},
   "outputs": [
    {
     "data": {
      "text/plain": [
       "0.6688780259185466"
      ]
     },
     "execution_count": 60,
     "metadata": {},
     "output_type": "execute_result"
    }
   ],
   "source": [
    "result_Cc_ec=ECM_FBA_diff(Concretemodel_Need_Data_CcOAOMT,substrates={'EX_glc__D_e_reverse':10},x=1,y=1,bio_a=0,bio_b=0,obj_name='A_BIOMASS_Ec_iML1515_core_75p37M',obj_target='maximize',special_constraint=True)\n",
    "result_Cc_ec.obj()"
   ]
  },
  {
   "cell_type": "code",
   "execution_count": 61,
   "metadata": {},
   "outputs": [
    {
     "data": {
      "text/plain": [
       "0.8436355994032161"
      ]
     },
     "execution_count": 61,
     "metadata": {},
     "output_type": "execute_result"
    }
   ],
   "source": [
    "result_sto=FBA_diff(Concretemodel_Need_Data_COMT,substrates={'EX_glc__D_e_reverse':10},x=1,y=1,bio_a=0,bio_b=0,obj_name='A_BIOMASS_Ec_iML1515_core_75p37M',obj_target='maximize',special_constraint=True)\n",
    "result_sto.obj()"
   ]
  },
  {
   "cell_type": "code",
   "execution_count": 62,
   "metadata": {},
   "outputs": [
    {
     "data": {
      "text/plain": [
       "0.8436355994032992"
      ]
     },
     "execution_count": 62,
     "metadata": {},
     "output_type": "execute_result"
    }
   ],
   "source": [
    "result_Cc_sto=FBA_diff(Concretemodel_Need_Data_CcOAOMT,substrates={'EX_glc__D_e_reverse':10},x=1,y=1,bio_a=0,bio_b=0,obj_name='A_BIOMASS_Ec_iML1515_core_75p37M',obj_target='maximize',special_constraint=True)\n",
    "result_Cc_sto.obj()"
   ]
  },
  {
   "cell_type": "code",
   "execution_count": 63,
   "metadata": {},
   "outputs": [
    {
     "data": {
      "text/html": [
       "<div>\n",
       "<style scoped>\n",
       "    .dataframe tbody tr th:only-of-type {\n",
       "        vertical-align: middle;\n",
       "    }\n",
       "\n",
       "    .dataframe tbody tr th {\n",
       "        vertical-align: top;\n",
       "    }\n",
       "\n",
       "    .dataframe thead th {\n",
       "        text-align: right;\n",
       "    }\n",
       "</style>\n",
       "<table border=\"1\" class=\"dataframe\">\n",
       "  <thead>\n",
       "    <tr style=\"text-align: right;\">\n",
       "      <th></th>\n",
       "      <th>A_biomass</th>\n",
       "      <th>B_biomass</th>\n",
       "      <th>bisdemethoxycurcumin</th>\n",
       "      <th>demethoxycurcumin</th>\n",
       "      <th>curcumin</th>\n",
       "    </tr>\n",
       "  </thead>\n",
       "  <tbody>\n",
       "    <tr>\n",
       "      <th>EX_bisdemethoxycurcumin_e</th>\n",
       "      <td>0.1</td>\n",
       "      <td>0.1</td>\n",
       "      <td>1.814511</td>\n",
       "      <td>0.000000</td>\n",
       "      <td>0.000000</td>\n",
       "    </tr>\n",
       "    <tr>\n",
       "      <th>EX_demethoxycurcumin_e</th>\n",
       "      <td>0.1</td>\n",
       "      <td>0.1</td>\n",
       "      <td>0.000000</td>\n",
       "      <td>0.082947</td>\n",
       "      <td>0.000000</td>\n",
       "    </tr>\n",
       "    <tr>\n",
       "      <th>EX_curcumin_e</th>\n",
       "      <td>0.1</td>\n",
       "      <td>0.1</td>\n",
       "      <td>0.000000</td>\n",
       "      <td>0.000000</td>\n",
       "      <td>0.041674</td>\n",
       "    </tr>\n",
       "  </tbody>\n",
       "</table>\n",
       "</div>"
      ],
      "text/plain": [
       "                           A_biomass  B_biomass  bisdemethoxycurcumin  \\\n",
       "EX_bisdemethoxycurcumin_e        0.1        0.1              1.814511   \n",
       "EX_demethoxycurcumin_e           0.1        0.1              0.000000   \n",
       "EX_curcumin_e                    0.1        0.1              0.000000   \n",
       "\n",
       "                           demethoxycurcumin  curcumin  \n",
       "EX_bisdemethoxycurcumin_e           0.000000  0.000000  \n",
       "EX_demethoxycurcumin_e              0.082947  0.000000  \n",
       "EX_curcumin_e                       0.000000  0.041674  "
      ]
     },
     "execution_count": 63,
     "metadata": {},
     "output_type": "execute_result"
    }
   ],
   "source": [
    "cur_result11=pd.DataFrame()\n",
    "for j in ['EX_bisdemethoxycurcumin_e','EX_demethoxycurcumin_e','EX_curcumin_e']:\n",
    "    result=ECM_FBA_diff(Concretemodel_Need_Data_COMT,substrates={'EX_glc__D_e_reverse':100},x=1,y=1,bio_a=0.1,bio_b=0.1,obj_name=j,obj_target='maximize',special_constraint=True)\n",
    "    cur_result11.loc[j,'A_biomass']=(result.reaction['A_BIOMASS_Ec_iML1515_core_75p37M'].value)\n",
    "    cur_result11.loc[j,'B_biomass']=(result.reaction['B_BIOMASS_Ec_iML1515_core_75p37M'].value)\n",
    "    cur_result11.loc[j,'bisdemethoxycurcumin']=(result.reaction['EX_bisdemethoxycurcumin_e'].value)\n",
    "    cur_result11.loc[j,'demethoxycurcumin']=(result.reaction['EX_demethoxycurcumin_e'].value)\n",
    "    cur_result11.loc[j,'curcumin']=(result.reaction['EX_curcumin_e'].value)\n",
    "cur_result11"
   ]
  },
  {
   "cell_type": "code",
   "execution_count": 64,
   "metadata": {},
   "outputs": [
    {
     "data": {
      "text/html": [
       "<div>\n",
       "<style scoped>\n",
       "    .dataframe tbody tr th:only-of-type {\n",
       "        vertical-align: middle;\n",
       "    }\n",
       "\n",
       "    .dataframe tbody tr th {\n",
       "        vertical-align: top;\n",
       "    }\n",
       "\n",
       "    .dataframe thead th {\n",
       "        text-align: right;\n",
       "    }\n",
       "</style>\n",
       "<table border=\"1\" class=\"dataframe\">\n",
       "  <thead>\n",
       "    <tr style=\"text-align: right;\">\n",
       "      <th></th>\n",
       "      <th>A_biomass</th>\n",
       "      <th>B_biomass</th>\n",
       "      <th>bisdemethoxycurcumin</th>\n",
       "      <th>demethoxycurcumin</th>\n",
       "      <th>curcumin</th>\n",
       "    </tr>\n",
       "  </thead>\n",
       "  <tbody>\n",
       "    <tr>\n",
       "      <th>EX_bisdemethoxycurcumin_e</th>\n",
       "      <td>0.1</td>\n",
       "      <td>0.1</td>\n",
       "      <td>1.461038</td>\n",
       "      <td>0.000000</td>\n",
       "      <td>0.000000</td>\n",
       "    </tr>\n",
       "    <tr>\n",
       "      <th>EX_demethoxycurcumin_e</th>\n",
       "      <td>0.1</td>\n",
       "      <td>0.1</td>\n",
       "      <td>0.000000</td>\n",
       "      <td>0.082947</td>\n",
       "      <td>0.000000</td>\n",
       "    </tr>\n",
       "    <tr>\n",
       "      <th>EX_curcumin_e</th>\n",
       "      <td>0.1</td>\n",
       "      <td>0.1</td>\n",
       "      <td>0.000000</td>\n",
       "      <td>0.000000</td>\n",
       "      <td>0.041674</td>\n",
       "    </tr>\n",
       "  </tbody>\n",
       "</table>\n",
       "</div>"
      ],
      "text/plain": [
       "                           A_biomass  B_biomass  bisdemethoxycurcumin  \\\n",
       "EX_bisdemethoxycurcumin_e        0.1        0.1              1.461038   \n",
       "EX_demethoxycurcumin_e           0.1        0.1              0.000000   \n",
       "EX_curcumin_e                    0.1        0.1              0.000000   \n",
       "\n",
       "                           demethoxycurcumin  curcumin  \n",
       "EX_bisdemethoxycurcumin_e           0.000000  0.000000  \n",
       "EX_demethoxycurcumin_e              0.082947  0.000000  \n",
       "EX_curcumin_e                       0.000000  0.041674  "
      ]
     },
     "execution_count": 64,
     "metadata": {},
     "output_type": "execute_result"
    }
   ],
   "source": [
    "cur_result12=pd.DataFrame()\n",
    "for j in ['EX_bisdemethoxycurcumin_e','EX_demethoxycurcumin_e','EX_curcumin_e']:\n",
    "    result=ECM_FBA_diff(Concretemodel_Need_Data_COMT,substrates={'EX_glc__D_e_reverse':100},x=1,y=2,bio_a=0.1,bio_b=0.1,obj_name=j,obj_target='maximize',special_constraint=True)\n",
    "    cur_result12.loc[j,'A_biomass']=(result.reaction['A_BIOMASS_Ec_iML1515_core_75p37M'].value)\n",
    "    cur_result12.loc[j,'B_biomass']=(result.reaction['B_BIOMASS_Ec_iML1515_core_75p37M'].value)\n",
    "    cur_result12.loc[j,'bisdemethoxycurcumin']=(result.reaction['EX_bisdemethoxycurcumin_e'].value)\n",
    "    cur_result12.loc[j,'demethoxycurcumin']=(result.reaction['EX_demethoxycurcumin_e'].value)\n",
    "    cur_result12.loc[j,'curcumin']=(result.reaction['EX_curcumin_e'].value)\n",
    "cur_result12"
   ]
  },
  {
   "cell_type": "code",
   "execution_count": 65,
   "metadata": {},
   "outputs": [
    {
     "data": {
      "text/html": [
       "<div>\n",
       "<style scoped>\n",
       "    .dataframe tbody tr th:only-of-type {\n",
       "        vertical-align: middle;\n",
       "    }\n",
       "\n",
       "    .dataframe tbody tr th {\n",
       "        vertical-align: top;\n",
       "    }\n",
       "\n",
       "    .dataframe thead th {\n",
       "        text-align: right;\n",
       "    }\n",
       "</style>\n",
       "<table border=\"1\" class=\"dataframe\">\n",
       "  <thead>\n",
       "    <tr style=\"text-align: right;\">\n",
       "      <th></th>\n",
       "      <th>A_biomass</th>\n",
       "      <th>B_biomass</th>\n",
       "      <th>bisdemethoxycurcumin</th>\n",
       "      <th>demethoxycurcumin</th>\n",
       "      <th>curcumin</th>\n",
       "    </tr>\n",
       "  </thead>\n",
       "  <tbody>\n",
       "    <tr>\n",
       "      <th>EX_bisdemethoxycurcumin_e</th>\n",
       "      <td>0.1</td>\n",
       "      <td>0.1</td>\n",
       "      <td>1.462539</td>\n",
       "      <td>0.000000</td>\n",
       "      <td>0.000000</td>\n",
       "    </tr>\n",
       "    <tr>\n",
       "      <th>EX_demethoxycurcumin_e</th>\n",
       "      <td>0.1</td>\n",
       "      <td>0.1</td>\n",
       "      <td>0.000000</td>\n",
       "      <td>0.165592</td>\n",
       "      <td>0.000000</td>\n",
       "    </tr>\n",
       "    <tr>\n",
       "      <th>EX_curcumin_e</th>\n",
       "      <td>0.1</td>\n",
       "      <td>0.1</td>\n",
       "      <td>0.000000</td>\n",
       "      <td>0.000000</td>\n",
       "      <td>0.083187</td>\n",
       "    </tr>\n",
       "  </tbody>\n",
       "</table>\n",
       "</div>"
      ],
      "text/plain": [
       "                           A_biomass  B_biomass  bisdemethoxycurcumin  \\\n",
       "EX_bisdemethoxycurcumin_e        0.1        0.1              1.462539   \n",
       "EX_demethoxycurcumin_e           0.1        0.1              0.000000   \n",
       "EX_curcumin_e                    0.1        0.1              0.000000   \n",
       "\n",
       "                           demethoxycurcumin  curcumin  \n",
       "EX_bisdemethoxycurcumin_e           0.000000  0.000000  \n",
       "EX_demethoxycurcumin_e              0.165592  0.000000  \n",
       "EX_curcumin_e                       0.000000  0.083187  "
      ]
     },
     "execution_count": 65,
     "metadata": {},
     "output_type": "execute_result"
    }
   ],
   "source": [
    "cur_result21=pd.DataFrame()\n",
    "for j in ['EX_bisdemethoxycurcumin_e','EX_demethoxycurcumin_e','EX_curcumin_e']:\n",
    "    result=ECM_FBA_diff(Concretemodel_Need_Data_COMT,substrates={'EX_glc__D_e_reverse':100},x=2,y=1,bio_a=0.1,bio_b=0.1,obj_name=j,obj_target='maximize',special_constraint=True)\n",
    "    cur_result21.loc[j,'A_biomass']=(result.reaction['A_BIOMASS_Ec_iML1515_core_75p37M'].value)\n",
    "    cur_result21.loc[j,'B_biomass']=(result.reaction['B_BIOMASS_Ec_iML1515_core_75p37M'].value)\n",
    "    cur_result21.loc[j,'bisdemethoxycurcumin']=(result.reaction['EX_bisdemethoxycurcumin_e'].value)\n",
    "    cur_result21.loc[j,'demethoxycurcumin']=(result.reaction['EX_demethoxycurcumin_e'].value)\n",
    "    cur_result21.loc[j,'curcumin']=(result.reaction['EX_curcumin_e'].value)\n",
    "cur_result21"
   ]
  },
  {
   "cell_type": "code",
   "execution_count": 66,
   "metadata": {},
   "outputs": [
    {
     "data": {
      "text/html": [
       "<div>\n",
       "<style scoped>\n",
       "    .dataframe tbody tr th:only-of-type {\n",
       "        vertical-align: middle;\n",
       "    }\n",
       "\n",
       "    .dataframe tbody tr th {\n",
       "        vertical-align: top;\n",
       "    }\n",
       "\n",
       "    .dataframe thead th {\n",
       "        text-align: right;\n",
       "    }\n",
       "</style>\n",
       "<table border=\"1\" class=\"dataframe\">\n",
       "  <thead>\n",
       "    <tr style=\"text-align: right;\">\n",
       "      <th></th>\n",
       "      <th>A_biomass</th>\n",
       "      <th>B_biomass</th>\n",
       "      <th>bisdemethoxycurcumin</th>\n",
       "      <th>demethoxycurcumin</th>\n",
       "      <th>curcumin</th>\n",
       "    </tr>\n",
       "  </thead>\n",
       "  <tbody>\n",
       "    <tr>\n",
       "      <th>EX_bisdemethoxycurcumin_e</th>\n",
       "      <td>0.1</td>\n",
       "      <td>0.1</td>\n",
       "      <td>1.814511</td>\n",
       "      <td>0.000000</td>\n",
       "      <td>0.000000</td>\n",
       "    </tr>\n",
       "    <tr>\n",
       "      <th>EX_demethoxycurcumin_e</th>\n",
       "      <td>0.1</td>\n",
       "      <td>0.1</td>\n",
       "      <td>0.000000</td>\n",
       "      <td>0.053337</td>\n",
       "      <td>0.000000</td>\n",
       "    </tr>\n",
       "    <tr>\n",
       "      <th>EX_curcumin_e</th>\n",
       "      <td>0.1</td>\n",
       "      <td>0.1</td>\n",
       "      <td>0.000000</td>\n",
       "      <td>0.000000</td>\n",
       "      <td>0.026695</td>\n",
       "    </tr>\n",
       "  </tbody>\n",
       "</table>\n",
       "</div>"
      ],
      "text/plain": [
       "                           A_biomass  B_biomass  bisdemethoxycurcumin  \\\n",
       "EX_bisdemethoxycurcumin_e        0.1        0.1              1.814511   \n",
       "EX_demethoxycurcumin_e           0.1        0.1              0.000000   \n",
       "EX_curcumin_e                    0.1        0.1              0.000000   \n",
       "\n",
       "                           demethoxycurcumin  curcumin  \n",
       "EX_bisdemethoxycurcumin_e           0.000000  0.000000  \n",
       "EX_demethoxycurcumin_e              0.053337  0.000000  \n",
       "EX_curcumin_e                       0.000000  0.026695  "
      ]
     },
     "execution_count": 66,
     "metadata": {},
     "output_type": "execute_result"
    }
   ],
   "source": [
    "cur_result_Cc11=pd.DataFrame()\n",
    "for j in ['EX_bisdemethoxycurcumin_e','EX_demethoxycurcumin_e','EX_curcumin_e']:\n",
    "    result=ECM_FBA_diff(Concretemodel_Need_Data_CcOAOMT,substrates={'EX_glc__D_e_reverse':100},x=1,y=1,bio_a=0.1,bio_b=0.1,obj_name=j,obj_target='maximize',special_constraint=True)\n",
    "    cur_result_Cc11.loc[j,'A_biomass']=(result.reaction['A_BIOMASS_Ec_iML1515_core_75p37M'].value)\n",
    "    cur_result_Cc11.loc[j,'B_biomass']=(result.reaction['B_BIOMASS_Ec_iML1515_core_75p37M'].value)\n",
    "    cur_result_Cc11.loc[j,'bisdemethoxycurcumin']=(result.reaction['EX_bisdemethoxycurcumin_e'].value)\n",
    "    cur_result_Cc11.loc[j,'demethoxycurcumin']=(result.reaction['EX_demethoxycurcumin_e'].value)\n",
    "    cur_result_Cc11.loc[j,'curcumin']=(result.reaction['EX_curcumin_e'].value)\n",
    "cur_result_Cc11"
   ]
  },
  {
   "cell_type": "code",
   "execution_count": 67,
   "metadata": {},
   "outputs": [
    {
     "data": {
      "text/html": [
       "<div>\n",
       "<style scoped>\n",
       "    .dataframe tbody tr th:only-of-type {\n",
       "        vertical-align: middle;\n",
       "    }\n",
       "\n",
       "    .dataframe tbody tr th {\n",
       "        vertical-align: top;\n",
       "    }\n",
       "\n",
       "    .dataframe thead th {\n",
       "        text-align: right;\n",
       "    }\n",
       "</style>\n",
       "<table border=\"1\" class=\"dataframe\">\n",
       "  <thead>\n",
       "    <tr style=\"text-align: right;\">\n",
       "      <th></th>\n",
       "      <th>A_biomass</th>\n",
       "      <th>B_biomass</th>\n",
       "      <th>bisdemethoxycurcumin</th>\n",
       "      <th>demethoxycurcumin</th>\n",
       "      <th>curcumin</th>\n",
       "    </tr>\n",
       "  </thead>\n",
       "  <tbody>\n",
       "    <tr>\n",
       "      <th>EX_bisdemethoxycurcumin_e</th>\n",
       "      <td>0.1</td>\n",
       "      <td>0.1</td>\n",
       "      <td>1.461038</td>\n",
       "      <td>0.000000</td>\n",
       "      <td>0.000000</td>\n",
       "    </tr>\n",
       "    <tr>\n",
       "      <th>EX_demethoxycurcumin_e</th>\n",
       "      <td>0.1</td>\n",
       "      <td>0.1</td>\n",
       "      <td>0.000000</td>\n",
       "      <td>0.106444</td>\n",
       "      <td>0.000000</td>\n",
       "    </tr>\n",
       "    <tr>\n",
       "      <th>EX_curcumin_e</th>\n",
       "      <td>0.1</td>\n",
       "      <td>0.1</td>\n",
       "      <td>0.000000</td>\n",
       "      <td>0.000000</td>\n",
       "      <td>0.053283</td>\n",
       "    </tr>\n",
       "  </tbody>\n",
       "</table>\n",
       "</div>"
      ],
      "text/plain": [
       "                           A_biomass  B_biomass  bisdemethoxycurcumin  \\\n",
       "EX_bisdemethoxycurcumin_e        0.1        0.1              1.461038   \n",
       "EX_demethoxycurcumin_e           0.1        0.1              0.000000   \n",
       "EX_curcumin_e                    0.1        0.1              0.000000   \n",
       "\n",
       "                           demethoxycurcumin  curcumin  \n",
       "EX_bisdemethoxycurcumin_e           0.000000  0.000000  \n",
       "EX_demethoxycurcumin_e              0.106444  0.000000  \n",
       "EX_curcumin_e                       0.000000  0.053283  "
      ]
     },
     "execution_count": 67,
     "metadata": {},
     "output_type": "execute_result"
    }
   ],
   "source": [
    "cur_result_Cc12=pd.DataFrame()\n",
    "for j in ['EX_bisdemethoxycurcumin_e','EX_demethoxycurcumin_e','EX_curcumin_e']:\n",
    "    result=ECM_FBA_diff(Concretemodel_Need_Data_CcOAOMT,substrates={'EX_glc__D_e_reverse':100},x=1,y=2,bio_a=0.1,bio_b=0.1,obj_name=j,obj_target='maximize',special_constraint=True)\n",
    "    cur_result_Cc12.loc[j,'A_biomass']=(result.reaction['A_BIOMASS_Ec_iML1515_core_75p37M'].value)\n",
    "    cur_result_Cc12.loc[j,'B_biomass']=(result.reaction['B_BIOMASS_Ec_iML1515_core_75p37M'].value)\n",
    "    cur_result_Cc12.loc[j,'bisdemethoxycurcumin']=(result.reaction['EX_bisdemethoxycurcumin_e'].value)\n",
    "    cur_result_Cc12.loc[j,'demethoxycurcumin']=(result.reaction['EX_demethoxycurcumin_e'].value)\n",
    "    cur_result_Cc12.loc[j,'curcumin']=(result.reaction['EX_curcumin_e'].value)\n",
    "cur_result_Cc12"
   ]
  },
  {
   "cell_type": "code",
   "execution_count": 68,
   "metadata": {},
   "outputs": [
    {
     "data": {
      "text/html": [
       "<div>\n",
       "<style scoped>\n",
       "    .dataframe tbody tr th:only-of-type {\n",
       "        vertical-align: middle;\n",
       "    }\n",
       "\n",
       "    .dataframe tbody tr th {\n",
       "        vertical-align: top;\n",
       "    }\n",
       "\n",
       "    .dataframe thead th {\n",
       "        text-align: right;\n",
       "    }\n",
       "</style>\n",
       "<table border=\"1\" class=\"dataframe\">\n",
       "  <thead>\n",
       "    <tr style=\"text-align: right;\">\n",
       "      <th></th>\n",
       "      <th>A_biomass</th>\n",
       "      <th>B_biomass</th>\n",
       "      <th>bisdemethoxycurcumin</th>\n",
       "      <th>demethoxycurcumin</th>\n",
       "      <th>curcumin</th>\n",
       "    </tr>\n",
       "  </thead>\n",
       "  <tbody>\n",
       "    <tr>\n",
       "      <th>EX_bisdemethoxycurcumin_e</th>\n",
       "      <td>0.1</td>\n",
       "      <td>0.1</td>\n",
       "      <td>1.462539</td>\n",
       "      <td>0.000000</td>\n",
       "      <td>0.000000</td>\n",
       "    </tr>\n",
       "    <tr>\n",
       "      <th>EX_demethoxycurcumin_e</th>\n",
       "      <td>0.1</td>\n",
       "      <td>0.1</td>\n",
       "      <td>0.000000</td>\n",
       "      <td>0.053337</td>\n",
       "      <td>0.000000</td>\n",
       "    </tr>\n",
       "    <tr>\n",
       "      <th>EX_curcumin_e</th>\n",
       "      <td>0.1</td>\n",
       "      <td>0.1</td>\n",
       "      <td>0.000000</td>\n",
       "      <td>0.000000</td>\n",
       "      <td>0.026695</td>\n",
       "    </tr>\n",
       "  </tbody>\n",
       "</table>\n",
       "</div>"
      ],
      "text/plain": [
       "                           A_biomass  B_biomass  bisdemethoxycurcumin  \\\n",
       "EX_bisdemethoxycurcumin_e        0.1        0.1              1.462539   \n",
       "EX_demethoxycurcumin_e           0.1        0.1              0.000000   \n",
       "EX_curcumin_e                    0.1        0.1              0.000000   \n",
       "\n",
       "                           demethoxycurcumin  curcumin  \n",
       "EX_bisdemethoxycurcumin_e           0.000000  0.000000  \n",
       "EX_demethoxycurcumin_e              0.053337  0.000000  \n",
       "EX_curcumin_e                       0.000000  0.026695  "
      ]
     },
     "execution_count": 68,
     "metadata": {},
     "output_type": "execute_result"
    }
   ],
   "source": [
    "cur_result_Cc21=pd.DataFrame()\n",
    "for j in ['EX_bisdemethoxycurcumin_e','EX_demethoxycurcumin_e','EX_curcumin_e']:\n",
    "    result=ECM_FBA_diff(Concretemodel_Need_Data_CcOAOMT,substrates={'EX_glc__D_e_reverse':100},x=2,y=1,bio_a=0.1,bio_b=0.1,obj_name=j,obj_target='maximize',special_constraint=True)\n",
    "    cur_result_Cc21.loc[j,'A_biomass']=(result.reaction['A_BIOMASS_Ec_iML1515_core_75p37M'].value)\n",
    "    cur_result_Cc21.loc[j,'B_biomass']=(result.reaction['B_BIOMASS_Ec_iML1515_core_75p37M'].value)\n",
    "    cur_result_Cc21.loc[j,'bisdemethoxycurcumin']=(result.reaction['EX_bisdemethoxycurcumin_e'].value)\n",
    "    cur_result_Cc21.loc[j,'demethoxycurcumin']=(result.reaction['EX_demethoxycurcumin_e'].value)\n",
    "    cur_result_Cc21.loc[j,'curcumin']=(result.reaction['EX_curcumin_e'].value)\n",
    "cur_result_Cc21"
   ]
  },
  {
   "cell_type": "code",
   "execution_count": 69,
   "metadata": {},
   "outputs": [
    {
     "data": {
      "text/html": [
       "<div>\n",
       "<style scoped>\n",
       "    .dataframe tbody tr th:only-of-type {\n",
       "        vertical-align: middle;\n",
       "    }\n",
       "\n",
       "    .dataframe tbody tr th {\n",
       "        vertical-align: top;\n",
       "    }\n",
       "\n",
       "    .dataframe thead th {\n",
       "        text-align: right;\n",
       "    }\n",
       "</style>\n",
       "<table border=\"1\" class=\"dataframe\">\n",
       "  <thead>\n",
       "    <tr style=\"text-align: right;\">\n",
       "      <th></th>\n",
       "      <th>A_biomass</th>\n",
       "      <th>B_biomass</th>\n",
       "      <th>bisdemethoxycurcumin</th>\n",
       "      <th>demethoxycurcumin</th>\n",
       "      <th>curcumin</th>\n",
       "    </tr>\n",
       "  </thead>\n",
       "  <tbody>\n",
       "    <tr>\n",
       "      <th>EX_bisdemethoxycurcumin_e</th>\n",
       "      <td>0.1</td>\n",
       "      <td>0.1</td>\n",
       "      <td>1.814512</td>\n",
       "      <td>0.000000</td>\n",
       "      <td>0.000000</td>\n",
       "    </tr>\n",
       "    <tr>\n",
       "      <th>EX_demethoxycurcumin_e</th>\n",
       "      <td>0.1</td>\n",
       "      <td>0.1</td>\n",
       "      <td>0.000000</td>\n",
       "      <td>1.600072</td>\n",
       "      <td>0.000000</td>\n",
       "    </tr>\n",
       "    <tr>\n",
       "      <th>EX_curcumin_e</th>\n",
       "      <td>0.1</td>\n",
       "      <td>0.1</td>\n",
       "      <td>0.000000</td>\n",
       "      <td>0.000000</td>\n",
       "      <td>1.430962</td>\n",
       "    </tr>\n",
       "  </tbody>\n",
       "</table>\n",
       "</div>"
      ],
      "text/plain": [
       "                           A_biomass  B_biomass  bisdemethoxycurcumin  \\\n",
       "EX_bisdemethoxycurcumin_e        0.1        0.1              1.814512   \n",
       "EX_demethoxycurcumin_e           0.1        0.1              0.000000   \n",
       "EX_curcumin_e                    0.1        0.1              0.000000   \n",
       "\n",
       "                           demethoxycurcumin  curcumin  \n",
       "EX_bisdemethoxycurcumin_e           0.000000  0.000000  \n",
       "EX_demethoxycurcumin_e              1.600072  0.000000  \n",
       "EX_curcumin_e                       0.000000  1.430962  "
      ]
     },
     "execution_count": 69,
     "metadata": {},
     "output_type": "execute_result"
    }
   ],
   "source": [
    "cur_result_fba=pd.DataFrame()#1:1\n",
    "for j in ['EX_bisdemethoxycurcumin_e','EX_demethoxycurcumin_e','EX_curcumin_e']:\n",
    "    result=FBA_diff(Concretemodel_Need_Data_COMT,substrates={'EX_glc__D_e_reverse':100},x=1,y=1,bio_a=0.1,bio_b=0.1,obj_name=j,obj_target='maximize',special_constraint=True)\n",
    "    cur_result_fba.loc[j,'A_biomass']=(result.reaction['A_BIOMASS_Ec_iML1515_core_75p37M'].value)\n",
    "    cur_result_fba.loc[j,'B_biomass']=(result.reaction['B_BIOMASS_Ec_iML1515_core_75p37M'].value)\n",
    "    cur_result_fba.loc[j,'bisdemethoxycurcumin']=(result.reaction['EX_bisdemethoxycurcumin_e'].value)\n",
    "    cur_result_fba.loc[j,'demethoxycurcumin']=(result.reaction['EX_demethoxycurcumin_e'].value)\n",
    "    cur_result_fba.loc[j,'curcumin']=(result.reaction['EX_curcumin_e'].value)\n",
    "cur_result_fba"
   ]
  },
  {
   "cell_type": "code",
   "execution_count": 70,
   "metadata": {},
   "outputs": [
    {
     "data": {
      "text/html": [
       "<div>\n",
       "<style scoped>\n",
       "    .dataframe tbody tr th:only-of-type {\n",
       "        vertical-align: middle;\n",
       "    }\n",
       "\n",
       "    .dataframe tbody tr th {\n",
       "        vertical-align: top;\n",
       "    }\n",
       "\n",
       "    .dataframe thead th {\n",
       "        text-align: right;\n",
       "    }\n",
       "</style>\n",
       "<table border=\"1\" class=\"dataframe\">\n",
       "  <thead>\n",
       "    <tr style=\"text-align: right;\">\n",
       "      <th></th>\n",
       "      <th>A_biomass</th>\n",
       "      <th>B_biomass</th>\n",
       "      <th>bisdemethoxycurcumin</th>\n",
       "      <th>demethoxycurcumin</th>\n",
       "      <th>curcumin</th>\n",
       "    </tr>\n",
       "  </thead>\n",
       "  <tbody>\n",
       "    <tr>\n",
       "      <th>EX_bisdemethoxycurcumin_e</th>\n",
       "      <td>0.1</td>\n",
       "      <td>0.1</td>\n",
       "      <td>1.814512</td>\n",
       "      <td>0.000000</td>\n",
       "      <td>0.000000</td>\n",
       "    </tr>\n",
       "    <tr>\n",
       "      <th>EX_demethoxycurcumin_e</th>\n",
       "      <td>0.1</td>\n",
       "      <td>0.1</td>\n",
       "      <td>0.000000</td>\n",
       "      <td>1.602021</td>\n",
       "      <td>0.000000</td>\n",
       "    </tr>\n",
       "    <tr>\n",
       "      <th>EX_curcumin_e</th>\n",
       "      <td>0.1</td>\n",
       "      <td>0.1</td>\n",
       "      <td>0.000000</td>\n",
       "      <td>0.000000</td>\n",
       "      <td>1.432981</td>\n",
       "    </tr>\n",
       "  </tbody>\n",
       "</table>\n",
       "</div>"
      ],
      "text/plain": [
       "                           A_biomass  B_biomass  bisdemethoxycurcumin  \\\n",
       "EX_bisdemethoxycurcumin_e        0.1        0.1              1.814512   \n",
       "EX_demethoxycurcumin_e           0.1        0.1              0.000000   \n",
       "EX_curcumin_e                    0.1        0.1              0.000000   \n",
       "\n",
       "                           demethoxycurcumin  curcumin  \n",
       "EX_bisdemethoxycurcumin_e           0.000000  0.000000  \n",
       "EX_demethoxycurcumin_e              1.602021  0.000000  \n",
       "EX_curcumin_e                       0.000000  1.432981  "
      ]
     },
     "execution_count": 70,
     "metadata": {},
     "output_type": "execute_result"
    }
   ],
   "source": [
    "cur_result_fba_Cc=pd.DataFrame()#1:1\n",
    "for j in ['EX_bisdemethoxycurcumin_e','EX_demethoxycurcumin_e','EX_curcumin_e']:\n",
    "    result=FBA_diff(Concretemodel_Need_Data_CcOAOMT,substrates={'EX_glc__D_e_reverse':100},x=1,y=1,bio_a=0.1,bio_b=0.1,obj_name=j,obj_target='maximize',special_constraint=True)\n",
    "    cur_result_fba_Cc.loc[j,'A_biomass']=(result.reaction['A_BIOMASS_Ec_iML1515_core_75p37M'].value)\n",
    "    cur_result_fba_Cc.loc[j,'B_biomass']=(result.reaction['B_BIOMASS_Ec_iML1515_core_75p37M'].value)\n",
    "    cur_result_fba_Cc.loc[j,'bisdemethoxycurcumin']=(result.reaction['EX_bisdemethoxycurcumin_e'].value)\n",
    "    cur_result_fba_Cc.loc[j,'demethoxycurcumin']=(result.reaction['EX_demethoxycurcumin_e'].value)\n",
    "    cur_result_fba_Cc.loc[j,'curcumin']=(result.reaction['EX_curcumin_e'].value)\n",
    "cur_result_fba_Cc"
   ]
  }
 ],
 "metadata": {
  "kernelspec": {
   "display_name": "Python 3.6.5 ('xby')",
   "language": "python",
   "name": "python3"
  },
  "language_info": {
   "codemirror_mode": {
    "name": "ipython",
    "version": 3
   },
   "file_extension": ".py",
   "mimetype": "text/x-python",
   "name": "python",
   "nbconvert_exporter": "python",
   "pygments_lexer": "ipython3",
   "version": "3.6.5"
  },
  "orig_nbformat": 4,
  "vscode": {
   "interpreter": {
    "hash": "678f2c0cb67aa00dbc6da583138b0769cb8531f72b670a012e2187460f06e842"
   }
  }
 },
 "nbformat": 4,
 "nbformat_minor": 2
}
